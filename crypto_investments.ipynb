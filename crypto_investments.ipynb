{
 "cells": [
  {
   "cell_type": "markdown",
   "metadata": {},
   "source": [
    "# Module 10 Application\n",
    "\n",
    "## Challenge: Crypto Clustering\n",
    "\n",
    "In this Challenge, you’ll combine your financial Python programming skills with the new unsupervised learning skills that you acquired in this module.\n",
    "\n",
    "The CSV file provided for this challenge contains price change data of cryptocurrencies in different periods.\n",
    "\n",
    "The steps for this challenge are broken out into the following sections:\n",
    "\n",
    "* Import the Data (provided in the starter code)\n",
    "* Prepare the Data (provided in the starter code)\n",
    "* Find the Best Value for `k` Using the Original Data\n",
    "* Cluster Cryptocurrencies with K-means Using the Original Data\n",
    "* Optimize Clusters with Principal Component Analysis\n",
    "* Find the Best Value for `k` Using the PCA Data\n",
    "* Cluster the Cryptocurrencies with K-means Using the PCA Data\n",
    "* Visualize and Compare the Results"
   ]
  },
  {
   "cell_type": "markdown",
   "metadata": {},
   "source": [
    "### Import the Data\n",
    "\n",
    "This section imports the data into a new DataFrame. It follows these steps:\n",
    "\n",
    "1. Read  the “crypto_market_data.csv” file from the Resources folder into a DataFrame, and use `index_col=\"coin_id\"` to set the cryptocurrency name as the index. Review the DataFrame.\n",
    "\n",
    "2. Generate the summary statistics, and use HvPlot to visualize your data to observe what your DataFrame contains.\n",
    "\n",
    "\n",
    "> **Rewind:** The [Pandas`describe()`function](https://pandas.pydata.org/pandas-docs/stable/reference/api/pandas.DataFrame.describe.html) generates summary statistics for a DataFrame. "
   ]
  },
  {
   "cell_type": "code",
   "execution_count": 144,
   "metadata": {
    "tags": []
   },
   "outputs": [],
   "source": [
    "# Import required libraries and dependencies\n",
    "import pandas as pd\n",
    "import hvplot.pandas\n",
    "from pathlib import Path\n",
    "from sklearn.cluster import KMeans\n",
    "from sklearn.decomposition import PCA\n",
    "from sklearn.preprocessing import StandardScaler"
   ]
  },
  {
   "cell_type": "code",
   "execution_count": 110,
   "metadata": {
    "tags": []
   },
   "outputs": [
    {
     "data": {
      "text/html": [
       "<div>\n",
       "<style scoped>\n",
       "    .dataframe tbody tr th:only-of-type {\n",
       "        vertical-align: middle;\n",
       "    }\n",
       "\n",
       "    .dataframe tbody tr th {\n",
       "        vertical-align: top;\n",
       "    }\n",
       "\n",
       "    .dataframe thead th {\n",
       "        text-align: right;\n",
       "    }\n",
       "</style>\n",
       "<table border=\"1\" class=\"dataframe\">\n",
       "  <thead>\n",
       "    <tr style=\"text-align: right;\">\n",
       "      <th></th>\n",
       "      <th>price_change_percentage_24h</th>\n",
       "      <th>price_change_percentage_7d</th>\n",
       "      <th>price_change_percentage_14d</th>\n",
       "      <th>price_change_percentage_30d</th>\n",
       "      <th>price_change_percentage_60d</th>\n",
       "      <th>price_change_percentage_200d</th>\n",
       "      <th>price_change_percentage_1y</th>\n",
       "    </tr>\n",
       "    <tr>\n",
       "      <th>coin_id</th>\n",
       "      <th></th>\n",
       "      <th></th>\n",
       "      <th></th>\n",
       "      <th></th>\n",
       "      <th></th>\n",
       "      <th></th>\n",
       "      <th></th>\n",
       "    </tr>\n",
       "  </thead>\n",
       "  <tbody>\n",
       "    <tr>\n",
       "      <th>bitcoin</th>\n",
       "      <td>1.08388</td>\n",
       "      <td>7.60278</td>\n",
       "      <td>6.57509</td>\n",
       "      <td>7.67258</td>\n",
       "      <td>-3.25185</td>\n",
       "      <td>83.51840</td>\n",
       "      <td>37.51761</td>\n",
       "    </tr>\n",
       "    <tr>\n",
       "      <th>ethereum</th>\n",
       "      <td>0.22392</td>\n",
       "      <td>10.38134</td>\n",
       "      <td>4.80849</td>\n",
       "      <td>0.13169</td>\n",
       "      <td>-12.88890</td>\n",
       "      <td>186.77418</td>\n",
       "      <td>101.96023</td>\n",
       "    </tr>\n",
       "    <tr>\n",
       "      <th>tether</th>\n",
       "      <td>-0.21173</td>\n",
       "      <td>0.04935</td>\n",
       "      <td>0.00640</td>\n",
       "      <td>-0.04237</td>\n",
       "      <td>0.28037</td>\n",
       "      <td>-0.00542</td>\n",
       "      <td>0.01954</td>\n",
       "    </tr>\n",
       "    <tr>\n",
       "      <th>ripple</th>\n",
       "      <td>-0.37819</td>\n",
       "      <td>-0.60926</td>\n",
       "      <td>2.24984</td>\n",
       "      <td>0.23455</td>\n",
       "      <td>-17.55245</td>\n",
       "      <td>39.53888</td>\n",
       "      <td>-16.60193</td>\n",
       "    </tr>\n",
       "    <tr>\n",
       "      <th>bitcoin-cash</th>\n",
       "      <td>2.90585</td>\n",
       "      <td>17.09717</td>\n",
       "      <td>14.75334</td>\n",
       "      <td>15.74903</td>\n",
       "      <td>-13.71793</td>\n",
       "      <td>21.66042</td>\n",
       "      <td>14.49384</td>\n",
       "    </tr>\n",
       "    <tr>\n",
       "      <th>binancecoin</th>\n",
       "      <td>2.10423</td>\n",
       "      <td>12.85511</td>\n",
       "      <td>6.80688</td>\n",
       "      <td>0.05865</td>\n",
       "      <td>36.33486</td>\n",
       "      <td>155.61937</td>\n",
       "      <td>69.69195</td>\n",
       "    </tr>\n",
       "    <tr>\n",
       "      <th>chainlink</th>\n",
       "      <td>-0.23935</td>\n",
       "      <td>20.69459</td>\n",
       "      <td>9.30098</td>\n",
       "      <td>-11.21747</td>\n",
       "      <td>-43.69522</td>\n",
       "      <td>403.22917</td>\n",
       "      <td>325.13186</td>\n",
       "    </tr>\n",
       "    <tr>\n",
       "      <th>cardano</th>\n",
       "      <td>0.00322</td>\n",
       "      <td>13.99302</td>\n",
       "      <td>5.55476</td>\n",
       "      <td>10.10553</td>\n",
       "      <td>-22.84776</td>\n",
       "      <td>264.51418</td>\n",
       "      <td>156.09756</td>\n",
       "    </tr>\n",
       "    <tr>\n",
       "      <th>litecoin</th>\n",
       "      <td>-0.06341</td>\n",
       "      <td>6.60221</td>\n",
       "      <td>7.28931</td>\n",
       "      <td>1.21662</td>\n",
       "      <td>-17.23960</td>\n",
       "      <td>27.49919</td>\n",
       "      <td>-12.66408</td>\n",
       "    </tr>\n",
       "    <tr>\n",
       "      <th>bitcoin-cash-sv</th>\n",
       "      <td>0.92530</td>\n",
       "      <td>3.29641</td>\n",
       "      <td>-1.86656</td>\n",
       "      <td>2.88926</td>\n",
       "      <td>-24.87434</td>\n",
       "      <td>7.42562</td>\n",
       "      <td>93.73082</td>\n",
       "    </tr>\n",
       "  </tbody>\n",
       "</table>\n",
       "</div>"
      ],
      "text/plain": [
       "                 price_change_percentage_24h  price_change_percentage_7d  \\\n",
       "coin_id                                                                    \n",
       "bitcoin                              1.08388                     7.60278   \n",
       "ethereum                             0.22392                    10.38134   \n",
       "tether                              -0.21173                     0.04935   \n",
       "ripple                              -0.37819                    -0.60926   \n",
       "bitcoin-cash                         2.90585                    17.09717   \n",
       "binancecoin                          2.10423                    12.85511   \n",
       "chainlink                           -0.23935                    20.69459   \n",
       "cardano                              0.00322                    13.99302   \n",
       "litecoin                            -0.06341                     6.60221   \n",
       "bitcoin-cash-sv                      0.92530                     3.29641   \n",
       "\n",
       "                 price_change_percentage_14d  price_change_percentage_30d  \\\n",
       "coin_id                                                                     \n",
       "bitcoin                              6.57509                      7.67258   \n",
       "ethereum                             4.80849                      0.13169   \n",
       "tether                               0.00640                     -0.04237   \n",
       "ripple                               2.24984                      0.23455   \n",
       "bitcoin-cash                        14.75334                     15.74903   \n",
       "binancecoin                          6.80688                      0.05865   \n",
       "chainlink                            9.30098                    -11.21747   \n",
       "cardano                              5.55476                     10.10553   \n",
       "litecoin                             7.28931                      1.21662   \n",
       "bitcoin-cash-sv                     -1.86656                      2.88926   \n",
       "\n",
       "                 price_change_percentage_60d  price_change_percentage_200d  \\\n",
       "coin_id                                                                      \n",
       "bitcoin                             -3.25185                      83.51840   \n",
       "ethereum                           -12.88890                     186.77418   \n",
       "tether                               0.28037                      -0.00542   \n",
       "ripple                             -17.55245                      39.53888   \n",
       "bitcoin-cash                       -13.71793                      21.66042   \n",
       "binancecoin                         36.33486                     155.61937   \n",
       "chainlink                          -43.69522                     403.22917   \n",
       "cardano                            -22.84776                     264.51418   \n",
       "litecoin                           -17.23960                      27.49919   \n",
       "bitcoin-cash-sv                    -24.87434                       7.42562   \n",
       "\n",
       "                 price_change_percentage_1y  \n",
       "coin_id                                      \n",
       "bitcoin                            37.51761  \n",
       "ethereum                          101.96023  \n",
       "tether                              0.01954  \n",
       "ripple                            -16.60193  \n",
       "bitcoin-cash                       14.49384  \n",
       "binancecoin                        69.69195  \n",
       "chainlink                         325.13186  \n",
       "cardano                           156.09756  \n",
       "litecoin                          -12.66408  \n",
       "bitcoin-cash-sv                    93.73082  "
      ]
     },
     "execution_count": 110,
     "metadata": {},
     "output_type": "execute_result"
    }
   ],
   "source": [
    "# Load the data into a Pandas DataFrame\n",
    "df_market_data = pd.read_csv(\n",
    "    Path(r\"C:\\Users\\victo\\OneDrive\\Documentos\\GitHub\\Challenge_10\\Starter_Code\\Resources\\crypto_market_data.csv\"),\n",
    "    index_col=\"coin_id\")\n",
    "\n",
    "# Display sample data\n",
    "df_market_data.head(10)"
   ]
  },
  {
   "cell_type": "code",
   "execution_count": 111,
   "metadata": {
    "tags": []
   },
   "outputs": [
    {
     "data": {
      "text/html": [
       "<div>\n",
       "<style scoped>\n",
       "    .dataframe tbody tr th:only-of-type {\n",
       "        vertical-align: middle;\n",
       "    }\n",
       "\n",
       "    .dataframe tbody tr th {\n",
       "        vertical-align: top;\n",
       "    }\n",
       "\n",
       "    .dataframe thead th {\n",
       "        text-align: right;\n",
       "    }\n",
       "</style>\n",
       "<table border=\"1\" class=\"dataframe\">\n",
       "  <thead>\n",
       "    <tr style=\"text-align: right;\">\n",
       "      <th></th>\n",
       "      <th>price_change_percentage_24h</th>\n",
       "      <th>price_change_percentage_7d</th>\n",
       "      <th>price_change_percentage_14d</th>\n",
       "      <th>price_change_percentage_30d</th>\n",
       "      <th>price_change_percentage_60d</th>\n",
       "      <th>price_change_percentage_200d</th>\n",
       "      <th>price_change_percentage_1y</th>\n",
       "    </tr>\n",
       "  </thead>\n",
       "  <tbody>\n",
       "    <tr>\n",
       "      <th>count</th>\n",
       "      <td>41.000000</td>\n",
       "      <td>41.000000</td>\n",
       "      <td>41.000000</td>\n",
       "      <td>41.000000</td>\n",
       "      <td>41.000000</td>\n",
       "      <td>41.000000</td>\n",
       "      <td>41.000000</td>\n",
       "    </tr>\n",
       "    <tr>\n",
       "      <th>mean</th>\n",
       "      <td>-0.269686</td>\n",
       "      <td>4.497147</td>\n",
       "      <td>0.185787</td>\n",
       "      <td>1.545693</td>\n",
       "      <td>-0.094119</td>\n",
       "      <td>236.537432</td>\n",
       "      <td>347.667956</td>\n",
       "    </tr>\n",
       "    <tr>\n",
       "      <th>std</th>\n",
       "      <td>2.694793</td>\n",
       "      <td>6.375218</td>\n",
       "      <td>8.376939</td>\n",
       "      <td>26.344218</td>\n",
       "      <td>47.365803</td>\n",
       "      <td>435.225304</td>\n",
       "      <td>1247.842884</td>\n",
       "    </tr>\n",
       "    <tr>\n",
       "      <th>min</th>\n",
       "      <td>-13.527860</td>\n",
       "      <td>-6.094560</td>\n",
       "      <td>-18.158900</td>\n",
       "      <td>-34.705480</td>\n",
       "      <td>-44.822480</td>\n",
       "      <td>-0.392100</td>\n",
       "      <td>-17.567530</td>\n",
       "    </tr>\n",
       "    <tr>\n",
       "      <th>25%</th>\n",
       "      <td>-0.608970</td>\n",
       "      <td>0.047260</td>\n",
       "      <td>-5.026620</td>\n",
       "      <td>-10.438470</td>\n",
       "      <td>-25.907990</td>\n",
       "      <td>21.660420</td>\n",
       "      <td>0.406170</td>\n",
       "    </tr>\n",
       "    <tr>\n",
       "      <th>50%</th>\n",
       "      <td>-0.063410</td>\n",
       "      <td>3.296410</td>\n",
       "      <td>0.109740</td>\n",
       "      <td>-0.042370</td>\n",
       "      <td>-7.544550</td>\n",
       "      <td>83.905200</td>\n",
       "      <td>69.691950</td>\n",
       "    </tr>\n",
       "    <tr>\n",
       "      <th>75%</th>\n",
       "      <td>0.612090</td>\n",
       "      <td>7.602780</td>\n",
       "      <td>5.510740</td>\n",
       "      <td>4.578130</td>\n",
       "      <td>0.657260</td>\n",
       "      <td>216.177610</td>\n",
       "      <td>168.372510</td>\n",
       "    </tr>\n",
       "    <tr>\n",
       "      <th>max</th>\n",
       "      <td>4.840330</td>\n",
       "      <td>20.694590</td>\n",
       "      <td>24.239190</td>\n",
       "      <td>140.795700</td>\n",
       "      <td>223.064370</td>\n",
       "      <td>2227.927820</td>\n",
       "      <td>7852.089700</td>\n",
       "    </tr>\n",
       "  </tbody>\n",
       "</table>\n",
       "</div>"
      ],
      "text/plain": [
       "       price_change_percentage_24h  price_change_percentage_7d  \\\n",
       "count                    41.000000                   41.000000   \n",
       "mean                     -0.269686                    4.497147   \n",
       "std                       2.694793                    6.375218   \n",
       "min                     -13.527860                   -6.094560   \n",
       "25%                      -0.608970                    0.047260   \n",
       "50%                      -0.063410                    3.296410   \n",
       "75%                       0.612090                    7.602780   \n",
       "max                       4.840330                   20.694590   \n",
       "\n",
       "       price_change_percentage_14d  price_change_percentage_30d  \\\n",
       "count                    41.000000                    41.000000   \n",
       "mean                      0.185787                     1.545693   \n",
       "std                       8.376939                    26.344218   \n",
       "min                     -18.158900                   -34.705480   \n",
       "25%                      -5.026620                   -10.438470   \n",
       "50%                       0.109740                    -0.042370   \n",
       "75%                       5.510740                     4.578130   \n",
       "max                      24.239190                   140.795700   \n",
       "\n",
       "       price_change_percentage_60d  price_change_percentage_200d  \\\n",
       "count                    41.000000                     41.000000   \n",
       "mean                     -0.094119                    236.537432   \n",
       "std                      47.365803                    435.225304   \n",
       "min                     -44.822480                     -0.392100   \n",
       "25%                     -25.907990                     21.660420   \n",
       "50%                      -7.544550                     83.905200   \n",
       "75%                       0.657260                    216.177610   \n",
       "max                     223.064370                   2227.927820   \n",
       "\n",
       "       price_change_percentage_1y  \n",
       "count                   41.000000  \n",
       "mean                   347.667956  \n",
       "std                   1247.842884  \n",
       "min                    -17.567530  \n",
       "25%                      0.406170  \n",
       "50%                     69.691950  \n",
       "75%                    168.372510  \n",
       "max                   7852.089700  "
      ]
     },
     "execution_count": 111,
     "metadata": {},
     "output_type": "execute_result"
    }
   ],
   "source": [
    "# Generate summary statistics\n",
    "df_market_data.describe()"
   ]
  },
  {
   "cell_type": "code",
   "execution_count": 112,
   "metadata": {
    "tags": []
   },
   "outputs": [
    {
     "data": {},
     "metadata": {},
     "output_type": "display_data"
    },
    {
     "data": {
      "application/vnd.holoviews_exec.v0+json": "",
      "text/html": [
       "<div id='p5028'>\n",
       "  <div id=\"e018084d-846e-4c65-8435-10292c09a437\" data-root-id=\"p5028\" style=\"display: contents;\"></div>\n",
       "</div>\n",
       "<script type=\"application/javascript\">(function(root) {\n",
       "  var docs_json = {\"b4361746-1dc9-4556-9caa-2813665d4719\":{\"version\":\"3.2.1\",\"title\":\"Bokeh Application\",\"roots\":[{\"type\":\"object\",\"name\":\"Row\",\"id\":\"p5028\",\"attributes\":{\"name\":\"Row10197\",\"tags\":[\"embedded\"],\"stylesheets\":[\"\\n:host(.pn-loading.pn-arc):before, .pn-loading.pn-arc:before {\\n  background-image: url(\\\"data:image/svg+xml;base64,PHN2ZyB4bWxucz0iaHR0cDovL3d3dy53My5vcmcvMjAwMC9zdmciIHN0eWxlPSJtYXJnaW46IGF1dG87IGJhY2tncm91bmQ6IG5vbmU7IGRpc3BsYXk6IGJsb2NrOyBzaGFwZS1yZW5kZXJpbmc6IGF1dG87IiB2aWV3Qm94PSIwIDAgMTAwIDEwMCIgcHJlc2VydmVBc3BlY3RSYXRpbz0ieE1pZFlNaWQiPiAgPGNpcmNsZSBjeD0iNTAiIGN5PSI1MCIgZmlsbD0ibm9uZSIgc3Ryb2tlPSIjYzNjM2MzIiBzdHJva2Utd2lkdGg9IjEwIiByPSIzNSIgc3Ryb2tlLWRhc2hhcnJheT0iMTY0LjkzMzYxNDMxMzQ2NDE1IDU2Ljk3Nzg3MTQzNzgyMTM4Ij4gICAgPGFuaW1hdGVUcmFuc2Zvcm0gYXR0cmlidXRlTmFtZT0idHJhbnNmb3JtIiB0eXBlPSJyb3RhdGUiIHJlcGVhdENvdW50PSJpbmRlZmluaXRlIiBkdXI9IjFzIiB2YWx1ZXM9IjAgNTAgNTA7MzYwIDUwIDUwIiBrZXlUaW1lcz0iMDsxIj48L2FuaW1hdGVUcmFuc2Zvcm0+ICA8L2NpcmNsZT48L3N2Zz4=\\\");\\n  background-size: auto calc(min(50%, 400px));\\n}\",{\"type\":\"object\",\"name\":\"ImportedStyleSheet\",\"id\":\"p5031\",\"attributes\":{\"url\":\"https://cdn.holoviz.org/panel/1.2.1/dist/css/loading.css\"}},{\"type\":\"object\",\"name\":\"ImportedStyleSheet\",\"id\":\"p5187\",\"attributes\":{\"url\":\"https://cdn.holoviz.org/panel/1.2.1/dist/css/listpanel.css\"}},{\"type\":\"object\",\"name\":\"ImportedStyleSheet\",\"id\":\"p5029\",\"attributes\":{\"url\":\"https://cdn.holoviz.org/panel/1.2.1/dist/bundled/theme/default.css\"}},{\"type\":\"object\",\"name\":\"ImportedStyleSheet\",\"id\":\"p5030\",\"attributes\":{\"url\":\"https://cdn.holoviz.org/panel/1.2.1/dist/bundled/theme/native.css\"}}],\"min_width\":1000,\"margin\":0,\"sizing_mode\":\"stretch_width\",\"align\":\"start\",\"children\":[{\"type\":\"object\",\"name\":\"Spacer\",\"id\":\"p5032\",\"attributes\":{\"name\":\"HSpacer10208\",\"stylesheets\":[\"\\n:host(.pn-loading.pn-arc):before, .pn-loading.pn-arc:before {\\n  background-image: url(\\\"data:image/svg+xml;base64,PHN2ZyB4bWxucz0iaHR0cDovL3d3dy53My5vcmcvMjAwMC9zdmciIHN0eWxlPSJtYXJnaW46IGF1dG87IGJhY2tncm91bmQ6IG5vbmU7IGRpc3BsYXk6IGJsb2NrOyBzaGFwZS1yZW5kZXJpbmc6IGF1dG87IiB2aWV3Qm94PSIwIDAgMTAwIDEwMCIgcHJlc2VydmVBc3BlY3RSYXRpbz0ieE1pZFlNaWQiPiAgPGNpcmNsZSBjeD0iNTAiIGN5PSI1MCIgZmlsbD0ibm9uZSIgc3Ryb2tlPSIjYzNjM2MzIiBzdHJva2Utd2lkdGg9IjEwIiByPSIzNSIgc3Ryb2tlLWRhc2hhcnJheT0iMTY0LjkzMzYxNDMxMzQ2NDE1IDU2Ljk3Nzg3MTQzNzgyMTM4Ij4gICAgPGFuaW1hdGVUcmFuc2Zvcm0gYXR0cmlidXRlTmFtZT0idHJhbnNmb3JtIiB0eXBlPSJyb3RhdGUiIHJlcGVhdENvdW50PSJpbmRlZmluaXRlIiBkdXI9IjFzIiB2YWx1ZXM9IjAgNTAgNTA7MzYwIDUwIDUwIiBrZXlUaW1lcz0iMDsxIj48L2FuaW1hdGVUcmFuc2Zvcm0+ICA8L2NpcmNsZT48L3N2Zz4=\\\");\\n  background-size: auto calc(min(50%, 400px));\\n}\",{\"id\":\"p5031\"},{\"id\":\"p5029\"},{\"id\":\"p5030\"}],\"margin\":0,\"sizing_mode\":\"stretch_width\",\"align\":\"start\"}},{\"type\":\"object\",\"name\":\"Figure\",\"id\":\"p5058\",\"attributes\":{\"width\":1000,\"margin\":[5,10],\"sizing_mode\":\"fixed\",\"align\":\"start\",\"x_range\":{\"type\":\"object\",\"name\":\"FactorRange\",\"id\":\"p5033\",\"attributes\":{\"tags\":[[[\"coin_id\",\"coin_id\",null]],[]],\"factors\":[\"bitcoin\",\"ethereum\",\"tether\",\"ripple\",\"bitcoin-cash\",\"binancecoin\",\"chainlink\",\"cardano\",\"litecoin\",\"bitcoin-cash-sv\",\"crypto-com-chain\",\"usd-coin\",\"eos\",\"monero\",\"tron\",\"tezos\",\"okb\",\"stellar\",\"cosmos\",\"cdai\",\"neo\",\"wrapped-bitcoin\",\"leo-token\",\"huobi-token\",\"nem\",\"binance-usd\",\"iota\",\"vechain\",\"zcash\",\"theta-token\",\"dash\",\"ethereum-classic\",\"ethlend\",\"maker\",\"havven\",\"omisego\",\"celsius-degree-token\",\"ontology\",\"ftx-token\",\"true-usd\",\"digibyte\"]}},\"y_range\":{\"type\":\"object\",\"name\":\"Range1d\",\"id\":\"p5034\",\"attributes\":{\"tags\":[[[\"value\",\"value\",null]],{\"type\":\"map\",\"entries\":[[\"invert_yaxis\",false],[\"autorange\",false]]}],\"start\":-834.5136980000001,\"end\":8641.780918,\"reset_start\":-834.5136980000001,\"reset_end\":8641.780918}},\"x_scale\":{\"type\":\"object\",\"name\":\"CategoricalScale\",\"id\":\"p5068\"},\"y_scale\":{\"type\":\"object\",\"name\":\"LinearScale\",\"id\":\"p5069\"},\"title\":{\"type\":\"object\",\"name\":\"Title\",\"id\":\"p5061\",\"attributes\":{\"text_color\":\"black\",\"text_font_size\":\"12pt\"}},\"renderers\":[{\"type\":\"object\",\"name\":\"GlyphRenderer\",\"id\":\"p5094\",\"attributes\":{\"name\":\"price_change_percentage_24h\",\"data_source\":{\"type\":\"object\",\"name\":\"ColumnDataSource\",\"id\":\"p5085\",\"attributes\":{\"selected\":{\"type\":\"object\",\"name\":\"Selection\",\"id\":\"p5086\",\"attributes\":{\"indices\":[],\"line_indices\":[]}},\"selection_policy\":{\"type\":\"object\",\"name\":\"UnionRenderers\",\"id\":\"p5087\"},\"data\":{\"type\":\"map\",\"entries\":[[\"coin_id\",[\"bitcoin\",\"ethereum\",\"tether\",\"ripple\",\"bitcoin-cash\",\"binancecoin\",\"chainlink\",\"cardano\",\"litecoin\",\"bitcoin-cash-sv\",\"crypto-com-chain\",\"usd-coin\",\"eos\",\"monero\",\"tron\",\"tezos\",\"okb\",\"stellar\",\"cosmos\",\"cdai\",\"neo\",\"wrapped-bitcoin\",\"leo-token\",\"huobi-token\",\"nem\",\"binance-usd\",\"iota\",\"vechain\",\"zcash\",\"theta-token\",\"dash\",\"ethereum-classic\",\"ethlend\",\"maker\",\"havven\",\"omisego\",\"celsius-degree-token\",\"ontology\",\"ftx-token\",\"true-usd\",\"digibyte\"]],[\"value\",{\"type\":\"ndarray\",\"array\":{\"type\":\"bytes\",\"data\":\"nZ0MjpJX8T8MzXUaaanMP5mByvj3Gcu/wCZr1EM02L8ep+hILj8HQL0Yyol21QBAwhcmUwWjzr//CS5W1GBqP7JGPUSjO7C/QKTfvg6c7T8urYbEPZbjPzeJQWDl0Ma/1pC4x9KHwj87NgLxun7bP90HILWJk7M/JjYf14aK5b83iUFg5dAFwG3i5H6HIvC/5nlwd9Zu7r9i83FtqBjLP+iHEcKjjd8/M9yAzw+j8T/fGtgqweLAv+RmuAGfH9q/UdobfGEy678D7KNTVz67v8YzaOif4No/teBFX0Ga9D8G2Eenrnzjvx+duvJZPhLAoMN8eQH28L+cxCCwcmjdv667eapDDivAX5hMFYxK479EUaBP5EkQwAZkr3d/XBNA0JuKVBgbBEDqBDQRNrz1vxo09E9wseo/tI6qJoi6r79qMA3DR8QHQA==\"},\"shape\":[41],\"dtype\":\"float64\",\"order\":\"little\"}],[\"Variable\",[\"price_change_percentage_24h\",\"price_change_percentage_24h\",\"price_change_percentage_24h\",\"price_change_percentage_24h\",\"price_change_percentage_24h\",\"price_change_percentage_24h\",\"price_change_percentage_24h\",\"price_change_percentage_24h\",\"price_change_percentage_24h\",\"price_change_percentage_24h\",\"price_change_percentage_24h\",\"price_change_percentage_24h\",\"price_change_percentage_24h\",\"price_change_percentage_24h\",\"price_change_percentage_24h\",\"price_change_percentage_24h\",\"price_change_percentage_24h\",\"price_change_percentage_24h\",\"price_change_percentage_24h\",\"price_change_percentage_24h\",\"price_change_percentage_24h\",\"price_change_percentage_24h\",\"price_change_percentage_24h\",\"price_change_percentage_24h\",\"price_change_percentage_24h\",\"price_change_percentage_24h\",\"price_change_percentage_24h\",\"price_change_percentage_24h\",\"price_change_percentage_24h\",\"price_change_percentage_24h\",\"price_change_percentage_24h\",\"price_change_percentage_24h\",\"price_change_percentage_24h\",\"price_change_percentage_24h\",\"price_change_percentage_24h\",\"price_change_percentage_24h\",\"price_change_percentage_24h\",\"price_change_percentage_24h\",\"price_change_percentage_24h\",\"price_change_percentage_24h\",\"price_change_percentage_24h\"]]]}}},\"view\":{\"type\":\"object\",\"name\":\"CDSView\",\"id\":\"p5095\",\"attributes\":{\"filter\":{\"type\":\"object\",\"name\":\"AllIndices\",\"id\":\"p5096\"}}},\"glyph\":{\"type\":\"object\",\"name\":\"Line\",\"id\":\"p5091\",\"attributes\":{\"tags\":[\"apply_ranges\"],\"x\":{\"type\":\"field\",\"field\":\"coin_id\"},\"y\":{\"type\":\"field\",\"field\":\"value\"},\"line_color\":\"#30a2da\",\"line_width\":2}},\"selection_glyph\":{\"type\":\"object\",\"name\":\"Line\",\"id\":\"p5099\",\"attributes\":{\"tags\":[\"apply_ranges\"],\"x\":{\"type\":\"field\",\"field\":\"coin_id\"},\"y\":{\"type\":\"field\",\"field\":\"value\"},\"line_color\":\"#30a2da\",\"line_width\":2}},\"nonselection_glyph\":{\"type\":\"object\",\"name\":\"Line\",\"id\":\"p5092\",\"attributes\":{\"tags\":[\"apply_ranges\"],\"x\":{\"type\":\"field\",\"field\":\"coin_id\"},\"y\":{\"type\":\"field\",\"field\":\"value\"},\"line_color\":\"#30a2da\",\"line_alpha\":0.1,\"line_width\":2}},\"muted_glyph\":{\"type\":\"object\",\"name\":\"Line\",\"id\":\"p5093\",\"attributes\":{\"tags\":[\"apply_ranges\"],\"x\":{\"type\":\"field\",\"field\":\"coin_id\"},\"y\":{\"type\":\"field\",\"field\":\"value\"},\"line_color\":\"#30a2da\",\"line_alpha\":0.2,\"line_width\":2}}}},{\"type\":\"object\",\"name\":\"GlyphRenderer\",\"id\":\"p5109\",\"attributes\":{\"name\":\"price_change_percentage_7d\",\"data_source\":{\"type\":\"object\",\"name\":\"ColumnDataSource\",\"id\":\"p5100\",\"attributes\":{\"selected\":{\"type\":\"object\",\"name\":\"Selection\",\"id\":\"p5101\",\"attributes\":{\"indices\":[],\"line_indices\":[]}},\"selection_policy\":{\"type\":\"object\",\"name\":\"UnionRenderers\",\"id\":\"p5102\"},\"data\":{\"type\":\"map\",\"entries\":[[\"coin_id\",[\"bitcoin\",\"ethereum\",\"tether\",\"ripple\",\"bitcoin-cash\",\"binancecoin\",\"chainlink\",\"cardano\",\"litecoin\",\"bitcoin-cash-sv\",\"crypto-com-chain\",\"usd-coin\",\"eos\",\"monero\",\"tron\",\"tezos\",\"okb\",\"stellar\",\"cosmos\",\"cdai\",\"neo\",\"wrapped-bitcoin\",\"leo-token\",\"huobi-token\",\"nem\",\"binance-usd\",\"iota\",\"vechain\",\"zcash\",\"theta-token\",\"dash\",\"ethereum-classic\",\"ethlend\",\"maker\",\"havven\",\"omisego\",\"celsius-degree-token\",\"ontology\",\"ftx-token\",\"true-usd\",\"digibyte\"]],[\"value\",{\"type\":\"ndarray\",\"array\":{\"type\":\"bytes\",\"data\":\"RbsKKT9pHkAzUBn/PsMkQL99HThnRKk/yVnY0w5/47/+JhQi4BgxQBL3WPrQtSlA7yB2ptCxNEA/jBAebfwrQPFL/bypaBpArKjBNAxfCkByv0NRoK8WwPlJtU/HY76/lPsdigL99L+n6Egu/5EvQE1KQbeX9BBA0m9fB87pIUBlU67wLjcSwKbtX1lpkgBAZwqd19gVMEBcIEHxY8ytP3wnZr0YigNAOh4zUBmfHUD3Hi457pT1vzNQGf8+4/k/kQ96Nqs+6781Y9F0djKoP2dEaW/wRRhAgXhdv2A3/L/8GHPXErIkQP8JLlbUYBjAVU0QdR9gFEDRlnMprmoIQGCrBIvD2RBAAiuHFtlOIECbG9MTllgRQKhXyjLEURtAqn06HjNQ4z+UvDrHgGzzvwltOZfiahxAsD2zJEBNxT8yj/zBwHPlPw==\"},\"shape\":[41],\"dtype\":\"float64\",\"order\":\"little\"}],[\"Variable\",[\"price_change_percentage_7d\",\"price_change_percentage_7d\",\"price_change_percentage_7d\",\"price_change_percentage_7d\",\"price_change_percentage_7d\",\"price_change_percentage_7d\",\"price_change_percentage_7d\",\"price_change_percentage_7d\",\"price_change_percentage_7d\",\"price_change_percentage_7d\",\"price_change_percentage_7d\",\"price_change_percentage_7d\",\"price_change_percentage_7d\",\"price_change_percentage_7d\",\"price_change_percentage_7d\",\"price_change_percentage_7d\",\"price_change_percentage_7d\",\"price_change_percentage_7d\",\"price_change_percentage_7d\",\"price_change_percentage_7d\",\"price_change_percentage_7d\",\"price_change_percentage_7d\",\"price_change_percentage_7d\",\"price_change_percentage_7d\",\"price_change_percentage_7d\",\"price_change_percentage_7d\",\"price_change_percentage_7d\",\"price_change_percentage_7d\",\"price_change_percentage_7d\",\"price_change_percentage_7d\",\"price_change_percentage_7d\",\"price_change_percentage_7d\",\"price_change_percentage_7d\",\"price_change_percentage_7d\",\"price_change_percentage_7d\",\"price_change_percentage_7d\",\"price_change_percentage_7d\",\"price_change_percentage_7d\",\"price_change_percentage_7d\",\"price_change_percentage_7d\",\"price_change_percentage_7d\"]]]}}},\"view\":{\"type\":\"object\",\"name\":\"CDSView\",\"id\":\"p5110\",\"attributes\":{\"filter\":{\"type\":\"object\",\"name\":\"AllIndices\",\"id\":\"p5111\"}}},\"glyph\":{\"type\":\"object\",\"name\":\"Line\",\"id\":\"p5106\",\"attributes\":{\"tags\":[\"apply_ranges\"],\"x\":{\"type\":\"field\",\"field\":\"coin_id\"},\"y\":{\"type\":\"field\",\"field\":\"value\"},\"line_color\":\"#fc4f30\",\"line_width\":2}},\"selection_glyph\":{\"type\":\"object\",\"name\":\"Line\",\"id\":\"p5113\",\"attributes\":{\"tags\":[\"apply_ranges\"],\"x\":{\"type\":\"field\",\"field\":\"coin_id\"},\"y\":{\"type\":\"field\",\"field\":\"value\"},\"line_color\":\"#fc4f30\",\"line_width\":2}},\"nonselection_glyph\":{\"type\":\"object\",\"name\":\"Line\",\"id\":\"p5107\",\"attributes\":{\"tags\":[\"apply_ranges\"],\"x\":{\"type\":\"field\",\"field\":\"coin_id\"},\"y\":{\"type\":\"field\",\"field\":\"value\"},\"line_color\":\"#fc4f30\",\"line_alpha\":0.1,\"line_width\":2}},\"muted_glyph\":{\"type\":\"object\",\"name\":\"Line\",\"id\":\"p5108\",\"attributes\":{\"tags\":[\"apply_ranges\"],\"x\":{\"type\":\"field\",\"field\":\"coin_id\"},\"y\":{\"type\":\"field\",\"field\":\"value\"},\"line_color\":\"#fc4f30\",\"line_alpha\":0.2,\"line_width\":2}}}},{\"type\":\"object\",\"name\":\"GlyphRenderer\",\"id\":\"p5123\",\"attributes\":{\"name\":\"price_change_percentage_14d\",\"data_source\":{\"type\":\"object\",\"name\":\"ColumnDataSource\",\"id\":\"p5114\",\"attributes\":{\"selected\":{\"type\":\"object\",\"name\":\"Selection\",\"id\":\"p5115\",\"attributes\":{\"indices\":[],\"line_indices\":[]}},\"selection_policy\":{\"type\":\"object\",\"name\":\"UnionRenderers\",\"id\":\"p5116\"},\"data\":{\"type\":\"map\",\"entries\":[[\"coin_id\",[\"bitcoin\",\"ethereum\",\"tether\",\"ripple\",\"bitcoin-cash\",\"binancecoin\",\"chainlink\",\"cardano\",\"litecoin\",\"bitcoin-cash-sv\",\"crypto-com-chain\",\"usd-coin\",\"eos\",\"monero\",\"tron\",\"tezos\",\"okb\",\"stellar\",\"cosmos\",\"cdai\",\"neo\",\"wrapped-bitcoin\",\"leo-token\",\"huobi-token\",\"nem\",\"binance-usd\",\"iota\",\"vechain\",\"zcash\",\"theta-token\",\"dash\",\"ethereum-classic\",\"ethlend\",\"maker\",\"havven\",\"omisego\",\"celsius-degree-token\",\"ontology\",\"ftx-token\",\"true-usd\",\"digibyte\"]],[\"value\",{\"type\":\"ndarray\",\"array\":{\"type\":\"bytes\",\"data\":\"zQaZZORMGkB5knTN5DsTQC1DHOviNno/ctwpHaz/AUCLic3HtYEtQJgvL8A+OhtACoDxDBqaIkAOhGQBEzgWQICfceFAKB1AIVnABG7d/b8xsfm4NhQhwGtI3GPpQ3e/pfeNrz0z8j8ao3VUNWkyQBUA4xk0dPY/VIzzN6GQAkCXrfVFQhsUwKpla32RUPG/Qgkzbf8KFkDPg7uzdtvFP8MN+PwwsiPAYFlpUgo6GkB3+GuyRh0cwM2v5gDBHN0/jliLTwEwBUDWrZ6T3jeuP7pOIy2VNw7Am1Wfq60oMsAJM23/yioXQJfK2xFOSxrAQE0tW+uL4D9OucK7XET0v0SLbOf7mSPA/pqsUQ/R978vaYzWUZUqwDtT6LzGbirAvodLjjs9OEByUMJM2x8lwJ30vvG1Z8q/ZCMQr+sXvD+7D0BqE0cdwA==\"},\"shape\":[41],\"dtype\":\"float64\",\"order\":\"little\"}],[\"Variable\",[\"price_change_percentage_14d\",\"price_change_percentage_14d\",\"price_change_percentage_14d\",\"price_change_percentage_14d\",\"price_change_percentage_14d\",\"price_change_percentage_14d\",\"price_change_percentage_14d\",\"price_change_percentage_14d\",\"price_change_percentage_14d\",\"price_change_percentage_14d\",\"price_change_percentage_14d\",\"price_change_percentage_14d\",\"price_change_percentage_14d\",\"price_change_percentage_14d\",\"price_change_percentage_14d\",\"price_change_percentage_14d\",\"price_change_percentage_14d\",\"price_change_percentage_14d\",\"price_change_percentage_14d\",\"price_change_percentage_14d\",\"price_change_percentage_14d\",\"price_change_percentage_14d\",\"price_change_percentage_14d\",\"price_change_percentage_14d\",\"price_change_percentage_14d\",\"price_change_percentage_14d\",\"price_change_percentage_14d\",\"price_change_percentage_14d\",\"price_change_percentage_14d\",\"price_change_percentage_14d\",\"price_change_percentage_14d\",\"price_change_percentage_14d\",\"price_change_percentage_14d\",\"price_change_percentage_14d\",\"price_change_percentage_14d\",\"price_change_percentage_14d\",\"price_change_percentage_14d\",\"price_change_percentage_14d\",\"price_change_percentage_14d\",\"price_change_percentage_14d\",\"price_change_percentage_14d\"]]]}}},\"view\":{\"type\":\"object\",\"name\":\"CDSView\",\"id\":\"p5124\",\"attributes\":{\"filter\":{\"type\":\"object\",\"name\":\"AllIndices\",\"id\":\"p5125\"}}},\"glyph\":{\"type\":\"object\",\"name\":\"Line\",\"id\":\"p5120\",\"attributes\":{\"tags\":[\"apply_ranges\"],\"x\":{\"type\":\"field\",\"field\":\"coin_id\"},\"y\":{\"type\":\"field\",\"field\":\"value\"},\"line_color\":\"#e5ae38\",\"line_width\":2}},\"selection_glyph\":{\"type\":\"object\",\"name\":\"Line\",\"id\":\"p5127\",\"attributes\":{\"tags\":[\"apply_ranges\"],\"x\":{\"type\":\"field\",\"field\":\"coin_id\"},\"y\":{\"type\":\"field\",\"field\":\"value\"},\"line_color\":\"#e5ae38\",\"line_width\":2}},\"nonselection_glyph\":{\"type\":\"object\",\"name\":\"Line\",\"id\":\"p5121\",\"attributes\":{\"tags\":[\"apply_ranges\"],\"x\":{\"type\":\"field\",\"field\":\"coin_id\"},\"y\":{\"type\":\"field\",\"field\":\"value\"},\"line_color\":\"#e5ae38\",\"line_alpha\":0.1,\"line_width\":2}},\"muted_glyph\":{\"type\":\"object\",\"name\":\"Line\",\"id\":\"p5122\",\"attributes\":{\"tags\":[\"apply_ranges\"],\"x\":{\"type\":\"field\",\"field\":\"coin_id\"},\"y\":{\"type\":\"field\",\"field\":\"value\"},\"line_color\":\"#e5ae38\",\"line_alpha\":0.2,\"line_width\":2}}}},{\"type\":\"object\",\"name\":\"GlyphRenderer\",\"id\":\"p5137\",\"attributes\":{\"name\":\"price_change_percentage_30d\",\"data_source\":{\"type\":\"object\",\"name\":\"ColumnDataSource\",\"id\":\"p5128\",\"attributes\":{\"selected\":{\"type\":\"object\",\"name\":\"Selection\",\"id\":\"p5129\",\"attributes\":{\"indices\":[],\"line_indices\":[]}},\"selection_policy\":{\"type\":\"object\",\"name\":\"UnionRenderers\",\"id\":\"p5130\"},\"data\":{\"type\":\"map\",\"entries\":[[\"coin_id\",[\"bitcoin\",\"ethereum\",\"tether\",\"ripple\",\"bitcoin-cash\",\"binancecoin\",\"chainlink\",\"cardano\",\"litecoin\",\"bitcoin-cash-sv\",\"crypto-com-chain\",\"usd-coin\",\"eos\",\"monero\",\"tron\",\"tezos\",\"okb\",\"stellar\",\"cosmos\",\"cdai\",\"neo\",\"wrapped-bitcoin\",\"leo-token\",\"huobi-token\",\"nem\",\"binance-usd\",\"iota\",\"vechain\",\"zcash\",\"theta-token\",\"dash\",\"ethereum-classic\",\"ethlend\",\"maker\",\"havven\",\"omisego\",\"celsius-degree-token\",\"ontology\",\"ftx-token\",\"true-usd\",\"digibyte\"]],[\"value\",{\"type\":\"ndarray\",\"array\":{\"type\":\"bytes\",\"data\":\"VMa/z7iwHkAl6ZrJN9vAP/28qUiFsaW/L26jAbwFzj8dcjPcgH8vQPMf0m9fB64/5bhTOlhvJsBnfjUHCDYkQGWNeohGd/M/sCDNWDQdB0Cmft5UpHIxwJgvL8A+OsW/t0WZDTKJEsDeVKTC2HpDQEzD8BExNSnAjWK5pdVALMDjjcwjf+AkwIrIsIo3QiDAjliLTwFQEkAWpBmLpnMBwE3WqIdo9DXAVG8NbJWAHUAnMQisHJoIQGA8g4b+CQrACcTr+gU7DcCPpQ9dUN+SP80Bgjl6nBDA9S1zuixWLMBC7Eyh83odQEku/yH9bj9AtTf4wmQqH8Am/FI/byoHQNjYJaq3/j3A9GxWfa62MECdRloqb9c0wF4R/G8lOyLArK3YX3aZYUC1/SsrTVpBwP/PYb68ICXAFR3J5T+knz+ndLD+z4EqQA==\"},\"shape\":[41],\"dtype\":\"float64\",\"order\":\"little\"}],[\"Variable\",[\"price_change_percentage_30d\",\"price_change_percentage_30d\",\"price_change_percentage_30d\",\"price_change_percentage_30d\",\"price_change_percentage_30d\",\"price_change_percentage_30d\",\"price_change_percentage_30d\",\"price_change_percentage_30d\",\"price_change_percentage_30d\",\"price_change_percentage_30d\",\"price_change_percentage_30d\",\"price_change_percentage_30d\",\"price_change_percentage_30d\",\"price_change_percentage_30d\",\"price_change_percentage_30d\",\"price_change_percentage_30d\",\"price_change_percentage_30d\",\"price_change_percentage_30d\",\"price_change_percentage_30d\",\"price_change_percentage_30d\",\"price_change_percentage_30d\",\"price_change_percentage_30d\",\"price_change_percentage_30d\",\"price_change_percentage_30d\",\"price_change_percentage_30d\",\"price_change_percentage_30d\",\"price_change_percentage_30d\",\"price_change_percentage_30d\",\"price_change_percentage_30d\",\"price_change_percentage_30d\",\"price_change_percentage_30d\",\"price_change_percentage_30d\",\"price_change_percentage_30d\",\"price_change_percentage_30d\",\"price_change_percentage_30d\",\"price_change_percentage_30d\",\"price_change_percentage_30d\",\"price_change_percentage_30d\",\"price_change_percentage_30d\",\"price_change_percentage_30d\",\"price_change_percentage_30d\"]]]}}},\"view\":{\"type\":\"object\",\"name\":\"CDSView\",\"id\":\"p5138\",\"attributes\":{\"filter\":{\"type\":\"object\",\"name\":\"AllIndices\",\"id\":\"p5139\"}}},\"glyph\":{\"type\":\"object\",\"name\":\"Line\",\"id\":\"p5134\",\"attributes\":{\"tags\":[\"apply_ranges\"],\"x\":{\"type\":\"field\",\"field\":\"coin_id\"},\"y\":{\"type\":\"field\",\"field\":\"value\"},\"line_color\":\"#6d904f\",\"line_width\":2}},\"selection_glyph\":{\"type\":\"object\",\"name\":\"Line\",\"id\":\"p5141\",\"attributes\":{\"tags\":[\"apply_ranges\"],\"x\":{\"type\":\"field\",\"field\":\"coin_id\"},\"y\":{\"type\":\"field\",\"field\":\"value\"},\"line_color\":\"#6d904f\",\"line_width\":2}},\"nonselection_glyph\":{\"type\":\"object\",\"name\":\"Line\",\"id\":\"p5135\",\"attributes\":{\"tags\":[\"apply_ranges\"],\"x\":{\"type\":\"field\",\"field\":\"coin_id\"},\"y\":{\"type\":\"field\",\"field\":\"value\"},\"line_color\":\"#6d904f\",\"line_alpha\":0.1,\"line_width\":2}},\"muted_glyph\":{\"type\":\"object\",\"name\":\"Line\",\"id\":\"p5136\",\"attributes\":{\"tags\":[\"apply_ranges\"],\"x\":{\"type\":\"field\",\"field\":\"coin_id\"},\"y\":{\"type\":\"field\",\"field\":\"value\"},\"line_color\":\"#6d904f\",\"line_alpha\":0.2,\"line_width\":2}}}},{\"type\":\"object\",\"name\":\"GlyphRenderer\",\"id\":\"p5151\",\"attributes\":{\"name\":\"price_change_percentage_60d\",\"data_source\":{\"type\":\"object\",\"name\":\"ColumnDataSource\",\"id\":\"p5142\",\"attributes\":{\"selected\":{\"type\":\"object\",\"name\":\"Selection\",\"id\":\"p5143\",\"attributes\":{\"indices\":[],\"line_indices\":[]}},\"selection_policy\":{\"type\":\"object\",\"name\":\"UnionRenderers\",\"id\":\"p5144\"},\"data\":{\"type\":\"map\",\"entries\":[[\"coin_id\",[\"bitcoin\",\"ethereum\",\"tether\",\"ripple\",\"bitcoin-cash\",\"binancecoin\",\"chainlink\",\"cardano\",\"litecoin\",\"bitcoin-cash-sv\",\"crypto-com-chain\",\"usd-coin\",\"eos\",\"monero\",\"tron\",\"tezos\",\"okb\",\"stellar\",\"cosmos\",\"cdai\",\"neo\",\"wrapped-bitcoin\",\"leo-token\",\"huobi-token\",\"nem\",\"binance-usd\",\"iota\",\"vechain\",\"zcash\",\"theta-token\",\"dash\",\"ethereum-classic\",\"ethlend\",\"maker\",\"havven\",\"omisego\",\"celsius-degree-token\",\"ontology\",\"ftx-token\",\"true-usd\",\"digibyte\"]],[\"value\",{\"type\":\"ndarray\",\"array\":{\"type\":\"bytes\",\"data\":\"FvvL7skDCsAs1JrmHccpwKjjMQOV8dE/2qz6XG2NMcBzol2FlG8rwIleRrHcKkJAN8MN+PzYRcBi26LMBtk2wCEf9GxWPTHAq5UJv9TfOMBg5dAi23kwwDygbMoV3qU/l631RUIrPsDNzMzMzNxEQJm7lpAPGhZAms5OBkdpRsBKe4MvTKYGwEsfuqC+zT7APL1SliHOHMC4AZ8fRgjlP9L7xteeCStAFqQZi6azDMCvJeSDni0ewDeOWItPQQvAXvQVpBm3VEDaOGItPgW4PwpLPKBsQkHAaw4QzNHPRcAJM23/yoo0wBmQvd79AVRAfa62Yn85OsBVGFsIcug5wLCsNCkFHQFA529CIQKeMsA0uoPYmbZDwPKwUGua0VNA/pqsUQ/ia0Ao8iTpmllAwFuxv+yenBdAmrFoOjsZ0D8s1JrmHRc/wA==\"},\"shape\":[41],\"dtype\":\"float64\",\"order\":\"little\"}],[\"Variable\",[\"price_change_percentage_60d\",\"price_change_percentage_60d\",\"price_change_percentage_60d\",\"price_change_percentage_60d\",\"price_change_percentage_60d\",\"price_change_percentage_60d\",\"price_change_percentage_60d\",\"price_change_percentage_60d\",\"price_change_percentage_60d\",\"price_change_percentage_60d\",\"price_change_percentage_60d\",\"price_change_percentage_60d\",\"price_change_percentage_60d\",\"price_change_percentage_60d\",\"price_change_percentage_60d\",\"price_change_percentage_60d\",\"price_change_percentage_60d\",\"price_change_percentage_60d\",\"price_change_percentage_60d\",\"price_change_percentage_60d\",\"price_change_percentage_60d\",\"price_change_percentage_60d\",\"price_change_percentage_60d\",\"price_change_percentage_60d\",\"price_change_percentage_60d\",\"price_change_percentage_60d\",\"price_change_percentage_60d\",\"price_change_percentage_60d\",\"price_change_percentage_60d\",\"price_change_percentage_60d\",\"price_change_percentage_60d\",\"price_change_percentage_60d\",\"price_change_percentage_60d\",\"price_change_percentage_60d\",\"price_change_percentage_60d\",\"price_change_percentage_60d\",\"price_change_percentage_60d\",\"price_change_percentage_60d\",\"price_change_percentage_60d\",\"price_change_percentage_60d\",\"price_change_percentage_60d\"]]]}}},\"view\":{\"type\":\"object\",\"name\":\"CDSView\",\"id\":\"p5152\",\"attributes\":{\"filter\":{\"type\":\"object\",\"name\":\"AllIndices\",\"id\":\"p5153\"}}},\"glyph\":{\"type\":\"object\",\"name\":\"Line\",\"id\":\"p5148\",\"attributes\":{\"tags\":[\"apply_ranges\"],\"x\":{\"type\":\"field\",\"field\":\"coin_id\"},\"y\":{\"type\":\"field\",\"field\":\"value\"},\"line_color\":\"#8b8b8b\",\"line_width\":2}},\"selection_glyph\":{\"type\":\"object\",\"name\":\"Line\",\"id\":\"p5155\",\"attributes\":{\"tags\":[\"apply_ranges\"],\"x\":{\"type\":\"field\",\"field\":\"coin_id\"},\"y\":{\"type\":\"field\",\"field\":\"value\"},\"line_color\":\"#8b8b8b\",\"line_width\":2}},\"nonselection_glyph\":{\"type\":\"object\",\"name\":\"Line\",\"id\":\"p5149\",\"attributes\":{\"tags\":[\"apply_ranges\"],\"x\":{\"type\":\"field\",\"field\":\"coin_id\"},\"y\":{\"type\":\"field\",\"field\":\"value\"},\"line_color\":\"#8b8b8b\",\"line_alpha\":0.1,\"line_width\":2}},\"muted_glyph\":{\"type\":\"object\",\"name\":\"Line\",\"id\":\"p5150\",\"attributes\":{\"tags\":[\"apply_ranges\"],\"x\":{\"type\":\"field\",\"field\":\"coin_id\"},\"y\":{\"type\":\"field\",\"field\":\"value\"},\"line_color\":\"#8b8b8b\",\"line_alpha\":0.2,\"line_width\":2}}}},{\"type\":\"object\",\"name\":\"GlyphRenderer\",\"id\":\"p5165\",\"attributes\":{\"name\":\"price_change_percentage_200d\",\"data_source\":{\"type\":\"object\",\"name\":\"ColumnDataSource\",\"id\":\"p5156\",\"attributes\":{\"selected\":{\"type\":\"object\",\"name\":\"Selection\",\"id\":\"p5157\",\"attributes\":{\"indices\":[],\"line_indices\":[]}},\"selection_policy\":{\"type\":\"object\",\"name\":\"UnionRenderers\",\"id\":\"p5158\"},\"data\":{\"type\":\"map\",\"entries\":[[\"coin_id\",[\"bitcoin\",\"ethereum\",\"tether\",\"ripple\",\"bitcoin-cash\",\"binancecoin\",\"chainlink\",\"cardano\",\"litecoin\",\"bitcoin-cash-sv\",\"crypto-com-chain\",\"usd-coin\",\"eos\",\"monero\",\"tron\",\"tezos\",\"okb\",\"stellar\",\"cosmos\",\"cdai\",\"neo\",\"wrapped-bitcoin\",\"leo-token\",\"huobi-token\",\"nem\",\"binance-usd\",\"iota\",\"vechain\",\"zcash\",\"theta-token\",\"dash\",\"ethereum-classic\",\"ethlend\",\"maker\",\"havven\",\"omisego\",\"celsius-degree-token\",\"ontology\",\"ftx-token\",\"true-usd\",\"digibyte\"]],[\"value\",{\"type\":\"ndarray\",\"array\":{\"type\":\"bytes\",\"data\":\"xY8xdy3hVED0piIVxlhnQBe86CtIM3a/9zsUBfrEQ0DTn/1IEak1QPTDCOHRc2NAl3MprqozeUAexM4UOohwQIB9dOrKfztAFhiyutWzHUCN7iB2plZsQIQqNXugFcS/ZHWr56QPMkALe9rhrzBlQH+8V61MnGBA5nlwd9a2RUARHm0csfpDQC+Lic3HJ1VAkj8YeO4/Z0AOvjCZKhjZv2vUQzS61GNAtRX7y+75VEC5GW7A52cwQAPso1NXHkVAKa4q+64Fa0A7NgLxun65P+TaUDHOwVdAyM1wAz7bcEAFwHgGDaNeQH3Qs1k1lYtAOUVHcvnvGEANGvonuMgkQCYZOQvbZ6FAGD4ipkSiVED5MeauZXeDQHi0ccQaSoJAC170FcTYmEB1PGagMmJLQC2yne+nvkxAndfYJaq3tr9R9wFIbSl+QA==\"},\"shape\":[41],\"dtype\":\"float64\",\"order\":\"little\"}],[\"Variable\",[\"price_change_percentage_200d\",\"price_change_percentage_200d\",\"price_change_percentage_200d\",\"price_change_percentage_200d\",\"price_change_percentage_200d\",\"price_change_percentage_200d\",\"price_change_percentage_200d\",\"price_change_percentage_200d\",\"price_change_percentage_200d\",\"price_change_percentage_200d\",\"price_change_percentage_200d\",\"price_change_percentage_200d\",\"price_change_percentage_200d\",\"price_change_percentage_200d\",\"price_change_percentage_200d\",\"price_change_percentage_200d\",\"price_change_percentage_200d\",\"price_change_percentage_200d\",\"price_change_percentage_200d\",\"price_change_percentage_200d\",\"price_change_percentage_200d\",\"price_change_percentage_200d\",\"price_change_percentage_200d\",\"price_change_percentage_200d\",\"price_change_percentage_200d\",\"price_change_percentage_200d\",\"price_change_percentage_200d\",\"price_change_percentage_200d\",\"price_change_percentage_200d\",\"price_change_percentage_200d\",\"price_change_percentage_200d\",\"price_change_percentage_200d\",\"price_change_percentage_200d\",\"price_change_percentage_200d\",\"price_change_percentage_200d\",\"price_change_percentage_200d\",\"price_change_percentage_200d\",\"price_change_percentage_200d\",\"price_change_percentage_200d\",\"price_change_percentage_200d\",\"price_change_percentage_200d\"]]]}}},\"view\":{\"type\":\"object\",\"name\":\"CDSView\",\"id\":\"p5166\",\"attributes\":{\"filter\":{\"type\":\"object\",\"name\":\"AllIndices\",\"id\":\"p5167\"}}},\"glyph\":{\"type\":\"object\",\"name\":\"Line\",\"id\":\"p5162\",\"attributes\":{\"tags\":[\"apply_ranges\"],\"x\":{\"type\":\"field\",\"field\":\"coin_id\"},\"y\":{\"type\":\"field\",\"field\":\"value\"},\"line_color\":\"#17becf\",\"line_width\":2}},\"selection_glyph\":{\"type\":\"object\",\"name\":\"Line\",\"id\":\"p5169\",\"attributes\":{\"tags\":[\"apply_ranges\"],\"x\":{\"type\":\"field\",\"field\":\"coin_id\"},\"y\":{\"type\":\"field\",\"field\":\"value\"},\"line_color\":\"#17becf\",\"line_width\":2}},\"nonselection_glyph\":{\"type\":\"object\",\"name\":\"Line\",\"id\":\"p5163\",\"attributes\":{\"tags\":[\"apply_ranges\"],\"x\":{\"type\":\"field\",\"field\":\"coin_id\"},\"y\":{\"type\":\"field\",\"field\":\"value\"},\"line_color\":\"#17becf\",\"line_alpha\":0.1,\"line_width\":2}},\"muted_glyph\":{\"type\":\"object\",\"name\":\"Line\",\"id\":\"p5164\",\"attributes\":{\"tags\":[\"apply_ranges\"],\"x\":{\"type\":\"field\",\"field\":\"coin_id\"},\"y\":{\"type\":\"field\",\"field\":\"value\"},\"line_color\":\"#17becf\",\"line_alpha\":0.2,\"line_width\":2}}}},{\"type\":\"object\",\"name\":\"GlyphRenderer\",\"id\":\"p5179\",\"attributes\":{\"name\":\"price_change_percentage_1y\",\"data_source\":{\"type\":\"object\",\"name\":\"ColumnDataSource\",\"id\":\"p5170\",\"attributes\":{\"selected\":{\"type\":\"object\",\"name\":\"Selection\",\"id\":\"p5171\",\"attributes\":{\"indices\":[],\"line_indices\":[]}},\"selection_policy\":{\"type\":\"object\",\"name\":\"UnionRenderers\",\"id\":\"p5172\"},\"data\":{\"type\":\"map\",\"entries\":[[\"coin_id\",[\"bitcoin\",\"ethereum\",\"tether\",\"ripple\",\"bitcoin-cash\",\"binancecoin\",\"chainlink\",\"cardano\",\"litecoin\",\"bitcoin-cash-sv\",\"crypto-com-chain\",\"usd-coin\",\"eos\",\"monero\",\"tron\",\"tezos\",\"okb\",\"stellar\",\"cosmos\",\"cdai\",\"neo\",\"wrapped-bitcoin\",\"leo-token\",\"huobi-token\",\"nem\",\"binance-usd\",\"iota\",\"vechain\",\"zcash\",\"theta-token\",\"dash\",\"ethereum-classic\",\"ethlend\",\"maker\",\"havven\",\"omisego\",\"celsius-degree-token\",\"ontology\",\"ftx-token\",\"true-usd\",\"digibyte\"]],[\"value\",{\"type\":\"ndarray\",\"array\":{\"type\":\"bytes\",\"data\":\"kQpjC0HCQkDWqIdodH1ZQN/42jNLApQ/NXugFRiaMMDN6bKY2PwsQOcdp+hIbFFAaTo7GRxSdEC6LCY2H4NjQPnaM0sCVCnA0NA/wcVuV0CQvd798RBzQL4wmSoYlci/t39lpUmRMcDovMYuUaFhQEPKT6p9nk1A6PaSxmiAYUBdUN8yp75hQMzuycNCnStAw7ZFmQ2cVEAHsTOFzmvSvx/0bFZ9aWBAhhvw+WHEQkAN/RNcrAA1QN8Vwf9WkjhAS7A4nPkWaUAVUn5S7dPBPzUk7rH04Q/AIsMq3shbaUBf0hito7hUQPyMCwcC64VAzsKedvirA8Dwoq8gzTgmQHRGlPYWrL5Ayk+qfTpOJUDfiVkvRjaFQEfJq3MMC3RAnFCIgONmn0CsVib8Uk8pwNttF5rrC2VAyXGndLD+2T/ZfFwbKgxnQA==\"},\"shape\":[41],\"dtype\":\"float64\",\"order\":\"little\"}],[\"Variable\",[\"price_change_percentage_1y\",\"price_change_percentage_1y\",\"price_change_percentage_1y\",\"price_change_percentage_1y\",\"price_change_percentage_1y\",\"price_change_percentage_1y\",\"price_change_percentage_1y\",\"price_change_percentage_1y\",\"price_change_percentage_1y\",\"price_change_percentage_1y\",\"price_change_percentage_1y\",\"price_change_percentage_1y\",\"price_change_percentage_1y\",\"price_change_percentage_1y\",\"price_change_percentage_1y\",\"price_change_percentage_1y\",\"price_change_percentage_1y\",\"price_change_percentage_1y\",\"price_change_percentage_1y\",\"price_change_percentage_1y\",\"price_change_percentage_1y\",\"price_change_percentage_1y\",\"price_change_percentage_1y\",\"price_change_percentage_1y\",\"price_change_percentage_1y\",\"price_change_percentage_1y\",\"price_change_percentage_1y\",\"price_change_percentage_1y\",\"price_change_percentage_1y\",\"price_change_percentage_1y\",\"price_change_percentage_1y\",\"price_change_percentage_1y\",\"price_change_percentage_1y\",\"price_change_percentage_1y\",\"price_change_percentage_1y\",\"price_change_percentage_1y\",\"price_change_percentage_1y\",\"price_change_percentage_1y\",\"price_change_percentage_1y\",\"price_change_percentage_1y\",\"price_change_percentage_1y\"]]]}}},\"view\":{\"type\":\"object\",\"name\":\"CDSView\",\"id\":\"p5180\",\"attributes\":{\"filter\":{\"type\":\"object\",\"name\":\"AllIndices\",\"id\":\"p5181\"}}},\"glyph\":{\"type\":\"object\",\"name\":\"Line\",\"id\":\"p5176\",\"attributes\":{\"tags\":[\"apply_ranges\"],\"x\":{\"type\":\"field\",\"field\":\"coin_id\"},\"y\":{\"type\":\"field\",\"field\":\"value\"},\"line_color\":\"#9467bd\",\"line_width\":2}},\"selection_glyph\":{\"type\":\"object\",\"name\":\"Line\",\"id\":\"p5183\",\"attributes\":{\"tags\":[\"apply_ranges\"],\"x\":{\"type\":\"field\",\"field\":\"coin_id\"},\"y\":{\"type\":\"field\",\"field\":\"value\"},\"line_color\":\"#9467bd\",\"line_width\":2}},\"nonselection_glyph\":{\"type\":\"object\",\"name\":\"Line\",\"id\":\"p5177\",\"attributes\":{\"tags\":[\"apply_ranges\"],\"x\":{\"type\":\"field\",\"field\":\"coin_id\"},\"y\":{\"type\":\"field\",\"field\":\"value\"},\"line_color\":\"#9467bd\",\"line_alpha\":0.1,\"line_width\":2}},\"muted_glyph\":{\"type\":\"object\",\"name\":\"Line\",\"id\":\"p5178\",\"attributes\":{\"tags\":[\"apply_ranges\"],\"x\":{\"type\":\"field\",\"field\":\"coin_id\"},\"y\":{\"type\":\"field\",\"field\":\"value\"},\"line_color\":\"#9467bd\",\"line_alpha\":0.2,\"line_width\":2}}}}],\"toolbar\":{\"type\":\"object\",\"name\":\"Toolbar\",\"id\":\"p5067\",\"attributes\":{\"tools\":[{\"type\":\"object\",\"name\":\"WheelZoomTool\",\"id\":\"p5038\",\"attributes\":{\"tags\":[\"hv_created\"],\"zoom_together\":\"none\"}},{\"type\":\"object\",\"name\":\"HoverTool\",\"id\":\"p5039\",\"attributes\":{\"tags\":[\"hv_created\"],\"renderers\":[{\"id\":\"p5094\"},{\"id\":\"p5109\"},{\"id\":\"p5123\"},{\"id\":\"p5137\"},{\"id\":\"p5151\"},{\"id\":\"p5165\"},{\"id\":\"p5179\"}],\"tooltips\":[[\"Variable\",\"@{Variable}\"],[\"coin_id\",\"@{coin_id}\"],[\"value\",\"@{value}\"]]}},{\"type\":\"object\",\"name\":\"SaveTool\",\"id\":\"p5080\"},{\"type\":\"object\",\"name\":\"PanTool\",\"id\":\"p5081\"},{\"type\":\"object\",\"name\":\"BoxZoomTool\",\"id\":\"p5082\",\"attributes\":{\"overlay\":{\"type\":\"object\",\"name\":\"BoxAnnotation\",\"id\":\"p5083\",\"attributes\":{\"syncable\":false,\"level\":\"overlay\",\"visible\":false,\"left_units\":\"canvas\",\"right_units\":\"canvas\",\"bottom_units\":\"canvas\",\"top_units\":\"canvas\",\"line_color\":\"black\",\"line_alpha\":1.0,\"line_width\":2,\"line_dash\":[4,4],\"fill_color\":\"lightgrey\",\"fill_alpha\":0.5}}}},{\"type\":\"object\",\"name\":\"ResetTool\",\"id\":\"p5084\"}],\"active_drag\":{\"id\":\"p5081\"},\"active_scroll\":{\"id\":\"p5038\"}}},\"left\":[{\"type\":\"object\",\"name\":\"LinearAxis\",\"id\":\"p5075\",\"attributes\":{\"ticker\":{\"type\":\"object\",\"name\":\"BasicTicker\",\"id\":\"p5076\",\"attributes\":{\"mantissas\":[1,2,5]}},\"formatter\":{\"type\":\"object\",\"name\":\"BasicTickFormatter\",\"id\":\"p5077\"},\"axis_label\":\"\",\"major_label_policy\":{\"type\":\"object\",\"name\":\"AllLabels\",\"id\":\"p5078\"}}}],\"right\":[{\"type\":\"object\",\"name\":\"Legend\",\"id\":\"p5097\",\"attributes\":{\"location\":[0,0],\"title\":\"Variable\",\"click_policy\":\"mute\",\"items\":[{\"type\":\"object\",\"name\":\"LegendItem\",\"id\":\"p5098\",\"attributes\":{\"label\":{\"type\":\"value\",\"value\":\"price_change_percentage_24h\"},\"renderers\":[{\"id\":\"p5094\"}]}},{\"type\":\"object\",\"name\":\"LegendItem\",\"id\":\"p5112\",\"attributes\":{\"label\":{\"type\":\"value\",\"value\":\"price_change_percentage_7d\"},\"renderers\":[{\"id\":\"p5109\"}]}},{\"type\":\"object\",\"name\":\"LegendItem\",\"id\":\"p5126\",\"attributes\":{\"label\":{\"type\":\"value\",\"value\":\"price_change_percentage_14d\"},\"renderers\":[{\"id\":\"p5123\"}]}},{\"type\":\"object\",\"name\":\"LegendItem\",\"id\":\"p5140\",\"attributes\":{\"label\":{\"type\":\"value\",\"value\":\"price_change_percentage_30d\"},\"renderers\":[{\"id\":\"p5137\"}]}},{\"type\":\"object\",\"name\":\"LegendItem\",\"id\":\"p5154\",\"attributes\":{\"label\":{\"type\":\"value\",\"value\":\"price_change_percentage_60d\"},\"renderers\":[{\"id\":\"p5151\"}]}},{\"type\":\"object\",\"name\":\"LegendItem\",\"id\":\"p5168\",\"attributes\":{\"label\":{\"type\":\"value\",\"value\":\"price_change_percentage_200d\"},\"renderers\":[{\"id\":\"p5165\"}]}},{\"type\":\"object\",\"name\":\"LegendItem\",\"id\":\"p5182\",\"attributes\":{\"label\":{\"type\":\"value\",\"value\":\"price_change_percentage_1y\"},\"renderers\":[{\"id\":\"p5179\"}]}}]}}],\"below\":[{\"type\":\"object\",\"name\":\"CategoricalAxis\",\"id\":\"p5070\",\"attributes\":{\"ticker\":{\"type\":\"object\",\"name\":\"CategoricalTicker\",\"id\":\"p5071\"},\"formatter\":{\"type\":\"object\",\"name\":\"CategoricalTickFormatter\",\"id\":\"p5072\"},\"axis_label\":\"coin_id\",\"major_label_orientation\":1.5707963267948966,\"major_label_policy\":{\"type\":\"object\",\"name\":\"AllLabels\",\"id\":\"p5073\"}}}],\"center\":[{\"type\":\"object\",\"name\":\"Grid\",\"id\":\"p5074\",\"attributes\":{\"axis\":{\"id\":\"p5070\"},\"grid_line_color\":null}},{\"type\":\"object\",\"name\":\"Grid\",\"id\":\"p5079\",\"attributes\":{\"dimension\":1,\"axis\":{\"id\":\"p5075\"},\"grid_line_color\":null}}],\"min_border_top\":10,\"min_border_bottom\":10,\"min_border_left\":10,\"min_border_right\":10,\"output_backend\":\"webgl\"}},{\"type\":\"object\",\"name\":\"Spacer\",\"id\":\"p5185\",\"attributes\":{\"name\":\"HSpacer10211\",\"stylesheets\":[\"\\n:host(.pn-loading.pn-arc):before, .pn-loading.pn-arc:before {\\n  background-image: url(\\\"data:image/svg+xml;base64,PHN2ZyB4bWxucz0iaHR0cDovL3d3dy53My5vcmcvMjAwMC9zdmciIHN0eWxlPSJtYXJnaW46IGF1dG87IGJhY2tncm91bmQ6IG5vbmU7IGRpc3BsYXk6IGJsb2NrOyBzaGFwZS1yZW5kZXJpbmc6IGF1dG87IiB2aWV3Qm94PSIwIDAgMTAwIDEwMCIgcHJlc2VydmVBc3BlY3RSYXRpbz0ieE1pZFlNaWQiPiAgPGNpcmNsZSBjeD0iNTAiIGN5PSI1MCIgZmlsbD0ibm9uZSIgc3Ryb2tlPSIjYzNjM2MzIiBzdHJva2Utd2lkdGg9IjEwIiByPSIzNSIgc3Ryb2tlLWRhc2hhcnJheT0iMTY0LjkzMzYxNDMxMzQ2NDE1IDU2Ljk3Nzg3MTQzNzgyMTM4Ij4gICAgPGFuaW1hdGVUcmFuc2Zvcm0gYXR0cmlidXRlTmFtZT0idHJhbnNmb3JtIiB0eXBlPSJyb3RhdGUiIHJlcGVhdENvdW50PSJpbmRlZmluaXRlIiBkdXI9IjFzIiB2YWx1ZXM9IjAgNTAgNTA7MzYwIDUwIDUwIiBrZXlUaW1lcz0iMDsxIj48L2FuaW1hdGVUcmFuc2Zvcm0+ICA8L2NpcmNsZT48L3N2Zz4=\\\");\\n  background-size: auto calc(min(50%, 400px));\\n}\",{\"id\":\"p5031\"},{\"id\":\"p5029\"},{\"id\":\"p5030\"}],\"margin\":0,\"sizing_mode\":\"stretch_width\",\"align\":\"start\"}}]}}],\"defs\":[{\"type\":\"model\",\"name\":\"ReactiveHTML1\"},{\"type\":\"model\",\"name\":\"FlexBox1\",\"properties\":[{\"name\":\"align_content\",\"kind\":\"Any\",\"default\":\"flex-start\"},{\"name\":\"align_items\",\"kind\":\"Any\",\"default\":\"flex-start\"},{\"name\":\"flex_direction\",\"kind\":\"Any\",\"default\":\"row\"},{\"name\":\"flex_wrap\",\"kind\":\"Any\",\"default\":\"wrap\"},{\"name\":\"justify_content\",\"kind\":\"Any\",\"default\":\"flex-start\"}]},{\"type\":\"model\",\"name\":\"FloatPanel1\",\"properties\":[{\"name\":\"config\",\"kind\":\"Any\",\"default\":{\"type\":\"map\"}},{\"name\":\"contained\",\"kind\":\"Any\",\"default\":true},{\"name\":\"position\",\"kind\":\"Any\",\"default\":\"right-top\"},{\"name\":\"offsetx\",\"kind\":\"Any\",\"default\":null},{\"name\":\"offsety\",\"kind\":\"Any\",\"default\":null},{\"name\":\"theme\",\"kind\":\"Any\",\"default\":\"primary\"},{\"name\":\"status\",\"kind\":\"Any\",\"default\":\"normalized\"}]},{\"type\":\"model\",\"name\":\"GridStack1\",\"properties\":[{\"name\":\"mode\",\"kind\":\"Any\",\"default\":\"warn\"},{\"name\":\"ncols\",\"kind\":\"Any\",\"default\":null},{\"name\":\"nrows\",\"kind\":\"Any\",\"default\":null},{\"name\":\"allow_resize\",\"kind\":\"Any\",\"default\":true},{\"name\":\"allow_drag\",\"kind\":\"Any\",\"default\":true},{\"name\":\"state\",\"kind\":\"Any\",\"default\":[]}]},{\"type\":\"model\",\"name\":\"drag1\",\"properties\":[{\"name\":\"slider_width\",\"kind\":\"Any\",\"default\":5},{\"name\":\"slider_color\",\"kind\":\"Any\",\"default\":\"black\"},{\"name\":\"value\",\"kind\":\"Any\",\"default\":50}]},{\"type\":\"model\",\"name\":\"click1\",\"properties\":[{\"name\":\"terminal_output\",\"kind\":\"Any\",\"default\":\"\"},{\"name\":\"debug_name\",\"kind\":\"Any\",\"default\":\"\"},{\"name\":\"clears\",\"kind\":\"Any\",\"default\":0}]},{\"type\":\"model\",\"name\":\"FastWrapper1\",\"properties\":[{\"name\":\"object\",\"kind\":\"Any\",\"default\":null},{\"name\":\"style\",\"kind\":\"Any\",\"default\":null}]},{\"type\":\"model\",\"name\":\"NotificationAreaBase1\",\"properties\":[{\"name\":\"js_events\",\"kind\":\"Any\",\"default\":{\"type\":\"map\"}},{\"name\":\"position\",\"kind\":\"Any\",\"default\":\"bottom-right\"},{\"name\":\"_clear\",\"kind\":\"Any\",\"default\":0}]},{\"type\":\"model\",\"name\":\"NotificationArea1\",\"properties\":[{\"name\":\"js_events\",\"kind\":\"Any\",\"default\":{\"type\":\"map\"}},{\"name\":\"notifications\",\"kind\":\"Any\",\"default\":[]},{\"name\":\"position\",\"kind\":\"Any\",\"default\":\"bottom-right\"},{\"name\":\"_clear\",\"kind\":\"Any\",\"default\":0},{\"name\":\"types\",\"kind\":\"Any\",\"default\":[{\"type\":\"map\",\"entries\":[[\"type\",\"warning\"],[\"background\",\"#ffc107\"],[\"icon\",{\"type\":\"map\",\"entries\":[[\"className\",\"fas fa-exclamation-triangle\"],[\"tagName\",\"i\"],[\"color\",\"white\"]]}]]},{\"type\":\"map\",\"entries\":[[\"type\",\"info\"],[\"background\",\"#007bff\"],[\"icon\",{\"type\":\"map\",\"entries\":[[\"className\",\"fas fa-info-circle\"],[\"tagName\",\"i\"],[\"color\",\"white\"]]}]]}]}]},{\"type\":\"model\",\"name\":\"Notification\",\"properties\":[{\"name\":\"background\",\"kind\":\"Any\",\"default\":null},{\"name\":\"duration\",\"kind\":\"Any\",\"default\":3000},{\"name\":\"icon\",\"kind\":\"Any\",\"default\":null},{\"name\":\"message\",\"kind\":\"Any\",\"default\":\"\"},{\"name\":\"notification_type\",\"kind\":\"Any\",\"default\":null},{\"name\":\"_destroyed\",\"kind\":\"Any\",\"default\":false}]},{\"type\":\"model\",\"name\":\"TemplateActions1\",\"properties\":[{\"name\":\"open_modal\",\"kind\":\"Any\",\"default\":0},{\"name\":\"close_modal\",\"kind\":\"Any\",\"default\":0}]},{\"type\":\"model\",\"name\":\"BootstrapTemplateActions1\",\"properties\":[{\"name\":\"open_modal\",\"kind\":\"Any\",\"default\":0},{\"name\":\"close_modal\",\"kind\":\"Any\",\"default\":0}]},{\"type\":\"model\",\"name\":\"MaterialTemplateActions1\",\"properties\":[{\"name\":\"open_modal\",\"kind\":\"Any\",\"default\":0},{\"name\":\"close_modal\",\"kind\":\"Any\",\"default\":0}]}]}};\n",
       "  var render_items = [{\"docid\":\"b4361746-1dc9-4556-9caa-2813665d4719\",\"roots\":{\"p5028\":\"e018084d-846e-4c65-8435-10292c09a437\"},\"root_ids\":[\"p5028\"]}];\n",
       "  var docs = Object.values(docs_json)\n",
       "  if (!docs) {\n",
       "    return\n",
       "  }\n",
       "  const py_version = docs[0].version.replace('rc', '-rc.').replace('.dev', '-dev.')\n",
       "  const is_dev = py_version.indexOf(\"+\") !== -1 || py_version.indexOf(\"-\") !== -1\n",
       "  function embed_document(root) {\n",
       "    var Bokeh = get_bokeh(root)\n",
       "    Bokeh.embed.embed_items_notebook(docs_json, render_items);\n",
       "    for (const render_item of render_items) {\n",
       "      for (const root_id of render_item.root_ids) {\n",
       "\tconst id_el = document.getElementById(root_id)\n",
       "\tif (id_el.children.length && (id_el.children[0].className === 'bk-root')) {\n",
       "\t  const root_el = id_el.children[0]\n",
       "\t  root_el.id = root_el.id + '-rendered'\n",
       "\t}\n",
       "      }\n",
       "    }\n",
       "  }\n",
       "  function get_bokeh(root) {\n",
       "    if (root.Bokeh === undefined) {\n",
       "      return null\n",
       "    } else if (root.Bokeh.version !== py_version && !is_dev) {\n",
       "      if (root.Bokeh.versions === undefined || !root.Bokeh.versions.has(py_version)) {\n",
       "\treturn null\n",
       "      }\n",
       "      return root.Bokeh.versions.get(py_version);\n",
       "    } else if (root.Bokeh.version === py_version) {\n",
       "      return root.Bokeh\n",
       "    }\n",
       "    return null\n",
       "  }\n",
       "  function is_loaded(root) {\n",
       "    var Bokeh = get_bokeh(root)\n",
       "    return (Bokeh != null && Bokeh.Panel !== undefined)\n",
       "  }\n",
       "  if (is_loaded(root)) {\n",
       "    embed_document(root);\n",
       "  } else {\n",
       "    var attempts = 0;\n",
       "    var timer = setInterval(function(root) {\n",
       "      if (is_loaded(root)) {\n",
       "        clearInterval(timer);\n",
       "        embed_document(root);\n",
       "      } else if (document.readyState == \"complete\") {\n",
       "        attempts++;\n",
       "        if (attempts > 200) {\n",
       "          clearInterval(timer);\n",
       "\t  var Bokeh = get_bokeh(root)\n",
       "\t  if (Bokeh == null || Bokeh.Panel == null) {\n",
       "            console.warn(\"Panel: ERROR: Unable to run Panel code because Bokeh or Panel library is missing\");\n",
       "\t  } else {\n",
       "\t    console.warn(\"Panel: WARNING: Attempting to render but not all required libraries could be resolved.\")\n",
       "\t    embed_document(root)\n",
       "\t  }\n",
       "        }\n",
       "      }\n",
       "    }, 25, root)\n",
       "  }\n",
       "})(window);</script>"
      ],
      "text/plain": [
       ":NdOverlay   [Variable]\n",
       "   :Curve   [coin_id]   (value)"
      ]
     },
     "execution_count": 112,
     "metadata": {
      "application/vnd.holoviews_exec.v0+json": {
       "id": "p5028"
      }
     },
     "output_type": "execute_result"
    }
   ],
   "source": [
    "# Plot your data to see what's in your DataFrame\n",
    "df_market_data.hvplot.line(\n",
    "    width=1000,\n",
    "    height=600,\n",
    "    rot=90\n",
    ")"
   ]
  },
  {
   "cell_type": "markdown",
   "metadata": {},
   "source": [
    "---"
   ]
  },
  {
   "cell_type": "markdown",
   "metadata": {},
   "source": [
    "### Prepare the Data\n",
    "\n",
    "This section prepares the data before running the K-Means algorithm. It follows these steps:\n",
    "\n",
    "1. Use the `StandardScaler` module from scikit-learn to normalize the CSV file data. This will require you to utilize the `fit_transform` function.\n",
    "\n",
    "2. Create a DataFrame that contains the scaled data. Be sure to set the `coin_id` index from the original DataFrame as the index for the new DataFrame. Review the resulting DataFrame.\n"
   ]
  },
  {
   "cell_type": "code",
   "execution_count": 113,
   "metadata": {
    "tags": []
   },
   "outputs": [],
   "source": [
    "# Use the `StandardScaler()` module from scikit-learn to normalize the data from the CSV file\n",
    "scaled_data = StandardScaler().fit_transform(df_market_data)"
   ]
  },
  {
   "cell_type": "code",
   "execution_count": 114,
   "metadata": {
    "tags": []
   },
   "outputs": [
    {
     "data": {
      "text/html": [
       "<div>\n",
       "<style scoped>\n",
       "    .dataframe tbody tr th:only-of-type {\n",
       "        vertical-align: middle;\n",
       "    }\n",
       "\n",
       "    .dataframe tbody tr th {\n",
       "        vertical-align: top;\n",
       "    }\n",
       "\n",
       "    .dataframe thead th {\n",
       "        text-align: right;\n",
       "    }\n",
       "</style>\n",
       "<table border=\"1\" class=\"dataframe\">\n",
       "  <thead>\n",
       "    <tr style=\"text-align: right;\">\n",
       "      <th></th>\n",
       "      <th>price_change_percentage_24h</th>\n",
       "      <th>price_change_percentage_7d</th>\n",
       "      <th>price_change_percentage_14d</th>\n",
       "      <th>price_change_percentage_30d</th>\n",
       "      <th>price_change_percentage_60d</th>\n",
       "      <th>price_change_percentage_200d</th>\n",
       "      <th>price_change_percentage_1y</th>\n",
       "    </tr>\n",
       "    <tr>\n",
       "      <th>coin_id</th>\n",
       "      <th></th>\n",
       "      <th></th>\n",
       "      <th></th>\n",
       "      <th></th>\n",
       "      <th></th>\n",
       "      <th></th>\n",
       "      <th></th>\n",
       "    </tr>\n",
       "  </thead>\n",
       "  <tbody>\n",
       "    <tr>\n",
       "      <th>bitcoin</th>\n",
       "      <td>0.508529</td>\n",
       "      <td>0.493193</td>\n",
       "      <td>0.772200</td>\n",
       "      <td>0.235460</td>\n",
       "      <td>-0.067495</td>\n",
       "      <td>-0.355953</td>\n",
       "      <td>-0.251637</td>\n",
       "    </tr>\n",
       "    <tr>\n",
       "      <th>ethereum</th>\n",
       "      <td>0.185446</td>\n",
       "      <td>0.934445</td>\n",
       "      <td>0.558692</td>\n",
       "      <td>-0.054341</td>\n",
       "      <td>-0.273483</td>\n",
       "      <td>-0.115759</td>\n",
       "      <td>-0.199352</td>\n",
       "    </tr>\n",
       "    <tr>\n",
       "      <th>tether</th>\n",
       "      <td>0.021774</td>\n",
       "      <td>-0.706337</td>\n",
       "      <td>-0.021680</td>\n",
       "      <td>-0.061030</td>\n",
       "      <td>0.008005</td>\n",
       "      <td>-0.550247</td>\n",
       "      <td>-0.282061</td>\n",
       "    </tr>\n",
       "    <tr>\n",
       "      <th>ripple</th>\n",
       "      <td>-0.040764</td>\n",
       "      <td>-0.810928</td>\n",
       "      <td>0.249458</td>\n",
       "      <td>-0.050388</td>\n",
       "      <td>-0.373164</td>\n",
       "      <td>-0.458259</td>\n",
       "      <td>-0.295546</td>\n",
       "    </tr>\n",
       "    <tr>\n",
       "      <th>bitcoin-cash</th>\n",
       "      <td>1.193036</td>\n",
       "      <td>2.000959</td>\n",
       "      <td>1.760610</td>\n",
       "      <td>0.545842</td>\n",
       "      <td>-0.291203</td>\n",
       "      <td>-0.499848</td>\n",
       "      <td>-0.270317</td>\n",
       "    </tr>\n",
       "  </tbody>\n",
       "</table>\n",
       "</div>"
      ],
      "text/plain": [
       "              price_change_percentage_24h  price_change_percentage_7d  \\\n",
       "coin_id                                                                 \n",
       "bitcoin                          0.508529                    0.493193   \n",
       "ethereum                         0.185446                    0.934445   \n",
       "tether                           0.021774                   -0.706337   \n",
       "ripple                          -0.040764                   -0.810928   \n",
       "bitcoin-cash                     1.193036                    2.000959   \n",
       "\n",
       "              price_change_percentage_14d  price_change_percentage_30d  \\\n",
       "coin_id                                                                  \n",
       "bitcoin                          0.772200                     0.235460   \n",
       "ethereum                         0.558692                    -0.054341   \n",
       "tether                          -0.021680                    -0.061030   \n",
       "ripple                           0.249458                    -0.050388   \n",
       "bitcoin-cash                     1.760610                     0.545842   \n",
       "\n",
       "              price_change_percentage_60d  price_change_percentage_200d  \\\n",
       "coin_id                                                                   \n",
       "bitcoin                         -0.067495                     -0.355953   \n",
       "ethereum                        -0.273483                     -0.115759   \n",
       "tether                           0.008005                     -0.550247   \n",
       "ripple                          -0.373164                     -0.458259   \n",
       "bitcoin-cash                    -0.291203                     -0.499848   \n",
       "\n",
       "              price_change_percentage_1y  \n",
       "coin_id                                   \n",
       "bitcoin                        -0.251637  \n",
       "ethereum                       -0.199352  \n",
       "tether                         -0.282061  \n",
       "ripple                         -0.295546  \n",
       "bitcoin-cash                   -0.270317  "
      ]
     },
     "execution_count": 114,
     "metadata": {},
     "output_type": "execute_result"
    }
   ],
   "source": [
    "# Create a DataFrame with the scaled data\n",
    "df_market_data_scaled = pd.DataFrame(\n",
    "    scaled_data,\n",
    "    columns=df_market_data.columns\n",
    ")\n",
    "\n",
    "# Copy the crypto names from the original data\n",
    "df_market_data_scaled[\"coin_id\"] = df_market_data.index\n",
    "\n",
    "# Set the coinid column as index\n",
    "df_market_data_scaled = df_market_data_scaled.set_index(\"coin_id\")\n",
    "\n",
    "# Display sample data\n",
    "df_market_data_scaled.head()"
   ]
  },
  {
   "cell_type": "markdown",
   "metadata": {},
   "source": [
    "---"
   ]
  },
  {
   "cell_type": "markdown",
   "metadata": {},
   "source": [
    "### Find the Best Value for k Using the Original Data\n",
    "\n",
    "In this section, you will use the elbow method to find the best value for `k`.\n",
    "\n",
    "1. Code the elbow method algorithm to find the best value for `k`. Use a range from 1 to 11. \n",
    "\n",
    "2. Plot a line chart with all the inertia values computed with the different values of `k` to visually identify the optimal value for `k`.\n",
    "\n",
    "3. Answer the following question: What is the best value for `k`?"
   ]
  },
  {
   "cell_type": "code",
   "execution_count": 115,
   "metadata": {},
   "outputs": [],
   "source": [
    "# Create a list with the number of k-values to try\n",
    "# Use a range from 1 to 11\n",
    "k = list(range(1, 11))"
   ]
  },
  {
   "cell_type": "code",
   "execution_count": 116,
   "metadata": {},
   "outputs": [],
   "source": [
    "# Create an empy list to store the inertia values\n",
    "inertia = []"
   ]
  },
  {
   "cell_type": "code",
   "execution_count": 117,
   "metadata": {},
   "outputs": [
    {
     "name": "stderr",
     "output_type": "stream",
     "text": [
      "C:\\Users\\victo\\anaconda3\\envs\\dev\\lib\\site-packages\\sklearn\\cluster\\_kmeans.py:1416: FutureWarning: The default value of `n_init` will change from 10 to 'auto' in 1.4. Set the value of `n_init` explicitly to suppress the warning\n",
      "  super()._check_params_vs_input(X, default_n_init=10)\n",
      "C:\\Users\\victo\\anaconda3\\envs\\dev\\lib\\site-packages\\sklearn\\cluster\\_kmeans.py:1440: UserWarning: KMeans is known to have a memory leak on Windows with MKL, when there are less chunks than available threads. You can avoid it by setting the environment variable OMP_NUM_THREADS=1.\n",
      "  warnings.warn(\n",
      "C:\\Users\\victo\\anaconda3\\envs\\dev\\lib\\site-packages\\sklearn\\cluster\\_kmeans.py:1416: FutureWarning: The default value of `n_init` will change from 10 to 'auto' in 1.4. Set the value of `n_init` explicitly to suppress the warning\n",
      "  super()._check_params_vs_input(X, default_n_init=10)\n",
      "C:\\Users\\victo\\anaconda3\\envs\\dev\\lib\\site-packages\\sklearn\\cluster\\_kmeans.py:1440: UserWarning: KMeans is known to have a memory leak on Windows with MKL, when there are less chunks than available threads. You can avoid it by setting the environment variable OMP_NUM_THREADS=1.\n",
      "  warnings.warn(\n",
      "C:\\Users\\victo\\anaconda3\\envs\\dev\\lib\\site-packages\\sklearn\\cluster\\_kmeans.py:1416: FutureWarning: The default value of `n_init` will change from 10 to 'auto' in 1.4. Set the value of `n_init` explicitly to suppress the warning\n",
      "  super()._check_params_vs_input(X, default_n_init=10)\n",
      "C:\\Users\\victo\\anaconda3\\envs\\dev\\lib\\site-packages\\sklearn\\cluster\\_kmeans.py:1440: UserWarning: KMeans is known to have a memory leak on Windows with MKL, when there are less chunks than available threads. You can avoid it by setting the environment variable OMP_NUM_THREADS=1.\n",
      "  warnings.warn(\n",
      "C:\\Users\\victo\\anaconda3\\envs\\dev\\lib\\site-packages\\sklearn\\cluster\\_kmeans.py:1416: FutureWarning: The default value of `n_init` will change from 10 to 'auto' in 1.4. Set the value of `n_init` explicitly to suppress the warning\n",
      "  super()._check_params_vs_input(X, default_n_init=10)\n",
      "C:\\Users\\victo\\anaconda3\\envs\\dev\\lib\\site-packages\\sklearn\\cluster\\_kmeans.py:1440: UserWarning: KMeans is known to have a memory leak on Windows with MKL, when there are less chunks than available threads. You can avoid it by setting the environment variable OMP_NUM_THREADS=1.\n",
      "  warnings.warn(\n",
      "C:\\Users\\victo\\anaconda3\\envs\\dev\\lib\\site-packages\\sklearn\\cluster\\_kmeans.py:1416: FutureWarning: The default value of `n_init` will change from 10 to 'auto' in 1.4. Set the value of `n_init` explicitly to suppress the warning\n",
      "  super()._check_params_vs_input(X, default_n_init=10)\n",
      "C:\\Users\\victo\\anaconda3\\envs\\dev\\lib\\site-packages\\sklearn\\cluster\\_kmeans.py:1440: UserWarning: KMeans is known to have a memory leak on Windows with MKL, when there are less chunks than available threads. You can avoid it by setting the environment variable OMP_NUM_THREADS=1.\n",
      "  warnings.warn(\n",
      "C:\\Users\\victo\\anaconda3\\envs\\dev\\lib\\site-packages\\sklearn\\cluster\\_kmeans.py:1416: FutureWarning: The default value of `n_init` will change from 10 to 'auto' in 1.4. Set the value of `n_init` explicitly to suppress the warning\n",
      "  super()._check_params_vs_input(X, default_n_init=10)\n",
      "C:\\Users\\victo\\anaconda3\\envs\\dev\\lib\\site-packages\\sklearn\\cluster\\_kmeans.py:1440: UserWarning: KMeans is known to have a memory leak on Windows with MKL, when there are less chunks than available threads. You can avoid it by setting the environment variable OMP_NUM_THREADS=1.\n",
      "  warnings.warn(\n",
      "C:\\Users\\victo\\anaconda3\\envs\\dev\\lib\\site-packages\\sklearn\\cluster\\_kmeans.py:1416: FutureWarning: The default value of `n_init` will change from 10 to 'auto' in 1.4. Set the value of `n_init` explicitly to suppress the warning\n",
      "  super()._check_params_vs_input(X, default_n_init=10)\n",
      "C:\\Users\\victo\\anaconda3\\envs\\dev\\lib\\site-packages\\sklearn\\cluster\\_kmeans.py:1440: UserWarning: KMeans is known to have a memory leak on Windows with MKL, when there are less chunks than available threads. You can avoid it by setting the environment variable OMP_NUM_THREADS=1.\n",
      "  warnings.warn(\n",
      "C:\\Users\\victo\\anaconda3\\envs\\dev\\lib\\site-packages\\sklearn\\cluster\\_kmeans.py:1416: FutureWarning: The default value of `n_init` will change from 10 to 'auto' in 1.4. Set the value of `n_init` explicitly to suppress the warning\n",
      "  super()._check_params_vs_input(X, default_n_init=10)\n",
      "C:\\Users\\victo\\anaconda3\\envs\\dev\\lib\\site-packages\\sklearn\\cluster\\_kmeans.py:1440: UserWarning: KMeans is known to have a memory leak on Windows with MKL, when there are less chunks than available threads. You can avoid it by setting the environment variable OMP_NUM_THREADS=1.\n",
      "  warnings.warn(\n",
      "C:\\Users\\victo\\anaconda3\\envs\\dev\\lib\\site-packages\\sklearn\\cluster\\_kmeans.py:1416: FutureWarning: The default value of `n_init` will change from 10 to 'auto' in 1.4. Set the value of `n_init` explicitly to suppress the warning\n",
      "  super()._check_params_vs_input(X, default_n_init=10)\n",
      "C:\\Users\\victo\\anaconda3\\envs\\dev\\lib\\site-packages\\sklearn\\cluster\\_kmeans.py:1440: UserWarning: KMeans is known to have a memory leak on Windows with MKL, when there are less chunks than available threads. You can avoid it by setting the environment variable OMP_NUM_THREADS=1.\n",
      "  warnings.warn(\n",
      "C:\\Users\\victo\\anaconda3\\envs\\dev\\lib\\site-packages\\sklearn\\cluster\\_kmeans.py:1416: FutureWarning: The default value of `n_init` will change from 10 to 'auto' in 1.4. Set the value of `n_init` explicitly to suppress the warning\n",
      "  super()._check_params_vs_input(X, default_n_init=10)\n",
      "C:\\Users\\victo\\anaconda3\\envs\\dev\\lib\\site-packages\\sklearn\\cluster\\_kmeans.py:1440: UserWarning: KMeans is known to have a memory leak on Windows with MKL, when there are less chunks than available threads. You can avoid it by setting the environment variable OMP_NUM_THREADS=1.\n",
      "  warnings.warn(\n"
     ]
    }
   ],
   "source": [
    "# Create a for loop to compute the inertia with each possible value of k\n",
    "# Inside the loop:\n",
    "# 1. Create a KMeans model using the loop counter for the n_clusters\n",
    "# 2. Fit the model to the data using `df_market_data_scaled`\n",
    "# 3. Append the model.inertia_ to the inertia list\n",
    "for i in k:\n",
    "    k_model = KMeans(n_clusters=i, random_state=1)\n",
    "    k_model.fit(df_market_data_scaled)\n",
    "    inertia.append(k_model.inertia_)"
   ]
  },
  {
   "cell_type": "code",
   "execution_count": 118,
   "metadata": {},
   "outputs": [
    {
     "data": {
      "text/html": [
       "<div>\n",
       "<style scoped>\n",
       "    .dataframe tbody tr th:only-of-type {\n",
       "        vertical-align: middle;\n",
       "    }\n",
       "\n",
       "    .dataframe tbody tr th {\n",
       "        vertical-align: top;\n",
       "    }\n",
       "\n",
       "    .dataframe thead th {\n",
       "        text-align: right;\n",
       "    }\n",
       "</style>\n",
       "<table border=\"1\" class=\"dataframe\">\n",
       "  <thead>\n",
       "    <tr style=\"text-align: right;\">\n",
       "      <th></th>\n",
       "      <th>k</th>\n",
       "      <th>inertia</th>\n",
       "    </tr>\n",
       "  </thead>\n",
       "  <tbody>\n",
       "    <tr>\n",
       "      <th>0</th>\n",
       "      <td>1</td>\n",
       "      <td>287.000000</td>\n",
       "    </tr>\n",
       "    <tr>\n",
       "      <th>1</th>\n",
       "      <td>2</td>\n",
       "      <td>195.820218</td>\n",
       "    </tr>\n",
       "    <tr>\n",
       "      <th>2</th>\n",
       "      <td>3</td>\n",
       "      <td>123.190482</td>\n",
       "    </tr>\n",
       "    <tr>\n",
       "      <th>3</th>\n",
       "      <td>4</td>\n",
       "      <td>79.022435</td>\n",
       "    </tr>\n",
       "    <tr>\n",
       "      <th>4</th>\n",
       "      <td>5</td>\n",
       "      <td>63.858668</td>\n",
       "    </tr>\n",
       "  </tbody>\n",
       "</table>\n",
       "</div>"
      ],
      "text/plain": [
       "   k     inertia\n",
       "0  1  287.000000\n",
       "1  2  195.820218\n",
       "2  3  123.190482\n",
       "3  4   79.022435\n",
       "4  5   63.858668"
      ]
     },
     "execution_count": 118,
     "metadata": {},
     "output_type": "execute_result"
    }
   ],
   "source": [
    "# Create a dictionary with the data to plot the Elbow curve\n",
    "elbow_data = {\"k\": k, \"inertia\": inertia}\n",
    "\n",
    "# Create a DataFrame with the data to plot the Elbow curve\n",
    "df_elbow = pd.DataFrame(elbow_data)\n",
    "df_elbow.head()"
   ]
  },
  {
   "cell_type": "code",
   "execution_count": 119,
   "metadata": {},
   "outputs": [
    {
     "data": {},
     "metadata": {},
     "output_type": "display_data"
    },
    {
     "data": {
      "application/vnd.holoviews_exec.v0+json": "",
      "text/html": [
       "<div id='p5196'>\n",
       "  <div id=\"a3c4a9bf-e8b2-4c6a-b50e-adb61c78bf35\" data-root-id=\"p5196\" style=\"display: contents;\"></div>\n",
       "</div>\n",
       "<script type=\"application/javascript\">(function(root) {\n",
       "  var docs_json = {\"156971fa-bf35-4026-a82e-117c852651a7\":{\"version\":\"3.2.1\",\"title\":\"Bokeh Application\",\"roots\":[{\"type\":\"object\",\"name\":\"Row\",\"id\":\"p5196\",\"attributes\":{\"name\":\"Row10421\",\"tags\":[\"embedded\"],\"stylesheets\":[\"\\n:host(.pn-loading.pn-arc):before, .pn-loading.pn-arc:before {\\n  background-image: url(\\\"data:image/svg+xml;base64,PHN2ZyB4bWxucz0iaHR0cDovL3d3dy53My5vcmcvMjAwMC9zdmciIHN0eWxlPSJtYXJnaW46IGF1dG87IGJhY2tncm91bmQ6IG5vbmU7IGRpc3BsYXk6IGJsb2NrOyBzaGFwZS1yZW5kZXJpbmc6IGF1dG87IiB2aWV3Qm94PSIwIDAgMTAwIDEwMCIgcHJlc2VydmVBc3BlY3RSYXRpbz0ieE1pZFlNaWQiPiAgPGNpcmNsZSBjeD0iNTAiIGN5PSI1MCIgZmlsbD0ibm9uZSIgc3Ryb2tlPSIjYzNjM2MzIiBzdHJva2Utd2lkdGg9IjEwIiByPSIzNSIgc3Ryb2tlLWRhc2hhcnJheT0iMTY0LjkzMzYxNDMxMzQ2NDE1IDU2Ljk3Nzg3MTQzNzgyMTM4Ij4gICAgPGFuaW1hdGVUcmFuc2Zvcm0gYXR0cmlidXRlTmFtZT0idHJhbnNmb3JtIiB0eXBlPSJyb3RhdGUiIHJlcGVhdENvdW50PSJpbmRlZmluaXRlIiBkdXI9IjFzIiB2YWx1ZXM9IjAgNTAgNTA7MzYwIDUwIDUwIiBrZXlUaW1lcz0iMDsxIj48L2FuaW1hdGVUcmFuc2Zvcm0+ICA8L2NpcmNsZT48L3N2Zz4=\\\");\\n  background-size: auto calc(min(50%, 400px));\\n}\",{\"type\":\"object\",\"name\":\"ImportedStyleSheet\",\"id\":\"p5199\",\"attributes\":{\"url\":\"https://cdn.holoviz.org/panel/1.2.1/dist/css/loading.css\"}},{\"type\":\"object\",\"name\":\"ImportedStyleSheet\",\"id\":\"p5252\",\"attributes\":{\"url\":\"https://cdn.holoviz.org/panel/1.2.1/dist/css/listpanel.css\"}},{\"type\":\"object\",\"name\":\"ImportedStyleSheet\",\"id\":\"p5197\",\"attributes\":{\"url\":\"https://cdn.holoviz.org/panel/1.2.1/dist/bundled/theme/default.css\"}},{\"type\":\"object\",\"name\":\"ImportedStyleSheet\",\"id\":\"p5198\",\"attributes\":{\"url\":\"https://cdn.holoviz.org/panel/1.2.1/dist/bundled/theme/native.css\"}}],\"min_width\":700,\"margin\":0,\"sizing_mode\":\"stretch_width\",\"align\":\"start\",\"children\":[{\"type\":\"object\",\"name\":\"Spacer\",\"id\":\"p5200\",\"attributes\":{\"name\":\"HSpacer10432\",\"stylesheets\":[\"\\n:host(.pn-loading.pn-arc):before, .pn-loading.pn-arc:before {\\n  background-image: url(\\\"data:image/svg+xml;base64,PHN2ZyB4bWxucz0iaHR0cDovL3d3dy53My5vcmcvMjAwMC9zdmciIHN0eWxlPSJtYXJnaW46IGF1dG87IGJhY2tncm91bmQ6IG5vbmU7IGRpc3BsYXk6IGJsb2NrOyBzaGFwZS1yZW5kZXJpbmc6IGF1dG87IiB2aWV3Qm94PSIwIDAgMTAwIDEwMCIgcHJlc2VydmVBc3BlY3RSYXRpbz0ieE1pZFlNaWQiPiAgPGNpcmNsZSBjeD0iNTAiIGN5PSI1MCIgZmlsbD0ibm9uZSIgc3Ryb2tlPSIjYzNjM2MzIiBzdHJva2Utd2lkdGg9IjEwIiByPSIzNSIgc3Ryb2tlLWRhc2hhcnJheT0iMTY0LjkzMzYxNDMxMzQ2NDE1IDU2Ljk3Nzg3MTQzNzgyMTM4Ij4gICAgPGFuaW1hdGVUcmFuc2Zvcm0gYXR0cmlidXRlTmFtZT0idHJhbnNmb3JtIiB0eXBlPSJyb3RhdGUiIHJlcGVhdENvdW50PSJpbmRlZmluaXRlIiBkdXI9IjFzIiB2YWx1ZXM9IjAgNTAgNTA7MzYwIDUwIDUwIiBrZXlUaW1lcz0iMDsxIj48L2FuaW1hdGVUcmFuc2Zvcm0+ICA8L2NpcmNsZT48L3N2Zz4=\\\");\\n  background-size: auto calc(min(50%, 400px));\\n}\",{\"id\":\"p5199\"},{\"id\":\"p5197\"},{\"id\":\"p5198\"}],\"margin\":0,\"sizing_mode\":\"stretch_width\",\"align\":\"start\"}},{\"type\":\"object\",\"name\":\"Figure\",\"id\":\"p5208\",\"attributes\":{\"width\":700,\"height\":300,\"margin\":[5,10],\"sizing_mode\":\"fixed\",\"align\":\"start\",\"x_range\":{\"type\":\"object\",\"name\":\"Range1d\",\"id\":\"p5201\",\"attributes\":{\"tags\":[[[\"k\",\"k\",null]],[]],\"start\":1.0,\"end\":10.0,\"reset_start\":1.0,\"reset_end\":10.0}},\"y_range\":{\"type\":\"object\",\"name\":\"Range1d\",\"id\":\"p5202\",\"attributes\":{\"tags\":[[[\"inertia\",\"inertia\",null]],{\"type\":\"map\",\"entries\":[[\"invert_yaxis\",false],[\"autorange\",false]]}],\"start\":2.2819766365771805,\"end\":312.88345666940205,\"reset_start\":2.2819766365771805,\"reset_end\":312.88345666940205}},\"x_scale\":{\"type\":\"object\",\"name\":\"LinearScale\",\"id\":\"p5218\"},\"y_scale\":{\"type\":\"object\",\"name\":\"LinearScale\",\"id\":\"p5219\"},\"title\":{\"type\":\"object\",\"name\":\"Title\",\"id\":\"p5211\",\"attributes\":{\"text\":\"Elbow Curve\",\"text_color\":\"black\",\"text_font_size\":\"12pt\"}},\"renderers\":[{\"type\":\"object\",\"name\":\"GlyphRenderer\",\"id\":\"p5244\",\"attributes\":{\"data_source\":{\"type\":\"object\",\"name\":\"ColumnDataSource\",\"id\":\"p5235\",\"attributes\":{\"selected\":{\"type\":\"object\",\"name\":\"Selection\",\"id\":\"p5236\",\"attributes\":{\"indices\":[],\"line_indices\":[]}},\"selection_policy\":{\"type\":\"object\",\"name\":\"UnionRenderers\",\"id\":\"p5237\"},\"data\":{\"type\":\"map\",\"entries\":[[\"k\",{\"type\":\"ndarray\",\"array\":{\"type\":\"bytes\",\"data\":\"AQAAAAIAAAADAAAABAAAAAUAAAAGAAAABwAAAAgAAAAJAAAACgAAAA==\"},\"shape\":[10],\"dtype\":\"int32\",\"order\":\"little\"}],[\"inertia\",{\"type\":\"ndarray\",\"array\":{\"type\":\"bytes\",\"data\":\"AAAAAADwcUByhzI6P3poQOCRvNowzF5AF+6ulG/BU0ByHKDT6O1PQBcSyZxlh0pAxJ/AthE0RkCoWQ2NA4pCQFx7Hh6FakBAntlO1lkqPEA=\"},\"shape\":[10],\"dtype\":\"float64\",\"order\":\"little\"}]]}}},\"view\":{\"type\":\"object\",\"name\":\"CDSView\",\"id\":\"p5245\",\"attributes\":{\"filter\":{\"type\":\"object\",\"name\":\"AllIndices\",\"id\":\"p5246\"}}},\"glyph\":{\"type\":\"object\",\"name\":\"Line\",\"id\":\"p5241\",\"attributes\":{\"tags\":[\"apply_ranges\"],\"x\":{\"type\":\"field\",\"field\":\"k\"},\"y\":{\"type\":\"field\",\"field\":\"inertia\"},\"line_color\":\"#30a2da\",\"line_width\":2}},\"selection_glyph\":{\"type\":\"object\",\"name\":\"Line\",\"id\":\"p5247\",\"attributes\":{\"tags\":[\"apply_ranges\"],\"x\":{\"type\":\"field\",\"field\":\"k\"},\"y\":{\"type\":\"field\",\"field\":\"inertia\"},\"line_color\":\"#30a2da\",\"line_width\":2}},\"nonselection_glyph\":{\"type\":\"object\",\"name\":\"Line\",\"id\":\"p5242\",\"attributes\":{\"tags\":[\"apply_ranges\"],\"x\":{\"type\":\"field\",\"field\":\"k\"},\"y\":{\"type\":\"field\",\"field\":\"inertia\"},\"line_color\":\"#30a2da\",\"line_alpha\":0.1,\"line_width\":2}},\"muted_glyph\":{\"type\":\"object\",\"name\":\"Line\",\"id\":\"p5243\",\"attributes\":{\"tags\":[\"apply_ranges\"],\"x\":{\"type\":\"field\",\"field\":\"k\"},\"y\":{\"type\":\"field\",\"field\":\"inertia\"},\"line_color\":\"#30a2da\",\"line_alpha\":0.2,\"line_width\":2}}}}],\"toolbar\":{\"type\":\"object\",\"name\":\"Toolbar\",\"id\":\"p5217\",\"attributes\":{\"tools\":[{\"type\":\"object\",\"name\":\"WheelZoomTool\",\"id\":\"p5206\",\"attributes\":{\"tags\":[\"hv_created\"],\"zoom_together\":\"none\"}},{\"type\":\"object\",\"name\":\"HoverTool\",\"id\":\"p5207\",\"attributes\":{\"tags\":[\"hv_created\"],\"renderers\":[{\"id\":\"p5244\"}],\"tooltips\":[[\"k\",\"@{k}\"],[\"inertia\",\"@{inertia}\"]]}},{\"type\":\"object\",\"name\":\"SaveTool\",\"id\":\"p5230\"},{\"type\":\"object\",\"name\":\"PanTool\",\"id\":\"p5231\"},{\"type\":\"object\",\"name\":\"BoxZoomTool\",\"id\":\"p5232\",\"attributes\":{\"overlay\":{\"type\":\"object\",\"name\":\"BoxAnnotation\",\"id\":\"p5233\",\"attributes\":{\"syncable\":false,\"level\":\"overlay\",\"visible\":false,\"left_units\":\"canvas\",\"right_units\":\"canvas\",\"bottom_units\":\"canvas\",\"top_units\":\"canvas\",\"line_color\":\"black\",\"line_alpha\":1.0,\"line_width\":2,\"line_dash\":[4,4],\"fill_color\":\"lightgrey\",\"fill_alpha\":0.5}}}},{\"type\":\"object\",\"name\":\"ResetTool\",\"id\":\"p5234\"}],\"active_drag\":{\"id\":\"p5231\"},\"active_scroll\":{\"id\":\"p5206\"}}},\"left\":[{\"type\":\"object\",\"name\":\"LinearAxis\",\"id\":\"p5225\",\"attributes\":{\"ticker\":{\"type\":\"object\",\"name\":\"BasicTicker\",\"id\":\"p5226\",\"attributes\":{\"mantissas\":[1,2,5]}},\"formatter\":{\"type\":\"object\",\"name\":\"BasicTickFormatter\",\"id\":\"p5227\"},\"axis_label\":\"inertia\",\"major_label_policy\":{\"type\":\"object\",\"name\":\"AllLabels\",\"id\":\"p5228\"}}}],\"below\":[{\"type\":\"object\",\"name\":\"LinearAxis\",\"id\":\"p5220\",\"attributes\":{\"ticker\":{\"type\":\"object\",\"name\":\"FixedTicker\",\"id\":\"p5248\",\"attributes\":{\"ticks\":[1,2,3,4,5,6,7,8,9,10],\"minor_ticks\":[]}},\"formatter\":{\"type\":\"object\",\"name\":\"BasicTickFormatter\",\"id\":\"p5222\"},\"axis_label\":\"k\",\"major_label_policy\":{\"type\":\"object\",\"name\":\"AllLabels\",\"id\":\"p5223\"}}}],\"center\":[{\"type\":\"object\",\"name\":\"Grid\",\"id\":\"p5224\",\"attributes\":{\"axis\":{\"id\":\"p5220\"},\"grid_line_color\":null}},{\"type\":\"object\",\"name\":\"Grid\",\"id\":\"p5229\",\"attributes\":{\"dimension\":1,\"axis\":{\"id\":\"p5225\"},\"grid_line_color\":null}}],\"min_border_top\":10,\"min_border_bottom\":10,\"min_border_left\":10,\"min_border_right\":10,\"output_backend\":\"webgl\"}},{\"type\":\"object\",\"name\":\"Spacer\",\"id\":\"p5250\",\"attributes\":{\"name\":\"HSpacer10435\",\"stylesheets\":[\"\\n:host(.pn-loading.pn-arc):before, .pn-loading.pn-arc:before {\\n  background-image: url(\\\"data:image/svg+xml;base64,PHN2ZyB4bWxucz0iaHR0cDovL3d3dy53My5vcmcvMjAwMC9zdmciIHN0eWxlPSJtYXJnaW46IGF1dG87IGJhY2tncm91bmQ6IG5vbmU7IGRpc3BsYXk6IGJsb2NrOyBzaGFwZS1yZW5kZXJpbmc6IGF1dG87IiB2aWV3Qm94PSIwIDAgMTAwIDEwMCIgcHJlc2VydmVBc3BlY3RSYXRpbz0ieE1pZFlNaWQiPiAgPGNpcmNsZSBjeD0iNTAiIGN5PSI1MCIgZmlsbD0ibm9uZSIgc3Ryb2tlPSIjYzNjM2MzIiBzdHJva2Utd2lkdGg9IjEwIiByPSIzNSIgc3Ryb2tlLWRhc2hhcnJheT0iMTY0LjkzMzYxNDMxMzQ2NDE1IDU2Ljk3Nzg3MTQzNzgyMTM4Ij4gICAgPGFuaW1hdGVUcmFuc2Zvcm0gYXR0cmlidXRlTmFtZT0idHJhbnNmb3JtIiB0eXBlPSJyb3RhdGUiIHJlcGVhdENvdW50PSJpbmRlZmluaXRlIiBkdXI9IjFzIiB2YWx1ZXM9IjAgNTAgNTA7MzYwIDUwIDUwIiBrZXlUaW1lcz0iMDsxIj48L2FuaW1hdGVUcmFuc2Zvcm0+ICA8L2NpcmNsZT48L3N2Zz4=\\\");\\n  background-size: auto calc(min(50%, 400px));\\n}\",{\"id\":\"p5199\"},{\"id\":\"p5197\"},{\"id\":\"p5198\"}],\"margin\":0,\"sizing_mode\":\"stretch_width\",\"align\":\"start\"}}]}}],\"defs\":[{\"type\":\"model\",\"name\":\"ReactiveHTML1\"},{\"type\":\"model\",\"name\":\"FlexBox1\",\"properties\":[{\"name\":\"align_content\",\"kind\":\"Any\",\"default\":\"flex-start\"},{\"name\":\"align_items\",\"kind\":\"Any\",\"default\":\"flex-start\"},{\"name\":\"flex_direction\",\"kind\":\"Any\",\"default\":\"row\"},{\"name\":\"flex_wrap\",\"kind\":\"Any\",\"default\":\"wrap\"},{\"name\":\"justify_content\",\"kind\":\"Any\",\"default\":\"flex-start\"}]},{\"type\":\"model\",\"name\":\"FloatPanel1\",\"properties\":[{\"name\":\"config\",\"kind\":\"Any\",\"default\":{\"type\":\"map\"}},{\"name\":\"contained\",\"kind\":\"Any\",\"default\":true},{\"name\":\"position\",\"kind\":\"Any\",\"default\":\"right-top\"},{\"name\":\"offsetx\",\"kind\":\"Any\",\"default\":null},{\"name\":\"offsety\",\"kind\":\"Any\",\"default\":null},{\"name\":\"theme\",\"kind\":\"Any\",\"default\":\"primary\"},{\"name\":\"status\",\"kind\":\"Any\",\"default\":\"normalized\"}]},{\"type\":\"model\",\"name\":\"GridStack1\",\"properties\":[{\"name\":\"mode\",\"kind\":\"Any\",\"default\":\"warn\"},{\"name\":\"ncols\",\"kind\":\"Any\",\"default\":null},{\"name\":\"nrows\",\"kind\":\"Any\",\"default\":null},{\"name\":\"allow_resize\",\"kind\":\"Any\",\"default\":true},{\"name\":\"allow_drag\",\"kind\":\"Any\",\"default\":true},{\"name\":\"state\",\"kind\":\"Any\",\"default\":[]}]},{\"type\":\"model\",\"name\":\"drag1\",\"properties\":[{\"name\":\"slider_width\",\"kind\":\"Any\",\"default\":5},{\"name\":\"slider_color\",\"kind\":\"Any\",\"default\":\"black\"},{\"name\":\"value\",\"kind\":\"Any\",\"default\":50}]},{\"type\":\"model\",\"name\":\"click1\",\"properties\":[{\"name\":\"terminal_output\",\"kind\":\"Any\",\"default\":\"\"},{\"name\":\"debug_name\",\"kind\":\"Any\",\"default\":\"\"},{\"name\":\"clears\",\"kind\":\"Any\",\"default\":0}]},{\"type\":\"model\",\"name\":\"FastWrapper1\",\"properties\":[{\"name\":\"object\",\"kind\":\"Any\",\"default\":null},{\"name\":\"style\",\"kind\":\"Any\",\"default\":null}]},{\"type\":\"model\",\"name\":\"NotificationAreaBase1\",\"properties\":[{\"name\":\"js_events\",\"kind\":\"Any\",\"default\":{\"type\":\"map\"}},{\"name\":\"position\",\"kind\":\"Any\",\"default\":\"bottom-right\"},{\"name\":\"_clear\",\"kind\":\"Any\",\"default\":0}]},{\"type\":\"model\",\"name\":\"NotificationArea1\",\"properties\":[{\"name\":\"js_events\",\"kind\":\"Any\",\"default\":{\"type\":\"map\"}},{\"name\":\"notifications\",\"kind\":\"Any\",\"default\":[]},{\"name\":\"position\",\"kind\":\"Any\",\"default\":\"bottom-right\"},{\"name\":\"_clear\",\"kind\":\"Any\",\"default\":0},{\"name\":\"types\",\"kind\":\"Any\",\"default\":[{\"type\":\"map\",\"entries\":[[\"type\",\"warning\"],[\"background\",\"#ffc107\"],[\"icon\",{\"type\":\"map\",\"entries\":[[\"className\",\"fas fa-exclamation-triangle\"],[\"tagName\",\"i\"],[\"color\",\"white\"]]}]]},{\"type\":\"map\",\"entries\":[[\"type\",\"info\"],[\"background\",\"#007bff\"],[\"icon\",{\"type\":\"map\",\"entries\":[[\"className\",\"fas fa-info-circle\"],[\"tagName\",\"i\"],[\"color\",\"white\"]]}]]}]}]},{\"type\":\"model\",\"name\":\"Notification\",\"properties\":[{\"name\":\"background\",\"kind\":\"Any\",\"default\":null},{\"name\":\"duration\",\"kind\":\"Any\",\"default\":3000},{\"name\":\"icon\",\"kind\":\"Any\",\"default\":null},{\"name\":\"message\",\"kind\":\"Any\",\"default\":\"\"},{\"name\":\"notification_type\",\"kind\":\"Any\",\"default\":null},{\"name\":\"_destroyed\",\"kind\":\"Any\",\"default\":false}]},{\"type\":\"model\",\"name\":\"TemplateActions1\",\"properties\":[{\"name\":\"open_modal\",\"kind\":\"Any\",\"default\":0},{\"name\":\"close_modal\",\"kind\":\"Any\",\"default\":0}]},{\"type\":\"model\",\"name\":\"BootstrapTemplateActions1\",\"properties\":[{\"name\":\"open_modal\",\"kind\":\"Any\",\"default\":0},{\"name\":\"close_modal\",\"kind\":\"Any\",\"default\":0}]},{\"type\":\"model\",\"name\":\"MaterialTemplateActions1\",\"properties\":[{\"name\":\"open_modal\",\"kind\":\"Any\",\"default\":0},{\"name\":\"close_modal\",\"kind\":\"Any\",\"default\":0}]}]}};\n",
       "  var render_items = [{\"docid\":\"156971fa-bf35-4026-a82e-117c852651a7\",\"roots\":{\"p5196\":\"a3c4a9bf-e8b2-4c6a-b50e-adb61c78bf35\"},\"root_ids\":[\"p5196\"]}];\n",
       "  var docs = Object.values(docs_json)\n",
       "  if (!docs) {\n",
       "    return\n",
       "  }\n",
       "  const py_version = docs[0].version.replace('rc', '-rc.').replace('.dev', '-dev.')\n",
       "  const is_dev = py_version.indexOf(\"+\") !== -1 || py_version.indexOf(\"-\") !== -1\n",
       "  function embed_document(root) {\n",
       "    var Bokeh = get_bokeh(root)\n",
       "    Bokeh.embed.embed_items_notebook(docs_json, render_items);\n",
       "    for (const render_item of render_items) {\n",
       "      for (const root_id of render_item.root_ids) {\n",
       "\tconst id_el = document.getElementById(root_id)\n",
       "\tif (id_el.children.length && (id_el.children[0].className === 'bk-root')) {\n",
       "\t  const root_el = id_el.children[0]\n",
       "\t  root_el.id = root_el.id + '-rendered'\n",
       "\t}\n",
       "      }\n",
       "    }\n",
       "  }\n",
       "  function get_bokeh(root) {\n",
       "    if (root.Bokeh === undefined) {\n",
       "      return null\n",
       "    } else if (root.Bokeh.version !== py_version && !is_dev) {\n",
       "      if (root.Bokeh.versions === undefined || !root.Bokeh.versions.has(py_version)) {\n",
       "\treturn null\n",
       "      }\n",
       "      return root.Bokeh.versions.get(py_version);\n",
       "    } else if (root.Bokeh.version === py_version) {\n",
       "      return root.Bokeh\n",
       "    }\n",
       "    return null\n",
       "  }\n",
       "  function is_loaded(root) {\n",
       "    var Bokeh = get_bokeh(root)\n",
       "    return (Bokeh != null && Bokeh.Panel !== undefined)\n",
       "  }\n",
       "  if (is_loaded(root)) {\n",
       "    embed_document(root);\n",
       "  } else {\n",
       "    var attempts = 0;\n",
       "    var timer = setInterval(function(root) {\n",
       "      if (is_loaded(root)) {\n",
       "        clearInterval(timer);\n",
       "        embed_document(root);\n",
       "      } else if (document.readyState == \"complete\") {\n",
       "        attempts++;\n",
       "        if (attempts > 200) {\n",
       "          clearInterval(timer);\n",
       "\t  var Bokeh = get_bokeh(root)\n",
       "\t  if (Bokeh == null || Bokeh.Panel == null) {\n",
       "            console.warn(\"Panel: ERROR: Unable to run Panel code because Bokeh or Panel library is missing\");\n",
       "\t  } else {\n",
       "\t    console.warn(\"Panel: WARNING: Attempting to render but not all required libraries could be resolved.\")\n",
       "\t    embed_document(root)\n",
       "\t  }\n",
       "        }\n",
       "      }\n",
       "    }, 25, root)\n",
       "  }\n",
       "})(window);</script>"
      ],
      "text/plain": [
       ":Curve   [k]   (inertia)"
      ]
     },
     "execution_count": 119,
     "metadata": {
      "application/vnd.holoviews_exec.v0+json": {
       "id": "p5196"
      }
     },
     "output_type": "execute_result"
    }
   ],
   "source": [
    "# Plot a line chart with all the inertia values computed with \n",
    "# the different values of k to visually identify the optimal value for k.\n",
    "elbow_plot = df_elbow.hvplot.line(\n",
    "    x=\"k\", \n",
    "    y=\"inertia\", \n",
    "    title=\"Elbow Curve\", \n",
    "    xticks=k\n",
    ")\n",
    "elbow_plot"
   ]
  },
  {
   "cell_type": "markdown",
   "metadata": {},
   "source": [
    "#### Answer the following question: What is the best value for k?\n",
    "**Question:** What is the best value for `k`?\n",
    "\n",
    "**Answer:** The best value for k is 4, i.e. starting at that level, the inertia shows a minimal level of change. "
   ]
  },
  {
   "cell_type": "markdown",
   "metadata": {},
   "source": [
    "---"
   ]
  },
  {
   "cell_type": "markdown",
   "metadata": {},
   "source": [
    "### Cluster Cryptocurrencies with K-means Using the Original Data\n",
    "\n",
    "In this section, you will use the K-Means algorithm with the best value for `k` found in the previous section to cluster the cryptocurrencies according to the price changes of cryptocurrencies provided.\n",
    "\n",
    "1. Initialize the K-Means model with four clusters using the best value for `k`. \n",
    "\n",
    "2. Fit the K-Means model using the original data.\n",
    "\n",
    "3. Predict the clusters to group the cryptocurrencies using the original data. View the resulting array of cluster values.\n",
    "\n",
    "4. Create a copy of the original data and add a new column with the predicted clusters.\n",
    "\n",
    "5. Create a scatter plot using hvPlot by setting `x=\"price_change_percentage_24h\"` and `y=\"price_change_percentage_7d\"`. Color the graph points with the labels found using K-Means and add the crypto name in the `hover_cols` parameter to identify the cryptocurrency represented by each data point."
   ]
  },
  {
   "cell_type": "code",
   "execution_count": 120,
   "metadata": {},
   "outputs": [],
   "source": [
    "# Initialize the K-Means model using the best value for k\n",
    "model = KMeans(n_clusters=4, random_state=1)"
   ]
  },
  {
   "cell_type": "code",
   "execution_count": 121,
   "metadata": {},
   "outputs": [
    {
     "name": "stderr",
     "output_type": "stream",
     "text": [
      "C:\\Users\\victo\\anaconda3\\envs\\dev\\lib\\site-packages\\sklearn\\cluster\\_kmeans.py:1416: FutureWarning: The default value of `n_init` will change from 10 to 'auto' in 1.4. Set the value of `n_init` explicitly to suppress the warning\n",
      "  super()._check_params_vs_input(X, default_n_init=10)\n",
      "C:\\Users\\victo\\anaconda3\\envs\\dev\\lib\\site-packages\\sklearn\\cluster\\_kmeans.py:1440: UserWarning: KMeans is known to have a memory leak on Windows with MKL, when there are less chunks than available threads. You can avoid it by setting the environment variable OMP_NUM_THREADS=1.\n",
      "  warnings.warn(\n"
     ]
    },
    {
     "data": {
      "text/html": [
       "<style>#sk-container-id-4 {color: black;}#sk-container-id-4 pre{padding: 0;}#sk-container-id-4 div.sk-toggleable {background-color: white;}#sk-container-id-4 label.sk-toggleable__label {cursor: pointer;display: block;width: 100%;margin-bottom: 0;padding: 0.3em;box-sizing: border-box;text-align: center;}#sk-container-id-4 label.sk-toggleable__label-arrow:before {content: \"▸\";float: left;margin-right: 0.25em;color: #696969;}#sk-container-id-4 label.sk-toggleable__label-arrow:hover:before {color: black;}#sk-container-id-4 div.sk-estimator:hover label.sk-toggleable__label-arrow:before {color: black;}#sk-container-id-4 div.sk-toggleable__content {max-height: 0;max-width: 0;overflow: hidden;text-align: left;background-color: #f0f8ff;}#sk-container-id-4 div.sk-toggleable__content pre {margin: 0.2em;color: black;border-radius: 0.25em;background-color: #f0f8ff;}#sk-container-id-4 input.sk-toggleable__control:checked~div.sk-toggleable__content {max-height: 200px;max-width: 100%;overflow: auto;}#sk-container-id-4 input.sk-toggleable__control:checked~label.sk-toggleable__label-arrow:before {content: \"▾\";}#sk-container-id-4 div.sk-estimator input.sk-toggleable__control:checked~label.sk-toggleable__label {background-color: #d4ebff;}#sk-container-id-4 div.sk-label input.sk-toggleable__control:checked~label.sk-toggleable__label {background-color: #d4ebff;}#sk-container-id-4 input.sk-hidden--visually {border: 0;clip: rect(1px 1px 1px 1px);clip: rect(1px, 1px, 1px, 1px);height: 1px;margin: -1px;overflow: hidden;padding: 0;position: absolute;width: 1px;}#sk-container-id-4 div.sk-estimator {font-family: monospace;background-color: #f0f8ff;border: 1px dotted black;border-radius: 0.25em;box-sizing: border-box;margin-bottom: 0.5em;}#sk-container-id-4 div.sk-estimator:hover {background-color: #d4ebff;}#sk-container-id-4 div.sk-parallel-item::after {content: \"\";width: 100%;border-bottom: 1px solid gray;flex-grow: 1;}#sk-container-id-4 div.sk-label:hover label.sk-toggleable__label {background-color: #d4ebff;}#sk-container-id-4 div.sk-serial::before {content: \"\";position: absolute;border-left: 1px solid gray;box-sizing: border-box;top: 0;bottom: 0;left: 50%;z-index: 0;}#sk-container-id-4 div.sk-serial {display: flex;flex-direction: column;align-items: center;background-color: white;padding-right: 0.2em;padding-left: 0.2em;position: relative;}#sk-container-id-4 div.sk-item {position: relative;z-index: 1;}#sk-container-id-4 div.sk-parallel {display: flex;align-items: stretch;justify-content: center;background-color: white;position: relative;}#sk-container-id-4 div.sk-item::before, #sk-container-id-4 div.sk-parallel-item::before {content: \"\";position: absolute;border-left: 1px solid gray;box-sizing: border-box;top: 0;bottom: 0;left: 50%;z-index: -1;}#sk-container-id-4 div.sk-parallel-item {display: flex;flex-direction: column;z-index: 1;position: relative;background-color: white;}#sk-container-id-4 div.sk-parallel-item:first-child::after {align-self: flex-end;width: 50%;}#sk-container-id-4 div.sk-parallel-item:last-child::after {align-self: flex-start;width: 50%;}#sk-container-id-4 div.sk-parallel-item:only-child::after {width: 0;}#sk-container-id-4 div.sk-dashed-wrapped {border: 1px dashed gray;margin: 0 0.4em 0.5em 0.4em;box-sizing: border-box;padding-bottom: 0.4em;background-color: white;}#sk-container-id-4 div.sk-label label {font-family: monospace;font-weight: bold;display: inline-block;line-height: 1.2em;}#sk-container-id-4 div.sk-label-container {text-align: center;}#sk-container-id-4 div.sk-container {/* jupyter's `normalize.less` sets `[hidden] { display: none; }` but bootstrap.min.css set `[hidden] { display: none !important; }` so we also need the `!important` here to be able to override the default hidden behavior on the sphinx rendered scikit-learn.org. See: https://github.com/scikit-learn/scikit-learn/issues/21755 */display: inline-block !important;position: relative;}#sk-container-id-4 div.sk-text-repr-fallback {display: none;}</style><div id=\"sk-container-id-4\" class=\"sk-top-container\"><div class=\"sk-text-repr-fallback\"><pre>KMeans(n_clusters=4, random_state=1)</pre><b>In a Jupyter environment, please rerun this cell to show the HTML representation or trust the notebook. <br />On GitHub, the HTML representation is unable to render, please try loading this page with nbviewer.org.</b></div><div class=\"sk-container\" hidden><div class=\"sk-item\"><div class=\"sk-estimator sk-toggleable\"><input class=\"sk-toggleable__control sk-hidden--visually\" id=\"sk-estimator-id-4\" type=\"checkbox\" checked><label for=\"sk-estimator-id-4\" class=\"sk-toggleable__label sk-toggleable__label-arrow\">KMeans</label><div class=\"sk-toggleable__content\"><pre>KMeans(n_clusters=4, random_state=1)</pre></div></div></div></div></div>"
      ],
      "text/plain": [
       "KMeans(n_clusters=4, random_state=1)"
      ]
     },
     "execution_count": 121,
     "metadata": {},
     "output_type": "execute_result"
    }
   ],
   "source": [
    "# Fit the K-Means model using the scaled data\n",
    "model.fit(df_market_data_scaled)"
   ]
  },
  {
   "cell_type": "code",
   "execution_count": 122,
   "metadata": {},
   "outputs": [
    {
     "data": {
      "text/plain": [
       "array([2, 2, 0, 0, 2, 2, 2, 2, 2, 0, 0, 0, 0, 2, 0, 2, 0, 0, 2, 0, 0, 2,\n",
       "       0, 0, 0, 0, 0, 0, 2, 0, 0, 0, 3, 2, 0, 0, 1, 0, 0, 0, 0])"
      ]
     },
     "execution_count": 122,
     "metadata": {},
     "output_type": "execute_result"
    }
   ],
   "source": [
    "# Predict the clusters to group the cryptocurrencies using the scaled data\n",
    "k_pred = model.predict(df_market_data_scaled)\n",
    "\n",
    "# View the resulting array of cluster values.\n",
    "k_pred"
   ]
  },
  {
   "cell_type": "code",
   "execution_count": 123,
   "metadata": {},
   "outputs": [],
   "source": [
    "# Create a copy of the DataFrame\n",
    "crypto_df_predictions = df_market_data_scaled.copy()"
   ]
  },
  {
   "cell_type": "code",
   "execution_count": 124,
   "metadata": {},
   "outputs": [
    {
     "data": {
      "text/html": [
       "<div>\n",
       "<style scoped>\n",
       "    .dataframe tbody tr th:only-of-type {\n",
       "        vertical-align: middle;\n",
       "    }\n",
       "\n",
       "    .dataframe tbody tr th {\n",
       "        vertical-align: top;\n",
       "    }\n",
       "\n",
       "    .dataframe thead th {\n",
       "        text-align: right;\n",
       "    }\n",
       "</style>\n",
       "<table border=\"1\" class=\"dataframe\">\n",
       "  <thead>\n",
       "    <tr style=\"text-align: right;\">\n",
       "      <th></th>\n",
       "      <th>price_change_percentage_24h</th>\n",
       "      <th>price_change_percentage_7d</th>\n",
       "      <th>price_change_percentage_14d</th>\n",
       "      <th>price_change_percentage_30d</th>\n",
       "      <th>price_change_percentage_60d</th>\n",
       "      <th>price_change_percentage_200d</th>\n",
       "      <th>price_change_percentage_1y</th>\n",
       "      <th>clusters</th>\n",
       "    </tr>\n",
       "    <tr>\n",
       "      <th>coin_id</th>\n",
       "      <th></th>\n",
       "      <th></th>\n",
       "      <th></th>\n",
       "      <th></th>\n",
       "      <th></th>\n",
       "      <th></th>\n",
       "      <th></th>\n",
       "      <th></th>\n",
       "    </tr>\n",
       "  </thead>\n",
       "  <tbody>\n",
       "    <tr>\n",
       "      <th>bitcoin</th>\n",
       "      <td>0.508529</td>\n",
       "      <td>0.493193</td>\n",
       "      <td>0.772200</td>\n",
       "      <td>0.235460</td>\n",
       "      <td>-0.067495</td>\n",
       "      <td>-0.355953</td>\n",
       "      <td>-0.251637</td>\n",
       "      <td>2</td>\n",
       "    </tr>\n",
       "    <tr>\n",
       "      <th>ethereum</th>\n",
       "      <td>0.185446</td>\n",
       "      <td>0.934445</td>\n",
       "      <td>0.558692</td>\n",
       "      <td>-0.054341</td>\n",
       "      <td>-0.273483</td>\n",
       "      <td>-0.115759</td>\n",
       "      <td>-0.199352</td>\n",
       "      <td>2</td>\n",
       "    </tr>\n",
       "    <tr>\n",
       "      <th>tether</th>\n",
       "      <td>0.021774</td>\n",
       "      <td>-0.706337</td>\n",
       "      <td>-0.021680</td>\n",
       "      <td>-0.061030</td>\n",
       "      <td>0.008005</td>\n",
       "      <td>-0.550247</td>\n",
       "      <td>-0.282061</td>\n",
       "      <td>0</td>\n",
       "    </tr>\n",
       "    <tr>\n",
       "      <th>ripple</th>\n",
       "      <td>-0.040764</td>\n",
       "      <td>-0.810928</td>\n",
       "      <td>0.249458</td>\n",
       "      <td>-0.050388</td>\n",
       "      <td>-0.373164</td>\n",
       "      <td>-0.458259</td>\n",
       "      <td>-0.295546</td>\n",
       "      <td>0</td>\n",
       "    </tr>\n",
       "    <tr>\n",
       "      <th>bitcoin-cash</th>\n",
       "      <td>1.193036</td>\n",
       "      <td>2.000959</td>\n",
       "      <td>1.760610</td>\n",
       "      <td>0.545842</td>\n",
       "      <td>-0.291203</td>\n",
       "      <td>-0.499848</td>\n",
       "      <td>-0.270317</td>\n",
       "      <td>2</td>\n",
       "    </tr>\n",
       "  </tbody>\n",
       "</table>\n",
       "</div>"
      ],
      "text/plain": [
       "              price_change_percentage_24h  price_change_percentage_7d  \\\n",
       "coin_id                                                                 \n",
       "bitcoin                          0.508529                    0.493193   \n",
       "ethereum                         0.185446                    0.934445   \n",
       "tether                           0.021774                   -0.706337   \n",
       "ripple                          -0.040764                   -0.810928   \n",
       "bitcoin-cash                     1.193036                    2.000959   \n",
       "\n",
       "              price_change_percentage_14d  price_change_percentage_30d  \\\n",
       "coin_id                                                                  \n",
       "bitcoin                          0.772200                     0.235460   \n",
       "ethereum                         0.558692                    -0.054341   \n",
       "tether                          -0.021680                    -0.061030   \n",
       "ripple                           0.249458                    -0.050388   \n",
       "bitcoin-cash                     1.760610                     0.545842   \n",
       "\n",
       "              price_change_percentage_60d  price_change_percentage_200d  \\\n",
       "coin_id                                                                   \n",
       "bitcoin                         -0.067495                     -0.355953   \n",
       "ethereum                        -0.273483                     -0.115759   \n",
       "tether                           0.008005                     -0.550247   \n",
       "ripple                          -0.373164                     -0.458259   \n",
       "bitcoin-cash                    -0.291203                     -0.499848   \n",
       "\n",
       "              price_change_percentage_1y  clusters  \n",
       "coin_id                                             \n",
       "bitcoin                        -0.251637         2  \n",
       "ethereum                       -0.199352         2  \n",
       "tether                         -0.282061         0  \n",
       "ripple                         -0.295546         0  \n",
       "bitcoin-cash                   -0.270317         2  "
      ]
     },
     "execution_count": 124,
     "metadata": {},
     "output_type": "execute_result"
    }
   ],
   "source": [
    "# Add a new column to the DataFrame with the predicted clusters\n",
    "crypto_df_predictions['clusters'] = k_pred\n",
    "\n",
    "# Display sample data\n",
    "crypto_df_predictions.head()"
   ]
  },
  {
   "cell_type": "code",
   "execution_count": 125,
   "metadata": {},
   "outputs": [
    {
     "data": {},
     "metadata": {},
     "output_type": "display_data"
    },
    {
     "data": {
      "application/vnd.holoviews_exec.v0+json": "",
      "text/html": [
       "<div id='p5256'>\n",
       "  <div id=\"d7dfbedc-3096-4133-bffb-18408e47ee6e\" data-root-id=\"p5256\" style=\"display: contents;\"></div>\n",
       "</div>\n",
       "<script type=\"application/javascript\">(function(root) {\n",
       "  var docs_json = {\"a03081b4-c7e6-40a3-8e42-ffe5ef4a274b\":{\"version\":\"3.2.1\",\"title\":\"Bokeh Application\",\"roots\":[{\"type\":\"object\",\"name\":\"Row\",\"id\":\"p5256\",\"attributes\":{\"name\":\"Row10633\",\"tags\":[\"embedded\"],\"stylesheets\":[\"\\n:host(.pn-loading.pn-arc):before, .pn-loading.pn-arc:before {\\n  background-image: url(\\\"data:image/svg+xml;base64,PHN2ZyB4bWxucz0iaHR0cDovL3d3dy53My5vcmcvMjAwMC9zdmciIHN0eWxlPSJtYXJnaW46IGF1dG87IGJhY2tncm91bmQ6IG5vbmU7IGRpc3BsYXk6IGJsb2NrOyBzaGFwZS1yZW5kZXJpbmc6IGF1dG87IiB2aWV3Qm94PSIwIDAgMTAwIDEwMCIgcHJlc2VydmVBc3BlY3RSYXRpbz0ieE1pZFlNaWQiPiAgPGNpcmNsZSBjeD0iNTAiIGN5PSI1MCIgZmlsbD0ibm9uZSIgc3Ryb2tlPSIjYzNjM2MzIiBzdHJva2Utd2lkdGg9IjEwIiByPSIzNSIgc3Ryb2tlLWRhc2hhcnJheT0iMTY0LjkzMzYxNDMxMzQ2NDE1IDU2Ljk3Nzg3MTQzNzgyMTM4Ij4gICAgPGFuaW1hdGVUcmFuc2Zvcm0gYXR0cmlidXRlTmFtZT0idHJhbnNmb3JtIiB0eXBlPSJyb3RhdGUiIHJlcGVhdENvdW50PSJpbmRlZmluaXRlIiBkdXI9IjFzIiB2YWx1ZXM9IjAgNTAgNTA7MzYwIDUwIDUwIiBrZXlUaW1lcz0iMDsxIj48L2FuaW1hdGVUcmFuc2Zvcm0+ICA8L2NpcmNsZT48L3N2Zz4=\\\");\\n  background-size: auto calc(min(50%, 400px));\\n}\",{\"type\":\"object\",\"name\":\"ImportedStyleSheet\",\"id\":\"p5259\",\"attributes\":{\"url\":\"https://cdn.holoviz.org/panel/1.2.1/dist/css/loading.css\"}},{\"type\":\"object\",\"name\":\"ImportedStyleSheet\",\"id\":\"p5365\",\"attributes\":{\"url\":\"https://cdn.holoviz.org/panel/1.2.1/dist/css/listpanel.css\"}},{\"type\":\"object\",\"name\":\"ImportedStyleSheet\",\"id\":\"p5257\",\"attributes\":{\"url\":\"https://cdn.holoviz.org/panel/1.2.1/dist/bundled/theme/default.css\"}},{\"type\":\"object\",\"name\":\"ImportedStyleSheet\",\"id\":\"p5258\",\"attributes\":{\"url\":\"https://cdn.holoviz.org/panel/1.2.1/dist/bundled/theme/native.css\"}}],\"min_width\":700,\"margin\":0,\"sizing_mode\":\"stretch_width\",\"align\":\"start\",\"children\":[{\"type\":\"object\",\"name\":\"Spacer\",\"id\":\"p5260\",\"attributes\":{\"name\":\"HSpacer10644\",\"stylesheets\":[\"\\n:host(.pn-loading.pn-arc):before, .pn-loading.pn-arc:before {\\n  background-image: url(\\\"data:image/svg+xml;base64,PHN2ZyB4bWxucz0iaHR0cDovL3d3dy53My5vcmcvMjAwMC9zdmciIHN0eWxlPSJtYXJnaW46IGF1dG87IGJhY2tncm91bmQ6IG5vbmU7IGRpc3BsYXk6IGJsb2NrOyBzaGFwZS1yZW5kZXJpbmc6IGF1dG87IiB2aWV3Qm94PSIwIDAgMTAwIDEwMCIgcHJlc2VydmVBc3BlY3RSYXRpbz0ieE1pZFlNaWQiPiAgPGNpcmNsZSBjeD0iNTAiIGN5PSI1MCIgZmlsbD0ibm9uZSIgc3Ryb2tlPSIjYzNjM2MzIiBzdHJva2Utd2lkdGg9IjEwIiByPSIzNSIgc3Ryb2tlLWRhc2hhcnJheT0iMTY0LjkzMzYxNDMxMzQ2NDE1IDU2Ljk3Nzg3MTQzNzgyMTM4Ij4gICAgPGFuaW1hdGVUcmFuc2Zvcm0gYXR0cmlidXRlTmFtZT0idHJhbnNmb3JtIiB0eXBlPSJyb3RhdGUiIHJlcGVhdENvdW50PSJpbmRlZmluaXRlIiBkdXI9IjFzIiB2YWx1ZXM9IjAgNTAgNTA7MzYwIDUwIDUwIiBrZXlUaW1lcz0iMDsxIj48L2FuaW1hdGVUcmFuc2Zvcm0+ICA8L2NpcmNsZT48L3N2Zz4=\\\");\\n  background-size: auto calc(min(50%, 400px));\\n}\",{\"id\":\"p5259\"},{\"id\":\"p5257\"},{\"id\":\"p5258\"}],\"margin\":0,\"sizing_mode\":\"stretch_width\",\"align\":\"start\"}},{\"type\":\"object\",\"name\":\"Figure\",\"id\":\"p5277\",\"attributes\":{\"width\":700,\"height\":300,\"margin\":[5,10],\"sizing_mode\":\"fixed\",\"align\":\"start\",\"x_range\":{\"type\":\"object\",\"name\":\"Range1d\",\"id\":\"p5261\",\"attributes\":{\"tags\":[[[\"price_change_percentage_24h\",\"price_change_percentage_24h\",null]],[]],\"start\":-5.276792781891412,\"end\":2.2155632386560065,\"reset_start\":-5.276792781891412,\"reset_end\":2.2155632386560065}},\"y_range\":{\"type\":\"object\",\"name\":\"Range1d\",\"id\":\"p5262\",\"attributes\":{\"tags\":[[[\"price_change_percentage_7d\",\"price_change_percentage_7d\",null]],{\"type\":\"map\",\"entries\":[[\"invert_yaxis\",false],[\"autorange\",false]]}],\"start\":-2.107454305728652,\"end\":2.997678656273595,\"reset_start\":-2.107454305728652,\"reset_end\":2.997678656273595}},\"x_scale\":{\"type\":\"object\",\"name\":\"LinearScale\",\"id\":\"p5287\"},\"y_scale\":{\"type\":\"object\",\"name\":\"LinearScale\",\"id\":\"p5288\"},\"title\":{\"type\":\"object\",\"name\":\"Title\",\"id\":\"p5280\",\"attributes\":{\"text_color\":\"black\",\"text_font_size\":\"12pt\"}},\"renderers\":[{\"type\":\"object\",\"name\":\"GlyphRenderer\",\"id\":\"p5314\",\"attributes\":{\"name\":\"0\",\"data_source\":{\"type\":\"object\",\"name\":\"ColumnDataSource\",\"id\":\"p5305\",\"attributes\":{\"selected\":{\"type\":\"object\",\"name\":\"Selection\",\"id\":\"p5306\",\"attributes\":{\"indices\":[],\"line_indices\":[]}},\"selection_policy\":{\"type\":\"object\",\"name\":\"UnionRenderers\",\"id\":\"p5307\"},\"data\":{\"type\":\"map\",\"entries\":[[\"price_change_percentage_24h\",{\"type\":\"ndarray\",\"array\":{\"type\":\"bytes\",\"data\":\"mCJF1OlLlj/mJRG3Ed+kv1qZGRifu9w//rJXHrAz1T/yMTqenpahPx9kk3dK7sM/GTRehHalwD90fnl54Irtv9XPDahDw9G/+VOWQSEmxz+kpbukw1bSP6eM4M4OgKo/BcMOj9+jqr/Chq6S5ebLv2h3TIfCZ68/weEQ8QyV0D/KmZTmC7niP1YH9WGFy/m/N7JuVBEB07/EU4GAhEGyv8Ocf0hw2/a/lrPBJY23/j/IKcQzxy3av5WrmDyeito/Bf22eE/6sz9Y362Ir3rzPw==\"},\"shape\":[26],\"dtype\":\"float64\",\"order\":\"little\"}],[\"price_change_percentage_7d\",{\"type\":\"ndarray\",\"array\":{\"type\":\"bytes\",\"data\":\"bZSIvk+a5r9RujxqH/Ppvw2U7adXaMi/d+r7VGbW+b9EGSx/8nTnv4rfBo4Lhe2/BEBwXEEApb8Udj8VbP/2vySelkVDp9i/7SZvVsyO5r8uu+JVH+LUvziN+gRMte2/o2qlez1D3b/CtPLKIS7rvyYjaswHnea/US6joeTvzz/dRmuCvtDvv/9TV66U6fq/ZWX+mWVCuD8GJ0pHuV/Nv8nIE2ZWH5q/TTxj/me11z+Htdvf1gXtv2Avihmzf9o/e31xtwIC5r/STlu6Y3Ljvw==\"},\"shape\":[26],\"dtype\":\"float64\",\"order\":\"little\"}],[\"coin_id\",[\"tether\",\"ripple\",\"bitcoin-cash-sv\",\"crypto-com-chain\",\"usd-coin\",\"eos\",\"tron\",\"okb\",\"stellar\",\"cdai\",\"neo\",\"leo-token\",\"huobi-token\",\"nem\",\"binance-usd\",\"iota\",\"vechain\",\"theta-token\",\"dash\",\"ethereum-classic\",\"havven\",\"omisego\",\"ontology\",\"ftx-token\",\"true-usd\",\"digibyte\"]],[\"clusters\",[0,0,0,0,0,0,0,0,0,0,0,0,0,0,0,0,0,0,0,0,0,0,0,0,0,0]]]}}},\"view\":{\"type\":\"object\",\"name\":\"CDSView\",\"id\":\"p5315\",\"attributes\":{\"filter\":{\"type\":\"object\",\"name\":\"AllIndices\",\"id\":\"p5316\"}}},\"glyph\":{\"type\":\"object\",\"name\":\"Scatter\",\"id\":\"p5311\",\"attributes\":{\"tags\":[\"apply_ranges\"],\"x\":{\"type\":\"field\",\"field\":\"price_change_percentage_24h\"},\"y\":{\"type\":\"field\",\"field\":\"price_change_percentage_7d\"},\"size\":{\"type\":\"value\",\"value\":5.477225575051661},\"line_color\":{\"type\":\"value\",\"value\":\"#30a2da\"},\"fill_color\":{\"type\":\"value\",\"value\":\"#30a2da\"},\"hatch_color\":{\"type\":\"value\",\"value\":\"#30a2da\"}}},\"selection_glyph\":{\"type\":\"object\",\"name\":\"Scatter\",\"id\":\"p5319\",\"attributes\":{\"tags\":[\"apply_ranges\"],\"x\":{\"type\":\"field\",\"field\":\"price_change_percentage_24h\"},\"y\":{\"type\":\"field\",\"field\":\"price_change_percentage_7d\"},\"size\":{\"type\":\"value\",\"value\":5.477225575051661},\"angle\":{\"type\":\"value\",\"value\":0.0},\"line_color\":{\"type\":\"value\",\"value\":\"#30a2da\"},\"line_alpha\":{\"type\":\"value\",\"value\":1.0},\"line_width\":{\"type\":\"value\",\"value\":1},\"line_join\":{\"type\":\"value\",\"value\":\"bevel\"},\"line_cap\":{\"type\":\"value\",\"value\":\"butt\"},\"line_dash\":{\"type\":\"value\",\"value\":[]},\"line_dash_offset\":{\"type\":\"value\",\"value\":0},\"fill_color\":{\"type\":\"value\",\"value\":\"#30a2da\"},\"fill_alpha\":{\"type\":\"value\",\"value\":1.0},\"hatch_color\":{\"type\":\"value\",\"value\":\"#30a2da\"},\"hatch_alpha\":{\"type\":\"value\",\"value\":1.0},\"hatch_scale\":{\"type\":\"value\",\"value\":12.0},\"hatch_pattern\":{\"type\":\"value\",\"value\":null},\"hatch_weight\":{\"type\":\"value\",\"value\":1.0},\"marker\":{\"type\":\"value\",\"value\":\"circle\"}}},\"nonselection_glyph\":{\"type\":\"object\",\"name\":\"Scatter\",\"id\":\"p5312\",\"attributes\":{\"tags\":[\"apply_ranges\"],\"x\":{\"type\":\"field\",\"field\":\"price_change_percentage_24h\"},\"y\":{\"type\":\"field\",\"field\":\"price_change_percentage_7d\"},\"size\":{\"type\":\"value\",\"value\":5.477225575051661},\"line_color\":{\"type\":\"value\",\"value\":\"#30a2da\"},\"line_alpha\":{\"type\":\"value\",\"value\":0.1},\"fill_color\":{\"type\":\"value\",\"value\":\"#30a2da\"},\"fill_alpha\":{\"type\":\"value\",\"value\":0.1},\"hatch_color\":{\"type\":\"value\",\"value\":\"#30a2da\"},\"hatch_alpha\":{\"type\":\"value\",\"value\":0.1}}},\"muted_glyph\":{\"type\":\"object\",\"name\":\"Scatter\",\"id\":\"p5313\",\"attributes\":{\"tags\":[\"apply_ranges\"],\"x\":{\"type\":\"field\",\"field\":\"price_change_percentage_24h\"},\"y\":{\"type\":\"field\",\"field\":\"price_change_percentage_7d\"},\"size\":{\"type\":\"value\",\"value\":5.477225575051661},\"line_color\":{\"type\":\"value\",\"value\":\"#30a2da\"},\"line_alpha\":{\"type\":\"value\",\"value\":0.2},\"fill_color\":{\"type\":\"value\",\"value\":\"#30a2da\"},\"fill_alpha\":{\"type\":\"value\",\"value\":0.2},\"hatch_color\":{\"type\":\"value\",\"value\":\"#30a2da\"},\"hatch_alpha\":{\"type\":\"value\",\"value\":0.2}}}}},{\"type\":\"object\",\"name\":\"GlyphRenderer\",\"id\":\"p5329\",\"attributes\":{\"name\":\"1\",\"data_source\":{\"type\":\"object\",\"name\":\"ColumnDataSource\",\"id\":\"p5320\",\"attributes\":{\"selected\":{\"type\":\"object\",\"name\":\"Selection\",\"id\":\"p5321\",\"attributes\":{\"indices\":[],\"line_indices\":[]}},\"selection_policy\":{\"type\":\"object\",\"name\":\"UnionRenderers\",\"id\":\"p5322\"},\"data\":{\"type\":\"map\",\"entries\":[[\"price_change_percentage_24h\",{\"type\":\"ndarray\",\"array\":{\"type\":\"bytes\",\"data\":\"VLqXBn668D8=\"},\"shape\":[1],\"dtype\":\"float64\",\"order\":\"little\"}],[\"price_change_percentage_7d\",{\"type\":\"ndarray\",\"array\":{\"type\":\"bytes\",\"data\":\"Nv03JFjJ478=\"},\"shape\":[1],\"dtype\":\"float64\",\"order\":\"little\"}],[\"coin_id\",[\"celsius-degree-token\"]],[\"clusters\",[1]]]}}},\"view\":{\"type\":\"object\",\"name\":\"CDSView\",\"id\":\"p5330\",\"attributes\":{\"filter\":{\"type\":\"object\",\"name\":\"AllIndices\",\"id\":\"p5331\"}}},\"glyph\":{\"type\":\"object\",\"name\":\"Scatter\",\"id\":\"p5326\",\"attributes\":{\"tags\":[\"apply_ranges\"],\"x\":{\"type\":\"field\",\"field\":\"price_change_percentage_24h\"},\"y\":{\"type\":\"field\",\"field\":\"price_change_percentage_7d\"},\"size\":{\"type\":\"value\",\"value\":5.477225575051661},\"line_color\":{\"type\":\"value\",\"value\":\"#fc4f30\"},\"fill_color\":{\"type\":\"value\",\"value\":\"#fc4f30\"},\"hatch_color\":{\"type\":\"value\",\"value\":\"#fc4f30\"}}},\"selection_glyph\":{\"type\":\"object\",\"name\":\"Scatter\",\"id\":\"p5333\",\"attributes\":{\"tags\":[\"apply_ranges\"],\"x\":{\"type\":\"field\",\"field\":\"price_change_percentage_24h\"},\"y\":{\"type\":\"field\",\"field\":\"price_change_percentage_7d\"},\"size\":{\"type\":\"value\",\"value\":5.477225575051661},\"angle\":{\"type\":\"value\",\"value\":0.0},\"line_color\":{\"type\":\"value\",\"value\":\"#fc4f30\"},\"line_alpha\":{\"type\":\"value\",\"value\":1.0},\"line_width\":{\"type\":\"value\",\"value\":1},\"line_join\":{\"type\":\"value\",\"value\":\"bevel\"},\"line_cap\":{\"type\":\"value\",\"value\":\"butt\"},\"line_dash\":{\"type\":\"value\",\"value\":[]},\"line_dash_offset\":{\"type\":\"value\",\"value\":0},\"fill_color\":{\"type\":\"value\",\"value\":\"#fc4f30\"},\"fill_alpha\":{\"type\":\"value\",\"value\":1.0},\"hatch_color\":{\"type\":\"value\",\"value\":\"#fc4f30\"},\"hatch_alpha\":{\"type\":\"value\",\"value\":1.0},\"hatch_scale\":{\"type\":\"value\",\"value\":12.0},\"hatch_pattern\":{\"type\":\"value\",\"value\":null},\"hatch_weight\":{\"type\":\"value\",\"value\":1.0},\"marker\":{\"type\":\"value\",\"value\":\"circle\"}}},\"nonselection_glyph\":{\"type\":\"object\",\"name\":\"Scatter\",\"id\":\"p5327\",\"attributes\":{\"tags\":[\"apply_ranges\"],\"x\":{\"type\":\"field\",\"field\":\"price_change_percentage_24h\"},\"y\":{\"type\":\"field\",\"field\":\"price_change_percentage_7d\"},\"size\":{\"type\":\"value\",\"value\":5.477225575051661},\"line_color\":{\"type\":\"value\",\"value\":\"#fc4f30\"},\"line_alpha\":{\"type\":\"value\",\"value\":0.1},\"fill_color\":{\"type\":\"value\",\"value\":\"#fc4f30\"},\"fill_alpha\":{\"type\":\"value\",\"value\":0.1},\"hatch_color\":{\"type\":\"value\",\"value\":\"#fc4f30\"},\"hatch_alpha\":{\"type\":\"value\",\"value\":0.1}}},\"muted_glyph\":{\"type\":\"object\",\"name\":\"Scatter\",\"id\":\"p5328\",\"attributes\":{\"tags\":[\"apply_ranges\"],\"x\":{\"type\":\"field\",\"field\":\"price_change_percentage_24h\"},\"y\":{\"type\":\"field\",\"field\":\"price_change_percentage_7d\"},\"size\":{\"type\":\"value\",\"value\":5.477225575051661},\"line_color\":{\"type\":\"value\",\"value\":\"#fc4f30\"},\"line_alpha\":{\"type\":\"value\",\"value\":0.2},\"fill_color\":{\"type\":\"value\",\"value\":\"#fc4f30\"},\"fill_alpha\":{\"type\":\"value\",\"value\":0.2},\"hatch_color\":{\"type\":\"value\",\"value\":\"#fc4f30\"},\"hatch_alpha\":{\"type\":\"value\",\"value\":0.2}}}}},{\"type\":\"object\",\"name\":\"GlyphRenderer\",\"id\":\"p5343\",\"attributes\":{\"name\":\"2\",\"data_source\":{\"type\":\"object\",\"name\":\"ColumnDataSource\",\"id\":\"p5334\",\"attributes\":{\"selected\":{\"type\":\"object\",\"name\":\"Selection\",\"id\":\"p5335\",\"attributes\":{\"indices\":[],\"line_indices\":[]}},\"selection_policy\":{\"type\":\"object\",\"name\":\"UnionRenderers\",\"id\":\"p5336\"},\"data\":{\"type\":\"map\",\"entries\":[[\"price_change_percentage_24h\",{\"type\":\"ndarray\",\"array\":{\"type\":\"bytes\",\"data\":\"DdlqYN9F4D86azDosLzHPzALIwCtFvM/9w6McDSK7D/VDHOpb1eHPzMEvaFkP7o/Sds39trWsz9Epj8/c9DQP4xAeNEVZ8O/qq8st/Fh0L8FWWk3mH7gP6wo083aUMC//ACFOIMFwL8=\"},\"shape\":[13],\"dtype\":\"float64\",\"order\":\"little\"}],[\"price_change_percentage_7d\",{\"type\":\"ndarray\",\"array\":{\"type\":\"bytes\",\"data\":\"U1k8q3mQ3z9yoPpI+ebtPzAB2dP2AQBAgmkOMZk89T8FNulI+JMEQCZRaSLGIPg/84wjaB1l1T8rMp3jf678P2VmURqKqeY/XK6ZksNx/T9DfMqy1o7dPyTPDB1Xu+0/srW7TleV4j8=\"},\"shape\":[13],\"dtype\":\"float64\",\"order\":\"little\"}],[\"coin_id\",[\"bitcoin\",\"ethereum\",\"bitcoin-cash\",\"binancecoin\",\"chainlink\",\"cardano\",\"litecoin\",\"monero\",\"tezos\",\"cosmos\",\"wrapped-bitcoin\",\"zcash\",\"maker\"]],[\"clusters\",[2,2,2,2,2,2,2,2,2,2,2,2,2]]]}}},\"view\":{\"type\":\"object\",\"name\":\"CDSView\",\"id\":\"p5344\",\"attributes\":{\"filter\":{\"type\":\"object\",\"name\":\"AllIndices\",\"id\":\"p5345\"}}},\"glyph\":{\"type\":\"object\",\"name\":\"Scatter\",\"id\":\"p5340\",\"attributes\":{\"tags\":[\"apply_ranges\"],\"x\":{\"type\":\"field\",\"field\":\"price_change_percentage_24h\"},\"y\":{\"type\":\"field\",\"field\":\"price_change_percentage_7d\"},\"size\":{\"type\":\"value\",\"value\":5.477225575051661},\"line_color\":{\"type\":\"value\",\"value\":\"#e5ae38\"},\"fill_color\":{\"type\":\"value\",\"value\":\"#e5ae38\"},\"hatch_color\":{\"type\":\"value\",\"value\":\"#e5ae38\"}}},\"selection_glyph\":{\"type\":\"object\",\"name\":\"Scatter\",\"id\":\"p5347\",\"attributes\":{\"tags\":[\"apply_ranges\"],\"x\":{\"type\":\"field\",\"field\":\"price_change_percentage_24h\"},\"y\":{\"type\":\"field\",\"field\":\"price_change_percentage_7d\"},\"size\":{\"type\":\"value\",\"value\":5.477225575051661},\"angle\":{\"type\":\"value\",\"value\":0.0},\"line_color\":{\"type\":\"value\",\"value\":\"#e5ae38\"},\"line_alpha\":{\"type\":\"value\",\"value\":1.0},\"line_width\":{\"type\":\"value\",\"value\":1},\"line_join\":{\"type\":\"value\",\"value\":\"bevel\"},\"line_cap\":{\"type\":\"value\",\"value\":\"butt\"},\"line_dash\":{\"type\":\"value\",\"value\":[]},\"line_dash_offset\":{\"type\":\"value\",\"value\":0},\"fill_color\":{\"type\":\"value\",\"value\":\"#e5ae38\"},\"fill_alpha\":{\"type\":\"value\",\"value\":1.0},\"hatch_color\":{\"type\":\"value\",\"value\":\"#e5ae38\"},\"hatch_alpha\":{\"type\":\"value\",\"value\":1.0},\"hatch_scale\":{\"type\":\"value\",\"value\":12.0},\"hatch_pattern\":{\"type\":\"value\",\"value\":null},\"hatch_weight\":{\"type\":\"value\",\"value\":1.0},\"marker\":{\"type\":\"value\",\"value\":\"circle\"}}},\"nonselection_glyph\":{\"type\":\"object\",\"name\":\"Scatter\",\"id\":\"p5341\",\"attributes\":{\"tags\":[\"apply_ranges\"],\"x\":{\"type\":\"field\",\"field\":\"price_change_percentage_24h\"},\"y\":{\"type\":\"field\",\"field\":\"price_change_percentage_7d\"},\"size\":{\"type\":\"value\",\"value\":5.477225575051661},\"line_color\":{\"type\":\"value\",\"value\":\"#e5ae38\"},\"line_alpha\":{\"type\":\"value\",\"value\":0.1},\"fill_color\":{\"type\":\"value\",\"value\":\"#e5ae38\"},\"fill_alpha\":{\"type\":\"value\",\"value\":0.1},\"hatch_color\":{\"type\":\"value\",\"value\":\"#e5ae38\"},\"hatch_alpha\":{\"type\":\"value\",\"value\":0.1}}},\"muted_glyph\":{\"type\":\"object\",\"name\":\"Scatter\",\"id\":\"p5342\",\"attributes\":{\"tags\":[\"apply_ranges\"],\"x\":{\"type\":\"field\",\"field\":\"price_change_percentage_24h\"},\"y\":{\"type\":\"field\",\"field\":\"price_change_percentage_7d\"},\"size\":{\"type\":\"value\",\"value\":5.477225575051661},\"line_color\":{\"type\":\"value\",\"value\":\"#e5ae38\"},\"line_alpha\":{\"type\":\"value\",\"value\":0.2},\"fill_color\":{\"type\":\"value\",\"value\":\"#e5ae38\"},\"fill_alpha\":{\"type\":\"value\",\"value\":0.2},\"hatch_color\":{\"type\":\"value\",\"value\":\"#e5ae38\"},\"hatch_alpha\":{\"type\":\"value\",\"value\":0.2}}}}},{\"type\":\"object\",\"name\":\"GlyphRenderer\",\"id\":\"p5357\",\"attributes\":{\"name\":\"3\",\"data_source\":{\"type\":\"object\",\"name\":\"ColumnDataSource\",\"id\":\"p5348\",\"attributes\":{\"selected\":{\"type\":\"object\",\"name\":\"Selection\",\"id\":\"p5349\",\"attributes\":{\"indices\":[],\"line_indices\":[]}},\"selection_policy\":{\"type\":\"object\",\"name\":\"UnionRenderers\",\"id\":\"p5350\"},\"data\":{\"type\":\"map\",\"entries\":[[\"price_change_percentage_24h\",{\"type\":\"ndarray\",\"array\":{\"type\":\"bytes\",\"data\":\"3WeHPpbsE8A=\"},\"shape\":[1],\"dtype\":\"float64\",\"order\":\"little\"}],[\"price_change_percentage_7d\",{\"type\":\"ndarray\",\"array\":{\"type\":\"bytes\",\"data\":\"dIWi2pshp78=\"},\"shape\":[1],\"dtype\":\"float64\",\"order\":\"little\"}],[\"coin_id\",[\"ethlend\"]],[\"clusters\",[3]]]}}},\"view\":{\"type\":\"object\",\"name\":\"CDSView\",\"id\":\"p5358\",\"attributes\":{\"filter\":{\"type\":\"object\",\"name\":\"AllIndices\",\"id\":\"p5359\"}}},\"glyph\":{\"type\":\"object\",\"name\":\"Scatter\",\"id\":\"p5354\",\"attributes\":{\"tags\":[\"apply_ranges\"],\"x\":{\"type\":\"field\",\"field\":\"price_change_percentage_24h\"},\"y\":{\"type\":\"field\",\"field\":\"price_change_percentage_7d\"},\"size\":{\"type\":\"value\",\"value\":5.477225575051661},\"line_color\":{\"type\":\"value\",\"value\":\"#6d904f\"},\"fill_color\":{\"type\":\"value\",\"value\":\"#6d904f\"},\"hatch_color\":{\"type\":\"value\",\"value\":\"#6d904f\"}}},\"selection_glyph\":{\"type\":\"object\",\"name\":\"Scatter\",\"id\":\"p5361\",\"attributes\":{\"tags\":[\"apply_ranges\"],\"x\":{\"type\":\"field\",\"field\":\"price_change_percentage_24h\"},\"y\":{\"type\":\"field\",\"field\":\"price_change_percentage_7d\"},\"size\":{\"type\":\"value\",\"value\":5.477225575051661},\"angle\":{\"type\":\"value\",\"value\":0.0},\"line_color\":{\"type\":\"value\",\"value\":\"#6d904f\"},\"line_alpha\":{\"type\":\"value\",\"value\":1.0},\"line_width\":{\"type\":\"value\",\"value\":1},\"line_join\":{\"type\":\"value\",\"value\":\"bevel\"},\"line_cap\":{\"type\":\"value\",\"value\":\"butt\"},\"line_dash\":{\"type\":\"value\",\"value\":[]},\"line_dash_offset\":{\"type\":\"value\",\"value\":0},\"fill_color\":{\"type\":\"value\",\"value\":\"#6d904f\"},\"fill_alpha\":{\"type\":\"value\",\"value\":1.0},\"hatch_color\":{\"type\":\"value\",\"value\":\"#6d904f\"},\"hatch_alpha\":{\"type\":\"value\",\"value\":1.0},\"hatch_scale\":{\"type\":\"value\",\"value\":12.0},\"hatch_pattern\":{\"type\":\"value\",\"value\":null},\"hatch_weight\":{\"type\":\"value\",\"value\":1.0},\"marker\":{\"type\":\"value\",\"value\":\"circle\"}}},\"nonselection_glyph\":{\"type\":\"object\",\"name\":\"Scatter\",\"id\":\"p5355\",\"attributes\":{\"tags\":[\"apply_ranges\"],\"x\":{\"type\":\"field\",\"field\":\"price_change_percentage_24h\"},\"y\":{\"type\":\"field\",\"field\":\"price_change_percentage_7d\"},\"size\":{\"type\":\"value\",\"value\":5.477225575051661},\"line_color\":{\"type\":\"value\",\"value\":\"#6d904f\"},\"line_alpha\":{\"type\":\"value\",\"value\":0.1},\"fill_color\":{\"type\":\"value\",\"value\":\"#6d904f\"},\"fill_alpha\":{\"type\":\"value\",\"value\":0.1},\"hatch_color\":{\"type\":\"value\",\"value\":\"#6d904f\"},\"hatch_alpha\":{\"type\":\"value\",\"value\":0.1}}},\"muted_glyph\":{\"type\":\"object\",\"name\":\"Scatter\",\"id\":\"p5356\",\"attributes\":{\"tags\":[\"apply_ranges\"],\"x\":{\"type\":\"field\",\"field\":\"price_change_percentage_24h\"},\"y\":{\"type\":\"field\",\"field\":\"price_change_percentage_7d\"},\"size\":{\"type\":\"value\",\"value\":5.477225575051661},\"line_color\":{\"type\":\"value\",\"value\":\"#6d904f\"},\"line_alpha\":{\"type\":\"value\",\"value\":0.2},\"fill_color\":{\"type\":\"value\",\"value\":\"#6d904f\"},\"fill_alpha\":{\"type\":\"value\",\"value\":0.2},\"hatch_color\":{\"type\":\"value\",\"value\":\"#6d904f\"},\"hatch_alpha\":{\"type\":\"value\",\"value\":0.2}}}}}],\"toolbar\":{\"type\":\"object\",\"name\":\"Toolbar\",\"id\":\"p5286\",\"attributes\":{\"tools\":[{\"type\":\"object\",\"name\":\"WheelZoomTool\",\"id\":\"p5266\",\"attributes\":{\"tags\":[\"hv_created\"],\"zoom_together\":\"none\"}},{\"type\":\"object\",\"name\":\"HoverTool\",\"id\":\"p5267\",\"attributes\":{\"tags\":[\"hv_created\"],\"renderers\":[{\"id\":\"p5314\"},{\"id\":\"p5329\"},{\"id\":\"p5343\"},{\"id\":\"p5357\"}],\"tooltips\":[[\"clusters\",\"@{clusters}\"],[\"price_change_percentage_24h\",\"@{price_change_percentage_24h}\"],[\"price_change_percentage_7d\",\"@{price_change_percentage_7d}\"],[\"coin_id\",\"@{coin_id}\"]]}},{\"type\":\"object\",\"name\":\"SaveTool\",\"id\":\"p5299\"},{\"type\":\"object\",\"name\":\"PanTool\",\"id\":\"p5300\"},{\"type\":\"object\",\"name\":\"BoxZoomTool\",\"id\":\"p5301\",\"attributes\":{\"overlay\":{\"type\":\"object\",\"name\":\"BoxAnnotation\",\"id\":\"p5302\",\"attributes\":{\"syncable\":false,\"level\":\"overlay\",\"visible\":false,\"left_units\":\"canvas\",\"right_units\":\"canvas\",\"bottom_units\":\"canvas\",\"top_units\":\"canvas\",\"line_color\":\"black\",\"line_alpha\":1.0,\"line_width\":2,\"line_dash\":[4,4],\"fill_color\":\"lightgrey\",\"fill_alpha\":0.5}}}},{\"type\":\"object\",\"name\":\"ResetTool\",\"id\":\"p5303\"}],\"active_drag\":{\"id\":\"p5300\"},\"active_scroll\":{\"id\":\"p5266\"}}},\"left\":[{\"type\":\"object\",\"name\":\"LinearAxis\",\"id\":\"p5294\",\"attributes\":{\"ticker\":{\"type\":\"object\",\"name\":\"BasicTicker\",\"id\":\"p5295\",\"attributes\":{\"mantissas\":[1,2,5]}},\"formatter\":{\"type\":\"object\",\"name\":\"PrintfTickFormatter\",\"id\":\"p5304\",\"attributes\":{\"format\":\"%.0f\"}},\"axis_label\":\"price_change_percentage_7d\",\"major_label_policy\":{\"type\":\"object\",\"name\":\"AllLabels\",\"id\":\"p5297\"}}}],\"right\":[{\"type\":\"object\",\"name\":\"Legend\",\"id\":\"p5317\",\"attributes\":{\"location\":[0,0],\"title\":\"clusters\",\"click_policy\":\"mute\",\"items\":[{\"type\":\"object\",\"name\":\"LegendItem\",\"id\":\"p5318\",\"attributes\":{\"label\":{\"type\":\"value\",\"value\":\"0\"},\"renderers\":[{\"id\":\"p5314\"}]}},{\"type\":\"object\",\"name\":\"LegendItem\",\"id\":\"p5332\",\"attributes\":{\"label\":{\"type\":\"value\",\"value\":\"1\"},\"renderers\":[{\"id\":\"p5329\"}]}},{\"type\":\"object\",\"name\":\"LegendItem\",\"id\":\"p5346\",\"attributes\":{\"label\":{\"type\":\"value\",\"value\":\"2\"},\"renderers\":[{\"id\":\"p5343\"}]}},{\"type\":\"object\",\"name\":\"LegendItem\",\"id\":\"p5360\",\"attributes\":{\"label\":{\"type\":\"value\",\"value\":\"3\"},\"renderers\":[{\"id\":\"p5357\"}]}}]}}],\"below\":[{\"type\":\"object\",\"name\":\"LinearAxis\",\"id\":\"p5289\",\"attributes\":{\"ticker\":{\"type\":\"object\",\"name\":\"BasicTicker\",\"id\":\"p5290\",\"attributes\":{\"mantissas\":[1,2,5]}},\"formatter\":{\"type\":\"object\",\"name\":\"BasicTickFormatter\",\"id\":\"p5291\"},\"axis_label\":\"price_change_percentage_24h\",\"major_label_policy\":{\"type\":\"object\",\"name\":\"AllLabels\",\"id\":\"p5292\"}}}],\"center\":[{\"type\":\"object\",\"name\":\"Grid\",\"id\":\"p5293\",\"attributes\":{\"axis\":{\"id\":\"p5289\"},\"grid_line_color\":null}},{\"type\":\"object\",\"name\":\"Grid\",\"id\":\"p5298\",\"attributes\":{\"dimension\":1,\"axis\":{\"id\":\"p5294\"},\"grid_line_color\":null}}],\"min_border_top\":10,\"min_border_bottom\":10,\"min_border_left\":10,\"min_border_right\":10,\"output_backend\":\"webgl\"}},{\"type\":\"object\",\"name\":\"Spacer\",\"id\":\"p5363\",\"attributes\":{\"name\":\"HSpacer10647\",\"stylesheets\":[\"\\n:host(.pn-loading.pn-arc):before, .pn-loading.pn-arc:before {\\n  background-image: url(\\\"data:image/svg+xml;base64,PHN2ZyB4bWxucz0iaHR0cDovL3d3dy53My5vcmcvMjAwMC9zdmciIHN0eWxlPSJtYXJnaW46IGF1dG87IGJhY2tncm91bmQ6IG5vbmU7IGRpc3BsYXk6IGJsb2NrOyBzaGFwZS1yZW5kZXJpbmc6IGF1dG87IiB2aWV3Qm94PSIwIDAgMTAwIDEwMCIgcHJlc2VydmVBc3BlY3RSYXRpbz0ieE1pZFlNaWQiPiAgPGNpcmNsZSBjeD0iNTAiIGN5PSI1MCIgZmlsbD0ibm9uZSIgc3Ryb2tlPSIjYzNjM2MzIiBzdHJva2Utd2lkdGg9IjEwIiByPSIzNSIgc3Ryb2tlLWRhc2hhcnJheT0iMTY0LjkzMzYxNDMxMzQ2NDE1IDU2Ljk3Nzg3MTQzNzgyMTM4Ij4gICAgPGFuaW1hdGVUcmFuc2Zvcm0gYXR0cmlidXRlTmFtZT0idHJhbnNmb3JtIiB0eXBlPSJyb3RhdGUiIHJlcGVhdENvdW50PSJpbmRlZmluaXRlIiBkdXI9IjFzIiB2YWx1ZXM9IjAgNTAgNTA7MzYwIDUwIDUwIiBrZXlUaW1lcz0iMDsxIj48L2FuaW1hdGVUcmFuc2Zvcm0+ICA8L2NpcmNsZT48L3N2Zz4=\\\");\\n  background-size: auto calc(min(50%, 400px));\\n}\",{\"id\":\"p5259\"},{\"id\":\"p5257\"},{\"id\":\"p5258\"}],\"margin\":0,\"sizing_mode\":\"stretch_width\",\"align\":\"start\"}}]}}],\"defs\":[{\"type\":\"model\",\"name\":\"ReactiveHTML1\"},{\"type\":\"model\",\"name\":\"FlexBox1\",\"properties\":[{\"name\":\"align_content\",\"kind\":\"Any\",\"default\":\"flex-start\"},{\"name\":\"align_items\",\"kind\":\"Any\",\"default\":\"flex-start\"},{\"name\":\"flex_direction\",\"kind\":\"Any\",\"default\":\"row\"},{\"name\":\"flex_wrap\",\"kind\":\"Any\",\"default\":\"wrap\"},{\"name\":\"justify_content\",\"kind\":\"Any\",\"default\":\"flex-start\"}]},{\"type\":\"model\",\"name\":\"FloatPanel1\",\"properties\":[{\"name\":\"config\",\"kind\":\"Any\",\"default\":{\"type\":\"map\"}},{\"name\":\"contained\",\"kind\":\"Any\",\"default\":true},{\"name\":\"position\",\"kind\":\"Any\",\"default\":\"right-top\"},{\"name\":\"offsetx\",\"kind\":\"Any\",\"default\":null},{\"name\":\"offsety\",\"kind\":\"Any\",\"default\":null},{\"name\":\"theme\",\"kind\":\"Any\",\"default\":\"primary\"},{\"name\":\"status\",\"kind\":\"Any\",\"default\":\"normalized\"}]},{\"type\":\"model\",\"name\":\"GridStack1\",\"properties\":[{\"name\":\"mode\",\"kind\":\"Any\",\"default\":\"warn\"},{\"name\":\"ncols\",\"kind\":\"Any\",\"default\":null},{\"name\":\"nrows\",\"kind\":\"Any\",\"default\":null},{\"name\":\"allow_resize\",\"kind\":\"Any\",\"default\":true},{\"name\":\"allow_drag\",\"kind\":\"Any\",\"default\":true},{\"name\":\"state\",\"kind\":\"Any\",\"default\":[]}]},{\"type\":\"model\",\"name\":\"drag1\",\"properties\":[{\"name\":\"slider_width\",\"kind\":\"Any\",\"default\":5},{\"name\":\"slider_color\",\"kind\":\"Any\",\"default\":\"black\"},{\"name\":\"value\",\"kind\":\"Any\",\"default\":50}]},{\"type\":\"model\",\"name\":\"click1\",\"properties\":[{\"name\":\"terminal_output\",\"kind\":\"Any\",\"default\":\"\"},{\"name\":\"debug_name\",\"kind\":\"Any\",\"default\":\"\"},{\"name\":\"clears\",\"kind\":\"Any\",\"default\":0}]},{\"type\":\"model\",\"name\":\"FastWrapper1\",\"properties\":[{\"name\":\"object\",\"kind\":\"Any\",\"default\":null},{\"name\":\"style\",\"kind\":\"Any\",\"default\":null}]},{\"type\":\"model\",\"name\":\"NotificationAreaBase1\",\"properties\":[{\"name\":\"js_events\",\"kind\":\"Any\",\"default\":{\"type\":\"map\"}},{\"name\":\"position\",\"kind\":\"Any\",\"default\":\"bottom-right\"},{\"name\":\"_clear\",\"kind\":\"Any\",\"default\":0}]},{\"type\":\"model\",\"name\":\"NotificationArea1\",\"properties\":[{\"name\":\"js_events\",\"kind\":\"Any\",\"default\":{\"type\":\"map\"}},{\"name\":\"notifications\",\"kind\":\"Any\",\"default\":[]},{\"name\":\"position\",\"kind\":\"Any\",\"default\":\"bottom-right\"},{\"name\":\"_clear\",\"kind\":\"Any\",\"default\":0},{\"name\":\"types\",\"kind\":\"Any\",\"default\":[{\"type\":\"map\",\"entries\":[[\"type\",\"warning\"],[\"background\",\"#ffc107\"],[\"icon\",{\"type\":\"map\",\"entries\":[[\"className\",\"fas fa-exclamation-triangle\"],[\"tagName\",\"i\"],[\"color\",\"white\"]]}]]},{\"type\":\"map\",\"entries\":[[\"type\",\"info\"],[\"background\",\"#007bff\"],[\"icon\",{\"type\":\"map\",\"entries\":[[\"className\",\"fas fa-info-circle\"],[\"tagName\",\"i\"],[\"color\",\"white\"]]}]]}]}]},{\"type\":\"model\",\"name\":\"Notification\",\"properties\":[{\"name\":\"background\",\"kind\":\"Any\",\"default\":null},{\"name\":\"duration\",\"kind\":\"Any\",\"default\":3000},{\"name\":\"icon\",\"kind\":\"Any\",\"default\":null},{\"name\":\"message\",\"kind\":\"Any\",\"default\":\"\"},{\"name\":\"notification_type\",\"kind\":\"Any\",\"default\":null},{\"name\":\"_destroyed\",\"kind\":\"Any\",\"default\":false}]},{\"type\":\"model\",\"name\":\"TemplateActions1\",\"properties\":[{\"name\":\"open_modal\",\"kind\":\"Any\",\"default\":0},{\"name\":\"close_modal\",\"kind\":\"Any\",\"default\":0}]},{\"type\":\"model\",\"name\":\"BootstrapTemplateActions1\",\"properties\":[{\"name\":\"open_modal\",\"kind\":\"Any\",\"default\":0},{\"name\":\"close_modal\",\"kind\":\"Any\",\"default\":0}]},{\"type\":\"model\",\"name\":\"MaterialTemplateActions1\",\"properties\":[{\"name\":\"open_modal\",\"kind\":\"Any\",\"default\":0},{\"name\":\"close_modal\",\"kind\":\"Any\",\"default\":0}]}]}};\n",
       "  var render_items = [{\"docid\":\"a03081b4-c7e6-40a3-8e42-ffe5ef4a274b\",\"roots\":{\"p5256\":\"d7dfbedc-3096-4133-bffb-18408e47ee6e\"},\"root_ids\":[\"p5256\"]}];\n",
       "  var docs = Object.values(docs_json)\n",
       "  if (!docs) {\n",
       "    return\n",
       "  }\n",
       "  const py_version = docs[0].version.replace('rc', '-rc.').replace('.dev', '-dev.')\n",
       "  const is_dev = py_version.indexOf(\"+\") !== -1 || py_version.indexOf(\"-\") !== -1\n",
       "  function embed_document(root) {\n",
       "    var Bokeh = get_bokeh(root)\n",
       "    Bokeh.embed.embed_items_notebook(docs_json, render_items);\n",
       "    for (const render_item of render_items) {\n",
       "      for (const root_id of render_item.root_ids) {\n",
       "\tconst id_el = document.getElementById(root_id)\n",
       "\tif (id_el.children.length && (id_el.children[0].className === 'bk-root')) {\n",
       "\t  const root_el = id_el.children[0]\n",
       "\t  root_el.id = root_el.id + '-rendered'\n",
       "\t}\n",
       "      }\n",
       "    }\n",
       "  }\n",
       "  function get_bokeh(root) {\n",
       "    if (root.Bokeh === undefined) {\n",
       "      return null\n",
       "    } else if (root.Bokeh.version !== py_version && !is_dev) {\n",
       "      if (root.Bokeh.versions === undefined || !root.Bokeh.versions.has(py_version)) {\n",
       "\treturn null\n",
       "      }\n",
       "      return root.Bokeh.versions.get(py_version);\n",
       "    } else if (root.Bokeh.version === py_version) {\n",
       "      return root.Bokeh\n",
       "    }\n",
       "    return null\n",
       "  }\n",
       "  function is_loaded(root) {\n",
       "    var Bokeh = get_bokeh(root)\n",
       "    return (Bokeh != null && Bokeh.Panel !== undefined)\n",
       "  }\n",
       "  if (is_loaded(root)) {\n",
       "    embed_document(root);\n",
       "  } else {\n",
       "    var attempts = 0;\n",
       "    var timer = setInterval(function(root) {\n",
       "      if (is_loaded(root)) {\n",
       "        clearInterval(timer);\n",
       "        embed_document(root);\n",
       "      } else if (document.readyState == \"complete\") {\n",
       "        attempts++;\n",
       "        if (attempts > 200) {\n",
       "          clearInterval(timer);\n",
       "\t  var Bokeh = get_bokeh(root)\n",
       "\t  if (Bokeh == null || Bokeh.Panel == null) {\n",
       "            console.warn(\"Panel: ERROR: Unable to run Panel code because Bokeh or Panel library is missing\");\n",
       "\t  } else {\n",
       "\t    console.warn(\"Panel: WARNING: Attempting to render but not all required libraries could be resolved.\")\n",
       "\t    embed_document(root)\n",
       "\t  }\n",
       "        }\n",
       "      }\n",
       "    }, 25, root)\n",
       "  }\n",
       "})(window);</script>"
      ],
      "text/plain": [
       ":NdOverlay   [clusters]\n",
       "   :Scatter   [price_change_percentage_24h]   (price_change_percentage_7d,coin_id)"
      ]
     },
     "execution_count": 125,
     "metadata": {
      "application/vnd.holoviews_exec.v0+json": {
       "id": "p5256"
      }
     },
     "output_type": "execute_result"
    }
   ],
   "source": [
    "# Create a scatter plot using hvPlot by setting \n",
    "# `x=\"price_change_percentage_24h\"` and `y=\"price_change_percentage_7d\"`. \n",
    "# Color the graph points with the labels found using K-Means and \n",
    "# add the crypto name in the `hover_cols` parameter to identify \n",
    "# the cryptocurrency represented by each data point.\n",
    "crypto_pred_plot = crypto_df_predictions.hvplot.scatter(\n",
    "    x=\"price_change_percentage_24h\",\n",
    "    y=\"price_change_percentage_7d\",\n",
    "    by=\"clusters\", hover_cols=[\"coin_id\"]).opts(yformatter=\"%.0f\")\n",
    "crypto_pred_plot"
   ]
  },
  {
   "cell_type": "markdown",
   "metadata": {},
   "source": [
    "---"
   ]
  },
  {
   "cell_type": "markdown",
   "metadata": {},
   "source": [
    "### Optimize Clusters with Principal Component Analysis\n",
    "\n",
    "In this section, you will perform a principal component analysis (PCA) and reduce the features to three principal components.\n",
    "\n",
    "1. Create a PCA model instance and set `n_components=3`.\n",
    "\n",
    "2. Use the PCA model to reduce to three principal components. View the first five rows of the DataFrame. \n",
    "\n",
    "3. Retrieve the explained variance to determine how much information can be attributed to each principal component.\n",
    "\n",
    "4. Answer the following question: What is the total explained variance of the three principal components?\n",
    "\n",
    "5. Create a new DataFrame with the PCA data. Be sure to set the `coin_id` index from the original DataFrame as the index for the new DataFrame. Review the resulting DataFrame."
   ]
  },
  {
   "cell_type": "code",
   "execution_count": 126,
   "metadata": {},
   "outputs": [],
   "source": [
    "# Create a PCA model instance and set `n_components=3`.\n",
    "pca = PCA(n_components=3)"
   ]
  },
  {
   "cell_type": "code",
   "execution_count": 127,
   "metadata": {},
   "outputs": [
    {
     "data": {
      "text/plain": [
       "array([[-0.60066733,  0.84276006,  0.46159457],\n",
       "       [-0.45826071,  0.45846566,  0.95287678],\n",
       "       [-0.43306981, -0.16812638, -0.64175193],\n",
       "       [-0.47183495, -0.22266008, -0.47905316],\n",
       "       [-1.15779997,  2.04120919,  1.85971527]])"
      ]
     },
     "execution_count": 127,
     "metadata": {},
     "output_type": "execute_result"
    }
   ],
   "source": [
    "# Use the PCA model with `fit_transform` to reduce to \n",
    "# three principal components.\n",
    "crypto_df_pca = pca.fit_transform(df_market_data_scaled)\n",
    "\n",
    "# View the first five rows of the DataFrame. \n",
    "crypto_df_pca[:5]"
   ]
  },
  {
   "cell_type": "code",
   "execution_count": 128,
   "metadata": {},
   "outputs": [
    {
     "data": {
      "text/plain": [
       "array([0.3719856 , 0.34700813, 0.17603793])"
      ]
     },
     "execution_count": 128,
     "metadata": {},
     "output_type": "execute_result"
    }
   ],
   "source": [
    "# Retrieve the explained variance to determine how much information \n",
    "# can be attributed to each principal component.\n",
    "pca.explained_variance_ratio_"
   ]
  },
  {
   "cell_type": "code",
   "execution_count": 129,
   "metadata": {
    "tags": []
   },
   "outputs": [
    {
     "data": {
      "text/plain": [
       "0.8950316570309841"
      ]
     },
     "execution_count": 129,
     "metadata": {},
     "output_type": "execute_result"
    }
   ],
   "source": [
    "sum(pca.explained_variance_ratio_)"
   ]
  },
  {
   "cell_type": "markdown",
   "metadata": {},
   "source": [
    "#### Answer the following question: What is the total explained variance of the three principal components?\n",
    "\n",
    "**Question:** What is the total explained variance of the three principal components?\n",
    "\n",
    "**Answer:** The total explained variance of the three principal components is 89.5%."
   ]
  },
  {
   "cell_type": "code",
   "execution_count": 130,
   "metadata": {},
   "outputs": [
    {
     "data": {
      "text/html": [
       "<div>\n",
       "<style scoped>\n",
       "    .dataframe tbody tr th:only-of-type {\n",
       "        vertical-align: middle;\n",
       "    }\n",
       "\n",
       "    .dataframe tbody tr th {\n",
       "        vertical-align: top;\n",
       "    }\n",
       "\n",
       "    .dataframe thead th {\n",
       "        text-align: right;\n",
       "    }\n",
       "</style>\n",
       "<table border=\"1\" class=\"dataframe\">\n",
       "  <thead>\n",
       "    <tr style=\"text-align: right;\">\n",
       "      <th></th>\n",
       "      <th>PCA_1</th>\n",
       "      <th>PCA_2</th>\n",
       "      <th>PCA_3</th>\n",
       "    </tr>\n",
       "    <tr>\n",
       "      <th>coin_id</th>\n",
       "      <th></th>\n",
       "      <th></th>\n",
       "      <th></th>\n",
       "    </tr>\n",
       "  </thead>\n",
       "  <tbody>\n",
       "    <tr>\n",
       "      <th>bitcoin</th>\n",
       "      <td>-0.600667</td>\n",
       "      <td>0.842760</td>\n",
       "      <td>0.461595</td>\n",
       "    </tr>\n",
       "    <tr>\n",
       "      <th>ethereum</th>\n",
       "      <td>-0.458261</td>\n",
       "      <td>0.458466</td>\n",
       "      <td>0.952877</td>\n",
       "    </tr>\n",
       "    <tr>\n",
       "      <th>tether</th>\n",
       "      <td>-0.433070</td>\n",
       "      <td>-0.168126</td>\n",
       "      <td>-0.641752</td>\n",
       "    </tr>\n",
       "    <tr>\n",
       "      <th>ripple</th>\n",
       "      <td>-0.471835</td>\n",
       "      <td>-0.222660</td>\n",
       "      <td>-0.479053</td>\n",
       "    </tr>\n",
       "    <tr>\n",
       "      <th>bitcoin-cash</th>\n",
       "      <td>-1.157800</td>\n",
       "      <td>2.041209</td>\n",
       "      <td>1.859715</td>\n",
       "    </tr>\n",
       "  </tbody>\n",
       "</table>\n",
       "</div>"
      ],
      "text/plain": [
       "                 PCA_1     PCA_2     PCA_3\n",
       "coin_id                                   \n",
       "bitcoin      -0.600667  0.842760  0.461595\n",
       "ethereum     -0.458261  0.458466  0.952877\n",
       "tether       -0.433070 -0.168126 -0.641752\n",
       "ripple       -0.471835 -0.222660 -0.479053\n",
       "bitcoin-cash -1.157800  2.041209  1.859715"
      ]
     },
     "execution_count": 130,
     "metadata": {},
     "output_type": "execute_result"
    }
   ],
   "source": [
    "# Create a new DataFrame with the PCA data.\n",
    "# Note: The code for this step is provided for you\n",
    "\n",
    "# Creating a DataFrame with the PCA data\n",
    "df_market_data_pca = pd.DataFrame(crypto_df_pca, columns= [\"PCA_1\", \"PCA_2\", \"PCA_3\"])\n",
    "\n",
    "# Copy the crypto names from the original data\n",
    "\n",
    "df_market_data_pca[\"coin_id\"] = df_market_data.index\n",
    "\n",
    "# Set the coinid column as index\n",
    "df_market_data_pca= df_market_data_pca.set_index(\"coin_id\")\n",
    "\n",
    "# Display sample data\n",
    "df_market_data_pca.head()"
   ]
  },
  {
   "cell_type": "markdown",
   "metadata": {},
   "source": [
    "---"
   ]
  },
  {
   "cell_type": "markdown",
   "metadata": {},
   "source": [
    "### Find the Best Value for k Using the PCA Data\n",
    "\n",
    "In this section, you will use the elbow method to find the best value for `k` using the PCA data.\n",
    "\n",
    "1. Code the elbow method algorithm and use the PCA data to find the best value for `k`. Use a range from 1 to 11. \n",
    "\n",
    "2. Plot a line chart with all the inertia values computed with the different values of `k` to visually identify the optimal value for `k`.\n",
    "\n",
    "3. Answer the following questions: What is the best value for k when using the PCA data? Does it differ from the best k value found using the original data?"
   ]
  },
  {
   "cell_type": "code",
   "execution_count": 131,
   "metadata": {},
   "outputs": [],
   "source": [
    "# Create a list with the number of k-values to try\n",
    "# Use a range from 1 to 11\n",
    "pca_k=list(range(1,11))"
   ]
  },
  {
   "cell_type": "code",
   "execution_count": 132,
   "metadata": {},
   "outputs": [],
   "source": [
    "# Create an empy list to store the inertia values\n",
    "inertia = []"
   ]
  },
  {
   "cell_type": "code",
   "execution_count": 133,
   "metadata": {},
   "outputs": [
    {
     "name": "stderr",
     "output_type": "stream",
     "text": [
      "C:\\Users\\victo\\anaconda3\\envs\\dev\\lib\\site-packages\\sklearn\\cluster\\_kmeans.py:1416: FutureWarning: The default value of `n_init` will change from 10 to 'auto' in 1.4. Set the value of `n_init` explicitly to suppress the warning\n",
      "  super()._check_params_vs_input(X, default_n_init=10)\n",
      "C:\\Users\\victo\\anaconda3\\envs\\dev\\lib\\site-packages\\sklearn\\cluster\\_kmeans.py:1440: UserWarning: KMeans is known to have a memory leak on Windows with MKL, when there are less chunks than available threads. You can avoid it by setting the environment variable OMP_NUM_THREADS=1.\n",
      "  warnings.warn(\n",
      "C:\\Users\\victo\\anaconda3\\envs\\dev\\lib\\site-packages\\sklearn\\cluster\\_kmeans.py:1416: FutureWarning: The default value of `n_init` will change from 10 to 'auto' in 1.4. Set the value of `n_init` explicitly to suppress the warning\n",
      "  super()._check_params_vs_input(X, default_n_init=10)\n",
      "C:\\Users\\victo\\anaconda3\\envs\\dev\\lib\\site-packages\\sklearn\\cluster\\_kmeans.py:1440: UserWarning: KMeans is known to have a memory leak on Windows with MKL, when there are less chunks than available threads. You can avoid it by setting the environment variable OMP_NUM_THREADS=1.\n",
      "  warnings.warn(\n",
      "C:\\Users\\victo\\anaconda3\\envs\\dev\\lib\\site-packages\\sklearn\\cluster\\_kmeans.py:1416: FutureWarning: The default value of `n_init` will change from 10 to 'auto' in 1.4. Set the value of `n_init` explicitly to suppress the warning\n",
      "  super()._check_params_vs_input(X, default_n_init=10)\n",
      "C:\\Users\\victo\\anaconda3\\envs\\dev\\lib\\site-packages\\sklearn\\cluster\\_kmeans.py:1440: UserWarning: KMeans is known to have a memory leak on Windows with MKL, when there are less chunks than available threads. You can avoid it by setting the environment variable OMP_NUM_THREADS=1.\n",
      "  warnings.warn(\n",
      "C:\\Users\\victo\\anaconda3\\envs\\dev\\lib\\site-packages\\sklearn\\cluster\\_kmeans.py:1416: FutureWarning: The default value of `n_init` will change from 10 to 'auto' in 1.4. Set the value of `n_init` explicitly to suppress the warning\n",
      "  super()._check_params_vs_input(X, default_n_init=10)\n",
      "C:\\Users\\victo\\anaconda3\\envs\\dev\\lib\\site-packages\\sklearn\\cluster\\_kmeans.py:1440: UserWarning: KMeans is known to have a memory leak on Windows with MKL, when there are less chunks than available threads. You can avoid it by setting the environment variable OMP_NUM_THREADS=1.\n",
      "  warnings.warn(\n",
      "C:\\Users\\victo\\anaconda3\\envs\\dev\\lib\\site-packages\\sklearn\\cluster\\_kmeans.py:1416: FutureWarning: The default value of `n_init` will change from 10 to 'auto' in 1.4. Set the value of `n_init` explicitly to suppress the warning\n",
      "  super()._check_params_vs_input(X, default_n_init=10)\n",
      "C:\\Users\\victo\\anaconda3\\envs\\dev\\lib\\site-packages\\sklearn\\cluster\\_kmeans.py:1440: UserWarning: KMeans is known to have a memory leak on Windows with MKL, when there are less chunks than available threads. You can avoid it by setting the environment variable OMP_NUM_THREADS=1.\n",
      "  warnings.warn(\n",
      "C:\\Users\\victo\\anaconda3\\envs\\dev\\lib\\site-packages\\sklearn\\cluster\\_kmeans.py:1416: FutureWarning: The default value of `n_init` will change from 10 to 'auto' in 1.4. Set the value of `n_init` explicitly to suppress the warning\n",
      "  super()._check_params_vs_input(X, default_n_init=10)\n",
      "C:\\Users\\victo\\anaconda3\\envs\\dev\\lib\\site-packages\\sklearn\\cluster\\_kmeans.py:1440: UserWarning: KMeans is known to have a memory leak on Windows with MKL, when there are less chunks than available threads. You can avoid it by setting the environment variable OMP_NUM_THREADS=1.\n",
      "  warnings.warn(\n",
      "C:\\Users\\victo\\anaconda3\\envs\\dev\\lib\\site-packages\\sklearn\\cluster\\_kmeans.py:1416: FutureWarning: The default value of `n_init` will change from 10 to 'auto' in 1.4. Set the value of `n_init` explicitly to suppress the warning\n",
      "  super()._check_params_vs_input(X, default_n_init=10)\n",
      "C:\\Users\\victo\\anaconda3\\envs\\dev\\lib\\site-packages\\sklearn\\cluster\\_kmeans.py:1440: UserWarning: KMeans is known to have a memory leak on Windows with MKL, when there are less chunks than available threads. You can avoid it by setting the environment variable OMP_NUM_THREADS=1.\n",
      "  warnings.warn(\n",
      "C:\\Users\\victo\\anaconda3\\envs\\dev\\lib\\site-packages\\sklearn\\cluster\\_kmeans.py:1416: FutureWarning: The default value of `n_init` will change from 10 to 'auto' in 1.4. Set the value of `n_init` explicitly to suppress the warning\n",
      "  super()._check_params_vs_input(X, default_n_init=10)\n",
      "C:\\Users\\victo\\anaconda3\\envs\\dev\\lib\\site-packages\\sklearn\\cluster\\_kmeans.py:1440: UserWarning: KMeans is known to have a memory leak on Windows with MKL, when there are less chunks than available threads. You can avoid it by setting the environment variable OMP_NUM_THREADS=1.\n",
      "  warnings.warn(\n",
      "C:\\Users\\victo\\anaconda3\\envs\\dev\\lib\\site-packages\\sklearn\\cluster\\_kmeans.py:1416: FutureWarning: The default value of `n_init` will change from 10 to 'auto' in 1.4. Set the value of `n_init` explicitly to suppress the warning\n",
      "  super()._check_params_vs_input(X, default_n_init=10)\n",
      "C:\\Users\\victo\\anaconda3\\envs\\dev\\lib\\site-packages\\sklearn\\cluster\\_kmeans.py:1440: UserWarning: KMeans is known to have a memory leak on Windows with MKL, when there are less chunks than available threads. You can avoid it by setting the environment variable OMP_NUM_THREADS=1.\n",
      "  warnings.warn(\n",
      "C:\\Users\\victo\\anaconda3\\envs\\dev\\lib\\site-packages\\sklearn\\cluster\\_kmeans.py:1416: FutureWarning: The default value of `n_init` will change from 10 to 'auto' in 1.4. Set the value of `n_init` explicitly to suppress the warning\n",
      "  super()._check_params_vs_input(X, default_n_init=10)\n",
      "C:\\Users\\victo\\anaconda3\\envs\\dev\\lib\\site-packages\\sklearn\\cluster\\_kmeans.py:1440: UserWarning: KMeans is known to have a memory leak on Windows with MKL, when there are less chunks than available threads. You can avoid it by setting the environment variable OMP_NUM_THREADS=1.\n",
      "  warnings.warn(\n"
     ]
    }
   ],
   "source": [
    "# Create a for loop to compute the inertia with each possible value of k\n",
    "# Inside the loop:\n",
    "# 1. Create a KMeans model using the loop counter for the n_clusters\n",
    "# 2. Fit the model to the data using `df_market_data_pca`\n",
    "# 3. Append the model.inertia_ to the inertia list\n",
    "for i in k:\n",
    "    k_model = KMeans(n_clusters=i, random_state=1)\n",
    "    k_model.fit(df_market_data_pca)\n",
    "    inertia.append(k_model.inertia_)"
   ]
  },
  {
   "cell_type": "code",
   "execution_count": 134,
   "metadata": {},
   "outputs": [
    {
     "data": {
      "text/html": [
       "<div>\n",
       "<style scoped>\n",
       "    .dataframe tbody tr th:only-of-type {\n",
       "        vertical-align: middle;\n",
       "    }\n",
       "\n",
       "    .dataframe tbody tr th {\n",
       "        vertical-align: top;\n",
       "    }\n",
       "\n",
       "    .dataframe thead th {\n",
       "        text-align: right;\n",
       "    }\n",
       "</style>\n",
       "<table border=\"1\" class=\"dataframe\">\n",
       "  <thead>\n",
       "    <tr style=\"text-align: right;\">\n",
       "      <th></th>\n",
       "      <th>pca_k</th>\n",
       "      <th>inertia</th>\n",
       "    </tr>\n",
       "  </thead>\n",
       "  <tbody>\n",
       "    <tr>\n",
       "      <th>0</th>\n",
       "      <td>1</td>\n",
       "      <td>256.874086</td>\n",
       "    </tr>\n",
       "    <tr>\n",
       "      <th>1</th>\n",
       "      <td>2</td>\n",
       "      <td>165.901994</td>\n",
       "    </tr>\n",
       "    <tr>\n",
       "      <th>2</th>\n",
       "      <td>3</td>\n",
       "      <td>93.774626</td>\n",
       "    </tr>\n",
       "    <tr>\n",
       "      <th>3</th>\n",
       "      <td>4</td>\n",
       "      <td>49.665497</td>\n",
       "    </tr>\n",
       "    <tr>\n",
       "      <th>4</th>\n",
       "      <td>5</td>\n",
       "      <td>38.072792</td>\n",
       "    </tr>\n",
       "  </tbody>\n",
       "</table>\n",
       "</div>"
      ],
      "text/plain": [
       "   pca_k     inertia\n",
       "0      1  256.874086\n",
       "1      2  165.901994\n",
       "2      3   93.774626\n",
       "3      4   49.665497\n",
       "4      5   38.072792"
      ]
     },
     "execution_count": 134,
     "metadata": {},
     "output_type": "execute_result"
    }
   ],
   "source": [
    "# Create a dictionary with the data to plot the Elbow curve\n",
    "elbow_data_pca = {\"pca_k\": pca_k , \"inertia\": inertia}\n",
    "\n",
    "\n",
    "# Create a DataFrame with the data to plot the Elbow curve\n",
    "elbow_pca_df = pd.DataFrame(elbow_data_pca)\n",
    "\n",
    "elbow_pca_df.head()"
   ]
  },
  {
   "cell_type": "code",
   "execution_count": 135,
   "metadata": {},
   "outputs": [
    {
     "data": {},
     "metadata": {},
     "output_type": "display_data"
    },
    {
     "data": {
      "application/vnd.holoviews_exec.v0+json": "",
      "text/html": [
       "<div id='p5375'>\n",
       "  <div id=\"ba5b54a3-6d54-40d0-8bc0-89003ce5e603\" data-root-id=\"p5375\" style=\"display: contents;\"></div>\n",
       "</div>\n",
       "<script type=\"application/javascript\">(function(root) {\n",
       "  var docs_json = {\"a612a52c-f699-4daa-a825-2364cfa90d07\":{\"version\":\"3.2.1\",\"title\":\"Bokeh Application\",\"roots\":[{\"type\":\"object\",\"name\":\"Row\",\"id\":\"p5375\",\"attributes\":{\"name\":\"Row10827\",\"tags\":[\"embedded\"],\"stylesheets\":[\"\\n:host(.pn-loading.pn-arc):before, .pn-loading.pn-arc:before {\\n  background-image: url(\\\"data:image/svg+xml;base64,PHN2ZyB4bWxucz0iaHR0cDovL3d3dy53My5vcmcvMjAwMC9zdmciIHN0eWxlPSJtYXJnaW46IGF1dG87IGJhY2tncm91bmQ6IG5vbmU7IGRpc3BsYXk6IGJsb2NrOyBzaGFwZS1yZW5kZXJpbmc6IGF1dG87IiB2aWV3Qm94PSIwIDAgMTAwIDEwMCIgcHJlc2VydmVBc3BlY3RSYXRpbz0ieE1pZFlNaWQiPiAgPGNpcmNsZSBjeD0iNTAiIGN5PSI1MCIgZmlsbD0ibm9uZSIgc3Ryb2tlPSIjYzNjM2MzIiBzdHJva2Utd2lkdGg9IjEwIiByPSIzNSIgc3Ryb2tlLWRhc2hhcnJheT0iMTY0LjkzMzYxNDMxMzQ2NDE1IDU2Ljk3Nzg3MTQzNzgyMTM4Ij4gICAgPGFuaW1hdGVUcmFuc2Zvcm0gYXR0cmlidXRlTmFtZT0idHJhbnNmb3JtIiB0eXBlPSJyb3RhdGUiIHJlcGVhdENvdW50PSJpbmRlZmluaXRlIiBkdXI9IjFzIiB2YWx1ZXM9IjAgNTAgNTA7MzYwIDUwIDUwIiBrZXlUaW1lcz0iMDsxIj48L2FuaW1hdGVUcmFuc2Zvcm0+ICA8L2NpcmNsZT48L3N2Zz4=\\\");\\n  background-size: auto calc(min(50%, 400px));\\n}\",{\"type\":\"object\",\"name\":\"ImportedStyleSheet\",\"id\":\"p5378\",\"attributes\":{\"url\":\"https://cdn.holoviz.org/panel/1.2.1/dist/css/loading.css\"}},{\"type\":\"object\",\"name\":\"ImportedStyleSheet\",\"id\":\"p5430\",\"attributes\":{\"url\":\"https://cdn.holoviz.org/panel/1.2.1/dist/css/listpanel.css\"}},{\"type\":\"object\",\"name\":\"ImportedStyleSheet\",\"id\":\"p5376\",\"attributes\":{\"url\":\"https://cdn.holoviz.org/panel/1.2.1/dist/bundled/theme/default.css\"}},{\"type\":\"object\",\"name\":\"ImportedStyleSheet\",\"id\":\"p5377\",\"attributes\":{\"url\":\"https://cdn.holoviz.org/panel/1.2.1/dist/bundled/theme/native.css\"}}],\"min_width\":700,\"margin\":0,\"sizing_mode\":\"stretch_width\",\"align\":\"start\",\"children\":[{\"type\":\"object\",\"name\":\"Spacer\",\"id\":\"p5379\",\"attributes\":{\"name\":\"HSpacer10838\",\"stylesheets\":[\"\\n:host(.pn-loading.pn-arc):before, .pn-loading.pn-arc:before {\\n  background-image: url(\\\"data:image/svg+xml;base64,PHN2ZyB4bWxucz0iaHR0cDovL3d3dy53My5vcmcvMjAwMC9zdmciIHN0eWxlPSJtYXJnaW46IGF1dG87IGJhY2tncm91bmQ6IG5vbmU7IGRpc3BsYXk6IGJsb2NrOyBzaGFwZS1yZW5kZXJpbmc6IGF1dG87IiB2aWV3Qm94PSIwIDAgMTAwIDEwMCIgcHJlc2VydmVBc3BlY3RSYXRpbz0ieE1pZFlNaWQiPiAgPGNpcmNsZSBjeD0iNTAiIGN5PSI1MCIgZmlsbD0ibm9uZSIgc3Ryb2tlPSIjYzNjM2MzIiBzdHJva2Utd2lkdGg9IjEwIiByPSIzNSIgc3Ryb2tlLWRhc2hhcnJheT0iMTY0LjkzMzYxNDMxMzQ2NDE1IDU2Ljk3Nzg3MTQzNzgyMTM4Ij4gICAgPGFuaW1hdGVUcmFuc2Zvcm0gYXR0cmlidXRlTmFtZT0idHJhbnNmb3JtIiB0eXBlPSJyb3RhdGUiIHJlcGVhdENvdW50PSJpbmRlZmluaXRlIiBkdXI9IjFzIiB2YWx1ZXM9IjAgNTAgNTA7MzYwIDUwIDUwIiBrZXlUaW1lcz0iMDsxIj48L2FuaW1hdGVUcmFuc2Zvcm0+ICA8L2NpcmNsZT48L3N2Zz4=\\\");\\n  background-size: auto calc(min(50%, 400px));\\n}\",{\"id\":\"p5378\"},{\"id\":\"p5376\"},{\"id\":\"p5377\"}],\"margin\":0,\"sizing_mode\":\"stretch_width\",\"align\":\"start\"}},{\"type\":\"object\",\"name\":\"Figure\",\"id\":\"p5387\",\"attributes\":{\"width\":700,\"height\":300,\"margin\":[5,10],\"sizing_mode\":\"fixed\",\"align\":\"start\",\"x_range\":{\"type\":\"object\",\"name\":\"Range1d\",\"id\":\"p5380\",\"attributes\":{\"tags\":[[[\"pca_k\",\"pca_k\",null]],[]],\"start\":1.0,\"end\":10.0,\"reset_start\":1.0,\"reset_end\":10.0}},\"y_range\":{\"type\":\"object\",\"name\":\"Range1d\",\"id\":\"p5381\",\"attributes\":{\"tags\":[[[\"inertia\",\"inertia\",null]],{\"type\":\"map\",\"entries\":[[\"invert_yaxis\",false],[\"autorange\",false]]}],\"start\":-14.072115237716485,\"end\":281.50555836840255,\"reset_start\":-14.072115237716485,\"reset_end\":281.50555836840255}},\"x_scale\":{\"type\":\"object\",\"name\":\"LinearScale\",\"id\":\"p5397\"},\"y_scale\":{\"type\":\"object\",\"name\":\"LinearScale\",\"id\":\"p5398\"},\"title\":{\"type\":\"object\",\"name\":\"Title\",\"id\":\"p5390\",\"attributes\":{\"text_color\":\"black\",\"text_font_size\":\"12pt\"}},\"renderers\":[{\"type\":\"object\",\"name\":\"GlyphRenderer\",\"id\":\"p5423\",\"attributes\":{\"data_source\":{\"type\":\"object\",\"name\":\"ColumnDataSource\",\"id\":\"p5414\",\"attributes\":{\"selected\":{\"type\":\"object\",\"name\":\"Selection\",\"id\":\"p5415\",\"attributes\":{\"indices\":[],\"line_indices\":[]}},\"selection_policy\":{\"type\":\"object\",\"name\":\"UnionRenderers\",\"id\":\"p5416\"},\"data\":{\"type\":\"map\",\"entries\":[[\"pca_k\",{\"type\":\"ndarray\",\"array\":{\"type\":\"bytes\",\"data\":\"AQAAAAIAAAADAAAABAAAAAUAAAAGAAAABwAAAAgAAAAJAAAACgAAAA==\"},\"shape\":[10],\"dtype\":\"int32\",\"order\":\"little\"}],[\"inertia\",{\"type\":\"ndarray\",\"array\":{\"type\":\"bytes\",\"data\":\"EgAmQfwNcEBOVJAi3bxkQP4sl3eTcVdAnYiJ/i7VSEClItBAUQlDQFO8U/V6uDtAwBTaLDMlNUBb5NxBYzUxQP5qkhpScCtAqO9NHWQeJUA=\"},\"shape\":[10],\"dtype\":\"float64\",\"order\":\"little\"}]]}}},\"view\":{\"type\":\"object\",\"name\":\"CDSView\",\"id\":\"p5424\",\"attributes\":{\"filter\":{\"type\":\"object\",\"name\":\"AllIndices\",\"id\":\"p5425\"}}},\"glyph\":{\"type\":\"object\",\"name\":\"Line\",\"id\":\"p5420\",\"attributes\":{\"tags\":[\"apply_ranges\"],\"x\":{\"type\":\"field\",\"field\":\"pca_k\"},\"y\":{\"type\":\"field\",\"field\":\"inertia\"},\"line_color\":\"#30a2da\",\"line_width\":2}},\"selection_glyph\":{\"type\":\"object\",\"name\":\"Line\",\"id\":\"p5426\",\"attributes\":{\"tags\":[\"apply_ranges\"],\"x\":{\"type\":\"field\",\"field\":\"pca_k\"},\"y\":{\"type\":\"field\",\"field\":\"inertia\"},\"line_color\":\"#30a2da\",\"line_width\":2}},\"nonselection_glyph\":{\"type\":\"object\",\"name\":\"Line\",\"id\":\"p5421\",\"attributes\":{\"tags\":[\"apply_ranges\"],\"x\":{\"type\":\"field\",\"field\":\"pca_k\"},\"y\":{\"type\":\"field\",\"field\":\"inertia\"},\"line_color\":\"#30a2da\",\"line_alpha\":0.1,\"line_width\":2}},\"muted_glyph\":{\"type\":\"object\",\"name\":\"Line\",\"id\":\"p5422\",\"attributes\":{\"tags\":[\"apply_ranges\"],\"x\":{\"type\":\"field\",\"field\":\"pca_k\"},\"y\":{\"type\":\"field\",\"field\":\"inertia\"},\"line_color\":\"#30a2da\",\"line_alpha\":0.2,\"line_width\":2}}}}],\"toolbar\":{\"type\":\"object\",\"name\":\"Toolbar\",\"id\":\"p5396\",\"attributes\":{\"tools\":[{\"type\":\"object\",\"name\":\"WheelZoomTool\",\"id\":\"p5385\",\"attributes\":{\"tags\":[\"hv_created\"],\"zoom_together\":\"none\"}},{\"type\":\"object\",\"name\":\"HoverTool\",\"id\":\"p5386\",\"attributes\":{\"tags\":[\"hv_created\"],\"renderers\":[{\"id\":\"p5423\"}],\"tooltips\":[[\"pca_k\",\"@{pca_k}\"],[\"inertia\",\"@{inertia}\"]]}},{\"type\":\"object\",\"name\":\"SaveTool\",\"id\":\"p5409\"},{\"type\":\"object\",\"name\":\"PanTool\",\"id\":\"p5410\"},{\"type\":\"object\",\"name\":\"BoxZoomTool\",\"id\":\"p5411\",\"attributes\":{\"overlay\":{\"type\":\"object\",\"name\":\"BoxAnnotation\",\"id\":\"p5412\",\"attributes\":{\"syncable\":false,\"level\":\"overlay\",\"visible\":false,\"left_units\":\"canvas\",\"right_units\":\"canvas\",\"bottom_units\":\"canvas\",\"top_units\":\"canvas\",\"line_color\":\"black\",\"line_alpha\":1.0,\"line_width\":2,\"line_dash\":[4,4],\"fill_color\":\"lightgrey\",\"fill_alpha\":0.5}}}},{\"type\":\"object\",\"name\":\"ResetTool\",\"id\":\"p5413\"}],\"active_drag\":{\"id\":\"p5410\"},\"active_scroll\":{\"id\":\"p5385\"}}},\"left\":[{\"type\":\"object\",\"name\":\"LinearAxis\",\"id\":\"p5404\",\"attributes\":{\"ticker\":{\"type\":\"object\",\"name\":\"BasicTicker\",\"id\":\"p5405\",\"attributes\":{\"mantissas\":[1,2,5]}},\"formatter\":{\"type\":\"object\",\"name\":\"BasicTickFormatter\",\"id\":\"p5406\"},\"axis_label\":\"inertia\",\"major_label_policy\":{\"type\":\"object\",\"name\":\"AllLabels\",\"id\":\"p5407\"}}}],\"below\":[{\"type\":\"object\",\"name\":\"LinearAxis\",\"id\":\"p5399\",\"attributes\":{\"ticker\":{\"type\":\"object\",\"name\":\"BasicTicker\",\"id\":\"p5400\",\"attributes\":{\"mantissas\":[1,2,5]}},\"formatter\":{\"type\":\"object\",\"name\":\"BasicTickFormatter\",\"id\":\"p5401\"},\"axis_label\":\"pca_k\",\"major_label_policy\":{\"type\":\"object\",\"name\":\"AllLabels\",\"id\":\"p5402\"}}}],\"center\":[{\"type\":\"object\",\"name\":\"Grid\",\"id\":\"p5403\",\"attributes\":{\"axis\":{\"id\":\"p5399\"},\"grid_line_color\":null}},{\"type\":\"object\",\"name\":\"Grid\",\"id\":\"p5408\",\"attributes\":{\"dimension\":1,\"axis\":{\"id\":\"p5404\"},\"grid_line_color\":null}}],\"min_border_top\":10,\"min_border_bottom\":10,\"min_border_left\":10,\"min_border_right\":10,\"output_backend\":\"webgl\"}},{\"type\":\"object\",\"name\":\"Spacer\",\"id\":\"p5428\",\"attributes\":{\"name\":\"HSpacer10841\",\"stylesheets\":[\"\\n:host(.pn-loading.pn-arc):before, .pn-loading.pn-arc:before {\\n  background-image: url(\\\"data:image/svg+xml;base64,PHN2ZyB4bWxucz0iaHR0cDovL3d3dy53My5vcmcvMjAwMC9zdmciIHN0eWxlPSJtYXJnaW46IGF1dG87IGJhY2tncm91bmQ6IG5vbmU7IGRpc3BsYXk6IGJsb2NrOyBzaGFwZS1yZW5kZXJpbmc6IGF1dG87IiB2aWV3Qm94PSIwIDAgMTAwIDEwMCIgcHJlc2VydmVBc3BlY3RSYXRpbz0ieE1pZFlNaWQiPiAgPGNpcmNsZSBjeD0iNTAiIGN5PSI1MCIgZmlsbD0ibm9uZSIgc3Ryb2tlPSIjYzNjM2MzIiBzdHJva2Utd2lkdGg9IjEwIiByPSIzNSIgc3Ryb2tlLWRhc2hhcnJheT0iMTY0LjkzMzYxNDMxMzQ2NDE1IDU2Ljk3Nzg3MTQzNzgyMTM4Ij4gICAgPGFuaW1hdGVUcmFuc2Zvcm0gYXR0cmlidXRlTmFtZT0idHJhbnNmb3JtIiB0eXBlPSJyb3RhdGUiIHJlcGVhdENvdW50PSJpbmRlZmluaXRlIiBkdXI9IjFzIiB2YWx1ZXM9IjAgNTAgNTA7MzYwIDUwIDUwIiBrZXlUaW1lcz0iMDsxIj48L2FuaW1hdGVUcmFuc2Zvcm0+ICA8L2NpcmNsZT48L3N2Zz4=\\\");\\n  background-size: auto calc(min(50%, 400px));\\n}\",{\"id\":\"p5378\"},{\"id\":\"p5376\"},{\"id\":\"p5377\"}],\"margin\":0,\"sizing_mode\":\"stretch_width\",\"align\":\"start\"}}]}}],\"defs\":[{\"type\":\"model\",\"name\":\"ReactiveHTML1\"},{\"type\":\"model\",\"name\":\"FlexBox1\",\"properties\":[{\"name\":\"align_content\",\"kind\":\"Any\",\"default\":\"flex-start\"},{\"name\":\"align_items\",\"kind\":\"Any\",\"default\":\"flex-start\"},{\"name\":\"flex_direction\",\"kind\":\"Any\",\"default\":\"row\"},{\"name\":\"flex_wrap\",\"kind\":\"Any\",\"default\":\"wrap\"},{\"name\":\"justify_content\",\"kind\":\"Any\",\"default\":\"flex-start\"}]},{\"type\":\"model\",\"name\":\"FloatPanel1\",\"properties\":[{\"name\":\"config\",\"kind\":\"Any\",\"default\":{\"type\":\"map\"}},{\"name\":\"contained\",\"kind\":\"Any\",\"default\":true},{\"name\":\"position\",\"kind\":\"Any\",\"default\":\"right-top\"},{\"name\":\"offsetx\",\"kind\":\"Any\",\"default\":null},{\"name\":\"offsety\",\"kind\":\"Any\",\"default\":null},{\"name\":\"theme\",\"kind\":\"Any\",\"default\":\"primary\"},{\"name\":\"status\",\"kind\":\"Any\",\"default\":\"normalized\"}]},{\"type\":\"model\",\"name\":\"GridStack1\",\"properties\":[{\"name\":\"mode\",\"kind\":\"Any\",\"default\":\"warn\"},{\"name\":\"ncols\",\"kind\":\"Any\",\"default\":null},{\"name\":\"nrows\",\"kind\":\"Any\",\"default\":null},{\"name\":\"allow_resize\",\"kind\":\"Any\",\"default\":true},{\"name\":\"allow_drag\",\"kind\":\"Any\",\"default\":true},{\"name\":\"state\",\"kind\":\"Any\",\"default\":[]}]},{\"type\":\"model\",\"name\":\"drag1\",\"properties\":[{\"name\":\"slider_width\",\"kind\":\"Any\",\"default\":5},{\"name\":\"slider_color\",\"kind\":\"Any\",\"default\":\"black\"},{\"name\":\"value\",\"kind\":\"Any\",\"default\":50}]},{\"type\":\"model\",\"name\":\"click1\",\"properties\":[{\"name\":\"terminal_output\",\"kind\":\"Any\",\"default\":\"\"},{\"name\":\"debug_name\",\"kind\":\"Any\",\"default\":\"\"},{\"name\":\"clears\",\"kind\":\"Any\",\"default\":0}]},{\"type\":\"model\",\"name\":\"FastWrapper1\",\"properties\":[{\"name\":\"object\",\"kind\":\"Any\",\"default\":null},{\"name\":\"style\",\"kind\":\"Any\",\"default\":null}]},{\"type\":\"model\",\"name\":\"NotificationAreaBase1\",\"properties\":[{\"name\":\"js_events\",\"kind\":\"Any\",\"default\":{\"type\":\"map\"}},{\"name\":\"position\",\"kind\":\"Any\",\"default\":\"bottom-right\"},{\"name\":\"_clear\",\"kind\":\"Any\",\"default\":0}]},{\"type\":\"model\",\"name\":\"NotificationArea1\",\"properties\":[{\"name\":\"js_events\",\"kind\":\"Any\",\"default\":{\"type\":\"map\"}},{\"name\":\"notifications\",\"kind\":\"Any\",\"default\":[]},{\"name\":\"position\",\"kind\":\"Any\",\"default\":\"bottom-right\"},{\"name\":\"_clear\",\"kind\":\"Any\",\"default\":0},{\"name\":\"types\",\"kind\":\"Any\",\"default\":[{\"type\":\"map\",\"entries\":[[\"type\",\"warning\"],[\"background\",\"#ffc107\"],[\"icon\",{\"type\":\"map\",\"entries\":[[\"className\",\"fas fa-exclamation-triangle\"],[\"tagName\",\"i\"],[\"color\",\"white\"]]}]]},{\"type\":\"map\",\"entries\":[[\"type\",\"info\"],[\"background\",\"#007bff\"],[\"icon\",{\"type\":\"map\",\"entries\":[[\"className\",\"fas fa-info-circle\"],[\"tagName\",\"i\"],[\"color\",\"white\"]]}]]}]}]},{\"type\":\"model\",\"name\":\"Notification\",\"properties\":[{\"name\":\"background\",\"kind\":\"Any\",\"default\":null},{\"name\":\"duration\",\"kind\":\"Any\",\"default\":3000},{\"name\":\"icon\",\"kind\":\"Any\",\"default\":null},{\"name\":\"message\",\"kind\":\"Any\",\"default\":\"\"},{\"name\":\"notification_type\",\"kind\":\"Any\",\"default\":null},{\"name\":\"_destroyed\",\"kind\":\"Any\",\"default\":false}]},{\"type\":\"model\",\"name\":\"TemplateActions1\",\"properties\":[{\"name\":\"open_modal\",\"kind\":\"Any\",\"default\":0},{\"name\":\"close_modal\",\"kind\":\"Any\",\"default\":0}]},{\"type\":\"model\",\"name\":\"BootstrapTemplateActions1\",\"properties\":[{\"name\":\"open_modal\",\"kind\":\"Any\",\"default\":0},{\"name\":\"close_modal\",\"kind\":\"Any\",\"default\":0}]},{\"type\":\"model\",\"name\":\"MaterialTemplateActions1\",\"properties\":[{\"name\":\"open_modal\",\"kind\":\"Any\",\"default\":0},{\"name\":\"close_modal\",\"kind\":\"Any\",\"default\":0}]}]}};\n",
       "  var render_items = [{\"docid\":\"a612a52c-f699-4daa-a825-2364cfa90d07\",\"roots\":{\"p5375\":\"ba5b54a3-6d54-40d0-8bc0-89003ce5e603\"},\"root_ids\":[\"p5375\"]}];\n",
       "  var docs = Object.values(docs_json)\n",
       "  if (!docs) {\n",
       "    return\n",
       "  }\n",
       "  const py_version = docs[0].version.replace('rc', '-rc.').replace('.dev', '-dev.')\n",
       "  const is_dev = py_version.indexOf(\"+\") !== -1 || py_version.indexOf(\"-\") !== -1\n",
       "  function embed_document(root) {\n",
       "    var Bokeh = get_bokeh(root)\n",
       "    Bokeh.embed.embed_items_notebook(docs_json, render_items);\n",
       "    for (const render_item of render_items) {\n",
       "      for (const root_id of render_item.root_ids) {\n",
       "\tconst id_el = document.getElementById(root_id)\n",
       "\tif (id_el.children.length && (id_el.children[0].className === 'bk-root')) {\n",
       "\t  const root_el = id_el.children[0]\n",
       "\t  root_el.id = root_el.id + '-rendered'\n",
       "\t}\n",
       "      }\n",
       "    }\n",
       "  }\n",
       "  function get_bokeh(root) {\n",
       "    if (root.Bokeh === undefined) {\n",
       "      return null\n",
       "    } else if (root.Bokeh.version !== py_version && !is_dev) {\n",
       "      if (root.Bokeh.versions === undefined || !root.Bokeh.versions.has(py_version)) {\n",
       "\treturn null\n",
       "      }\n",
       "      return root.Bokeh.versions.get(py_version);\n",
       "    } else if (root.Bokeh.version === py_version) {\n",
       "      return root.Bokeh\n",
       "    }\n",
       "    return null\n",
       "  }\n",
       "  function is_loaded(root) {\n",
       "    var Bokeh = get_bokeh(root)\n",
       "    return (Bokeh != null && Bokeh.Panel !== undefined)\n",
       "  }\n",
       "  if (is_loaded(root)) {\n",
       "    embed_document(root);\n",
       "  } else {\n",
       "    var attempts = 0;\n",
       "    var timer = setInterval(function(root) {\n",
       "      if (is_loaded(root)) {\n",
       "        clearInterval(timer);\n",
       "        embed_document(root);\n",
       "      } else if (document.readyState == \"complete\") {\n",
       "        attempts++;\n",
       "        if (attempts > 200) {\n",
       "          clearInterval(timer);\n",
       "\t  var Bokeh = get_bokeh(root)\n",
       "\t  if (Bokeh == null || Bokeh.Panel == null) {\n",
       "            console.warn(\"Panel: ERROR: Unable to run Panel code because Bokeh or Panel library is missing\");\n",
       "\t  } else {\n",
       "\t    console.warn(\"Panel: WARNING: Attempting to render but not all required libraries could be resolved.\")\n",
       "\t    embed_document(root)\n",
       "\t  }\n",
       "        }\n",
       "      }\n",
       "    }, 25, root)\n",
       "  }\n",
       "})(window);</script>"
      ],
      "text/plain": [
       ":Curve   [pca_k]   (inertia)"
      ]
     },
     "execution_count": 135,
     "metadata": {
      "application/vnd.holoviews_exec.v0+json": {
       "id": "p5375"
      }
     },
     "output_type": "execute_result"
    }
   ],
   "source": [
    "# Plot a line chart with all the inertia values computed with \n",
    "# the different values of k to visually identify the optimal value for k.\n",
    "elbow_pca_plot = elbow_pca_df.hvplot.line(\n",
    "    x=\"pca_k\", \n",
    "    y=\"inertia\")\n",
    "elbow_pca_plot"
   ]
  },
  {
   "cell_type": "markdown",
   "metadata": {},
   "source": [
    "#### Answer the following questions: What is the best value for k when using the PCA data? Does it differ from the best k value found using the original data?\n",
    "* **Question:** What is the best value for `k` when using the PCA data?\n",
    "\n",
    "  * **Answer:** The best value is 4\n",
    "\n",
    "\n",
    "* **Question:** Does it differ from the best k value found using the original data?\n",
    "\n",
    "  * **Answer:** No, I obtained the same result: 4."
   ]
  },
  {
   "cell_type": "markdown",
   "metadata": {},
   "source": [
    "---"
   ]
  },
  {
   "cell_type": "markdown",
   "metadata": {},
   "source": [
    "### Cluster Cryptocurrencies with K-means Using the PCA Data\n",
    "\n",
    "In this section, you will use the PCA data and the K-Means algorithm with the best value for `k` found in the previous section to cluster the cryptocurrencies according to the principal components.\n",
    "\n",
    "1. Initialize the K-Means model with four clusters using the best value for `k`. \n",
    "\n",
    "2. Fit the K-Means model using the PCA data.\n",
    "\n",
    "3. Predict the clusters to group the cryptocurrencies using the PCA data. View the resulting array of cluster values.\n",
    "\n",
    "4. Add a new column to the DataFrame with the PCA data to store the predicted clusters.\n",
    "\n",
    "5. Create a scatter plot using hvPlot by setting `x=\"PC1\"` and `y=\"PC2\"`. Color the graph points with the labels found using K-Means and add the crypto name in the `hover_cols` parameter to identify the cryptocurrency represented by each data point."
   ]
  },
  {
   "cell_type": "code",
   "execution_count": 136,
   "metadata": {},
   "outputs": [],
   "source": [
    "# Initialize the K-Means model using the best value for k\n",
    "model_1 = KMeans(n_clusters=4, random_state=1)"
   ]
  },
  {
   "cell_type": "code",
   "execution_count": 137,
   "metadata": {},
   "outputs": [
    {
     "name": "stderr",
     "output_type": "stream",
     "text": [
      "C:\\Users\\victo\\anaconda3\\envs\\dev\\lib\\site-packages\\sklearn\\cluster\\_kmeans.py:1416: FutureWarning: The default value of `n_init` will change from 10 to 'auto' in 1.4. Set the value of `n_init` explicitly to suppress the warning\n",
      "  super()._check_params_vs_input(X, default_n_init=10)\n",
      "C:\\Users\\victo\\anaconda3\\envs\\dev\\lib\\site-packages\\sklearn\\cluster\\_kmeans.py:1440: UserWarning: KMeans is known to have a memory leak on Windows with MKL, when there are less chunks than available threads. You can avoid it by setting the environment variable OMP_NUM_THREADS=1.\n",
      "  warnings.warn(\n"
     ]
    },
    {
     "data": {
      "text/html": [
       "<style>#sk-container-id-5 {color: black;}#sk-container-id-5 pre{padding: 0;}#sk-container-id-5 div.sk-toggleable {background-color: white;}#sk-container-id-5 label.sk-toggleable__label {cursor: pointer;display: block;width: 100%;margin-bottom: 0;padding: 0.3em;box-sizing: border-box;text-align: center;}#sk-container-id-5 label.sk-toggleable__label-arrow:before {content: \"▸\";float: left;margin-right: 0.25em;color: #696969;}#sk-container-id-5 label.sk-toggleable__label-arrow:hover:before {color: black;}#sk-container-id-5 div.sk-estimator:hover label.sk-toggleable__label-arrow:before {color: black;}#sk-container-id-5 div.sk-toggleable__content {max-height: 0;max-width: 0;overflow: hidden;text-align: left;background-color: #f0f8ff;}#sk-container-id-5 div.sk-toggleable__content pre {margin: 0.2em;color: black;border-radius: 0.25em;background-color: #f0f8ff;}#sk-container-id-5 input.sk-toggleable__control:checked~div.sk-toggleable__content {max-height: 200px;max-width: 100%;overflow: auto;}#sk-container-id-5 input.sk-toggleable__control:checked~label.sk-toggleable__label-arrow:before {content: \"▾\";}#sk-container-id-5 div.sk-estimator input.sk-toggleable__control:checked~label.sk-toggleable__label {background-color: #d4ebff;}#sk-container-id-5 div.sk-label input.sk-toggleable__control:checked~label.sk-toggleable__label {background-color: #d4ebff;}#sk-container-id-5 input.sk-hidden--visually {border: 0;clip: rect(1px 1px 1px 1px);clip: rect(1px, 1px, 1px, 1px);height: 1px;margin: -1px;overflow: hidden;padding: 0;position: absolute;width: 1px;}#sk-container-id-5 div.sk-estimator {font-family: monospace;background-color: #f0f8ff;border: 1px dotted black;border-radius: 0.25em;box-sizing: border-box;margin-bottom: 0.5em;}#sk-container-id-5 div.sk-estimator:hover {background-color: #d4ebff;}#sk-container-id-5 div.sk-parallel-item::after {content: \"\";width: 100%;border-bottom: 1px solid gray;flex-grow: 1;}#sk-container-id-5 div.sk-label:hover label.sk-toggleable__label {background-color: #d4ebff;}#sk-container-id-5 div.sk-serial::before {content: \"\";position: absolute;border-left: 1px solid gray;box-sizing: border-box;top: 0;bottom: 0;left: 50%;z-index: 0;}#sk-container-id-5 div.sk-serial {display: flex;flex-direction: column;align-items: center;background-color: white;padding-right: 0.2em;padding-left: 0.2em;position: relative;}#sk-container-id-5 div.sk-item {position: relative;z-index: 1;}#sk-container-id-5 div.sk-parallel {display: flex;align-items: stretch;justify-content: center;background-color: white;position: relative;}#sk-container-id-5 div.sk-item::before, #sk-container-id-5 div.sk-parallel-item::before {content: \"\";position: absolute;border-left: 1px solid gray;box-sizing: border-box;top: 0;bottom: 0;left: 50%;z-index: -1;}#sk-container-id-5 div.sk-parallel-item {display: flex;flex-direction: column;z-index: 1;position: relative;background-color: white;}#sk-container-id-5 div.sk-parallel-item:first-child::after {align-self: flex-end;width: 50%;}#sk-container-id-5 div.sk-parallel-item:last-child::after {align-self: flex-start;width: 50%;}#sk-container-id-5 div.sk-parallel-item:only-child::after {width: 0;}#sk-container-id-5 div.sk-dashed-wrapped {border: 1px dashed gray;margin: 0 0.4em 0.5em 0.4em;box-sizing: border-box;padding-bottom: 0.4em;background-color: white;}#sk-container-id-5 div.sk-label label {font-family: monospace;font-weight: bold;display: inline-block;line-height: 1.2em;}#sk-container-id-5 div.sk-label-container {text-align: center;}#sk-container-id-5 div.sk-container {/* jupyter's `normalize.less` sets `[hidden] { display: none; }` but bootstrap.min.css set `[hidden] { display: none !important; }` so we also need the `!important` here to be able to override the default hidden behavior on the sphinx rendered scikit-learn.org. See: https://github.com/scikit-learn/scikit-learn/issues/21755 */display: inline-block !important;position: relative;}#sk-container-id-5 div.sk-text-repr-fallback {display: none;}</style><div id=\"sk-container-id-5\" class=\"sk-top-container\"><div class=\"sk-text-repr-fallback\"><pre>KMeans(n_clusters=4, random_state=1)</pre><b>In a Jupyter environment, please rerun this cell to show the HTML representation or trust the notebook. <br />On GitHub, the HTML representation is unable to render, please try loading this page with nbviewer.org.</b></div><div class=\"sk-container\" hidden><div class=\"sk-item\"><div class=\"sk-estimator sk-toggleable\"><input class=\"sk-toggleable__control sk-hidden--visually\" id=\"sk-estimator-id-5\" type=\"checkbox\" checked><label for=\"sk-estimator-id-5\" class=\"sk-toggleable__label sk-toggleable__label-arrow\">KMeans</label><div class=\"sk-toggleable__content\"><pre>KMeans(n_clusters=4, random_state=1)</pre></div></div></div></div></div>"
      ],
      "text/plain": [
       "KMeans(n_clusters=4, random_state=1)"
      ]
     },
     "execution_count": 137,
     "metadata": {},
     "output_type": "execute_result"
    }
   ],
   "source": [
    "# Fit the K-Means model using the PCA data\n",
    "model_1.fit(df_market_data_pca)"
   ]
  },
  {
   "cell_type": "code",
   "execution_count": 138,
   "metadata": {},
   "outputs": [
    {
     "data": {
      "text/plain": [
       "array([2, 2, 0, 0, 2, 2, 2, 2, 2, 0, 0, 0, 0, 2, 0, 2, 0, 0, 2, 0, 0, 2,\n",
       "       0, 0, 0, 0, 0, 0, 2, 0, 0, 0, 3, 2, 0, 0, 1, 0, 0, 0, 0])"
      ]
     },
     "execution_count": 138,
     "metadata": {},
     "output_type": "execute_result"
    }
   ],
   "source": [
    "# Predict the clusters to group the cryptocurrencies using the PCA data\n",
    "k_pred_1 = model_1.predict(df_market_data_pca)\n",
    "\n",
    "# View the resulting array of cluster values.\n",
    "k_pred_1"
   ]
  },
  {
   "cell_type": "code",
   "execution_count": 139,
   "metadata": {},
   "outputs": [
    {
     "data": {
      "text/html": [
       "<div>\n",
       "<style scoped>\n",
       "    .dataframe tbody tr th:only-of-type {\n",
       "        vertical-align: middle;\n",
       "    }\n",
       "\n",
       "    .dataframe tbody tr th {\n",
       "        vertical-align: top;\n",
       "    }\n",
       "\n",
       "    .dataframe thead th {\n",
       "        text-align: right;\n",
       "    }\n",
       "</style>\n",
       "<table border=\"1\" class=\"dataframe\">\n",
       "  <thead>\n",
       "    <tr style=\"text-align: right;\">\n",
       "      <th></th>\n",
       "      <th>PCA_1</th>\n",
       "      <th>PCA_2</th>\n",
       "      <th>PCA_3</th>\n",
       "      <th>pca_pred</th>\n",
       "    </tr>\n",
       "    <tr>\n",
       "      <th>coin_id</th>\n",
       "      <th></th>\n",
       "      <th></th>\n",
       "      <th></th>\n",
       "      <th></th>\n",
       "    </tr>\n",
       "  </thead>\n",
       "  <tbody>\n",
       "    <tr>\n",
       "      <th>bitcoin</th>\n",
       "      <td>-0.600667</td>\n",
       "      <td>0.842760</td>\n",
       "      <td>0.461595</td>\n",
       "      <td>2</td>\n",
       "    </tr>\n",
       "    <tr>\n",
       "      <th>ethereum</th>\n",
       "      <td>-0.458261</td>\n",
       "      <td>0.458466</td>\n",
       "      <td>0.952877</td>\n",
       "      <td>2</td>\n",
       "    </tr>\n",
       "    <tr>\n",
       "      <th>tether</th>\n",
       "      <td>-0.433070</td>\n",
       "      <td>-0.168126</td>\n",
       "      <td>-0.641752</td>\n",
       "      <td>0</td>\n",
       "    </tr>\n",
       "    <tr>\n",
       "      <th>ripple</th>\n",
       "      <td>-0.471835</td>\n",
       "      <td>-0.222660</td>\n",
       "      <td>-0.479053</td>\n",
       "      <td>0</td>\n",
       "    </tr>\n",
       "    <tr>\n",
       "      <th>bitcoin-cash</th>\n",
       "      <td>-1.157800</td>\n",
       "      <td>2.041209</td>\n",
       "      <td>1.859715</td>\n",
       "      <td>2</td>\n",
       "    </tr>\n",
       "  </tbody>\n",
       "</table>\n",
       "</div>"
      ],
      "text/plain": [
       "                 PCA_1     PCA_2     PCA_3  pca_pred\n",
       "coin_id                                             \n",
       "bitcoin      -0.600667  0.842760  0.461595         2\n",
       "ethereum     -0.458261  0.458466  0.952877         2\n",
       "tether       -0.433070 -0.168126 -0.641752         0\n",
       "ripple       -0.471835 -0.222660 -0.479053         0\n",
       "bitcoin-cash -1.157800  2.041209  1.859715         2"
      ]
     },
     "execution_count": 139,
     "metadata": {},
     "output_type": "execute_result"
    }
   ],
   "source": [
    "# Create a copy of the DataFrame with the PCA data\n",
    "df_market_data_pca_pred = df_market_data_pca.copy()\n",
    "\n",
    "# Add a new column to the DataFrame with the predicted clusters\n",
    "df_market_data_pca_pred['pca_pred']= k_pred_1\n",
    "\n",
    "# Display sample data\n",
    "df_market_data_pca_pred.head()"
   ]
  },
  {
   "cell_type": "code",
   "execution_count": 140,
   "metadata": {},
   "outputs": [
    {
     "data": {},
     "metadata": {},
     "output_type": "display_data"
    },
    {
     "data": {
      "application/vnd.holoviews_exec.v0+json": "",
      "text/html": [
       "<div id='p5434'>\n",
       "  <div id=\"d3251aa1-51bb-42ac-9a6f-dd7f6f9af6e3\" data-root-id=\"p5434\" style=\"display: contents;\"></div>\n",
       "</div>\n",
       "<script type=\"application/javascript\">(function(root) {\n",
       "  var docs_json = {\"1051f1bd-0c5e-4776-b90b-9805b3c0390b\":{\"version\":\"3.2.1\",\"title\":\"Bokeh Application\",\"roots\":[{\"type\":\"object\",\"name\":\"Row\",\"id\":\"p5434\",\"attributes\":{\"name\":\"Row11019\",\"tags\":[\"embedded\"],\"stylesheets\":[\"\\n:host(.pn-loading.pn-arc):before, .pn-loading.pn-arc:before {\\n  background-image: url(\\\"data:image/svg+xml;base64,PHN2ZyB4bWxucz0iaHR0cDovL3d3dy53My5vcmcvMjAwMC9zdmciIHN0eWxlPSJtYXJnaW46IGF1dG87IGJhY2tncm91bmQ6IG5vbmU7IGRpc3BsYXk6IGJsb2NrOyBzaGFwZS1yZW5kZXJpbmc6IGF1dG87IiB2aWV3Qm94PSIwIDAgMTAwIDEwMCIgcHJlc2VydmVBc3BlY3RSYXRpbz0ieE1pZFlNaWQiPiAgPGNpcmNsZSBjeD0iNTAiIGN5PSI1MCIgZmlsbD0ibm9uZSIgc3Ryb2tlPSIjYzNjM2MzIiBzdHJva2Utd2lkdGg9IjEwIiByPSIzNSIgc3Ryb2tlLWRhc2hhcnJheT0iMTY0LjkzMzYxNDMxMzQ2NDE1IDU2Ljk3Nzg3MTQzNzgyMTM4Ij4gICAgPGFuaW1hdGVUcmFuc2Zvcm0gYXR0cmlidXRlTmFtZT0idHJhbnNmb3JtIiB0eXBlPSJyb3RhdGUiIHJlcGVhdENvdW50PSJpbmRlZmluaXRlIiBkdXI9IjFzIiB2YWx1ZXM9IjAgNTAgNTA7MzYwIDUwIDUwIiBrZXlUaW1lcz0iMDsxIj48L2FuaW1hdGVUcmFuc2Zvcm0+ICA8L2NpcmNsZT48L3N2Zz4=\\\");\\n  background-size: auto calc(min(50%, 400px));\\n}\",{\"type\":\"object\",\"name\":\"ImportedStyleSheet\",\"id\":\"p5437\",\"attributes\":{\"url\":\"https://cdn.holoviz.org/panel/1.2.1/dist/css/loading.css\"}},{\"type\":\"object\",\"name\":\"ImportedStyleSheet\",\"id\":\"p5542\",\"attributes\":{\"url\":\"https://cdn.holoviz.org/panel/1.2.1/dist/css/listpanel.css\"}},{\"type\":\"object\",\"name\":\"ImportedStyleSheet\",\"id\":\"p5435\",\"attributes\":{\"url\":\"https://cdn.holoviz.org/panel/1.2.1/dist/bundled/theme/default.css\"}},{\"type\":\"object\",\"name\":\"ImportedStyleSheet\",\"id\":\"p5436\",\"attributes\":{\"url\":\"https://cdn.holoviz.org/panel/1.2.1/dist/bundled/theme/native.css\"}}],\"min_width\":700,\"margin\":0,\"sizing_mode\":\"stretch_width\",\"align\":\"start\",\"children\":[{\"type\":\"object\",\"name\":\"Spacer\",\"id\":\"p5438\",\"attributes\":{\"name\":\"HSpacer11030\",\"stylesheets\":[\"\\n:host(.pn-loading.pn-arc):before, .pn-loading.pn-arc:before {\\n  background-image: url(\\\"data:image/svg+xml;base64,PHN2ZyB4bWxucz0iaHR0cDovL3d3dy53My5vcmcvMjAwMC9zdmciIHN0eWxlPSJtYXJnaW46IGF1dG87IGJhY2tncm91bmQ6IG5vbmU7IGRpc3BsYXk6IGJsb2NrOyBzaGFwZS1yZW5kZXJpbmc6IGF1dG87IiB2aWV3Qm94PSIwIDAgMTAwIDEwMCIgcHJlc2VydmVBc3BlY3RSYXRpbz0ieE1pZFlNaWQiPiAgPGNpcmNsZSBjeD0iNTAiIGN5PSI1MCIgZmlsbD0ibm9uZSIgc3Ryb2tlPSIjYzNjM2MzIiBzdHJva2Utd2lkdGg9IjEwIiByPSIzNSIgc3Ryb2tlLWRhc2hhcnJheT0iMTY0LjkzMzYxNDMxMzQ2NDE1IDU2Ljk3Nzg3MTQzNzgyMTM4Ij4gICAgPGFuaW1hdGVUcmFuc2Zvcm0gYXR0cmlidXRlTmFtZT0idHJhbnNmb3JtIiB0eXBlPSJyb3RhdGUiIHJlcGVhdENvdW50PSJpbmRlZmluaXRlIiBkdXI9IjFzIiB2YWx1ZXM9IjAgNTAgNTA7MzYwIDUwIDUwIiBrZXlUaW1lcz0iMDsxIj48L2FuaW1hdGVUcmFuc2Zvcm0+ICA8L2NpcmNsZT48L3N2Zz4=\\\");\\n  background-size: auto calc(min(50%, 400px));\\n}\",{\"id\":\"p5437\"},{\"id\":\"p5435\"},{\"id\":\"p5436\"}],\"margin\":0,\"sizing_mode\":\"stretch_width\",\"align\":\"start\"}},{\"type\":\"object\",\"name\":\"Figure\",\"id\":\"p5455\",\"attributes\":{\"width\":700,\"height\":300,\"margin\":[5,10],\"sizing_mode\":\"fixed\",\"align\":\"start\",\"x_range\":{\"type\":\"object\",\"name\":\"Range1d\",\"id\":\"p5439\",\"attributes\":{\"tags\":[[[\"PCA_1\",\"PCA_1\",null]],[]],\"start\":-1.5540921804637602,\"end\":8.485310422788737,\"reset_start\":-1.5540921804637602,\"reset_end\":8.485310422788737}},\"y_range\":{\"type\":\"object\",\"name\":\"Range1d\",\"id\":\"p5440\",\"attributes\":{\"tags\":[[[\"PCA_2\",\"PCA_2\",null]],{\"type\":\"map\",\"entries\":[[\"invert_yaxis\",false],[\"autorange\",false]]}],\"start\":-4.963347456561368,\"end\":7.83413559633714,\"reset_start\":-4.963347456561368,\"reset_end\":7.83413559633714}},\"x_scale\":{\"type\":\"object\",\"name\":\"LinearScale\",\"id\":\"p5465\"},\"y_scale\":{\"type\":\"object\",\"name\":\"LinearScale\",\"id\":\"p5466\"},\"title\":{\"type\":\"object\",\"name\":\"Title\",\"id\":\"p5458\",\"attributes\":{\"text_color\":\"black\",\"text_font_size\":\"12pt\"}},\"renderers\":[{\"type\":\"object\",\"name\":\"GlyphRenderer\",\"id\":\"p5491\",\"attributes\":{\"name\":\"0\",\"data_source\":{\"type\":\"object\",\"name\":\"ColumnDataSource\",\"id\":\"p5482\",\"attributes\":{\"selected\":{\"type\":\"object\",\"name\":\"Selection\",\"id\":\"p5483\",\"attributes\":{\"indices\":[],\"line_indices\":[]}},\"selection_policy\":{\"type\":\"object\",\"name\":\"UnionRenderers\",\"id\":\"p5484\"},\"data\":{\"type\":\"map\",\"entries\":[[\"PCA_1\",{\"type\":\"ndarray\",\"array\":{\"type\":\"bytes\",\"data\":\"TJZ8amq3278UYXw2izLev9jya5vXSei/S/tzoPfEz7+Bh/TX3g7cv4oZGVOKMOa/gkwjp68s2b/0BLsJMGewP7SyldMFTN+/DekqwdFu4L/bFokx+yzXv5MSO2dvc9q/xxEoujMU2r94ZdmqtnzjP+hN1mNC0Ny/iti9MiN46L/kse9uVM3hv+hGFZE5agVAmSC8UEGl47+1vuS6vI7iv3QKKydStOs/cJK6/7yWvD9vXMBgQDzkv5YbmkYF++K/Dr1JmQJS3b/84a/49hDTvw==\"},\"shape\":[26],\"dtype\":\"float64\",\"order\":\"little\"}],[\"PCA_2\",{\"type\":\"ndarray\",\"array\":{\"type\":\"bytes\",\"data\":\"lNF7TyqFxb+vj1UaIIDMv6PhzCbqwMm/yzoUYyAF9r+8ZsaEbXHGv0fJIJL6Ut6/fyu0IHiyu79tgFApNFH0vwWhJl5vcue/1JKaSllHwr+6iEuGzZTvv2r5wy5akuW/tN3jHmozy7+sF2SFdAjiP2kuIf2aVMO/NOuFsYSS4L9ZbbiA5wL/vxN2Joz3k4y/jY8PRXSt3r8M37YoLM7Wv2X+1spVGALA5CEohoZp2z9DqFKDbN0AwPUO7msnAJY/VfWtmbtfwb9ISPDBzXbIvw==\"},\"shape\":[26],\"dtype\":\"float64\",\"order\":\"little\"}],[\"coin_id\",[\"tether\",\"ripple\",\"bitcoin-cash-sv\",\"crypto-com-chain\",\"usd-coin\",\"eos\",\"tron\",\"okb\",\"stellar\",\"cdai\",\"neo\",\"leo-token\",\"huobi-token\",\"nem\",\"binance-usd\",\"iota\",\"vechain\",\"theta-token\",\"dash\",\"ethereum-classic\",\"havven\",\"omisego\",\"ontology\",\"ftx-token\",\"true-usd\",\"digibyte\"]],[\"pca_pred\",[0,0,0,0,0,0,0,0,0,0,0,0,0,0,0,0,0,0,0,0,0,0,0,0,0,0]]]}}},\"view\":{\"type\":\"object\",\"name\":\"CDSView\",\"id\":\"p5492\",\"attributes\":{\"filter\":{\"type\":\"object\",\"name\":\"AllIndices\",\"id\":\"p5493\"}}},\"glyph\":{\"type\":\"object\",\"name\":\"Scatter\",\"id\":\"p5488\",\"attributes\":{\"tags\":[\"apply_ranges\"],\"x\":{\"type\":\"field\",\"field\":\"PCA_1\"},\"y\":{\"type\":\"field\",\"field\":\"PCA_2\"},\"size\":{\"type\":\"value\",\"value\":5.477225575051661},\"line_color\":{\"type\":\"value\",\"value\":\"#30a2da\"},\"fill_color\":{\"type\":\"value\",\"value\":\"#30a2da\"},\"hatch_color\":{\"type\":\"value\",\"value\":\"#30a2da\"}}},\"selection_glyph\":{\"type\":\"object\",\"name\":\"Scatter\",\"id\":\"p5496\",\"attributes\":{\"tags\":[\"apply_ranges\"],\"x\":{\"type\":\"field\",\"field\":\"PCA_1\"},\"y\":{\"type\":\"field\",\"field\":\"PCA_2\"},\"size\":{\"type\":\"value\",\"value\":5.477225575051661},\"angle\":{\"type\":\"value\",\"value\":0.0},\"line_color\":{\"type\":\"value\",\"value\":\"#30a2da\"},\"line_alpha\":{\"type\":\"value\",\"value\":1.0},\"line_width\":{\"type\":\"value\",\"value\":1},\"line_join\":{\"type\":\"value\",\"value\":\"bevel\"},\"line_cap\":{\"type\":\"value\",\"value\":\"butt\"},\"line_dash\":{\"type\":\"value\",\"value\":[]},\"line_dash_offset\":{\"type\":\"value\",\"value\":0},\"fill_color\":{\"type\":\"value\",\"value\":\"#30a2da\"},\"fill_alpha\":{\"type\":\"value\",\"value\":1.0},\"hatch_color\":{\"type\":\"value\",\"value\":\"#30a2da\"},\"hatch_alpha\":{\"type\":\"value\",\"value\":1.0},\"hatch_scale\":{\"type\":\"value\",\"value\":12.0},\"hatch_pattern\":{\"type\":\"value\",\"value\":null},\"hatch_weight\":{\"type\":\"value\",\"value\":1.0},\"marker\":{\"type\":\"value\",\"value\":\"circle\"}}},\"nonselection_glyph\":{\"type\":\"object\",\"name\":\"Scatter\",\"id\":\"p5489\",\"attributes\":{\"tags\":[\"apply_ranges\"],\"x\":{\"type\":\"field\",\"field\":\"PCA_1\"},\"y\":{\"type\":\"field\",\"field\":\"PCA_2\"},\"size\":{\"type\":\"value\",\"value\":5.477225575051661},\"line_color\":{\"type\":\"value\",\"value\":\"#30a2da\"},\"line_alpha\":{\"type\":\"value\",\"value\":0.1},\"fill_color\":{\"type\":\"value\",\"value\":\"#30a2da\"},\"fill_alpha\":{\"type\":\"value\",\"value\":0.1},\"hatch_color\":{\"type\":\"value\",\"value\":\"#30a2da\"},\"hatch_alpha\":{\"type\":\"value\",\"value\":0.1}}},\"muted_glyph\":{\"type\":\"object\",\"name\":\"Scatter\",\"id\":\"p5490\",\"attributes\":{\"tags\":[\"apply_ranges\"],\"x\":{\"type\":\"field\",\"field\":\"PCA_1\"},\"y\":{\"type\":\"field\",\"field\":\"PCA_2\"},\"size\":{\"type\":\"value\",\"value\":5.477225575051661},\"line_color\":{\"type\":\"value\",\"value\":\"#30a2da\"},\"line_alpha\":{\"type\":\"value\",\"value\":0.2},\"fill_color\":{\"type\":\"value\",\"value\":\"#30a2da\"},\"fill_alpha\":{\"type\":\"value\",\"value\":0.2},\"hatch_color\":{\"type\":\"value\",\"value\":\"#30a2da\"},\"hatch_alpha\":{\"type\":\"value\",\"value\":0.2}}}}},{\"type\":\"object\",\"name\":\"GlyphRenderer\",\"id\":\"p5506\",\"attributes\":{\"name\":\"1\",\"data_source\":{\"type\":\"object\",\"name\":\"ColumnDataSource\",\"id\":\"p5497\",\"attributes\":{\"selected\":{\"type\":\"object\",\"name\":\"Selection\",\"id\":\"p5498\",\"attributes\":{\"indices\":[],\"line_indices\":[]}},\"selection_policy\":{\"type\":\"object\",\"name\":\"UnionRenderers\",\"id\":\"p5499\"},\"data\":{\"type\":\"map\",\"entries\":[[\"PCA_1\",{\"type\":\"ndarray\",\"array\":{\"type\":\"bytes\",\"data\":\"RxQ7s2krE0A=\"},\"shape\":[1],\"dtype\":\"float64\",\"order\":\"little\"}],[\"PCA_2\",{\"type\":\"ndarray\",\"array\":{\"type\":\"bytes\",\"data\":\"JVrQWxoSG0A=\"},\"shape\":[1],\"dtype\":\"float64\",\"order\":\"little\"}],[\"coin_id\",[\"celsius-degree-token\"]],[\"pca_pred\",[1]]]}}},\"view\":{\"type\":\"object\",\"name\":\"CDSView\",\"id\":\"p5507\",\"attributes\":{\"filter\":{\"type\":\"object\",\"name\":\"AllIndices\",\"id\":\"p5508\"}}},\"glyph\":{\"type\":\"object\",\"name\":\"Scatter\",\"id\":\"p5503\",\"attributes\":{\"tags\":[\"apply_ranges\"],\"x\":{\"type\":\"field\",\"field\":\"PCA_1\"},\"y\":{\"type\":\"field\",\"field\":\"PCA_2\"},\"size\":{\"type\":\"value\",\"value\":5.477225575051661},\"line_color\":{\"type\":\"value\",\"value\":\"#fc4f30\"},\"fill_color\":{\"type\":\"value\",\"value\":\"#fc4f30\"},\"hatch_color\":{\"type\":\"value\",\"value\":\"#fc4f30\"}}},\"selection_glyph\":{\"type\":\"object\",\"name\":\"Scatter\",\"id\":\"p5510\",\"attributes\":{\"tags\":[\"apply_ranges\"],\"x\":{\"type\":\"field\",\"field\":\"PCA_1\"},\"y\":{\"type\":\"field\",\"field\":\"PCA_2\"},\"size\":{\"type\":\"value\",\"value\":5.477225575051661},\"angle\":{\"type\":\"value\",\"value\":0.0},\"line_color\":{\"type\":\"value\",\"value\":\"#fc4f30\"},\"line_alpha\":{\"type\":\"value\",\"value\":1.0},\"line_width\":{\"type\":\"value\",\"value\":1},\"line_join\":{\"type\":\"value\",\"value\":\"bevel\"},\"line_cap\":{\"type\":\"value\",\"value\":\"butt\"},\"line_dash\":{\"type\":\"value\",\"value\":[]},\"line_dash_offset\":{\"type\":\"value\",\"value\":0},\"fill_color\":{\"type\":\"value\",\"value\":\"#fc4f30\"},\"fill_alpha\":{\"type\":\"value\",\"value\":1.0},\"hatch_color\":{\"type\":\"value\",\"value\":\"#fc4f30\"},\"hatch_alpha\":{\"type\":\"value\",\"value\":1.0},\"hatch_scale\":{\"type\":\"value\",\"value\":12.0},\"hatch_pattern\":{\"type\":\"value\",\"value\":null},\"hatch_weight\":{\"type\":\"value\",\"value\":1.0},\"marker\":{\"type\":\"value\",\"value\":\"circle\"}}},\"nonselection_glyph\":{\"type\":\"object\",\"name\":\"Scatter\",\"id\":\"p5504\",\"attributes\":{\"tags\":[\"apply_ranges\"],\"x\":{\"type\":\"field\",\"field\":\"PCA_1\"},\"y\":{\"type\":\"field\",\"field\":\"PCA_2\"},\"size\":{\"type\":\"value\",\"value\":5.477225575051661},\"line_color\":{\"type\":\"value\",\"value\":\"#fc4f30\"},\"line_alpha\":{\"type\":\"value\",\"value\":0.1},\"fill_color\":{\"type\":\"value\",\"value\":\"#fc4f30\"},\"fill_alpha\":{\"type\":\"value\",\"value\":0.1},\"hatch_color\":{\"type\":\"value\",\"value\":\"#fc4f30\"},\"hatch_alpha\":{\"type\":\"value\",\"value\":0.1}}},\"muted_glyph\":{\"type\":\"object\",\"name\":\"Scatter\",\"id\":\"p5505\",\"attributes\":{\"tags\":[\"apply_ranges\"],\"x\":{\"type\":\"field\",\"field\":\"PCA_1\"},\"y\":{\"type\":\"field\",\"field\":\"PCA_2\"},\"size\":{\"type\":\"value\",\"value\":5.477225575051661},\"line_color\":{\"type\":\"value\",\"value\":\"#fc4f30\"},\"line_alpha\":{\"type\":\"value\",\"value\":0.2},\"fill_color\":{\"type\":\"value\",\"value\":\"#fc4f30\"},\"fill_alpha\":{\"type\":\"value\",\"value\":0.2},\"hatch_color\":{\"type\":\"value\",\"value\":\"#fc4f30\"},\"hatch_alpha\":{\"type\":\"value\",\"value\":0.2}}}}},{\"type\":\"object\",\"name\":\"GlyphRenderer\",\"id\":\"p5520\",\"attributes\":{\"name\":\"2\",\"data_source\":{\"type\":\"object\",\"name\":\"ColumnDataSource\",\"id\":\"p5511\",\"attributes\":{\"selected\":{\"type\":\"object\",\"name\":\"Selection\",\"id\":\"p5512\",\"attributes\":{\"indices\":[],\"line_indices\":[]}},\"selection_policy\":{\"type\":\"object\",\"name\":\"UnionRenderers\",\"id\":\"p5513\"},\"data\":{\"type\":\"map\",\"entries\":[[\"PCA_1\",{\"type\":\"ndarray\",\"array\":{\"type\":\"bytes\",\"data\":\"S/XQrqo447/f0e2+JFTdv2ATj0NZhvK/ItMJ1HGH4L/0WkdgdNjcvwn+x3tOHta/lm1M83DI5L/osk+KvvmuP5kxxVNFeum/186LH/eZ07/b3W/HIlbjv2Hz5tCaNdu/vEmjFh7m2L8=\"},\"shape\":[13],\"dtype\":\"float64\",\"order\":\"little\"}],[\"PCA_2\",{\"type\":\"ndarray\",\"array\":{\"type\":\"bytes\",\"data\":\"tQJY8+P36j9hP81egFfdP6JEN3tlVABAbaRxTss29j+zZPC8/ZDgP3/E/UiRV+c/WS0795eo2z+X9tOGdUYHQHCknptkpN+/aENue2CC5j9WCxibCnrqP9N0su7rjN8/T0ntLg0gxT8=\"},\"shape\":[13],\"dtype\":\"float64\",\"order\":\"little\"}],[\"coin_id\",[\"bitcoin\",\"ethereum\",\"bitcoin-cash\",\"binancecoin\",\"chainlink\",\"cardano\",\"litecoin\",\"monero\",\"tezos\",\"cosmos\",\"wrapped-bitcoin\",\"zcash\",\"maker\"]],[\"pca_pred\",[2,2,2,2,2,2,2,2,2,2,2,2,2]]]}}},\"view\":{\"type\":\"object\",\"name\":\"CDSView\",\"id\":\"p5521\",\"attributes\":{\"filter\":{\"type\":\"object\",\"name\":\"AllIndices\",\"id\":\"p5522\"}}},\"glyph\":{\"type\":\"object\",\"name\":\"Scatter\",\"id\":\"p5517\",\"attributes\":{\"tags\":[\"apply_ranges\"],\"x\":{\"type\":\"field\",\"field\":\"PCA_1\"},\"y\":{\"type\":\"field\",\"field\":\"PCA_2\"},\"size\":{\"type\":\"value\",\"value\":5.477225575051661},\"line_color\":{\"type\":\"value\",\"value\":\"#e5ae38\"},\"fill_color\":{\"type\":\"value\",\"value\":\"#e5ae38\"},\"hatch_color\":{\"type\":\"value\",\"value\":\"#e5ae38\"}}},\"selection_glyph\":{\"type\":\"object\",\"name\":\"Scatter\",\"id\":\"p5524\",\"attributes\":{\"tags\":[\"apply_ranges\"],\"x\":{\"type\":\"field\",\"field\":\"PCA_1\"},\"y\":{\"type\":\"field\",\"field\":\"PCA_2\"},\"size\":{\"type\":\"value\",\"value\":5.477225575051661},\"angle\":{\"type\":\"value\",\"value\":0.0},\"line_color\":{\"type\":\"value\",\"value\":\"#e5ae38\"},\"line_alpha\":{\"type\":\"value\",\"value\":1.0},\"line_width\":{\"type\":\"value\",\"value\":1},\"line_join\":{\"type\":\"value\",\"value\":\"bevel\"},\"line_cap\":{\"type\":\"value\",\"value\":\"butt\"},\"line_dash\":{\"type\":\"value\",\"value\":[]},\"line_dash_offset\":{\"type\":\"value\",\"value\":0},\"fill_color\":{\"type\":\"value\",\"value\":\"#e5ae38\"},\"fill_alpha\":{\"type\":\"value\",\"value\":1.0},\"hatch_color\":{\"type\":\"value\",\"value\":\"#e5ae38\"},\"hatch_alpha\":{\"type\":\"value\",\"value\":1.0},\"hatch_scale\":{\"type\":\"value\",\"value\":12.0},\"hatch_pattern\":{\"type\":\"value\",\"value\":null},\"hatch_weight\":{\"type\":\"value\",\"value\":1.0},\"marker\":{\"type\":\"value\",\"value\":\"circle\"}}},\"nonselection_glyph\":{\"type\":\"object\",\"name\":\"Scatter\",\"id\":\"p5518\",\"attributes\":{\"tags\":[\"apply_ranges\"],\"x\":{\"type\":\"field\",\"field\":\"PCA_1\"},\"y\":{\"type\":\"field\",\"field\":\"PCA_2\"},\"size\":{\"type\":\"value\",\"value\":5.477225575051661},\"line_color\":{\"type\":\"value\",\"value\":\"#e5ae38\"},\"line_alpha\":{\"type\":\"value\",\"value\":0.1},\"fill_color\":{\"type\":\"value\",\"value\":\"#e5ae38\"},\"fill_alpha\":{\"type\":\"value\",\"value\":0.1},\"hatch_color\":{\"type\":\"value\",\"value\":\"#e5ae38\"},\"hatch_alpha\":{\"type\":\"value\",\"value\":0.1}}},\"muted_glyph\":{\"type\":\"object\",\"name\":\"Scatter\",\"id\":\"p5519\",\"attributes\":{\"tags\":[\"apply_ranges\"],\"x\":{\"type\":\"field\",\"field\":\"PCA_1\"},\"y\":{\"type\":\"field\",\"field\":\"PCA_2\"},\"size\":{\"type\":\"value\",\"value\":5.477225575051661},\"line_color\":{\"type\":\"value\",\"value\":\"#e5ae38\"},\"line_alpha\":{\"type\":\"value\",\"value\":0.2},\"fill_color\":{\"type\":\"value\",\"value\":\"#e5ae38\"},\"fill_alpha\":{\"type\":\"value\",\"value\":0.2},\"hatch_color\":{\"type\":\"value\",\"value\":\"#e5ae38\"},\"hatch_alpha\":{\"type\":\"value\",\"value\":0.2}}}}},{\"type\":\"object\",\"name\":\"GlyphRenderer\",\"id\":\"p5534\",\"attributes\":{\"name\":\"3\",\"data_source\":{\"type\":\"object\",\"name\":\"ColumnDataSource\",\"id\":\"p5525\",\"attributes\":{\"selected\":{\"type\":\"object\",\"name\":\"Selection\",\"id\":\"p5526\",\"attributes\":{\"indices\":[],\"line_indices\":[]}},\"selection_policy\":{\"type\":\"object\",\"name\":\"UnionRenderers\",\"id\":\"p5527\"},\"data\":{\"type\":\"map\",\"entries\":[[\"PCA_1\",{\"type\":\"ndarray\",\"array\":{\"type\":\"bytes\",\"data\":\"TlWiy5MtIEA=\"},\"shape\":[1],\"dtype\":\"float64\",\"order\":\"little\"}],[\"PCA_2\",{\"type\":\"ndarray\",\"array\":{\"type\":\"bytes\",\"data\":\"IQ3w8dQsD8A=\"},\"shape\":[1],\"dtype\":\"float64\",\"order\":\"little\"}],[\"coin_id\",[\"ethlend\"]],[\"pca_pred\",[3]]]}}},\"view\":{\"type\":\"object\",\"name\":\"CDSView\",\"id\":\"p5535\",\"attributes\":{\"filter\":{\"type\":\"object\",\"name\":\"AllIndices\",\"id\":\"p5536\"}}},\"glyph\":{\"type\":\"object\",\"name\":\"Scatter\",\"id\":\"p5531\",\"attributes\":{\"tags\":[\"apply_ranges\"],\"x\":{\"type\":\"field\",\"field\":\"PCA_1\"},\"y\":{\"type\":\"field\",\"field\":\"PCA_2\"},\"size\":{\"type\":\"value\",\"value\":5.477225575051661},\"line_color\":{\"type\":\"value\",\"value\":\"#6d904f\"},\"fill_color\":{\"type\":\"value\",\"value\":\"#6d904f\"},\"hatch_color\":{\"type\":\"value\",\"value\":\"#6d904f\"}}},\"selection_glyph\":{\"type\":\"object\",\"name\":\"Scatter\",\"id\":\"p5538\",\"attributes\":{\"tags\":[\"apply_ranges\"],\"x\":{\"type\":\"field\",\"field\":\"PCA_1\"},\"y\":{\"type\":\"field\",\"field\":\"PCA_2\"},\"size\":{\"type\":\"value\",\"value\":5.477225575051661},\"angle\":{\"type\":\"value\",\"value\":0.0},\"line_color\":{\"type\":\"value\",\"value\":\"#6d904f\"},\"line_alpha\":{\"type\":\"value\",\"value\":1.0},\"line_width\":{\"type\":\"value\",\"value\":1},\"line_join\":{\"type\":\"value\",\"value\":\"bevel\"},\"line_cap\":{\"type\":\"value\",\"value\":\"butt\"},\"line_dash\":{\"type\":\"value\",\"value\":[]},\"line_dash_offset\":{\"type\":\"value\",\"value\":0},\"fill_color\":{\"type\":\"value\",\"value\":\"#6d904f\"},\"fill_alpha\":{\"type\":\"value\",\"value\":1.0},\"hatch_color\":{\"type\":\"value\",\"value\":\"#6d904f\"},\"hatch_alpha\":{\"type\":\"value\",\"value\":1.0},\"hatch_scale\":{\"type\":\"value\",\"value\":12.0},\"hatch_pattern\":{\"type\":\"value\",\"value\":null},\"hatch_weight\":{\"type\":\"value\",\"value\":1.0},\"marker\":{\"type\":\"value\",\"value\":\"circle\"}}},\"nonselection_glyph\":{\"type\":\"object\",\"name\":\"Scatter\",\"id\":\"p5532\",\"attributes\":{\"tags\":[\"apply_ranges\"],\"x\":{\"type\":\"field\",\"field\":\"PCA_1\"},\"y\":{\"type\":\"field\",\"field\":\"PCA_2\"},\"size\":{\"type\":\"value\",\"value\":5.477225575051661},\"line_color\":{\"type\":\"value\",\"value\":\"#6d904f\"},\"line_alpha\":{\"type\":\"value\",\"value\":0.1},\"fill_color\":{\"type\":\"value\",\"value\":\"#6d904f\"},\"fill_alpha\":{\"type\":\"value\",\"value\":0.1},\"hatch_color\":{\"type\":\"value\",\"value\":\"#6d904f\"},\"hatch_alpha\":{\"type\":\"value\",\"value\":0.1}}},\"muted_glyph\":{\"type\":\"object\",\"name\":\"Scatter\",\"id\":\"p5533\",\"attributes\":{\"tags\":[\"apply_ranges\"],\"x\":{\"type\":\"field\",\"field\":\"PCA_1\"},\"y\":{\"type\":\"field\",\"field\":\"PCA_2\"},\"size\":{\"type\":\"value\",\"value\":5.477225575051661},\"line_color\":{\"type\":\"value\",\"value\":\"#6d904f\"},\"line_alpha\":{\"type\":\"value\",\"value\":0.2},\"fill_color\":{\"type\":\"value\",\"value\":\"#6d904f\"},\"fill_alpha\":{\"type\":\"value\",\"value\":0.2},\"hatch_color\":{\"type\":\"value\",\"value\":\"#6d904f\"},\"hatch_alpha\":{\"type\":\"value\",\"value\":0.2}}}}}],\"toolbar\":{\"type\":\"object\",\"name\":\"Toolbar\",\"id\":\"p5464\",\"attributes\":{\"tools\":[{\"type\":\"object\",\"name\":\"WheelZoomTool\",\"id\":\"p5444\",\"attributes\":{\"tags\":[\"hv_created\"],\"zoom_together\":\"none\"}},{\"type\":\"object\",\"name\":\"HoverTool\",\"id\":\"p5445\",\"attributes\":{\"tags\":[\"hv_created\"],\"renderers\":[{\"id\":\"p5491\"},{\"id\":\"p5506\"},{\"id\":\"p5520\"},{\"id\":\"p5534\"}],\"tooltips\":[[\"pca_pred\",\"@{pca_pred}\"],[\"PCA_1\",\"@{PCA_1}\"],[\"PCA_2\",\"@{PCA_2}\"],[\"coin_id\",\"@{coin_id}\"]]}},{\"type\":\"object\",\"name\":\"SaveTool\",\"id\":\"p5477\"},{\"type\":\"object\",\"name\":\"PanTool\",\"id\":\"p5478\"},{\"type\":\"object\",\"name\":\"BoxZoomTool\",\"id\":\"p5479\",\"attributes\":{\"overlay\":{\"type\":\"object\",\"name\":\"BoxAnnotation\",\"id\":\"p5480\",\"attributes\":{\"syncable\":false,\"level\":\"overlay\",\"visible\":false,\"left_units\":\"canvas\",\"right_units\":\"canvas\",\"bottom_units\":\"canvas\",\"top_units\":\"canvas\",\"line_color\":\"black\",\"line_alpha\":1.0,\"line_width\":2,\"line_dash\":[4,4],\"fill_color\":\"lightgrey\",\"fill_alpha\":0.5}}}},{\"type\":\"object\",\"name\":\"ResetTool\",\"id\":\"p5481\"}],\"active_drag\":{\"id\":\"p5478\"},\"active_scroll\":{\"id\":\"p5444\"}}},\"left\":[{\"type\":\"object\",\"name\":\"LinearAxis\",\"id\":\"p5472\",\"attributes\":{\"ticker\":{\"type\":\"object\",\"name\":\"BasicTicker\",\"id\":\"p5473\",\"attributes\":{\"mantissas\":[1,2,5]}},\"formatter\":{\"type\":\"object\",\"name\":\"BasicTickFormatter\",\"id\":\"p5474\"},\"axis_label\":\"PCA_2\",\"major_label_policy\":{\"type\":\"object\",\"name\":\"AllLabels\",\"id\":\"p5475\"}}}],\"right\":[{\"type\":\"object\",\"name\":\"Legend\",\"id\":\"p5494\",\"attributes\":{\"location\":[0,0],\"title\":\"pca_pred\",\"click_policy\":\"mute\",\"items\":[{\"type\":\"object\",\"name\":\"LegendItem\",\"id\":\"p5495\",\"attributes\":{\"label\":{\"type\":\"value\",\"value\":\"0\"},\"renderers\":[{\"id\":\"p5491\"}]}},{\"type\":\"object\",\"name\":\"LegendItem\",\"id\":\"p5509\",\"attributes\":{\"label\":{\"type\":\"value\",\"value\":\"1\"},\"renderers\":[{\"id\":\"p5506\"}]}},{\"type\":\"object\",\"name\":\"LegendItem\",\"id\":\"p5523\",\"attributes\":{\"label\":{\"type\":\"value\",\"value\":\"2\"},\"renderers\":[{\"id\":\"p5520\"}]}},{\"type\":\"object\",\"name\":\"LegendItem\",\"id\":\"p5537\",\"attributes\":{\"label\":{\"type\":\"value\",\"value\":\"3\"},\"renderers\":[{\"id\":\"p5534\"}]}}]}}],\"below\":[{\"type\":\"object\",\"name\":\"LinearAxis\",\"id\":\"p5467\",\"attributes\":{\"ticker\":{\"type\":\"object\",\"name\":\"BasicTicker\",\"id\":\"p5468\",\"attributes\":{\"mantissas\":[1,2,5]}},\"formatter\":{\"type\":\"object\",\"name\":\"BasicTickFormatter\",\"id\":\"p5469\"},\"axis_label\":\"PCA_1\",\"major_label_policy\":{\"type\":\"object\",\"name\":\"AllLabels\",\"id\":\"p5470\"}}}],\"center\":[{\"type\":\"object\",\"name\":\"Grid\",\"id\":\"p5471\",\"attributes\":{\"axis\":{\"id\":\"p5467\"},\"grid_line_color\":null}},{\"type\":\"object\",\"name\":\"Grid\",\"id\":\"p5476\",\"attributes\":{\"dimension\":1,\"axis\":{\"id\":\"p5472\"},\"grid_line_color\":null}}],\"min_border_top\":10,\"min_border_bottom\":10,\"min_border_left\":10,\"min_border_right\":10,\"output_backend\":\"webgl\"}},{\"type\":\"object\",\"name\":\"Spacer\",\"id\":\"p5540\",\"attributes\":{\"name\":\"HSpacer11033\",\"stylesheets\":[\"\\n:host(.pn-loading.pn-arc):before, .pn-loading.pn-arc:before {\\n  background-image: url(\\\"data:image/svg+xml;base64,PHN2ZyB4bWxucz0iaHR0cDovL3d3dy53My5vcmcvMjAwMC9zdmciIHN0eWxlPSJtYXJnaW46IGF1dG87IGJhY2tncm91bmQ6IG5vbmU7IGRpc3BsYXk6IGJsb2NrOyBzaGFwZS1yZW5kZXJpbmc6IGF1dG87IiB2aWV3Qm94PSIwIDAgMTAwIDEwMCIgcHJlc2VydmVBc3BlY3RSYXRpbz0ieE1pZFlNaWQiPiAgPGNpcmNsZSBjeD0iNTAiIGN5PSI1MCIgZmlsbD0ibm9uZSIgc3Ryb2tlPSIjYzNjM2MzIiBzdHJva2Utd2lkdGg9IjEwIiByPSIzNSIgc3Ryb2tlLWRhc2hhcnJheT0iMTY0LjkzMzYxNDMxMzQ2NDE1IDU2Ljk3Nzg3MTQzNzgyMTM4Ij4gICAgPGFuaW1hdGVUcmFuc2Zvcm0gYXR0cmlidXRlTmFtZT0idHJhbnNmb3JtIiB0eXBlPSJyb3RhdGUiIHJlcGVhdENvdW50PSJpbmRlZmluaXRlIiBkdXI9IjFzIiB2YWx1ZXM9IjAgNTAgNTA7MzYwIDUwIDUwIiBrZXlUaW1lcz0iMDsxIj48L2FuaW1hdGVUcmFuc2Zvcm0+ICA8L2NpcmNsZT48L3N2Zz4=\\\");\\n  background-size: auto calc(min(50%, 400px));\\n}\",{\"id\":\"p5437\"},{\"id\":\"p5435\"},{\"id\":\"p5436\"}],\"margin\":0,\"sizing_mode\":\"stretch_width\",\"align\":\"start\"}}]}}],\"defs\":[{\"type\":\"model\",\"name\":\"ReactiveHTML1\"},{\"type\":\"model\",\"name\":\"FlexBox1\",\"properties\":[{\"name\":\"align_content\",\"kind\":\"Any\",\"default\":\"flex-start\"},{\"name\":\"align_items\",\"kind\":\"Any\",\"default\":\"flex-start\"},{\"name\":\"flex_direction\",\"kind\":\"Any\",\"default\":\"row\"},{\"name\":\"flex_wrap\",\"kind\":\"Any\",\"default\":\"wrap\"},{\"name\":\"justify_content\",\"kind\":\"Any\",\"default\":\"flex-start\"}]},{\"type\":\"model\",\"name\":\"FloatPanel1\",\"properties\":[{\"name\":\"config\",\"kind\":\"Any\",\"default\":{\"type\":\"map\"}},{\"name\":\"contained\",\"kind\":\"Any\",\"default\":true},{\"name\":\"position\",\"kind\":\"Any\",\"default\":\"right-top\"},{\"name\":\"offsetx\",\"kind\":\"Any\",\"default\":null},{\"name\":\"offsety\",\"kind\":\"Any\",\"default\":null},{\"name\":\"theme\",\"kind\":\"Any\",\"default\":\"primary\"},{\"name\":\"status\",\"kind\":\"Any\",\"default\":\"normalized\"}]},{\"type\":\"model\",\"name\":\"GridStack1\",\"properties\":[{\"name\":\"mode\",\"kind\":\"Any\",\"default\":\"warn\"},{\"name\":\"ncols\",\"kind\":\"Any\",\"default\":null},{\"name\":\"nrows\",\"kind\":\"Any\",\"default\":null},{\"name\":\"allow_resize\",\"kind\":\"Any\",\"default\":true},{\"name\":\"allow_drag\",\"kind\":\"Any\",\"default\":true},{\"name\":\"state\",\"kind\":\"Any\",\"default\":[]}]},{\"type\":\"model\",\"name\":\"drag1\",\"properties\":[{\"name\":\"slider_width\",\"kind\":\"Any\",\"default\":5},{\"name\":\"slider_color\",\"kind\":\"Any\",\"default\":\"black\"},{\"name\":\"value\",\"kind\":\"Any\",\"default\":50}]},{\"type\":\"model\",\"name\":\"click1\",\"properties\":[{\"name\":\"terminal_output\",\"kind\":\"Any\",\"default\":\"\"},{\"name\":\"debug_name\",\"kind\":\"Any\",\"default\":\"\"},{\"name\":\"clears\",\"kind\":\"Any\",\"default\":0}]},{\"type\":\"model\",\"name\":\"FastWrapper1\",\"properties\":[{\"name\":\"object\",\"kind\":\"Any\",\"default\":null},{\"name\":\"style\",\"kind\":\"Any\",\"default\":null}]},{\"type\":\"model\",\"name\":\"NotificationAreaBase1\",\"properties\":[{\"name\":\"js_events\",\"kind\":\"Any\",\"default\":{\"type\":\"map\"}},{\"name\":\"position\",\"kind\":\"Any\",\"default\":\"bottom-right\"},{\"name\":\"_clear\",\"kind\":\"Any\",\"default\":0}]},{\"type\":\"model\",\"name\":\"NotificationArea1\",\"properties\":[{\"name\":\"js_events\",\"kind\":\"Any\",\"default\":{\"type\":\"map\"}},{\"name\":\"notifications\",\"kind\":\"Any\",\"default\":[]},{\"name\":\"position\",\"kind\":\"Any\",\"default\":\"bottom-right\"},{\"name\":\"_clear\",\"kind\":\"Any\",\"default\":0},{\"name\":\"types\",\"kind\":\"Any\",\"default\":[{\"type\":\"map\",\"entries\":[[\"type\",\"warning\"],[\"background\",\"#ffc107\"],[\"icon\",{\"type\":\"map\",\"entries\":[[\"className\",\"fas fa-exclamation-triangle\"],[\"tagName\",\"i\"],[\"color\",\"white\"]]}]]},{\"type\":\"map\",\"entries\":[[\"type\",\"info\"],[\"background\",\"#007bff\"],[\"icon\",{\"type\":\"map\",\"entries\":[[\"className\",\"fas fa-info-circle\"],[\"tagName\",\"i\"],[\"color\",\"white\"]]}]]}]}]},{\"type\":\"model\",\"name\":\"Notification\",\"properties\":[{\"name\":\"background\",\"kind\":\"Any\",\"default\":null},{\"name\":\"duration\",\"kind\":\"Any\",\"default\":3000},{\"name\":\"icon\",\"kind\":\"Any\",\"default\":null},{\"name\":\"message\",\"kind\":\"Any\",\"default\":\"\"},{\"name\":\"notification_type\",\"kind\":\"Any\",\"default\":null},{\"name\":\"_destroyed\",\"kind\":\"Any\",\"default\":false}]},{\"type\":\"model\",\"name\":\"TemplateActions1\",\"properties\":[{\"name\":\"open_modal\",\"kind\":\"Any\",\"default\":0},{\"name\":\"close_modal\",\"kind\":\"Any\",\"default\":0}]},{\"type\":\"model\",\"name\":\"BootstrapTemplateActions1\",\"properties\":[{\"name\":\"open_modal\",\"kind\":\"Any\",\"default\":0},{\"name\":\"close_modal\",\"kind\":\"Any\",\"default\":0}]},{\"type\":\"model\",\"name\":\"MaterialTemplateActions1\",\"properties\":[{\"name\":\"open_modal\",\"kind\":\"Any\",\"default\":0},{\"name\":\"close_modal\",\"kind\":\"Any\",\"default\":0}]}]}};\n",
       "  var render_items = [{\"docid\":\"1051f1bd-0c5e-4776-b90b-9805b3c0390b\",\"roots\":{\"p5434\":\"d3251aa1-51bb-42ac-9a6f-dd7f6f9af6e3\"},\"root_ids\":[\"p5434\"]}];\n",
       "  var docs = Object.values(docs_json)\n",
       "  if (!docs) {\n",
       "    return\n",
       "  }\n",
       "  const py_version = docs[0].version.replace('rc', '-rc.').replace('.dev', '-dev.')\n",
       "  const is_dev = py_version.indexOf(\"+\") !== -1 || py_version.indexOf(\"-\") !== -1\n",
       "  function embed_document(root) {\n",
       "    var Bokeh = get_bokeh(root)\n",
       "    Bokeh.embed.embed_items_notebook(docs_json, render_items);\n",
       "    for (const render_item of render_items) {\n",
       "      for (const root_id of render_item.root_ids) {\n",
       "\tconst id_el = document.getElementById(root_id)\n",
       "\tif (id_el.children.length && (id_el.children[0].className === 'bk-root')) {\n",
       "\t  const root_el = id_el.children[0]\n",
       "\t  root_el.id = root_el.id + '-rendered'\n",
       "\t}\n",
       "      }\n",
       "    }\n",
       "  }\n",
       "  function get_bokeh(root) {\n",
       "    if (root.Bokeh === undefined) {\n",
       "      return null\n",
       "    } else if (root.Bokeh.version !== py_version && !is_dev) {\n",
       "      if (root.Bokeh.versions === undefined || !root.Bokeh.versions.has(py_version)) {\n",
       "\treturn null\n",
       "      }\n",
       "      return root.Bokeh.versions.get(py_version);\n",
       "    } else if (root.Bokeh.version === py_version) {\n",
       "      return root.Bokeh\n",
       "    }\n",
       "    return null\n",
       "  }\n",
       "  function is_loaded(root) {\n",
       "    var Bokeh = get_bokeh(root)\n",
       "    return (Bokeh != null && Bokeh.Panel !== undefined)\n",
       "  }\n",
       "  if (is_loaded(root)) {\n",
       "    embed_document(root);\n",
       "  } else {\n",
       "    var attempts = 0;\n",
       "    var timer = setInterval(function(root) {\n",
       "      if (is_loaded(root)) {\n",
       "        clearInterval(timer);\n",
       "        embed_document(root);\n",
       "      } else if (document.readyState == \"complete\") {\n",
       "        attempts++;\n",
       "        if (attempts > 200) {\n",
       "          clearInterval(timer);\n",
       "\t  var Bokeh = get_bokeh(root)\n",
       "\t  if (Bokeh == null || Bokeh.Panel == null) {\n",
       "            console.warn(\"Panel: ERROR: Unable to run Panel code because Bokeh or Panel library is missing\");\n",
       "\t  } else {\n",
       "\t    console.warn(\"Panel: WARNING: Attempting to render but not all required libraries could be resolved.\")\n",
       "\t    embed_document(root)\n",
       "\t  }\n",
       "        }\n",
       "      }\n",
       "    }, 25, root)\n",
       "  }\n",
       "})(window);</script>"
      ],
      "text/plain": [
       ":NdOverlay   [pca_pred]\n",
       "   :Scatter   [PCA_1]   (PCA_2,coin_id)"
      ]
     },
     "execution_count": 140,
     "metadata": {
      "application/vnd.holoviews_exec.v0+json": {
       "id": "p5434"
      }
     },
     "output_type": "execute_result"
    }
   ],
   "source": [
    "# Create a scatter plot using hvPlot by setting \n",
    "# `x=\"PC1\"` and `y=\"PC2\"`. \n",
    "# Color the graph points with the labels found using K-Means and \n",
    "# add the crypto name in the `hover_cols` parameter to identify \n",
    "# the cryptocurrency represented by each data point.\n",
    "crypto_pred_pca_plot = df_market_data_pca_pred.hvplot.scatter(\n",
    "    x=\"PCA_1\",\n",
    "    y=\"PCA_2\",\n",
    "    by=\"pca_pred\",\n",
    "    hover_cols=[\"coin_id\"]\n",
    ")\n",
    "crypto_pred_pca_plot"
   ]
  },
  {
   "cell_type": "markdown",
   "metadata": {},
   "source": [
    "---"
   ]
  },
  {
   "cell_type": "markdown",
   "metadata": {},
   "source": [
    "### Visualize and Compare the Results\n",
    "\n",
    "In this section, you will visually analyze the cluster analysis results by contrasting the outcome with and without using the optimization techniques.\n",
    "\n",
    "1. Create a composite plot using hvPlot and the plus (`+`) operator to contrast the Elbow Curve that you created to find the best value for `k` with the original and the PCA data.\n",
    "\n",
    "2. Create a composite plot using hvPlot and the plus (`+`) operator to contrast the cryptocurrencies clusters using the original and the PCA data.\n",
    "\n",
    "3. Answer the following question: After visually analyzing the cluster analysis results, what is the impact of using fewer features to cluster the data using K-Means?\n",
    "\n",
    "> **Rewind:** Back in Lesson 3 of Module 6, you learned how to create composite plots. You can look at that lesson to review how to make these plots; also, you can check [the hvPlot documentation](https://holoviz.org/tutorial/Composing_Plots.html)."
   ]
  },
  {
   "cell_type": "code",
   "execution_count": 143,
   "metadata": {},
   "outputs": [
    {
     "data": {},
     "metadata": {},
     "output_type": "display_data"
    },
    {
     "data": {
      "application/vnd.holoviews_exec.v0+json": "",
      "text/html": [
       "<div id='p5925'>\n",
       "  <div id=\"db4a6fcc-5d75-4842-9952-892b5384d0d8\" data-root-id=\"p5925\" style=\"display: contents;\"></div>\n",
       "</div>\n",
       "<script type=\"application/javascript\">(function(root) {\n",
       "  var docs_json = {\"6698186b-89ad-46a2-beb8-3fe0404adce8\":{\"version\":\"3.2.1\",\"title\":\"Bokeh Application\",\"roots\":[{\"type\":\"object\",\"name\":\"Row\",\"id\":\"p5925\",\"attributes\":{\"name\":\"Row11536\",\"tags\":[\"embedded\"],\"stylesheets\":[\"\\n:host(.pn-loading.pn-arc):before, .pn-loading.pn-arc:before {\\n  background-image: url(\\\"data:image/svg+xml;base64,PHN2ZyB4bWxucz0iaHR0cDovL3d3dy53My5vcmcvMjAwMC9zdmciIHN0eWxlPSJtYXJnaW46IGF1dG87IGJhY2tncm91bmQ6IG5vbmU7IGRpc3BsYXk6IGJsb2NrOyBzaGFwZS1yZW5kZXJpbmc6IGF1dG87IiB2aWV3Qm94PSIwIDAgMTAwIDEwMCIgcHJlc2VydmVBc3BlY3RSYXRpbz0ieE1pZFlNaWQiPiAgPGNpcmNsZSBjeD0iNTAiIGN5PSI1MCIgZmlsbD0ibm9uZSIgc3Ryb2tlPSIjYzNjM2MzIiBzdHJva2Utd2lkdGg9IjEwIiByPSIzNSIgc3Ryb2tlLWRhc2hhcnJheT0iMTY0LjkzMzYxNDMxMzQ2NDE1IDU2Ljk3Nzg3MTQzNzgyMTM4Ij4gICAgPGFuaW1hdGVUcmFuc2Zvcm0gYXR0cmlidXRlTmFtZT0idHJhbnNmb3JtIiB0eXBlPSJyb3RhdGUiIHJlcGVhdENvdW50PSJpbmRlZmluaXRlIiBkdXI9IjFzIiB2YWx1ZXM9IjAgNTAgNTA7MzYwIDUwIDUwIiBrZXlUaW1lcz0iMDsxIj48L2FuaW1hdGVUcmFuc2Zvcm0+ICA8L2NpcmNsZT48L3N2Zz4=\\\");\\n  background-size: auto calc(min(50%, 400px));\\n}\",{\"type\":\"object\",\"name\":\"ImportedStyleSheet\",\"id\":\"p5928\",\"attributes\":{\"url\":\"https://cdn.holoviz.org/panel/1.2.1/dist/css/loading.css\"}},{\"type\":\"object\",\"name\":\"ImportedStyleSheet\",\"id\":\"p6042\",\"attributes\":{\"url\":\"https://cdn.holoviz.org/panel/1.2.1/dist/css/listpanel.css\"}},{\"type\":\"object\",\"name\":\"ImportedStyleSheet\",\"id\":\"p5926\",\"attributes\":{\"url\":\"https://cdn.holoviz.org/panel/1.2.1/dist/bundled/theme/default.css\"}},{\"type\":\"object\",\"name\":\"ImportedStyleSheet\",\"id\":\"p5927\",\"attributes\":{\"url\":\"https://cdn.holoviz.org/panel/1.2.1/dist/bundled/theme/native.css\"}}],\"margin\":0,\"sizing_mode\":\"stretch_width\",\"align\":\"start\",\"children\":[{\"type\":\"object\",\"name\":\"Spacer\",\"id\":\"p5929\",\"attributes\":{\"name\":\"HSpacer11545\",\"stylesheets\":[\"\\n:host(.pn-loading.pn-arc):before, .pn-loading.pn-arc:before {\\n  background-image: url(\\\"data:image/svg+xml;base64,PHN2ZyB4bWxucz0iaHR0cDovL3d3dy53My5vcmcvMjAwMC9zdmciIHN0eWxlPSJtYXJnaW46IGF1dG87IGJhY2tncm91bmQ6IG5vbmU7IGRpc3BsYXk6IGJsb2NrOyBzaGFwZS1yZW5kZXJpbmc6IGF1dG87IiB2aWV3Qm94PSIwIDAgMTAwIDEwMCIgcHJlc2VydmVBc3BlY3RSYXRpbz0ieE1pZFlNaWQiPiAgPGNpcmNsZSBjeD0iNTAiIGN5PSI1MCIgZmlsbD0ibm9uZSIgc3Ryb2tlPSIjYzNjM2MzIiBzdHJva2Utd2lkdGg9IjEwIiByPSIzNSIgc3Ryb2tlLWRhc2hhcnJheT0iMTY0LjkzMzYxNDMxMzQ2NDE1IDU2Ljk3Nzg3MTQzNzgyMTM4Ij4gICAgPGFuaW1hdGVUcmFuc2Zvcm0gYXR0cmlidXRlTmFtZT0idHJhbnNmb3JtIiB0eXBlPSJyb3RhdGUiIHJlcGVhdENvdW50PSJpbmRlZmluaXRlIiBkdXI9IjFzIiB2YWx1ZXM9IjAgNTAgNTA7MzYwIDUwIDUwIiBrZXlUaW1lcz0iMDsxIj48L2FuaW1hdGVUcmFuc2Zvcm0+ICA8L2NpcmNsZT48L3N2Zz4=\\\");\\n  background-size: auto calc(min(50%, 400px));\\n}\",{\"id\":\"p5928\"},{\"id\":\"p5926\"},{\"id\":\"p5927\"}],\"margin\":0,\"sizing_mode\":\"stretch_width\",\"align\":\"start\"}},{\"type\":\"object\",\"name\":\"GridPlot\",\"id\":\"p6030\",\"attributes\":{\"rows\":null,\"cols\":null,\"toolbar\":{\"type\":\"object\",\"name\":\"Toolbar\",\"id\":\"p6038\",\"attributes\":{\"tools\":[{\"type\":\"object\",\"name\":\"ToolProxy\",\"id\":\"p6032\",\"attributes\":{\"tools\":[{\"type\":\"object\",\"name\":\"WheelZoomTool\",\"id\":\"p5935\",\"attributes\":{\"tags\":[\"hv_created\"],\"zoom_together\":\"none\"}},{\"type\":\"object\",\"name\":\"WheelZoomTool\",\"id\":\"p5982\",\"attributes\":{\"tags\":[\"hv_created\"],\"zoom_together\":\"none\"}}]}},{\"type\":\"object\",\"name\":\"ToolProxy\",\"id\":\"p6033\",\"attributes\":{\"tools\":[{\"type\":\"object\",\"name\":\"HoverTool\",\"id\":\"p5936\",\"attributes\":{\"tags\":[\"hv_created\"],\"renderers\":[{\"type\":\"object\",\"name\":\"GlyphRenderer\",\"id\":\"p5973\",\"attributes\":{\"data_source\":{\"type\":\"object\",\"name\":\"ColumnDataSource\",\"id\":\"p5964\",\"attributes\":{\"selected\":{\"type\":\"object\",\"name\":\"Selection\",\"id\":\"p5965\",\"attributes\":{\"indices\":[],\"line_indices\":[]}},\"selection_policy\":{\"type\":\"object\",\"name\":\"UnionRenderers\",\"id\":\"p5966\"},\"data\":{\"type\":\"map\",\"entries\":[[\"k\",{\"type\":\"ndarray\",\"array\":{\"type\":\"bytes\",\"data\":\"AQAAAAIAAAADAAAABAAAAAUAAAAGAAAABwAAAAgAAAAJAAAACgAAAA==\"},\"shape\":[10],\"dtype\":\"int32\",\"order\":\"little\"}],[\"inertia\",{\"type\":\"ndarray\",\"array\":{\"type\":\"bytes\",\"data\":\"AAAAAADwcUByhzI6P3poQOCRvNowzF5AF+6ulG/BU0ByHKDT6O1PQBcSyZxlh0pAxJ/AthE0RkCoWQ2NA4pCQFx7Hh6FakBAntlO1lkqPEA=\"},\"shape\":[10],\"dtype\":\"float64\",\"order\":\"little\"}]]}}},\"view\":{\"type\":\"object\",\"name\":\"CDSView\",\"id\":\"p5974\",\"attributes\":{\"filter\":{\"type\":\"object\",\"name\":\"AllIndices\",\"id\":\"p5975\"}}},\"glyph\":{\"type\":\"object\",\"name\":\"Line\",\"id\":\"p5970\",\"attributes\":{\"tags\":[\"apply_ranges\"],\"x\":{\"type\":\"field\",\"field\":\"k\"},\"y\":{\"type\":\"field\",\"field\":\"inertia\"},\"line_color\":\"#30a2da\",\"line_width\":2}},\"selection_glyph\":{\"type\":\"object\",\"name\":\"Line\",\"id\":\"p5976\",\"attributes\":{\"tags\":[\"apply_ranges\"],\"x\":{\"type\":\"field\",\"field\":\"k\"},\"y\":{\"type\":\"field\",\"field\":\"inertia\"},\"line_color\":\"#30a2da\",\"line_width\":2}},\"nonselection_glyph\":{\"type\":\"object\",\"name\":\"Line\",\"id\":\"p5971\",\"attributes\":{\"tags\":[\"apply_ranges\"],\"x\":{\"type\":\"field\",\"field\":\"k\"},\"y\":{\"type\":\"field\",\"field\":\"inertia\"},\"line_color\":\"#30a2da\",\"line_alpha\":0.1,\"line_width\":2}},\"muted_glyph\":{\"type\":\"object\",\"name\":\"Line\",\"id\":\"p5972\",\"attributes\":{\"tags\":[\"apply_ranges\"],\"x\":{\"type\":\"field\",\"field\":\"k\"},\"y\":{\"type\":\"field\",\"field\":\"inertia\"},\"line_color\":\"#30a2da\",\"line_alpha\":0.2,\"line_width\":2}}}}],\"tooltips\":[[\"k\",\"@{k}\"],[\"inertia\",\"@{inertia}\"]]}},{\"type\":\"object\",\"name\":\"HoverTool\",\"id\":\"p5983\",\"attributes\":{\"tags\":[\"hv_created\"],\"renderers\":[{\"type\":\"object\",\"name\":\"GlyphRenderer\",\"id\":\"p6020\",\"attributes\":{\"data_source\":{\"type\":\"object\",\"name\":\"ColumnDataSource\",\"id\":\"p6011\",\"attributes\":{\"selected\":{\"type\":\"object\",\"name\":\"Selection\",\"id\":\"p6012\",\"attributes\":{\"indices\":[],\"line_indices\":[]}},\"selection_policy\":{\"type\":\"object\",\"name\":\"UnionRenderers\",\"id\":\"p6013\"},\"data\":{\"type\":\"map\",\"entries\":[[\"pca_k\",{\"type\":\"ndarray\",\"array\":{\"type\":\"bytes\",\"data\":\"AQAAAAIAAAADAAAABAAAAAUAAAAGAAAABwAAAAgAAAAJAAAACgAAAA==\"},\"shape\":[10],\"dtype\":\"int32\",\"order\":\"little\"}],[\"inertia\",{\"type\":\"ndarray\",\"array\":{\"type\":\"bytes\",\"data\":\"EgAmQfwNcEBOVJAi3bxkQP4sl3eTcVdAnYiJ/i7VSEClItBAUQlDQFO8U/V6uDtAwBTaLDMlNUBb5NxBYzUxQP5qkhpScCtAqO9NHWQeJUA=\"},\"shape\":[10],\"dtype\":\"float64\",\"order\":\"little\"}]]}}},\"view\":{\"type\":\"object\",\"name\":\"CDSView\",\"id\":\"p6021\",\"attributes\":{\"filter\":{\"type\":\"object\",\"name\":\"AllIndices\",\"id\":\"p6022\"}}},\"glyph\":{\"type\":\"object\",\"name\":\"Line\",\"id\":\"p6017\",\"attributes\":{\"tags\":[\"apply_ranges\"],\"x\":{\"type\":\"field\",\"field\":\"pca_k\"},\"y\":{\"type\":\"field\",\"field\":\"inertia\"},\"line_color\":\"#30a2da\",\"line_width\":2}},\"selection_glyph\":{\"type\":\"object\",\"name\":\"Line\",\"id\":\"p6023\",\"attributes\":{\"tags\":[\"apply_ranges\"],\"x\":{\"type\":\"field\",\"field\":\"pca_k\"},\"y\":{\"type\":\"field\",\"field\":\"inertia\"},\"line_color\":\"#30a2da\",\"line_width\":2}},\"nonselection_glyph\":{\"type\":\"object\",\"name\":\"Line\",\"id\":\"p6018\",\"attributes\":{\"tags\":[\"apply_ranges\"],\"x\":{\"type\":\"field\",\"field\":\"pca_k\"},\"y\":{\"type\":\"field\",\"field\":\"inertia\"},\"line_color\":\"#30a2da\",\"line_alpha\":0.1,\"line_width\":2}},\"muted_glyph\":{\"type\":\"object\",\"name\":\"Line\",\"id\":\"p6019\",\"attributes\":{\"tags\":[\"apply_ranges\"],\"x\":{\"type\":\"field\",\"field\":\"pca_k\"},\"y\":{\"type\":\"field\",\"field\":\"inertia\"},\"line_color\":\"#30a2da\",\"line_alpha\":0.2,\"line_width\":2}}}}],\"tooltips\":[[\"pca_k\",\"@{pca_k}\"],[\"inertia\",\"@{inertia}\"]]}}]}},{\"type\":\"object\",\"name\":\"SaveTool\",\"id\":\"p6034\"},{\"type\":\"object\",\"name\":\"ToolProxy\",\"id\":\"p6035\",\"attributes\":{\"tools\":[{\"type\":\"object\",\"name\":\"PanTool\",\"id\":\"p5960\"},{\"type\":\"object\",\"name\":\"PanTool\",\"id\":\"p6007\"}]}},{\"type\":\"object\",\"name\":\"ToolProxy\",\"id\":\"p6036\",\"attributes\":{\"tools\":[{\"type\":\"object\",\"name\":\"BoxZoomTool\",\"id\":\"p5961\",\"attributes\":{\"overlay\":{\"type\":\"object\",\"name\":\"BoxAnnotation\",\"id\":\"p5962\",\"attributes\":{\"syncable\":false,\"level\":\"overlay\",\"visible\":false,\"left_units\":\"canvas\",\"right_units\":\"canvas\",\"bottom_units\":\"canvas\",\"top_units\":\"canvas\",\"line_color\":\"black\",\"line_alpha\":1.0,\"line_width\":2,\"line_dash\":[4,4],\"fill_color\":\"lightgrey\",\"fill_alpha\":0.5}}}},{\"type\":\"object\",\"name\":\"BoxZoomTool\",\"id\":\"p6008\",\"attributes\":{\"overlay\":{\"type\":\"object\",\"name\":\"BoxAnnotation\",\"id\":\"p6009\",\"attributes\":{\"syncable\":false,\"level\":\"overlay\",\"visible\":false,\"left_units\":\"canvas\",\"right_units\":\"canvas\",\"bottom_units\":\"canvas\",\"top_units\":\"canvas\",\"line_color\":\"black\",\"line_alpha\":1.0,\"line_width\":2,\"line_dash\":[4,4],\"fill_color\":\"lightgrey\",\"fill_alpha\":0.5}}}}]}},{\"type\":\"object\",\"name\":\"ToolProxy\",\"id\":\"p6037\",\"attributes\":{\"tools\":[{\"type\":\"object\",\"name\":\"ResetTool\",\"id\":\"p5963\"},{\"type\":\"object\",\"name\":\"ResetTool\",\"id\":\"p6010\"}]}}]}},\"children\":[[{\"type\":\"object\",\"name\":\"Figure\",\"id\":\"p5937\",\"attributes\":{\"width\":700,\"height\":300,\"sizing_mode\":\"fixed\",\"align\":\"start\",\"x_range\":{\"type\":\"object\",\"name\":\"Range1d\",\"id\":\"p5930\",\"attributes\":{\"tags\":[[[\"k\",\"k\",null]],[]],\"start\":1.0,\"end\":10.0,\"reset_start\":1.0,\"reset_end\":10.0}},\"y_range\":{\"type\":\"object\",\"name\":\"Range1d\",\"id\":\"p5931\",\"attributes\":{\"tags\":[[[\"inertia\",\"inertia\",null]],{\"type\":\"map\",\"entries\":[[\"invert_yaxis\",false],[\"autorange\",false]]}],\"start\":-17.084706680927223,\"end\":314.64406424372066,\"reset_start\":-17.084706680927223,\"reset_end\":314.64406424372066}},\"x_scale\":{\"type\":\"object\",\"name\":\"LinearScale\",\"id\":\"p5947\"},\"y_scale\":{\"type\":\"object\",\"name\":\"LinearScale\",\"id\":\"p5948\"},\"title\":{\"type\":\"object\",\"name\":\"Title\",\"id\":\"p5940\",\"attributes\":{\"text\":\"Elbow Curve\",\"text_color\":\"black\",\"text_font_size\":\"12pt\"}},\"renderers\":[{\"id\":\"p5973\"}],\"toolbar\":{\"type\":\"object\",\"name\":\"Toolbar\",\"id\":\"p5946\",\"attributes\":{\"tools\":[{\"id\":\"p5935\"},{\"id\":\"p5936\"},{\"type\":\"object\",\"name\":\"SaveTool\",\"id\":\"p5959\"},{\"id\":\"p5960\"},{\"id\":\"p5961\"},{\"id\":\"p5963\"}],\"active_drag\":{\"id\":\"p5960\"},\"active_scroll\":{\"id\":\"p5935\"}}},\"toolbar_location\":null,\"left\":[{\"type\":\"object\",\"name\":\"LinearAxis\",\"id\":\"p5954\",\"attributes\":{\"ticker\":{\"type\":\"object\",\"name\":\"BasicTicker\",\"id\":\"p5955\",\"attributes\":{\"mantissas\":[1,2,5]}},\"formatter\":{\"type\":\"object\",\"name\":\"BasicTickFormatter\",\"id\":\"p5956\"},\"axis_label\":\"inertia\",\"major_label_policy\":{\"type\":\"object\",\"name\":\"AllLabels\",\"id\":\"p5957\"}}}],\"below\":[{\"type\":\"object\",\"name\":\"LinearAxis\",\"id\":\"p5949\",\"attributes\":{\"ticker\":{\"type\":\"object\",\"name\":\"FixedTicker\",\"id\":\"p5977\",\"attributes\":{\"ticks\":[1,2,3,4,5,6,7,8,9,10],\"minor_ticks\":[]}},\"formatter\":{\"type\":\"object\",\"name\":\"BasicTickFormatter\",\"id\":\"p5951\"},\"axis_label\":\"k\",\"major_label_policy\":{\"type\":\"object\",\"name\":\"AllLabels\",\"id\":\"p5952\"}}}],\"center\":[{\"type\":\"object\",\"name\":\"Grid\",\"id\":\"p5953\",\"attributes\":{\"axis\":{\"id\":\"p5949\"},\"grid_line_color\":null}},{\"type\":\"object\",\"name\":\"Grid\",\"id\":\"p5958\",\"attributes\":{\"dimension\":1,\"axis\":{\"id\":\"p5954\"},\"grid_line_color\":null}}],\"min_border_top\":10,\"min_border_bottom\":10,\"min_border_left\":10,\"min_border_right\":10,\"output_backend\":\"webgl\"}},0,0],[{\"type\":\"object\",\"name\":\"Figure\",\"id\":\"p5984\",\"attributes\":{\"width\":700,\"height\":300,\"sizing_mode\":\"fixed\",\"align\":\"start\",\"x_range\":{\"type\":\"object\",\"name\":\"Range1d\",\"id\":\"p5978\",\"attributes\":{\"tags\":[[[\"pca_k\",\"pca_k\",null]],[]],\"start\":1.0,\"end\":10.0,\"reset_start\":1.0,\"reset_end\":10.0}},\"y_range\":{\"id\":\"p5931\"},\"x_scale\":{\"type\":\"object\",\"name\":\"LinearScale\",\"id\":\"p5994\"},\"y_scale\":{\"type\":\"object\",\"name\":\"LinearScale\",\"id\":\"p5995\"},\"title\":{\"type\":\"object\",\"name\":\"Title\",\"id\":\"p5987\",\"attributes\":{\"text_color\":\"black\",\"text_font_size\":\"12pt\"}},\"renderers\":[{\"id\":\"p6020\"}],\"toolbar\":{\"type\":\"object\",\"name\":\"Toolbar\",\"id\":\"p5993\",\"attributes\":{\"tools\":[{\"id\":\"p5982\"},{\"id\":\"p5983\"},{\"type\":\"object\",\"name\":\"SaveTool\",\"id\":\"p6006\"},{\"id\":\"p6007\"},{\"id\":\"p6008\"},{\"id\":\"p6010\"}],\"active_drag\":{\"id\":\"p6007\"},\"active_scroll\":{\"id\":\"p5982\"}}},\"toolbar_location\":null,\"left\":[{\"type\":\"object\",\"name\":\"LinearAxis\",\"id\":\"p6001\",\"attributes\":{\"ticker\":{\"type\":\"object\",\"name\":\"BasicTicker\",\"id\":\"p6002\",\"attributes\":{\"mantissas\":[1,2,5]}},\"formatter\":{\"type\":\"object\",\"name\":\"BasicTickFormatter\",\"id\":\"p6003\"},\"axis_label\":\"inertia\",\"major_label_policy\":{\"type\":\"object\",\"name\":\"AllLabels\",\"id\":\"p6004\"}}}],\"below\":[{\"type\":\"object\",\"name\":\"LinearAxis\",\"id\":\"p5996\",\"attributes\":{\"ticker\":{\"type\":\"object\",\"name\":\"BasicTicker\",\"id\":\"p5997\",\"attributes\":{\"mantissas\":[1,2,5]}},\"formatter\":{\"type\":\"object\",\"name\":\"BasicTickFormatter\",\"id\":\"p5998\"},\"axis_label\":\"pca_k\",\"major_label_policy\":{\"type\":\"object\",\"name\":\"AllLabels\",\"id\":\"p5999\"}}}],\"center\":[{\"type\":\"object\",\"name\":\"Grid\",\"id\":\"p6000\",\"attributes\":{\"axis\":{\"id\":\"p5996\"},\"grid_line_color\":null}},{\"type\":\"object\",\"name\":\"Grid\",\"id\":\"p6005\",\"attributes\":{\"dimension\":1,\"axis\":{\"id\":\"p6001\"},\"grid_line_color\":null}}],\"min_border_top\":10,\"min_border_bottom\":10,\"min_border_left\":10,\"min_border_right\":10,\"output_backend\":\"webgl\"}},0,1]]}},{\"type\":\"object\",\"name\":\"Spacer\",\"id\":\"p6040\",\"attributes\":{\"name\":\"HSpacer11548\",\"stylesheets\":[\"\\n:host(.pn-loading.pn-arc):before, .pn-loading.pn-arc:before {\\n  background-image: url(\\\"data:image/svg+xml;base64,PHN2ZyB4bWxucz0iaHR0cDovL3d3dy53My5vcmcvMjAwMC9zdmciIHN0eWxlPSJtYXJnaW46IGF1dG87IGJhY2tncm91bmQ6IG5vbmU7IGRpc3BsYXk6IGJsb2NrOyBzaGFwZS1yZW5kZXJpbmc6IGF1dG87IiB2aWV3Qm94PSIwIDAgMTAwIDEwMCIgcHJlc2VydmVBc3BlY3RSYXRpbz0ieE1pZFlNaWQiPiAgPGNpcmNsZSBjeD0iNTAiIGN5PSI1MCIgZmlsbD0ibm9uZSIgc3Ryb2tlPSIjYzNjM2MzIiBzdHJva2Utd2lkdGg9IjEwIiByPSIzNSIgc3Ryb2tlLWRhc2hhcnJheT0iMTY0LjkzMzYxNDMxMzQ2NDE1IDU2Ljk3Nzg3MTQzNzgyMTM4Ij4gICAgPGFuaW1hdGVUcmFuc2Zvcm0gYXR0cmlidXRlTmFtZT0idHJhbnNmb3JtIiB0eXBlPSJyb3RhdGUiIHJlcGVhdENvdW50PSJpbmRlZmluaXRlIiBkdXI9IjFzIiB2YWx1ZXM9IjAgNTAgNTA7MzYwIDUwIDUwIiBrZXlUaW1lcz0iMDsxIj48L2FuaW1hdGVUcmFuc2Zvcm0+ICA8L2NpcmNsZT48L3N2Zz4=\\\");\\n  background-size: auto calc(min(50%, 400px));\\n}\",{\"id\":\"p5928\"},{\"id\":\"p5926\"},{\"id\":\"p5927\"}],\"margin\":0,\"sizing_mode\":\"stretch_width\",\"align\":\"start\"}}]}}],\"defs\":[{\"type\":\"model\",\"name\":\"ReactiveHTML1\"},{\"type\":\"model\",\"name\":\"FlexBox1\",\"properties\":[{\"name\":\"align_content\",\"kind\":\"Any\",\"default\":\"flex-start\"},{\"name\":\"align_items\",\"kind\":\"Any\",\"default\":\"flex-start\"},{\"name\":\"flex_direction\",\"kind\":\"Any\",\"default\":\"row\"},{\"name\":\"flex_wrap\",\"kind\":\"Any\",\"default\":\"wrap\"},{\"name\":\"justify_content\",\"kind\":\"Any\",\"default\":\"flex-start\"}]},{\"type\":\"model\",\"name\":\"FloatPanel1\",\"properties\":[{\"name\":\"config\",\"kind\":\"Any\",\"default\":{\"type\":\"map\"}},{\"name\":\"contained\",\"kind\":\"Any\",\"default\":true},{\"name\":\"position\",\"kind\":\"Any\",\"default\":\"right-top\"},{\"name\":\"offsetx\",\"kind\":\"Any\",\"default\":null},{\"name\":\"offsety\",\"kind\":\"Any\",\"default\":null},{\"name\":\"theme\",\"kind\":\"Any\",\"default\":\"primary\"},{\"name\":\"status\",\"kind\":\"Any\",\"default\":\"normalized\"}]},{\"type\":\"model\",\"name\":\"GridStack1\",\"properties\":[{\"name\":\"mode\",\"kind\":\"Any\",\"default\":\"warn\"},{\"name\":\"ncols\",\"kind\":\"Any\",\"default\":null},{\"name\":\"nrows\",\"kind\":\"Any\",\"default\":null},{\"name\":\"allow_resize\",\"kind\":\"Any\",\"default\":true},{\"name\":\"allow_drag\",\"kind\":\"Any\",\"default\":true},{\"name\":\"state\",\"kind\":\"Any\",\"default\":[]}]},{\"type\":\"model\",\"name\":\"drag1\",\"properties\":[{\"name\":\"slider_width\",\"kind\":\"Any\",\"default\":5},{\"name\":\"slider_color\",\"kind\":\"Any\",\"default\":\"black\"},{\"name\":\"value\",\"kind\":\"Any\",\"default\":50}]},{\"type\":\"model\",\"name\":\"click1\",\"properties\":[{\"name\":\"terminal_output\",\"kind\":\"Any\",\"default\":\"\"},{\"name\":\"debug_name\",\"kind\":\"Any\",\"default\":\"\"},{\"name\":\"clears\",\"kind\":\"Any\",\"default\":0}]},{\"type\":\"model\",\"name\":\"FastWrapper1\",\"properties\":[{\"name\":\"object\",\"kind\":\"Any\",\"default\":null},{\"name\":\"style\",\"kind\":\"Any\",\"default\":null}]},{\"type\":\"model\",\"name\":\"NotificationAreaBase1\",\"properties\":[{\"name\":\"js_events\",\"kind\":\"Any\",\"default\":{\"type\":\"map\"}},{\"name\":\"position\",\"kind\":\"Any\",\"default\":\"bottom-right\"},{\"name\":\"_clear\",\"kind\":\"Any\",\"default\":0}]},{\"type\":\"model\",\"name\":\"NotificationArea1\",\"properties\":[{\"name\":\"js_events\",\"kind\":\"Any\",\"default\":{\"type\":\"map\"}},{\"name\":\"notifications\",\"kind\":\"Any\",\"default\":[]},{\"name\":\"position\",\"kind\":\"Any\",\"default\":\"bottom-right\"},{\"name\":\"_clear\",\"kind\":\"Any\",\"default\":0},{\"name\":\"types\",\"kind\":\"Any\",\"default\":[{\"type\":\"map\",\"entries\":[[\"type\",\"warning\"],[\"background\",\"#ffc107\"],[\"icon\",{\"type\":\"map\",\"entries\":[[\"className\",\"fas fa-exclamation-triangle\"],[\"tagName\",\"i\"],[\"color\",\"white\"]]}]]},{\"type\":\"map\",\"entries\":[[\"type\",\"info\"],[\"background\",\"#007bff\"],[\"icon\",{\"type\":\"map\",\"entries\":[[\"className\",\"fas fa-info-circle\"],[\"tagName\",\"i\"],[\"color\",\"white\"]]}]]}]}]},{\"type\":\"model\",\"name\":\"Notification\",\"properties\":[{\"name\":\"background\",\"kind\":\"Any\",\"default\":null},{\"name\":\"duration\",\"kind\":\"Any\",\"default\":3000},{\"name\":\"icon\",\"kind\":\"Any\",\"default\":null},{\"name\":\"message\",\"kind\":\"Any\",\"default\":\"\"},{\"name\":\"notification_type\",\"kind\":\"Any\",\"default\":null},{\"name\":\"_destroyed\",\"kind\":\"Any\",\"default\":false}]},{\"type\":\"model\",\"name\":\"TemplateActions1\",\"properties\":[{\"name\":\"open_modal\",\"kind\":\"Any\",\"default\":0},{\"name\":\"close_modal\",\"kind\":\"Any\",\"default\":0}]},{\"type\":\"model\",\"name\":\"BootstrapTemplateActions1\",\"properties\":[{\"name\":\"open_modal\",\"kind\":\"Any\",\"default\":0},{\"name\":\"close_modal\",\"kind\":\"Any\",\"default\":0}]},{\"type\":\"model\",\"name\":\"MaterialTemplateActions1\",\"properties\":[{\"name\":\"open_modal\",\"kind\":\"Any\",\"default\":0},{\"name\":\"close_modal\",\"kind\":\"Any\",\"default\":0}]}]}};\n",
       "  var render_items = [{\"docid\":\"6698186b-89ad-46a2-beb8-3fe0404adce8\",\"roots\":{\"p5925\":\"db4a6fcc-5d75-4842-9952-892b5384d0d8\"},\"root_ids\":[\"p5925\"]}];\n",
       "  var docs = Object.values(docs_json)\n",
       "  if (!docs) {\n",
       "    return\n",
       "  }\n",
       "  const py_version = docs[0].version.replace('rc', '-rc.').replace('.dev', '-dev.')\n",
       "  const is_dev = py_version.indexOf(\"+\") !== -1 || py_version.indexOf(\"-\") !== -1\n",
       "  function embed_document(root) {\n",
       "    var Bokeh = get_bokeh(root)\n",
       "    Bokeh.embed.embed_items_notebook(docs_json, render_items);\n",
       "    for (const render_item of render_items) {\n",
       "      for (const root_id of render_item.root_ids) {\n",
       "\tconst id_el = document.getElementById(root_id)\n",
       "\tif (id_el.children.length && (id_el.children[0].className === 'bk-root')) {\n",
       "\t  const root_el = id_el.children[0]\n",
       "\t  root_el.id = root_el.id + '-rendered'\n",
       "\t}\n",
       "      }\n",
       "    }\n",
       "  }\n",
       "  function get_bokeh(root) {\n",
       "    if (root.Bokeh === undefined) {\n",
       "      return null\n",
       "    } else if (root.Bokeh.version !== py_version && !is_dev) {\n",
       "      if (root.Bokeh.versions === undefined || !root.Bokeh.versions.has(py_version)) {\n",
       "\treturn null\n",
       "      }\n",
       "      return root.Bokeh.versions.get(py_version);\n",
       "    } else if (root.Bokeh.version === py_version) {\n",
       "      return root.Bokeh\n",
       "    }\n",
       "    return null\n",
       "  }\n",
       "  function is_loaded(root) {\n",
       "    var Bokeh = get_bokeh(root)\n",
       "    return (Bokeh != null && Bokeh.Panel !== undefined)\n",
       "  }\n",
       "  if (is_loaded(root)) {\n",
       "    embed_document(root);\n",
       "  } else {\n",
       "    var attempts = 0;\n",
       "    var timer = setInterval(function(root) {\n",
       "      if (is_loaded(root)) {\n",
       "        clearInterval(timer);\n",
       "        embed_document(root);\n",
       "      } else if (document.readyState == \"complete\") {\n",
       "        attempts++;\n",
       "        if (attempts > 200) {\n",
       "          clearInterval(timer);\n",
       "\t  var Bokeh = get_bokeh(root)\n",
       "\t  if (Bokeh == null || Bokeh.Panel == null) {\n",
       "            console.warn(\"Panel: ERROR: Unable to run Panel code because Bokeh or Panel library is missing\");\n",
       "\t  } else {\n",
       "\t    console.warn(\"Panel: WARNING: Attempting to render but not all required libraries could be resolved.\")\n",
       "\t    embed_document(root)\n",
       "\t  }\n",
       "        }\n",
       "      }\n",
       "    }, 25, root)\n",
       "  }\n",
       "})(window);</script>"
      ],
      "text/plain": [
       ":Layout\n",
       "   .Curve.I  :Curve   [k]   (inertia)\n",
       "   .Curve.II :Curve   [pca_k]   (inertia)"
      ]
     },
     "execution_count": 143,
     "metadata": {
      "application/vnd.holoviews_exec.v0+json": {
       "id": "p5925"
      }
     },
     "output_type": "execute_result"
    }
   ],
   "source": [
    "# Composite plot to contrast the Elbow curves\n",
    "elbow_plot + elbow_pca_plot"
   ]
  },
  {
   "cell_type": "code",
   "execution_count": 142,
   "metadata": {},
   "outputs": [
    {
     "data": {},
     "metadata": {},
     "output_type": "display_data"
    },
    {
     "data": {
      "application/vnd.holoviews_exec.v0+json": "",
      "text/html": [
       "<div id='p5675'>\n",
       "  <div id=\"bba77370-2b68-419f-960e-65402c74c0e4\" data-root-id=\"p5675\" style=\"display: contents;\"></div>\n",
       "</div>\n",
       "<script type=\"application/javascript\">(function(root) {\n",
       "  var docs_json = {\"100583fd-fad2-4aa8-8ea6-91f37ce04faf\":{\"version\":\"3.2.1\",\"title\":\"Bokeh Application\",\"roots\":[{\"type\":\"object\",\"name\":\"Row\",\"id\":\"p5675\",\"attributes\":{\"name\":\"Row11231\",\"tags\":[\"embedded\"],\"stylesheets\":[\"\\n:host(.pn-loading.pn-arc):before, .pn-loading.pn-arc:before {\\n  background-image: url(\\\"data:image/svg+xml;base64,PHN2ZyB4bWxucz0iaHR0cDovL3d3dy53My5vcmcvMjAwMC9zdmciIHN0eWxlPSJtYXJnaW46IGF1dG87IGJhY2tncm91bmQ6IG5vbmU7IGRpc3BsYXk6IGJsb2NrOyBzaGFwZS1yZW5kZXJpbmc6IGF1dG87IiB2aWV3Qm94PSIwIDAgMTAwIDEwMCIgcHJlc2VydmVBc3BlY3RSYXRpbz0ieE1pZFlNaWQiPiAgPGNpcmNsZSBjeD0iNTAiIGN5PSI1MCIgZmlsbD0ibm9uZSIgc3Ryb2tlPSIjYzNjM2MzIiBzdHJva2Utd2lkdGg9IjEwIiByPSIzNSIgc3Ryb2tlLWRhc2hhcnJheT0iMTY0LjkzMzYxNDMxMzQ2NDE1IDU2Ljk3Nzg3MTQzNzgyMTM4Ij4gICAgPGFuaW1hdGVUcmFuc2Zvcm0gYXR0cmlidXRlTmFtZT0idHJhbnNmb3JtIiB0eXBlPSJyb3RhdGUiIHJlcGVhdENvdW50PSJpbmRlZmluaXRlIiBkdXI9IjFzIiB2YWx1ZXM9IjAgNTAgNTA7MzYwIDUwIDUwIiBrZXlUaW1lcz0iMDsxIj48L2FuaW1hdGVUcmFuc2Zvcm0+ICA8L2NpcmNsZT48L3N2Zz4=\\\");\\n  background-size: auto calc(min(50%, 400px));\\n}\",{\"type\":\"object\",\"name\":\"ImportedStyleSheet\",\"id\":\"p5678\",\"attributes\":{\"url\":\"https://cdn.holoviz.org/panel/1.2.1/dist/css/loading.css\"}},{\"type\":\"object\",\"name\":\"ImportedStyleSheet\",\"id\":\"p5907\",\"attributes\":{\"url\":\"https://cdn.holoviz.org/panel/1.2.1/dist/css/listpanel.css\"}},{\"type\":\"object\",\"name\":\"ImportedStyleSheet\",\"id\":\"p5676\",\"attributes\":{\"url\":\"https://cdn.holoviz.org/panel/1.2.1/dist/bundled/theme/default.css\"}},{\"type\":\"object\",\"name\":\"ImportedStyleSheet\",\"id\":\"p5677\",\"attributes\":{\"url\":\"https://cdn.holoviz.org/panel/1.2.1/dist/bundled/theme/native.css\"}}],\"margin\":0,\"sizing_mode\":\"stretch_width\",\"align\":\"start\",\"children\":[{\"type\":\"object\",\"name\":\"Spacer\",\"id\":\"p5679\",\"attributes\":{\"name\":\"HSpacer11240\",\"stylesheets\":[\"\\n:host(.pn-loading.pn-arc):before, .pn-loading.pn-arc:before {\\n  background-image: url(\\\"data:image/svg+xml;base64,PHN2ZyB4bWxucz0iaHR0cDovL3d3dy53My5vcmcvMjAwMC9zdmciIHN0eWxlPSJtYXJnaW46IGF1dG87IGJhY2tncm91bmQ6IG5vbmU7IGRpc3BsYXk6IGJsb2NrOyBzaGFwZS1yZW5kZXJpbmc6IGF1dG87IiB2aWV3Qm94PSIwIDAgMTAwIDEwMCIgcHJlc2VydmVBc3BlY3RSYXRpbz0ieE1pZFlNaWQiPiAgPGNpcmNsZSBjeD0iNTAiIGN5PSI1MCIgZmlsbD0ibm9uZSIgc3Ryb2tlPSIjYzNjM2MzIiBzdHJva2Utd2lkdGg9IjEwIiByPSIzNSIgc3Ryb2tlLWRhc2hhcnJheT0iMTY0LjkzMzYxNDMxMzQ2NDE1IDU2Ljk3Nzg3MTQzNzgyMTM4Ij4gICAgPGFuaW1hdGVUcmFuc2Zvcm0gYXR0cmlidXRlTmFtZT0idHJhbnNmb3JtIiB0eXBlPSJyb3RhdGUiIHJlcGVhdENvdW50PSJpbmRlZmluaXRlIiBkdXI9IjFzIiB2YWx1ZXM9IjAgNTAgNTA7MzYwIDUwIDUwIiBrZXlUaW1lcz0iMDsxIj48L2FuaW1hdGVUcmFuc2Zvcm0+ICA8L2NpcmNsZT48L3N2Zz4=\\\");\\n  background-size: auto calc(min(50%, 400px));\\n}\",{\"id\":\"p5678\"},{\"id\":\"p5676\"},{\"id\":\"p5677\"}],\"margin\":0,\"sizing_mode\":\"stretch_width\",\"align\":\"start\"}},{\"type\":\"object\",\"name\":\"GridPlot\",\"id\":\"p5887\",\"attributes\":{\"rows\":null,\"cols\":null,\"toolbar\":{\"type\":\"object\",\"name\":\"Toolbar\",\"id\":\"p5903\",\"attributes\":{\"tools\":[{\"type\":\"object\",\"name\":\"ToolProxy\",\"id\":\"p5897\",\"attributes\":{\"tools\":[{\"type\":\"object\",\"name\":\"WheelZoomTool\",\"id\":\"p5685\",\"attributes\":{\"tags\":[\"hv_created\"],\"zoom_together\":\"none\"}},{\"type\":\"object\",\"name\":\"WheelZoomTool\",\"id\":\"p5786\",\"attributes\":{\"tags\":[\"hv_created\"],\"zoom_together\":\"none\"}}]}},{\"type\":\"object\",\"name\":\"ToolProxy\",\"id\":\"p5898\",\"attributes\":{\"tools\":[{\"type\":\"object\",\"name\":\"HoverTool\",\"id\":\"p5686\",\"attributes\":{\"tags\":[\"hv_created\"],\"renderers\":[{\"type\":\"object\",\"name\":\"GlyphRenderer\",\"id\":\"p5733\",\"attributes\":{\"name\":\"0\",\"js_property_callbacks\":{\"type\":\"map\",\"entries\":[[\"change:muted\",[{\"type\":\"object\",\"name\":\"CustomJS\",\"id\":\"p5889\",\"attributes\":{\"args\":{\"type\":\"map\",\"entries\":[[\"src\",{\"id\":\"p5733\"}],[\"dst\",{\"type\":\"object\",\"name\":\"GlyphRenderer\",\"id\":\"p5833\",\"attributes\":{\"name\":\"0\",\"js_property_callbacks\":{\"type\":\"map\",\"entries\":[[\"change:muted\",[{\"type\":\"object\",\"name\":\"CustomJS\",\"id\":\"p5890\",\"attributes\":{\"args\":{\"type\":\"map\",\"entries\":[[\"src\",{\"id\":\"p5833\"}],[\"dst\",{\"id\":\"p5733\"}]]},\"code\":\"dst.muted = src.muted\"}}]]]},\"data_source\":{\"type\":\"object\",\"name\":\"ColumnDataSource\",\"id\":\"p5824\",\"attributes\":{\"selected\":{\"type\":\"object\",\"name\":\"Selection\",\"id\":\"p5825\",\"attributes\":{\"indices\":[],\"line_indices\":[]}},\"selection_policy\":{\"type\":\"object\",\"name\":\"UnionRenderers\",\"id\":\"p5826\"},\"data\":{\"type\":\"map\",\"entries\":[[\"PCA_1\",{\"type\":\"ndarray\",\"array\":{\"type\":\"bytes\",\"data\":\"TJZ8amq3278UYXw2izLev9jya5vXSei/S/tzoPfEz7+Bh/TX3g7cv4oZGVOKMOa/gkwjp68s2b/0BLsJMGewP7SyldMFTN+/DekqwdFu4L/bFokx+yzXv5MSO2dvc9q/xxEoujMU2r94ZdmqtnzjP+hN1mNC0Ny/iti9MiN46L/kse9uVM3hv+hGFZE5agVAmSC8UEGl47+1vuS6vI7iv3QKKydStOs/cJK6/7yWvD9vXMBgQDzkv5YbmkYF++K/Dr1JmQJS3b/84a/49hDTvw==\"},\"shape\":[26],\"dtype\":\"float64\",\"order\":\"little\"}],[\"PCA_2\",{\"type\":\"ndarray\",\"array\":{\"type\":\"bytes\",\"data\":\"lNF7TyqFxb+vj1UaIIDMv6PhzCbqwMm/yzoUYyAF9r+8ZsaEbXHGv0fJIJL6Ut6/fyu0IHiyu79tgFApNFH0vwWhJl5vcue/1JKaSllHwr+6iEuGzZTvv2r5wy5akuW/tN3jHmozy7+sF2SFdAjiP2kuIf2aVMO/NOuFsYSS4L9ZbbiA5wL/vxN2Joz3k4y/jY8PRXSt3r8M37YoLM7Wv2X+1spVGALA5CEohoZp2z9DqFKDbN0AwPUO7msnAJY/VfWtmbtfwb9ISPDBzXbIvw==\"},\"shape\":[26],\"dtype\":\"float64\",\"order\":\"little\"}],[\"coin_id\",[\"tether\",\"ripple\",\"bitcoin-cash-sv\",\"crypto-com-chain\",\"usd-coin\",\"eos\",\"tron\",\"okb\",\"stellar\",\"cdai\",\"neo\",\"leo-token\",\"huobi-token\",\"nem\",\"binance-usd\",\"iota\",\"vechain\",\"theta-token\",\"dash\",\"ethereum-classic\",\"havven\",\"omisego\",\"ontology\",\"ftx-token\",\"true-usd\",\"digibyte\"]],[\"pca_pred\",[0,0,0,0,0,0,0,0,0,0,0,0,0,0,0,0,0,0,0,0,0,0,0,0,0,0]]]}}},\"view\":{\"type\":\"object\",\"name\":\"CDSView\",\"id\":\"p5834\",\"attributes\":{\"filter\":{\"type\":\"object\",\"name\":\"AllIndices\",\"id\":\"p5835\"}}},\"glyph\":{\"type\":\"object\",\"name\":\"Scatter\",\"id\":\"p5830\",\"attributes\":{\"tags\":[\"apply_ranges\"],\"x\":{\"type\":\"field\",\"field\":\"PCA_1\"},\"y\":{\"type\":\"field\",\"field\":\"PCA_2\"},\"size\":{\"type\":\"value\",\"value\":5.477225575051661},\"line_color\":{\"type\":\"value\",\"value\":\"#30a2da\"},\"fill_color\":{\"type\":\"value\",\"value\":\"#30a2da\"},\"hatch_color\":{\"type\":\"value\",\"value\":\"#30a2da\"}}},\"selection_glyph\":{\"type\":\"object\",\"name\":\"Scatter\",\"id\":\"p5838\",\"attributes\":{\"tags\":[\"apply_ranges\"],\"x\":{\"type\":\"field\",\"field\":\"PCA_1\"},\"y\":{\"type\":\"field\",\"field\":\"PCA_2\"},\"size\":{\"type\":\"value\",\"value\":5.477225575051661},\"angle\":{\"type\":\"value\",\"value\":0.0},\"line_color\":{\"type\":\"value\",\"value\":\"#30a2da\"},\"line_alpha\":{\"type\":\"value\",\"value\":1.0},\"line_width\":{\"type\":\"value\",\"value\":1},\"line_join\":{\"type\":\"value\",\"value\":\"bevel\"},\"line_cap\":{\"type\":\"value\",\"value\":\"butt\"},\"line_dash\":{\"type\":\"value\",\"value\":[]},\"line_dash_offset\":{\"type\":\"value\",\"value\":0},\"fill_color\":{\"type\":\"value\",\"value\":\"#30a2da\"},\"fill_alpha\":{\"type\":\"value\",\"value\":1.0},\"hatch_color\":{\"type\":\"value\",\"value\":\"#30a2da\"},\"hatch_alpha\":{\"type\":\"value\",\"value\":1.0},\"hatch_scale\":{\"type\":\"value\",\"value\":12.0},\"hatch_pattern\":{\"type\":\"value\",\"value\":null},\"hatch_weight\":{\"type\":\"value\",\"value\":1.0},\"marker\":{\"type\":\"value\",\"value\":\"circle\"}}},\"nonselection_glyph\":{\"type\":\"object\",\"name\":\"Scatter\",\"id\":\"p5831\",\"attributes\":{\"tags\":[\"apply_ranges\"],\"x\":{\"type\":\"field\",\"field\":\"PCA_1\"},\"y\":{\"type\":\"field\",\"field\":\"PCA_2\"},\"size\":{\"type\":\"value\",\"value\":5.477225575051661},\"line_color\":{\"type\":\"value\",\"value\":\"#30a2da\"},\"line_alpha\":{\"type\":\"value\",\"value\":0.1},\"fill_color\":{\"type\":\"value\",\"value\":\"#30a2da\"},\"fill_alpha\":{\"type\":\"value\",\"value\":0.1},\"hatch_color\":{\"type\":\"value\",\"value\":\"#30a2da\"},\"hatch_alpha\":{\"type\":\"value\",\"value\":0.1}}},\"muted_glyph\":{\"type\":\"object\",\"name\":\"Scatter\",\"id\":\"p5832\",\"attributes\":{\"tags\":[\"apply_ranges\"],\"x\":{\"type\":\"field\",\"field\":\"PCA_1\"},\"y\":{\"type\":\"field\",\"field\":\"PCA_2\"},\"size\":{\"type\":\"value\",\"value\":5.477225575051661},\"line_color\":{\"type\":\"value\",\"value\":\"#30a2da\"},\"line_alpha\":{\"type\":\"value\",\"value\":0.2},\"fill_color\":{\"type\":\"value\",\"value\":\"#30a2da\"},\"fill_alpha\":{\"type\":\"value\",\"value\":0.2},\"hatch_color\":{\"type\":\"value\",\"value\":\"#30a2da\"},\"hatch_alpha\":{\"type\":\"value\",\"value\":0.2}}}}}]]},\"code\":\"dst.muted = src.muted\"}}]]]},\"data_source\":{\"type\":\"object\",\"name\":\"ColumnDataSource\",\"id\":\"p5724\",\"attributes\":{\"selected\":{\"type\":\"object\",\"name\":\"Selection\",\"id\":\"p5725\",\"attributes\":{\"indices\":[],\"line_indices\":[]}},\"selection_policy\":{\"type\":\"object\",\"name\":\"UnionRenderers\",\"id\":\"p5726\"},\"data\":{\"type\":\"map\",\"entries\":[[\"price_change_percentage_24h\",{\"type\":\"ndarray\",\"array\":{\"type\":\"bytes\",\"data\":\"mCJF1OlLlj/mJRG3Ed+kv1qZGRifu9w//rJXHrAz1T/yMTqenpahPx9kk3dK7sM/GTRehHalwD90fnl54Irtv9XPDahDw9G/+VOWQSEmxz+kpbukw1bSP6eM4M4OgKo/BcMOj9+jqr/Chq6S5ebLv2h3TIfCZ68/weEQ8QyV0D/KmZTmC7niP1YH9WGFy/m/N7JuVBEB07/EU4GAhEGyv8Ocf0hw2/a/lrPBJY23/j/IKcQzxy3av5WrmDyeito/Bf22eE/6sz9Y362Ir3rzPw==\"},\"shape\":[26],\"dtype\":\"float64\",\"order\":\"little\"}],[\"price_change_percentage_7d\",{\"type\":\"ndarray\",\"array\":{\"type\":\"bytes\",\"data\":\"bZSIvk+a5r9RujxqH/Ppvw2U7adXaMi/d+r7VGbW+b9EGSx/8nTnv4rfBo4Lhe2/BEBwXEEApb8Udj8VbP/2vySelkVDp9i/7SZvVsyO5r8uu+JVH+LUvziN+gRMte2/o2qlez1D3b/CtPLKIS7rvyYjaswHnea/US6joeTvzz/dRmuCvtDvv/9TV66U6fq/ZWX+mWVCuD8GJ0pHuV/Nv8nIE2ZWH5q/TTxj/me11z+Htdvf1gXtv2Avihmzf9o/e31xtwIC5r/STlu6Y3Ljvw==\"},\"shape\":[26],\"dtype\":\"float64\",\"order\":\"little\"}],[\"coin_id\",[\"tether\",\"ripple\",\"bitcoin-cash-sv\",\"crypto-com-chain\",\"usd-coin\",\"eos\",\"tron\",\"okb\",\"stellar\",\"cdai\",\"neo\",\"leo-token\",\"huobi-token\",\"nem\",\"binance-usd\",\"iota\",\"vechain\",\"theta-token\",\"dash\",\"ethereum-classic\",\"havven\",\"omisego\",\"ontology\",\"ftx-token\",\"true-usd\",\"digibyte\"]],[\"clusters\",[0,0,0,0,0,0,0,0,0,0,0,0,0,0,0,0,0,0,0,0,0,0,0,0,0,0]]]}}},\"view\":{\"type\":\"object\",\"name\":\"CDSView\",\"id\":\"p5734\",\"attributes\":{\"filter\":{\"type\":\"object\",\"name\":\"AllIndices\",\"id\":\"p5735\"}}},\"glyph\":{\"type\":\"object\",\"name\":\"Scatter\",\"id\":\"p5730\",\"attributes\":{\"tags\":[\"apply_ranges\"],\"x\":{\"type\":\"field\",\"field\":\"price_change_percentage_24h\"},\"y\":{\"type\":\"field\",\"field\":\"price_change_percentage_7d\"},\"size\":{\"type\":\"value\",\"value\":5.477225575051661},\"line_color\":{\"type\":\"value\",\"value\":\"#30a2da\"},\"fill_color\":{\"type\":\"value\",\"value\":\"#30a2da\"},\"hatch_color\":{\"type\":\"value\",\"value\":\"#30a2da\"}}},\"selection_glyph\":{\"type\":\"object\",\"name\":\"Scatter\",\"id\":\"p5738\",\"attributes\":{\"tags\":[\"apply_ranges\"],\"x\":{\"type\":\"field\",\"field\":\"price_change_percentage_24h\"},\"y\":{\"type\":\"field\",\"field\":\"price_change_percentage_7d\"},\"size\":{\"type\":\"value\",\"value\":5.477225575051661},\"angle\":{\"type\":\"value\",\"value\":0.0},\"line_color\":{\"type\":\"value\",\"value\":\"#30a2da\"},\"line_alpha\":{\"type\":\"value\",\"value\":1.0},\"line_width\":{\"type\":\"value\",\"value\":1},\"line_join\":{\"type\":\"value\",\"value\":\"bevel\"},\"line_cap\":{\"type\":\"value\",\"value\":\"butt\"},\"line_dash\":{\"type\":\"value\",\"value\":[]},\"line_dash_offset\":{\"type\":\"value\",\"value\":0},\"fill_color\":{\"type\":\"value\",\"value\":\"#30a2da\"},\"fill_alpha\":{\"type\":\"value\",\"value\":1.0},\"hatch_color\":{\"type\":\"value\",\"value\":\"#30a2da\"},\"hatch_alpha\":{\"type\":\"value\",\"value\":1.0},\"hatch_scale\":{\"type\":\"value\",\"value\":12.0},\"hatch_pattern\":{\"type\":\"value\",\"value\":null},\"hatch_weight\":{\"type\":\"value\",\"value\":1.0},\"marker\":{\"type\":\"value\",\"value\":\"circle\"}}},\"nonselection_glyph\":{\"type\":\"object\",\"name\":\"Scatter\",\"id\":\"p5731\",\"attributes\":{\"tags\":[\"apply_ranges\"],\"x\":{\"type\":\"field\",\"field\":\"price_change_percentage_24h\"},\"y\":{\"type\":\"field\",\"field\":\"price_change_percentage_7d\"},\"size\":{\"type\":\"value\",\"value\":5.477225575051661},\"line_color\":{\"type\":\"value\",\"value\":\"#30a2da\"},\"line_alpha\":{\"type\":\"value\",\"value\":0.1},\"fill_color\":{\"type\":\"value\",\"value\":\"#30a2da\"},\"fill_alpha\":{\"type\":\"value\",\"value\":0.1},\"hatch_color\":{\"type\":\"value\",\"value\":\"#30a2da\"},\"hatch_alpha\":{\"type\":\"value\",\"value\":0.1}}},\"muted_glyph\":{\"type\":\"object\",\"name\":\"Scatter\",\"id\":\"p5732\",\"attributes\":{\"tags\":[\"apply_ranges\"],\"x\":{\"type\":\"field\",\"field\":\"price_change_percentage_24h\"},\"y\":{\"type\":\"field\",\"field\":\"price_change_percentage_7d\"},\"size\":{\"type\":\"value\",\"value\":5.477225575051661},\"line_color\":{\"type\":\"value\",\"value\":\"#30a2da\"},\"line_alpha\":{\"type\":\"value\",\"value\":0.2},\"fill_color\":{\"type\":\"value\",\"value\":\"#30a2da\"},\"fill_alpha\":{\"type\":\"value\",\"value\":0.2},\"hatch_color\":{\"type\":\"value\",\"value\":\"#30a2da\"},\"hatch_alpha\":{\"type\":\"value\",\"value\":0.2}}}}},{\"type\":\"object\",\"name\":\"GlyphRenderer\",\"id\":\"p5748\",\"attributes\":{\"name\":\"1\",\"js_property_callbacks\":{\"type\":\"map\",\"entries\":[[\"change:muted\",[{\"type\":\"object\",\"name\":\"CustomJS\",\"id\":\"p5891\",\"attributes\":{\"args\":{\"type\":\"map\",\"entries\":[[\"src\",{\"id\":\"p5748\"}],[\"dst\",{\"type\":\"object\",\"name\":\"GlyphRenderer\",\"id\":\"p5848\",\"attributes\":{\"name\":\"1\",\"js_property_callbacks\":{\"type\":\"map\",\"entries\":[[\"change:muted\",[{\"type\":\"object\",\"name\":\"CustomJS\",\"id\":\"p5892\",\"attributes\":{\"args\":{\"type\":\"map\",\"entries\":[[\"src\",{\"id\":\"p5848\"}],[\"dst\",{\"id\":\"p5748\"}]]},\"code\":\"dst.muted = src.muted\"}}]]]},\"data_source\":{\"type\":\"object\",\"name\":\"ColumnDataSource\",\"id\":\"p5839\",\"attributes\":{\"selected\":{\"type\":\"object\",\"name\":\"Selection\",\"id\":\"p5840\",\"attributes\":{\"indices\":[],\"line_indices\":[]}},\"selection_policy\":{\"type\":\"object\",\"name\":\"UnionRenderers\",\"id\":\"p5841\"},\"data\":{\"type\":\"map\",\"entries\":[[\"PCA_1\",{\"type\":\"ndarray\",\"array\":{\"type\":\"bytes\",\"data\":\"RxQ7s2krE0A=\"},\"shape\":[1],\"dtype\":\"float64\",\"order\":\"little\"}],[\"PCA_2\",{\"type\":\"ndarray\",\"array\":{\"type\":\"bytes\",\"data\":\"JVrQWxoSG0A=\"},\"shape\":[1],\"dtype\":\"float64\",\"order\":\"little\"}],[\"coin_id\",[\"celsius-degree-token\"]],[\"pca_pred\",[1]]]}}},\"view\":{\"type\":\"object\",\"name\":\"CDSView\",\"id\":\"p5849\",\"attributes\":{\"filter\":{\"type\":\"object\",\"name\":\"AllIndices\",\"id\":\"p5850\"}}},\"glyph\":{\"type\":\"object\",\"name\":\"Scatter\",\"id\":\"p5845\",\"attributes\":{\"tags\":[\"apply_ranges\"],\"x\":{\"type\":\"field\",\"field\":\"PCA_1\"},\"y\":{\"type\":\"field\",\"field\":\"PCA_2\"},\"size\":{\"type\":\"value\",\"value\":5.477225575051661},\"line_color\":{\"type\":\"value\",\"value\":\"#fc4f30\"},\"fill_color\":{\"type\":\"value\",\"value\":\"#fc4f30\"},\"hatch_color\":{\"type\":\"value\",\"value\":\"#fc4f30\"}}},\"selection_glyph\":{\"type\":\"object\",\"name\":\"Scatter\",\"id\":\"p5852\",\"attributes\":{\"tags\":[\"apply_ranges\"],\"x\":{\"type\":\"field\",\"field\":\"PCA_1\"},\"y\":{\"type\":\"field\",\"field\":\"PCA_2\"},\"size\":{\"type\":\"value\",\"value\":5.477225575051661},\"angle\":{\"type\":\"value\",\"value\":0.0},\"line_color\":{\"type\":\"value\",\"value\":\"#fc4f30\"},\"line_alpha\":{\"type\":\"value\",\"value\":1.0},\"line_width\":{\"type\":\"value\",\"value\":1},\"line_join\":{\"type\":\"value\",\"value\":\"bevel\"},\"line_cap\":{\"type\":\"value\",\"value\":\"butt\"},\"line_dash\":{\"type\":\"value\",\"value\":[]},\"line_dash_offset\":{\"type\":\"value\",\"value\":0},\"fill_color\":{\"type\":\"value\",\"value\":\"#fc4f30\"},\"fill_alpha\":{\"type\":\"value\",\"value\":1.0},\"hatch_color\":{\"type\":\"value\",\"value\":\"#fc4f30\"},\"hatch_alpha\":{\"type\":\"value\",\"value\":1.0},\"hatch_scale\":{\"type\":\"value\",\"value\":12.0},\"hatch_pattern\":{\"type\":\"value\",\"value\":null},\"hatch_weight\":{\"type\":\"value\",\"value\":1.0},\"marker\":{\"type\":\"value\",\"value\":\"circle\"}}},\"nonselection_glyph\":{\"type\":\"object\",\"name\":\"Scatter\",\"id\":\"p5846\",\"attributes\":{\"tags\":[\"apply_ranges\"],\"x\":{\"type\":\"field\",\"field\":\"PCA_1\"},\"y\":{\"type\":\"field\",\"field\":\"PCA_2\"},\"size\":{\"type\":\"value\",\"value\":5.477225575051661},\"line_color\":{\"type\":\"value\",\"value\":\"#fc4f30\"},\"line_alpha\":{\"type\":\"value\",\"value\":0.1},\"fill_color\":{\"type\":\"value\",\"value\":\"#fc4f30\"},\"fill_alpha\":{\"type\":\"value\",\"value\":0.1},\"hatch_color\":{\"type\":\"value\",\"value\":\"#fc4f30\"},\"hatch_alpha\":{\"type\":\"value\",\"value\":0.1}}},\"muted_glyph\":{\"type\":\"object\",\"name\":\"Scatter\",\"id\":\"p5847\",\"attributes\":{\"tags\":[\"apply_ranges\"],\"x\":{\"type\":\"field\",\"field\":\"PCA_1\"},\"y\":{\"type\":\"field\",\"field\":\"PCA_2\"},\"size\":{\"type\":\"value\",\"value\":5.477225575051661},\"line_color\":{\"type\":\"value\",\"value\":\"#fc4f30\"},\"line_alpha\":{\"type\":\"value\",\"value\":0.2},\"fill_color\":{\"type\":\"value\",\"value\":\"#fc4f30\"},\"fill_alpha\":{\"type\":\"value\",\"value\":0.2},\"hatch_color\":{\"type\":\"value\",\"value\":\"#fc4f30\"},\"hatch_alpha\":{\"type\":\"value\",\"value\":0.2}}}}}]]},\"code\":\"dst.muted = src.muted\"}}]]]},\"data_source\":{\"type\":\"object\",\"name\":\"ColumnDataSource\",\"id\":\"p5739\",\"attributes\":{\"selected\":{\"type\":\"object\",\"name\":\"Selection\",\"id\":\"p5740\",\"attributes\":{\"indices\":[],\"line_indices\":[]}},\"selection_policy\":{\"type\":\"object\",\"name\":\"UnionRenderers\",\"id\":\"p5741\"},\"data\":{\"type\":\"map\",\"entries\":[[\"price_change_percentage_24h\",{\"type\":\"ndarray\",\"array\":{\"type\":\"bytes\",\"data\":\"VLqXBn668D8=\"},\"shape\":[1],\"dtype\":\"float64\",\"order\":\"little\"}],[\"price_change_percentage_7d\",{\"type\":\"ndarray\",\"array\":{\"type\":\"bytes\",\"data\":\"Nv03JFjJ478=\"},\"shape\":[1],\"dtype\":\"float64\",\"order\":\"little\"}],[\"coin_id\",[\"celsius-degree-token\"]],[\"clusters\",[1]]]}}},\"view\":{\"type\":\"object\",\"name\":\"CDSView\",\"id\":\"p5749\",\"attributes\":{\"filter\":{\"type\":\"object\",\"name\":\"AllIndices\",\"id\":\"p5750\"}}},\"glyph\":{\"type\":\"object\",\"name\":\"Scatter\",\"id\":\"p5745\",\"attributes\":{\"tags\":[\"apply_ranges\"],\"x\":{\"type\":\"field\",\"field\":\"price_change_percentage_24h\"},\"y\":{\"type\":\"field\",\"field\":\"price_change_percentage_7d\"},\"size\":{\"type\":\"value\",\"value\":5.477225575051661},\"line_color\":{\"type\":\"value\",\"value\":\"#fc4f30\"},\"fill_color\":{\"type\":\"value\",\"value\":\"#fc4f30\"},\"hatch_color\":{\"type\":\"value\",\"value\":\"#fc4f30\"}}},\"selection_glyph\":{\"type\":\"object\",\"name\":\"Scatter\",\"id\":\"p5752\",\"attributes\":{\"tags\":[\"apply_ranges\"],\"x\":{\"type\":\"field\",\"field\":\"price_change_percentage_24h\"},\"y\":{\"type\":\"field\",\"field\":\"price_change_percentage_7d\"},\"size\":{\"type\":\"value\",\"value\":5.477225575051661},\"angle\":{\"type\":\"value\",\"value\":0.0},\"line_color\":{\"type\":\"value\",\"value\":\"#fc4f30\"},\"line_alpha\":{\"type\":\"value\",\"value\":1.0},\"line_width\":{\"type\":\"value\",\"value\":1},\"line_join\":{\"type\":\"value\",\"value\":\"bevel\"},\"line_cap\":{\"type\":\"value\",\"value\":\"butt\"},\"line_dash\":{\"type\":\"value\",\"value\":[]},\"line_dash_offset\":{\"type\":\"value\",\"value\":0},\"fill_color\":{\"type\":\"value\",\"value\":\"#fc4f30\"},\"fill_alpha\":{\"type\":\"value\",\"value\":1.0},\"hatch_color\":{\"type\":\"value\",\"value\":\"#fc4f30\"},\"hatch_alpha\":{\"type\":\"value\",\"value\":1.0},\"hatch_scale\":{\"type\":\"value\",\"value\":12.0},\"hatch_pattern\":{\"type\":\"value\",\"value\":null},\"hatch_weight\":{\"type\":\"value\",\"value\":1.0},\"marker\":{\"type\":\"value\",\"value\":\"circle\"}}},\"nonselection_glyph\":{\"type\":\"object\",\"name\":\"Scatter\",\"id\":\"p5746\",\"attributes\":{\"tags\":[\"apply_ranges\"],\"x\":{\"type\":\"field\",\"field\":\"price_change_percentage_24h\"},\"y\":{\"type\":\"field\",\"field\":\"price_change_percentage_7d\"},\"size\":{\"type\":\"value\",\"value\":5.477225575051661},\"line_color\":{\"type\":\"value\",\"value\":\"#fc4f30\"},\"line_alpha\":{\"type\":\"value\",\"value\":0.1},\"fill_color\":{\"type\":\"value\",\"value\":\"#fc4f30\"},\"fill_alpha\":{\"type\":\"value\",\"value\":0.1},\"hatch_color\":{\"type\":\"value\",\"value\":\"#fc4f30\"},\"hatch_alpha\":{\"type\":\"value\",\"value\":0.1}}},\"muted_glyph\":{\"type\":\"object\",\"name\":\"Scatter\",\"id\":\"p5747\",\"attributes\":{\"tags\":[\"apply_ranges\"],\"x\":{\"type\":\"field\",\"field\":\"price_change_percentage_24h\"},\"y\":{\"type\":\"field\",\"field\":\"price_change_percentage_7d\"},\"size\":{\"type\":\"value\",\"value\":5.477225575051661},\"line_color\":{\"type\":\"value\",\"value\":\"#fc4f30\"},\"line_alpha\":{\"type\":\"value\",\"value\":0.2},\"fill_color\":{\"type\":\"value\",\"value\":\"#fc4f30\"},\"fill_alpha\":{\"type\":\"value\",\"value\":0.2},\"hatch_color\":{\"type\":\"value\",\"value\":\"#fc4f30\"},\"hatch_alpha\":{\"type\":\"value\",\"value\":0.2}}}}},{\"type\":\"object\",\"name\":\"GlyphRenderer\",\"id\":\"p5762\",\"attributes\":{\"name\":\"2\",\"js_property_callbacks\":{\"type\":\"map\",\"entries\":[[\"change:muted\",[{\"type\":\"object\",\"name\":\"CustomJS\",\"id\":\"p5893\",\"attributes\":{\"args\":{\"type\":\"map\",\"entries\":[[\"src\",{\"id\":\"p5762\"}],[\"dst\",{\"type\":\"object\",\"name\":\"GlyphRenderer\",\"id\":\"p5862\",\"attributes\":{\"name\":\"2\",\"js_property_callbacks\":{\"type\":\"map\",\"entries\":[[\"change:muted\",[{\"type\":\"object\",\"name\":\"CustomJS\",\"id\":\"p5894\",\"attributes\":{\"args\":{\"type\":\"map\",\"entries\":[[\"src\",{\"id\":\"p5862\"}],[\"dst\",{\"id\":\"p5762\"}]]},\"code\":\"dst.muted = src.muted\"}}]]]},\"data_source\":{\"type\":\"object\",\"name\":\"ColumnDataSource\",\"id\":\"p5853\",\"attributes\":{\"selected\":{\"type\":\"object\",\"name\":\"Selection\",\"id\":\"p5854\",\"attributes\":{\"indices\":[],\"line_indices\":[]}},\"selection_policy\":{\"type\":\"object\",\"name\":\"UnionRenderers\",\"id\":\"p5855\"},\"data\":{\"type\":\"map\",\"entries\":[[\"PCA_1\",{\"type\":\"ndarray\",\"array\":{\"type\":\"bytes\",\"data\":\"S/XQrqo447/f0e2+JFTdv2ATj0NZhvK/ItMJ1HGH4L/0WkdgdNjcvwn+x3tOHta/lm1M83DI5L/osk+KvvmuP5kxxVNFeum/186LH/eZ07/b3W/HIlbjv2Hz5tCaNdu/vEmjFh7m2L8=\"},\"shape\":[13],\"dtype\":\"float64\",\"order\":\"little\"}],[\"PCA_2\",{\"type\":\"ndarray\",\"array\":{\"type\":\"bytes\",\"data\":\"tQJY8+P36j9hP81egFfdP6JEN3tlVABAbaRxTss29j+zZPC8/ZDgP3/E/UiRV+c/WS0795eo2z+X9tOGdUYHQHCknptkpN+/aENue2CC5j9WCxibCnrqP9N0su7rjN8/T0ntLg0gxT8=\"},\"shape\":[13],\"dtype\":\"float64\",\"order\":\"little\"}],[\"coin_id\",[\"bitcoin\",\"ethereum\",\"bitcoin-cash\",\"binancecoin\",\"chainlink\",\"cardano\",\"litecoin\",\"monero\",\"tezos\",\"cosmos\",\"wrapped-bitcoin\",\"zcash\",\"maker\"]],[\"pca_pred\",[2,2,2,2,2,2,2,2,2,2,2,2,2]]]}}},\"view\":{\"type\":\"object\",\"name\":\"CDSView\",\"id\":\"p5863\",\"attributes\":{\"filter\":{\"type\":\"object\",\"name\":\"AllIndices\",\"id\":\"p5864\"}}},\"glyph\":{\"type\":\"object\",\"name\":\"Scatter\",\"id\":\"p5859\",\"attributes\":{\"tags\":[\"apply_ranges\"],\"x\":{\"type\":\"field\",\"field\":\"PCA_1\"},\"y\":{\"type\":\"field\",\"field\":\"PCA_2\"},\"size\":{\"type\":\"value\",\"value\":5.477225575051661},\"line_color\":{\"type\":\"value\",\"value\":\"#e5ae38\"},\"fill_color\":{\"type\":\"value\",\"value\":\"#e5ae38\"},\"hatch_color\":{\"type\":\"value\",\"value\":\"#e5ae38\"}}},\"selection_glyph\":{\"type\":\"object\",\"name\":\"Scatter\",\"id\":\"p5866\",\"attributes\":{\"tags\":[\"apply_ranges\"],\"x\":{\"type\":\"field\",\"field\":\"PCA_1\"},\"y\":{\"type\":\"field\",\"field\":\"PCA_2\"},\"size\":{\"type\":\"value\",\"value\":5.477225575051661},\"angle\":{\"type\":\"value\",\"value\":0.0},\"line_color\":{\"type\":\"value\",\"value\":\"#e5ae38\"},\"line_alpha\":{\"type\":\"value\",\"value\":1.0},\"line_width\":{\"type\":\"value\",\"value\":1},\"line_join\":{\"type\":\"value\",\"value\":\"bevel\"},\"line_cap\":{\"type\":\"value\",\"value\":\"butt\"},\"line_dash\":{\"type\":\"value\",\"value\":[]},\"line_dash_offset\":{\"type\":\"value\",\"value\":0},\"fill_color\":{\"type\":\"value\",\"value\":\"#e5ae38\"},\"fill_alpha\":{\"type\":\"value\",\"value\":1.0},\"hatch_color\":{\"type\":\"value\",\"value\":\"#e5ae38\"},\"hatch_alpha\":{\"type\":\"value\",\"value\":1.0},\"hatch_scale\":{\"type\":\"value\",\"value\":12.0},\"hatch_pattern\":{\"type\":\"value\",\"value\":null},\"hatch_weight\":{\"type\":\"value\",\"value\":1.0},\"marker\":{\"type\":\"value\",\"value\":\"circle\"}}},\"nonselection_glyph\":{\"type\":\"object\",\"name\":\"Scatter\",\"id\":\"p5860\",\"attributes\":{\"tags\":[\"apply_ranges\"],\"x\":{\"type\":\"field\",\"field\":\"PCA_1\"},\"y\":{\"type\":\"field\",\"field\":\"PCA_2\"},\"size\":{\"type\":\"value\",\"value\":5.477225575051661},\"line_color\":{\"type\":\"value\",\"value\":\"#e5ae38\"},\"line_alpha\":{\"type\":\"value\",\"value\":0.1},\"fill_color\":{\"type\":\"value\",\"value\":\"#e5ae38\"},\"fill_alpha\":{\"type\":\"value\",\"value\":0.1},\"hatch_color\":{\"type\":\"value\",\"value\":\"#e5ae38\"},\"hatch_alpha\":{\"type\":\"value\",\"value\":0.1}}},\"muted_glyph\":{\"type\":\"object\",\"name\":\"Scatter\",\"id\":\"p5861\",\"attributes\":{\"tags\":[\"apply_ranges\"],\"x\":{\"type\":\"field\",\"field\":\"PCA_1\"},\"y\":{\"type\":\"field\",\"field\":\"PCA_2\"},\"size\":{\"type\":\"value\",\"value\":5.477225575051661},\"line_color\":{\"type\":\"value\",\"value\":\"#e5ae38\"},\"line_alpha\":{\"type\":\"value\",\"value\":0.2},\"fill_color\":{\"type\":\"value\",\"value\":\"#e5ae38\"},\"fill_alpha\":{\"type\":\"value\",\"value\":0.2},\"hatch_color\":{\"type\":\"value\",\"value\":\"#e5ae38\"},\"hatch_alpha\":{\"type\":\"value\",\"value\":0.2}}}}}]]},\"code\":\"dst.muted = src.muted\"}}]]]},\"data_source\":{\"type\":\"object\",\"name\":\"ColumnDataSource\",\"id\":\"p5753\",\"attributes\":{\"selected\":{\"type\":\"object\",\"name\":\"Selection\",\"id\":\"p5754\",\"attributes\":{\"indices\":[],\"line_indices\":[]}},\"selection_policy\":{\"type\":\"object\",\"name\":\"UnionRenderers\",\"id\":\"p5755\"},\"data\":{\"type\":\"map\",\"entries\":[[\"price_change_percentage_24h\",{\"type\":\"ndarray\",\"array\":{\"type\":\"bytes\",\"data\":\"DdlqYN9F4D86azDosLzHPzALIwCtFvM/9w6McDSK7D/VDHOpb1eHPzMEvaFkP7o/Sds39trWsz9Epj8/c9DQP4xAeNEVZ8O/qq8st/Fh0L8FWWk3mH7gP6wo083aUMC//ACFOIMFwL8=\"},\"shape\":[13],\"dtype\":\"float64\",\"order\":\"little\"}],[\"price_change_percentage_7d\",{\"type\":\"ndarray\",\"array\":{\"type\":\"bytes\",\"data\":\"U1k8q3mQ3z9yoPpI+ebtPzAB2dP2AQBAgmkOMZk89T8FNulI+JMEQCZRaSLGIPg/84wjaB1l1T8rMp3jf678P2VmURqKqeY/XK6ZksNx/T9DfMqy1o7dPyTPDB1Xu+0/srW7TleV4j8=\"},\"shape\":[13],\"dtype\":\"float64\",\"order\":\"little\"}],[\"coin_id\",[\"bitcoin\",\"ethereum\",\"bitcoin-cash\",\"binancecoin\",\"chainlink\",\"cardano\",\"litecoin\",\"monero\",\"tezos\",\"cosmos\",\"wrapped-bitcoin\",\"zcash\",\"maker\"]],[\"clusters\",[2,2,2,2,2,2,2,2,2,2,2,2,2]]]}}},\"view\":{\"type\":\"object\",\"name\":\"CDSView\",\"id\":\"p5763\",\"attributes\":{\"filter\":{\"type\":\"object\",\"name\":\"AllIndices\",\"id\":\"p5764\"}}},\"glyph\":{\"type\":\"object\",\"name\":\"Scatter\",\"id\":\"p5759\",\"attributes\":{\"tags\":[\"apply_ranges\"],\"x\":{\"type\":\"field\",\"field\":\"price_change_percentage_24h\"},\"y\":{\"type\":\"field\",\"field\":\"price_change_percentage_7d\"},\"size\":{\"type\":\"value\",\"value\":5.477225575051661},\"line_color\":{\"type\":\"value\",\"value\":\"#e5ae38\"},\"fill_color\":{\"type\":\"value\",\"value\":\"#e5ae38\"},\"hatch_color\":{\"type\":\"value\",\"value\":\"#e5ae38\"}}},\"selection_glyph\":{\"type\":\"object\",\"name\":\"Scatter\",\"id\":\"p5766\",\"attributes\":{\"tags\":[\"apply_ranges\"],\"x\":{\"type\":\"field\",\"field\":\"price_change_percentage_24h\"},\"y\":{\"type\":\"field\",\"field\":\"price_change_percentage_7d\"},\"size\":{\"type\":\"value\",\"value\":5.477225575051661},\"angle\":{\"type\":\"value\",\"value\":0.0},\"line_color\":{\"type\":\"value\",\"value\":\"#e5ae38\"},\"line_alpha\":{\"type\":\"value\",\"value\":1.0},\"line_width\":{\"type\":\"value\",\"value\":1},\"line_join\":{\"type\":\"value\",\"value\":\"bevel\"},\"line_cap\":{\"type\":\"value\",\"value\":\"butt\"},\"line_dash\":{\"type\":\"value\",\"value\":[]},\"line_dash_offset\":{\"type\":\"value\",\"value\":0},\"fill_color\":{\"type\":\"value\",\"value\":\"#e5ae38\"},\"fill_alpha\":{\"type\":\"value\",\"value\":1.0},\"hatch_color\":{\"type\":\"value\",\"value\":\"#e5ae38\"},\"hatch_alpha\":{\"type\":\"value\",\"value\":1.0},\"hatch_scale\":{\"type\":\"value\",\"value\":12.0},\"hatch_pattern\":{\"type\":\"value\",\"value\":null},\"hatch_weight\":{\"type\":\"value\",\"value\":1.0},\"marker\":{\"type\":\"value\",\"value\":\"circle\"}}},\"nonselection_glyph\":{\"type\":\"object\",\"name\":\"Scatter\",\"id\":\"p5760\",\"attributes\":{\"tags\":[\"apply_ranges\"],\"x\":{\"type\":\"field\",\"field\":\"price_change_percentage_24h\"},\"y\":{\"type\":\"field\",\"field\":\"price_change_percentage_7d\"},\"size\":{\"type\":\"value\",\"value\":5.477225575051661},\"line_color\":{\"type\":\"value\",\"value\":\"#e5ae38\"},\"line_alpha\":{\"type\":\"value\",\"value\":0.1},\"fill_color\":{\"type\":\"value\",\"value\":\"#e5ae38\"},\"fill_alpha\":{\"type\":\"value\",\"value\":0.1},\"hatch_color\":{\"type\":\"value\",\"value\":\"#e5ae38\"},\"hatch_alpha\":{\"type\":\"value\",\"value\":0.1}}},\"muted_glyph\":{\"type\":\"object\",\"name\":\"Scatter\",\"id\":\"p5761\",\"attributes\":{\"tags\":[\"apply_ranges\"],\"x\":{\"type\":\"field\",\"field\":\"price_change_percentage_24h\"},\"y\":{\"type\":\"field\",\"field\":\"price_change_percentage_7d\"},\"size\":{\"type\":\"value\",\"value\":5.477225575051661},\"line_color\":{\"type\":\"value\",\"value\":\"#e5ae38\"},\"line_alpha\":{\"type\":\"value\",\"value\":0.2},\"fill_color\":{\"type\":\"value\",\"value\":\"#e5ae38\"},\"fill_alpha\":{\"type\":\"value\",\"value\":0.2},\"hatch_color\":{\"type\":\"value\",\"value\":\"#e5ae38\"},\"hatch_alpha\":{\"type\":\"value\",\"value\":0.2}}}}},{\"type\":\"object\",\"name\":\"GlyphRenderer\",\"id\":\"p5776\",\"attributes\":{\"name\":\"3\",\"js_property_callbacks\":{\"type\":\"map\",\"entries\":[[\"change:muted\",[{\"type\":\"object\",\"name\":\"CustomJS\",\"id\":\"p5895\",\"attributes\":{\"args\":{\"type\":\"map\",\"entries\":[[\"src\",{\"id\":\"p5776\"}],[\"dst\",{\"type\":\"object\",\"name\":\"GlyphRenderer\",\"id\":\"p5876\",\"attributes\":{\"name\":\"3\",\"js_property_callbacks\":{\"type\":\"map\",\"entries\":[[\"change:muted\",[{\"type\":\"object\",\"name\":\"CustomJS\",\"id\":\"p5896\",\"attributes\":{\"args\":{\"type\":\"map\",\"entries\":[[\"src\",{\"id\":\"p5876\"}],[\"dst\",{\"id\":\"p5776\"}]]},\"code\":\"dst.muted = src.muted\"}}]]]},\"data_source\":{\"type\":\"object\",\"name\":\"ColumnDataSource\",\"id\":\"p5867\",\"attributes\":{\"selected\":{\"type\":\"object\",\"name\":\"Selection\",\"id\":\"p5868\",\"attributes\":{\"indices\":[],\"line_indices\":[]}},\"selection_policy\":{\"type\":\"object\",\"name\":\"UnionRenderers\",\"id\":\"p5869\"},\"data\":{\"type\":\"map\",\"entries\":[[\"PCA_1\",{\"type\":\"ndarray\",\"array\":{\"type\":\"bytes\",\"data\":\"TlWiy5MtIEA=\"},\"shape\":[1],\"dtype\":\"float64\",\"order\":\"little\"}],[\"PCA_2\",{\"type\":\"ndarray\",\"array\":{\"type\":\"bytes\",\"data\":\"IQ3w8dQsD8A=\"},\"shape\":[1],\"dtype\":\"float64\",\"order\":\"little\"}],[\"coin_id\",[\"ethlend\"]],[\"pca_pred\",[3]]]}}},\"view\":{\"type\":\"object\",\"name\":\"CDSView\",\"id\":\"p5877\",\"attributes\":{\"filter\":{\"type\":\"object\",\"name\":\"AllIndices\",\"id\":\"p5878\"}}},\"glyph\":{\"type\":\"object\",\"name\":\"Scatter\",\"id\":\"p5873\",\"attributes\":{\"tags\":[\"apply_ranges\"],\"x\":{\"type\":\"field\",\"field\":\"PCA_1\"},\"y\":{\"type\":\"field\",\"field\":\"PCA_2\"},\"size\":{\"type\":\"value\",\"value\":5.477225575051661},\"line_color\":{\"type\":\"value\",\"value\":\"#6d904f\"},\"fill_color\":{\"type\":\"value\",\"value\":\"#6d904f\"},\"hatch_color\":{\"type\":\"value\",\"value\":\"#6d904f\"}}},\"selection_glyph\":{\"type\":\"object\",\"name\":\"Scatter\",\"id\":\"p5880\",\"attributes\":{\"tags\":[\"apply_ranges\"],\"x\":{\"type\":\"field\",\"field\":\"PCA_1\"},\"y\":{\"type\":\"field\",\"field\":\"PCA_2\"},\"size\":{\"type\":\"value\",\"value\":5.477225575051661},\"angle\":{\"type\":\"value\",\"value\":0.0},\"line_color\":{\"type\":\"value\",\"value\":\"#6d904f\"},\"line_alpha\":{\"type\":\"value\",\"value\":1.0},\"line_width\":{\"type\":\"value\",\"value\":1},\"line_join\":{\"type\":\"value\",\"value\":\"bevel\"},\"line_cap\":{\"type\":\"value\",\"value\":\"butt\"},\"line_dash\":{\"type\":\"value\",\"value\":[]},\"line_dash_offset\":{\"type\":\"value\",\"value\":0},\"fill_color\":{\"type\":\"value\",\"value\":\"#6d904f\"},\"fill_alpha\":{\"type\":\"value\",\"value\":1.0},\"hatch_color\":{\"type\":\"value\",\"value\":\"#6d904f\"},\"hatch_alpha\":{\"type\":\"value\",\"value\":1.0},\"hatch_scale\":{\"type\":\"value\",\"value\":12.0},\"hatch_pattern\":{\"type\":\"value\",\"value\":null},\"hatch_weight\":{\"type\":\"value\",\"value\":1.0},\"marker\":{\"type\":\"value\",\"value\":\"circle\"}}},\"nonselection_glyph\":{\"type\":\"object\",\"name\":\"Scatter\",\"id\":\"p5874\",\"attributes\":{\"tags\":[\"apply_ranges\"],\"x\":{\"type\":\"field\",\"field\":\"PCA_1\"},\"y\":{\"type\":\"field\",\"field\":\"PCA_2\"},\"size\":{\"type\":\"value\",\"value\":5.477225575051661},\"line_color\":{\"type\":\"value\",\"value\":\"#6d904f\"},\"line_alpha\":{\"type\":\"value\",\"value\":0.1},\"fill_color\":{\"type\":\"value\",\"value\":\"#6d904f\"},\"fill_alpha\":{\"type\":\"value\",\"value\":0.1},\"hatch_color\":{\"type\":\"value\",\"value\":\"#6d904f\"},\"hatch_alpha\":{\"type\":\"value\",\"value\":0.1}}},\"muted_glyph\":{\"type\":\"object\",\"name\":\"Scatter\",\"id\":\"p5875\",\"attributes\":{\"tags\":[\"apply_ranges\"],\"x\":{\"type\":\"field\",\"field\":\"PCA_1\"},\"y\":{\"type\":\"field\",\"field\":\"PCA_2\"},\"size\":{\"type\":\"value\",\"value\":5.477225575051661},\"line_color\":{\"type\":\"value\",\"value\":\"#6d904f\"},\"line_alpha\":{\"type\":\"value\",\"value\":0.2},\"fill_color\":{\"type\":\"value\",\"value\":\"#6d904f\"},\"fill_alpha\":{\"type\":\"value\",\"value\":0.2},\"hatch_color\":{\"type\":\"value\",\"value\":\"#6d904f\"},\"hatch_alpha\":{\"type\":\"value\",\"value\":0.2}}}}}]]},\"code\":\"dst.muted = src.muted\"}}]]]},\"data_source\":{\"type\":\"object\",\"name\":\"ColumnDataSource\",\"id\":\"p5767\",\"attributes\":{\"selected\":{\"type\":\"object\",\"name\":\"Selection\",\"id\":\"p5768\",\"attributes\":{\"indices\":[],\"line_indices\":[]}},\"selection_policy\":{\"type\":\"object\",\"name\":\"UnionRenderers\",\"id\":\"p5769\"},\"data\":{\"type\":\"map\",\"entries\":[[\"price_change_percentage_24h\",{\"type\":\"ndarray\",\"array\":{\"type\":\"bytes\",\"data\":\"3WeHPpbsE8A=\"},\"shape\":[1],\"dtype\":\"float64\",\"order\":\"little\"}],[\"price_change_percentage_7d\",{\"type\":\"ndarray\",\"array\":{\"type\":\"bytes\",\"data\":\"dIWi2pshp78=\"},\"shape\":[1],\"dtype\":\"float64\",\"order\":\"little\"}],[\"coin_id\",[\"ethlend\"]],[\"clusters\",[3]]]}}},\"view\":{\"type\":\"object\",\"name\":\"CDSView\",\"id\":\"p5777\",\"attributes\":{\"filter\":{\"type\":\"object\",\"name\":\"AllIndices\",\"id\":\"p5778\"}}},\"glyph\":{\"type\":\"object\",\"name\":\"Scatter\",\"id\":\"p5773\",\"attributes\":{\"tags\":[\"apply_ranges\"],\"x\":{\"type\":\"field\",\"field\":\"price_change_percentage_24h\"},\"y\":{\"type\":\"field\",\"field\":\"price_change_percentage_7d\"},\"size\":{\"type\":\"value\",\"value\":5.477225575051661},\"line_color\":{\"type\":\"value\",\"value\":\"#6d904f\"},\"fill_color\":{\"type\":\"value\",\"value\":\"#6d904f\"},\"hatch_color\":{\"type\":\"value\",\"value\":\"#6d904f\"}}},\"selection_glyph\":{\"type\":\"object\",\"name\":\"Scatter\",\"id\":\"p5780\",\"attributes\":{\"tags\":[\"apply_ranges\"],\"x\":{\"type\":\"field\",\"field\":\"price_change_percentage_24h\"},\"y\":{\"type\":\"field\",\"field\":\"price_change_percentage_7d\"},\"size\":{\"type\":\"value\",\"value\":5.477225575051661},\"angle\":{\"type\":\"value\",\"value\":0.0},\"line_color\":{\"type\":\"value\",\"value\":\"#6d904f\"},\"line_alpha\":{\"type\":\"value\",\"value\":1.0},\"line_width\":{\"type\":\"value\",\"value\":1},\"line_join\":{\"type\":\"value\",\"value\":\"bevel\"},\"line_cap\":{\"type\":\"value\",\"value\":\"butt\"},\"line_dash\":{\"type\":\"value\",\"value\":[]},\"line_dash_offset\":{\"type\":\"value\",\"value\":0},\"fill_color\":{\"type\":\"value\",\"value\":\"#6d904f\"},\"fill_alpha\":{\"type\":\"value\",\"value\":1.0},\"hatch_color\":{\"type\":\"value\",\"value\":\"#6d904f\"},\"hatch_alpha\":{\"type\":\"value\",\"value\":1.0},\"hatch_scale\":{\"type\":\"value\",\"value\":12.0},\"hatch_pattern\":{\"type\":\"value\",\"value\":null},\"hatch_weight\":{\"type\":\"value\",\"value\":1.0},\"marker\":{\"type\":\"value\",\"value\":\"circle\"}}},\"nonselection_glyph\":{\"type\":\"object\",\"name\":\"Scatter\",\"id\":\"p5774\",\"attributes\":{\"tags\":[\"apply_ranges\"],\"x\":{\"type\":\"field\",\"field\":\"price_change_percentage_24h\"},\"y\":{\"type\":\"field\",\"field\":\"price_change_percentage_7d\"},\"size\":{\"type\":\"value\",\"value\":5.477225575051661},\"line_color\":{\"type\":\"value\",\"value\":\"#6d904f\"},\"line_alpha\":{\"type\":\"value\",\"value\":0.1},\"fill_color\":{\"type\":\"value\",\"value\":\"#6d904f\"},\"fill_alpha\":{\"type\":\"value\",\"value\":0.1},\"hatch_color\":{\"type\":\"value\",\"value\":\"#6d904f\"},\"hatch_alpha\":{\"type\":\"value\",\"value\":0.1}}},\"muted_glyph\":{\"type\":\"object\",\"name\":\"Scatter\",\"id\":\"p5775\",\"attributes\":{\"tags\":[\"apply_ranges\"],\"x\":{\"type\":\"field\",\"field\":\"price_change_percentage_24h\"},\"y\":{\"type\":\"field\",\"field\":\"price_change_percentage_7d\"},\"size\":{\"type\":\"value\",\"value\":5.477225575051661},\"line_color\":{\"type\":\"value\",\"value\":\"#6d904f\"},\"line_alpha\":{\"type\":\"value\",\"value\":0.2},\"fill_color\":{\"type\":\"value\",\"value\":\"#6d904f\"},\"fill_alpha\":{\"type\":\"value\",\"value\":0.2},\"hatch_color\":{\"type\":\"value\",\"value\":\"#6d904f\"},\"hatch_alpha\":{\"type\":\"value\",\"value\":0.2}}}}}],\"tooltips\":[[\"clusters\",\"@{clusters}\"],[\"price_change_percentage_24h\",\"@{price_change_percentage_24h}\"],[\"price_change_percentage_7d\",\"@{price_change_percentage_7d}\"],[\"coin_id\",\"@{coin_id}\"]]}},{\"type\":\"object\",\"name\":\"HoverTool\",\"id\":\"p5787\",\"attributes\":{\"tags\":[\"hv_created\"],\"renderers\":[{\"id\":\"p5833\"},{\"id\":\"p5848\"},{\"id\":\"p5862\"},{\"id\":\"p5876\"}],\"tooltips\":[[\"pca_pred\",\"@{pca_pred}\"],[\"PCA_1\",\"@{PCA_1}\"],[\"PCA_2\",\"@{PCA_2}\"],[\"coin_id\",\"@{coin_id}\"]]}}]}},{\"type\":\"object\",\"name\":\"SaveTool\",\"id\":\"p5899\"},{\"type\":\"object\",\"name\":\"ToolProxy\",\"id\":\"p5900\",\"attributes\":{\"tools\":[{\"type\":\"object\",\"name\":\"PanTool\",\"id\":\"p5719\"},{\"type\":\"object\",\"name\":\"PanTool\",\"id\":\"p5820\"}]}},{\"type\":\"object\",\"name\":\"ToolProxy\",\"id\":\"p5901\",\"attributes\":{\"tools\":[{\"type\":\"object\",\"name\":\"BoxZoomTool\",\"id\":\"p5720\",\"attributes\":{\"overlay\":{\"type\":\"object\",\"name\":\"BoxAnnotation\",\"id\":\"p5721\",\"attributes\":{\"syncable\":false,\"level\":\"overlay\",\"visible\":false,\"left_units\":\"canvas\",\"right_units\":\"canvas\",\"bottom_units\":\"canvas\",\"top_units\":\"canvas\",\"line_color\":\"black\",\"line_alpha\":1.0,\"line_width\":2,\"line_dash\":[4,4],\"fill_color\":\"lightgrey\",\"fill_alpha\":0.5}}}},{\"type\":\"object\",\"name\":\"BoxZoomTool\",\"id\":\"p5821\",\"attributes\":{\"overlay\":{\"type\":\"object\",\"name\":\"BoxAnnotation\",\"id\":\"p5822\",\"attributes\":{\"syncable\":false,\"level\":\"overlay\",\"visible\":false,\"left_units\":\"canvas\",\"right_units\":\"canvas\",\"bottom_units\":\"canvas\",\"top_units\":\"canvas\",\"line_color\":\"black\",\"line_alpha\":1.0,\"line_width\":2,\"line_dash\":[4,4],\"fill_color\":\"lightgrey\",\"fill_alpha\":0.5}}}}]}},{\"type\":\"object\",\"name\":\"ToolProxy\",\"id\":\"p5902\",\"attributes\":{\"tools\":[{\"type\":\"object\",\"name\":\"ResetTool\",\"id\":\"p5722\"},{\"type\":\"object\",\"name\":\"ResetTool\",\"id\":\"p5823\"}]}}]}},\"children\":[[{\"type\":\"object\",\"name\":\"Figure\",\"id\":\"p5696\",\"attributes\":{\"width\":700,\"height\":300,\"sizing_mode\":\"fixed\",\"align\":\"start\",\"x_range\":{\"type\":\"object\",\"name\":\"Range1d\",\"id\":\"p5680\",\"attributes\":{\"tags\":[[[\"price_change_percentage_24h\",\"price_change_percentage_24h\",null]],[]],\"start\":-5.276792781891412,\"end\":2.2155632386560065,\"reset_start\":-5.276792781891412,\"reset_end\":2.2155632386560065}},\"y_range\":{\"type\":\"object\",\"name\":\"Range1d\",\"id\":\"p5681\",\"attributes\":{\"tags\":[[[\"price_change_percentage_7d\",\"price_change_percentage_7d\",null]],{\"type\":\"map\",\"entries\":[[\"invert_yaxis\",false],[\"autorange\",false]]}],\"start\":-2.107454305728652,\"end\":2.997678656273595,\"reset_start\":-2.107454305728652,\"reset_end\":2.997678656273595}},\"x_scale\":{\"type\":\"object\",\"name\":\"LinearScale\",\"id\":\"p5706\"},\"y_scale\":{\"type\":\"object\",\"name\":\"LinearScale\",\"id\":\"p5707\"},\"title\":{\"type\":\"object\",\"name\":\"Title\",\"id\":\"p5699\",\"attributes\":{\"text_color\":\"black\",\"text_font_size\":\"12pt\"}},\"renderers\":[{\"id\":\"p5733\"},{\"id\":\"p5748\"},{\"id\":\"p5762\"},{\"id\":\"p5776\"}],\"toolbar\":{\"type\":\"object\",\"name\":\"Toolbar\",\"id\":\"p5705\",\"attributes\":{\"tools\":[{\"id\":\"p5685\"},{\"id\":\"p5686\"},{\"type\":\"object\",\"name\":\"SaveTool\",\"id\":\"p5718\"},{\"id\":\"p5719\"},{\"id\":\"p5720\"},{\"id\":\"p5722\"}],\"active_drag\":{\"id\":\"p5719\"},\"active_scroll\":{\"id\":\"p5685\"}}},\"toolbar_location\":null,\"left\":[{\"type\":\"object\",\"name\":\"LinearAxis\",\"id\":\"p5713\",\"attributes\":{\"ticker\":{\"type\":\"object\",\"name\":\"BasicTicker\",\"id\":\"p5714\",\"attributes\":{\"mantissas\":[1,2,5]}},\"formatter\":{\"type\":\"object\",\"name\":\"PrintfTickFormatter\",\"id\":\"p5723\",\"attributes\":{\"format\":\"%.0f\"}},\"axis_label\":\"price_change_percentage_7d\",\"major_label_policy\":{\"type\":\"object\",\"name\":\"AllLabels\",\"id\":\"p5716\"}}}],\"right\":[{\"type\":\"object\",\"name\":\"Legend\",\"id\":\"p5736\",\"attributes\":{\"location\":[0,0],\"title\":\"clusters\",\"click_policy\":\"mute\",\"items\":[{\"type\":\"object\",\"name\":\"LegendItem\",\"id\":\"p5737\",\"attributes\":{\"label\":{\"type\":\"value\",\"value\":\"0\"},\"renderers\":[{\"id\":\"p5733\"}]}},{\"type\":\"object\",\"name\":\"LegendItem\",\"id\":\"p5751\",\"attributes\":{\"label\":{\"type\":\"value\",\"value\":\"1\"},\"renderers\":[{\"id\":\"p5748\"}]}},{\"type\":\"object\",\"name\":\"LegendItem\",\"id\":\"p5765\",\"attributes\":{\"label\":{\"type\":\"value\",\"value\":\"2\"},\"renderers\":[{\"id\":\"p5762\"}]}},{\"type\":\"object\",\"name\":\"LegendItem\",\"id\":\"p5779\",\"attributes\":{\"label\":{\"type\":\"value\",\"value\":\"3\"},\"renderers\":[{\"id\":\"p5776\"}]}}]}}],\"below\":[{\"type\":\"object\",\"name\":\"LinearAxis\",\"id\":\"p5708\",\"attributes\":{\"ticker\":{\"type\":\"object\",\"name\":\"BasicTicker\",\"id\":\"p5709\",\"attributes\":{\"mantissas\":[1,2,5]}},\"formatter\":{\"type\":\"object\",\"name\":\"BasicTickFormatter\",\"id\":\"p5710\"},\"axis_label\":\"price_change_percentage_24h\",\"major_label_policy\":{\"type\":\"object\",\"name\":\"AllLabels\",\"id\":\"p5711\"}}}],\"center\":[{\"type\":\"object\",\"name\":\"Grid\",\"id\":\"p5712\",\"attributes\":{\"axis\":{\"id\":\"p5708\"},\"grid_line_color\":null}},{\"type\":\"object\",\"name\":\"Grid\",\"id\":\"p5717\",\"attributes\":{\"dimension\":1,\"axis\":{\"id\":\"p5713\"},\"grid_line_color\":null}}],\"min_border_top\":10,\"min_border_bottom\":10,\"min_border_left\":10,\"min_border_right\":10,\"output_backend\":\"webgl\"}},0,0],[{\"type\":\"object\",\"name\":\"Figure\",\"id\":\"p5797\",\"attributes\":{\"width\":700,\"height\":300,\"sizing_mode\":\"fixed\",\"align\":\"start\",\"x_range\":{\"type\":\"object\",\"name\":\"Range1d\",\"id\":\"p5781\",\"attributes\":{\"tags\":[[[\"PCA_1\",\"PCA_1\",null]],[]],\"start\":-1.5540921804637602,\"end\":8.485310422788737,\"reset_start\":-1.5540921804637602,\"reset_end\":8.485310422788737}},\"y_range\":{\"type\":\"object\",\"name\":\"Range1d\",\"id\":\"p5782\",\"attributes\":{\"tags\":[[[\"PCA_2\",\"PCA_2\",null]],{\"type\":\"map\",\"entries\":[[\"invert_yaxis\",false],[\"autorange\",false]]}],\"start\":-4.963347456561368,\"end\":7.83413559633714,\"reset_start\":-4.963347456561368,\"reset_end\":7.83413559633714}},\"x_scale\":{\"type\":\"object\",\"name\":\"LinearScale\",\"id\":\"p5807\"},\"y_scale\":{\"type\":\"object\",\"name\":\"LinearScale\",\"id\":\"p5808\"},\"title\":{\"type\":\"object\",\"name\":\"Title\",\"id\":\"p5800\",\"attributes\":{\"text_color\":\"black\",\"text_font_size\":\"12pt\"}},\"renderers\":[{\"id\":\"p5833\"},{\"id\":\"p5848\"},{\"id\":\"p5862\"},{\"id\":\"p5876\"}],\"toolbar\":{\"type\":\"object\",\"name\":\"Toolbar\",\"id\":\"p5806\",\"attributes\":{\"tools\":[{\"id\":\"p5786\"},{\"id\":\"p5787\"},{\"type\":\"object\",\"name\":\"SaveTool\",\"id\":\"p5819\"},{\"id\":\"p5820\"},{\"id\":\"p5821\"},{\"id\":\"p5823\"}],\"active_drag\":{\"id\":\"p5820\"},\"active_scroll\":{\"id\":\"p5786\"}}},\"toolbar_location\":null,\"left\":[{\"type\":\"object\",\"name\":\"LinearAxis\",\"id\":\"p5814\",\"attributes\":{\"ticker\":{\"type\":\"object\",\"name\":\"BasicTicker\",\"id\":\"p5815\",\"attributes\":{\"mantissas\":[1,2,5]}},\"formatter\":{\"type\":\"object\",\"name\":\"BasicTickFormatter\",\"id\":\"p5816\"},\"axis_label\":\"PCA_2\",\"major_label_policy\":{\"type\":\"object\",\"name\":\"AllLabels\",\"id\":\"p5817\"}}}],\"right\":[{\"type\":\"object\",\"name\":\"Legend\",\"id\":\"p5836\",\"attributes\":{\"location\":[0,0],\"title\":\"pca_pred\",\"click_policy\":\"mute\",\"items\":[{\"type\":\"object\",\"name\":\"LegendItem\",\"id\":\"p5837\",\"attributes\":{\"label\":{\"type\":\"value\",\"value\":\"0\"},\"renderers\":[{\"id\":\"p5833\"}]}},{\"type\":\"object\",\"name\":\"LegendItem\",\"id\":\"p5851\",\"attributes\":{\"label\":{\"type\":\"value\",\"value\":\"1\"},\"renderers\":[{\"id\":\"p5848\"}]}},{\"type\":\"object\",\"name\":\"LegendItem\",\"id\":\"p5865\",\"attributes\":{\"label\":{\"type\":\"value\",\"value\":\"2\"},\"renderers\":[{\"id\":\"p5862\"}]}},{\"type\":\"object\",\"name\":\"LegendItem\",\"id\":\"p5879\",\"attributes\":{\"label\":{\"type\":\"value\",\"value\":\"3\"},\"renderers\":[{\"id\":\"p5876\"}]}}]}}],\"below\":[{\"type\":\"object\",\"name\":\"LinearAxis\",\"id\":\"p5809\",\"attributes\":{\"ticker\":{\"type\":\"object\",\"name\":\"BasicTicker\",\"id\":\"p5810\",\"attributes\":{\"mantissas\":[1,2,5]}},\"formatter\":{\"type\":\"object\",\"name\":\"BasicTickFormatter\",\"id\":\"p5811\"},\"axis_label\":\"PCA_1\",\"major_label_policy\":{\"type\":\"object\",\"name\":\"AllLabels\",\"id\":\"p5812\"}}}],\"center\":[{\"type\":\"object\",\"name\":\"Grid\",\"id\":\"p5813\",\"attributes\":{\"axis\":{\"id\":\"p5809\"},\"grid_line_color\":null}},{\"type\":\"object\",\"name\":\"Grid\",\"id\":\"p5818\",\"attributes\":{\"dimension\":1,\"axis\":{\"id\":\"p5814\"},\"grid_line_color\":null}}],\"min_border_top\":10,\"min_border_bottom\":10,\"min_border_left\":10,\"min_border_right\":10,\"output_backend\":\"webgl\"}},0,1]]}},{\"type\":\"object\",\"name\":\"Spacer\",\"id\":\"p5905\",\"attributes\":{\"name\":\"HSpacer11243\",\"stylesheets\":[\"\\n:host(.pn-loading.pn-arc):before, .pn-loading.pn-arc:before {\\n  background-image: url(\\\"data:image/svg+xml;base64,PHN2ZyB4bWxucz0iaHR0cDovL3d3dy53My5vcmcvMjAwMC9zdmciIHN0eWxlPSJtYXJnaW46IGF1dG87IGJhY2tncm91bmQ6IG5vbmU7IGRpc3BsYXk6IGJsb2NrOyBzaGFwZS1yZW5kZXJpbmc6IGF1dG87IiB2aWV3Qm94PSIwIDAgMTAwIDEwMCIgcHJlc2VydmVBc3BlY3RSYXRpbz0ieE1pZFlNaWQiPiAgPGNpcmNsZSBjeD0iNTAiIGN5PSI1MCIgZmlsbD0ibm9uZSIgc3Ryb2tlPSIjYzNjM2MzIiBzdHJva2Utd2lkdGg9IjEwIiByPSIzNSIgc3Ryb2tlLWRhc2hhcnJheT0iMTY0LjkzMzYxNDMxMzQ2NDE1IDU2Ljk3Nzg3MTQzNzgyMTM4Ij4gICAgPGFuaW1hdGVUcmFuc2Zvcm0gYXR0cmlidXRlTmFtZT0idHJhbnNmb3JtIiB0eXBlPSJyb3RhdGUiIHJlcGVhdENvdW50PSJpbmRlZmluaXRlIiBkdXI9IjFzIiB2YWx1ZXM9IjAgNTAgNTA7MzYwIDUwIDUwIiBrZXlUaW1lcz0iMDsxIj48L2FuaW1hdGVUcmFuc2Zvcm0+ICA8L2NpcmNsZT48L3N2Zz4=\\\");\\n  background-size: auto calc(min(50%, 400px));\\n}\",{\"id\":\"p5678\"},{\"id\":\"p5676\"},{\"id\":\"p5677\"}],\"margin\":0,\"sizing_mode\":\"stretch_width\",\"align\":\"start\"}}]}}],\"defs\":[{\"type\":\"model\",\"name\":\"ReactiveHTML1\"},{\"type\":\"model\",\"name\":\"FlexBox1\",\"properties\":[{\"name\":\"align_content\",\"kind\":\"Any\",\"default\":\"flex-start\"},{\"name\":\"align_items\",\"kind\":\"Any\",\"default\":\"flex-start\"},{\"name\":\"flex_direction\",\"kind\":\"Any\",\"default\":\"row\"},{\"name\":\"flex_wrap\",\"kind\":\"Any\",\"default\":\"wrap\"},{\"name\":\"justify_content\",\"kind\":\"Any\",\"default\":\"flex-start\"}]},{\"type\":\"model\",\"name\":\"FloatPanel1\",\"properties\":[{\"name\":\"config\",\"kind\":\"Any\",\"default\":{\"type\":\"map\"}},{\"name\":\"contained\",\"kind\":\"Any\",\"default\":true},{\"name\":\"position\",\"kind\":\"Any\",\"default\":\"right-top\"},{\"name\":\"offsetx\",\"kind\":\"Any\",\"default\":null},{\"name\":\"offsety\",\"kind\":\"Any\",\"default\":null},{\"name\":\"theme\",\"kind\":\"Any\",\"default\":\"primary\"},{\"name\":\"status\",\"kind\":\"Any\",\"default\":\"normalized\"}]},{\"type\":\"model\",\"name\":\"GridStack1\",\"properties\":[{\"name\":\"mode\",\"kind\":\"Any\",\"default\":\"warn\"},{\"name\":\"ncols\",\"kind\":\"Any\",\"default\":null},{\"name\":\"nrows\",\"kind\":\"Any\",\"default\":null},{\"name\":\"allow_resize\",\"kind\":\"Any\",\"default\":true},{\"name\":\"allow_drag\",\"kind\":\"Any\",\"default\":true},{\"name\":\"state\",\"kind\":\"Any\",\"default\":[]}]},{\"type\":\"model\",\"name\":\"drag1\",\"properties\":[{\"name\":\"slider_width\",\"kind\":\"Any\",\"default\":5},{\"name\":\"slider_color\",\"kind\":\"Any\",\"default\":\"black\"},{\"name\":\"value\",\"kind\":\"Any\",\"default\":50}]},{\"type\":\"model\",\"name\":\"click1\",\"properties\":[{\"name\":\"terminal_output\",\"kind\":\"Any\",\"default\":\"\"},{\"name\":\"debug_name\",\"kind\":\"Any\",\"default\":\"\"},{\"name\":\"clears\",\"kind\":\"Any\",\"default\":0}]},{\"type\":\"model\",\"name\":\"FastWrapper1\",\"properties\":[{\"name\":\"object\",\"kind\":\"Any\",\"default\":null},{\"name\":\"style\",\"kind\":\"Any\",\"default\":null}]},{\"type\":\"model\",\"name\":\"NotificationAreaBase1\",\"properties\":[{\"name\":\"js_events\",\"kind\":\"Any\",\"default\":{\"type\":\"map\"}},{\"name\":\"position\",\"kind\":\"Any\",\"default\":\"bottom-right\"},{\"name\":\"_clear\",\"kind\":\"Any\",\"default\":0}]},{\"type\":\"model\",\"name\":\"NotificationArea1\",\"properties\":[{\"name\":\"js_events\",\"kind\":\"Any\",\"default\":{\"type\":\"map\"}},{\"name\":\"notifications\",\"kind\":\"Any\",\"default\":[]},{\"name\":\"position\",\"kind\":\"Any\",\"default\":\"bottom-right\"},{\"name\":\"_clear\",\"kind\":\"Any\",\"default\":0},{\"name\":\"types\",\"kind\":\"Any\",\"default\":[{\"type\":\"map\",\"entries\":[[\"type\",\"warning\"],[\"background\",\"#ffc107\"],[\"icon\",{\"type\":\"map\",\"entries\":[[\"className\",\"fas fa-exclamation-triangle\"],[\"tagName\",\"i\"],[\"color\",\"white\"]]}]]},{\"type\":\"map\",\"entries\":[[\"type\",\"info\"],[\"background\",\"#007bff\"],[\"icon\",{\"type\":\"map\",\"entries\":[[\"className\",\"fas fa-info-circle\"],[\"tagName\",\"i\"],[\"color\",\"white\"]]}]]}]}]},{\"type\":\"model\",\"name\":\"Notification\",\"properties\":[{\"name\":\"background\",\"kind\":\"Any\",\"default\":null},{\"name\":\"duration\",\"kind\":\"Any\",\"default\":3000},{\"name\":\"icon\",\"kind\":\"Any\",\"default\":null},{\"name\":\"message\",\"kind\":\"Any\",\"default\":\"\"},{\"name\":\"notification_type\",\"kind\":\"Any\",\"default\":null},{\"name\":\"_destroyed\",\"kind\":\"Any\",\"default\":false}]},{\"type\":\"model\",\"name\":\"TemplateActions1\",\"properties\":[{\"name\":\"open_modal\",\"kind\":\"Any\",\"default\":0},{\"name\":\"close_modal\",\"kind\":\"Any\",\"default\":0}]},{\"type\":\"model\",\"name\":\"BootstrapTemplateActions1\",\"properties\":[{\"name\":\"open_modal\",\"kind\":\"Any\",\"default\":0},{\"name\":\"close_modal\",\"kind\":\"Any\",\"default\":0}]},{\"type\":\"model\",\"name\":\"MaterialTemplateActions1\",\"properties\":[{\"name\":\"open_modal\",\"kind\":\"Any\",\"default\":0},{\"name\":\"close_modal\",\"kind\":\"Any\",\"default\":0}]}]}};\n",
       "  var render_items = [{\"docid\":\"100583fd-fad2-4aa8-8ea6-91f37ce04faf\",\"roots\":{\"p5675\":\"bba77370-2b68-419f-960e-65402c74c0e4\"},\"root_ids\":[\"p5675\"]}];\n",
       "  var docs = Object.values(docs_json)\n",
       "  if (!docs) {\n",
       "    return\n",
       "  }\n",
       "  const py_version = docs[0].version.replace('rc', '-rc.').replace('.dev', '-dev.')\n",
       "  const is_dev = py_version.indexOf(\"+\") !== -1 || py_version.indexOf(\"-\") !== -1\n",
       "  function embed_document(root) {\n",
       "    var Bokeh = get_bokeh(root)\n",
       "    Bokeh.embed.embed_items_notebook(docs_json, render_items);\n",
       "    for (const render_item of render_items) {\n",
       "      for (const root_id of render_item.root_ids) {\n",
       "\tconst id_el = document.getElementById(root_id)\n",
       "\tif (id_el.children.length && (id_el.children[0].className === 'bk-root')) {\n",
       "\t  const root_el = id_el.children[0]\n",
       "\t  root_el.id = root_el.id + '-rendered'\n",
       "\t}\n",
       "      }\n",
       "    }\n",
       "  }\n",
       "  function get_bokeh(root) {\n",
       "    if (root.Bokeh === undefined) {\n",
       "      return null\n",
       "    } else if (root.Bokeh.version !== py_version && !is_dev) {\n",
       "      if (root.Bokeh.versions === undefined || !root.Bokeh.versions.has(py_version)) {\n",
       "\treturn null\n",
       "      }\n",
       "      return root.Bokeh.versions.get(py_version);\n",
       "    } else if (root.Bokeh.version === py_version) {\n",
       "      return root.Bokeh\n",
       "    }\n",
       "    return null\n",
       "  }\n",
       "  function is_loaded(root) {\n",
       "    var Bokeh = get_bokeh(root)\n",
       "    return (Bokeh != null && Bokeh.Panel !== undefined)\n",
       "  }\n",
       "  if (is_loaded(root)) {\n",
       "    embed_document(root);\n",
       "  } else {\n",
       "    var attempts = 0;\n",
       "    var timer = setInterval(function(root) {\n",
       "      if (is_loaded(root)) {\n",
       "        clearInterval(timer);\n",
       "        embed_document(root);\n",
       "      } else if (document.readyState == \"complete\") {\n",
       "        attempts++;\n",
       "        if (attempts > 200) {\n",
       "          clearInterval(timer);\n",
       "\t  var Bokeh = get_bokeh(root)\n",
       "\t  if (Bokeh == null || Bokeh.Panel == null) {\n",
       "            console.warn(\"Panel: ERROR: Unable to run Panel code because Bokeh or Panel library is missing\");\n",
       "\t  } else {\n",
       "\t    console.warn(\"Panel: WARNING: Attempting to render but not all required libraries could be resolved.\")\n",
       "\t    embed_document(root)\n",
       "\t  }\n",
       "        }\n",
       "      }\n",
       "    }, 25, root)\n",
       "  }\n",
       "})(window);</script>"
      ],
      "text/plain": [
       ":Layout\n",
       "   .NdOverlay.I  :NdOverlay   [clusters]\n",
       "      :Scatter   [price_change_percentage_24h]   (price_change_percentage_7d,coin_id)\n",
       "   .NdOverlay.II :NdOverlay   [pca_pred]\n",
       "      :Scatter   [PCA_1]   (PCA_2,coin_id)"
      ]
     },
     "execution_count": 142,
     "metadata": {
      "application/vnd.holoviews_exec.v0+json": {
       "id": "p5675"
      }
     },
     "output_type": "execute_result"
    }
   ],
   "source": [
    "# Compoosite plot to contrast the clusters\n",
    "crypto_pred_plot + crypto_pred_pca_plot"
   ]
  },
  {
   "cell_type": "markdown",
   "metadata": {},
   "source": [
    "#### Answer the following question: After visually analyzing the cluster analysis results, what is the impact of using fewer features to cluster the data using K-Means?\n",
    "\n",
    "  * **Question:** After visually analyzing the cluster analysis results, what is the impact of using fewer features to cluster the data using K-Means?\n",
    "\n",
    "  * **Answer:** By using PCA, the spots cluster in a more cohesive way therefore allowing for a better view of where the cryptos agglomerate."
   ]
  },
  {
   "cell_type": "code",
   "execution_count": null,
   "metadata": {},
   "outputs": [],
   "source": []
  }
 ],
 "metadata": {
  "kernelspec": {
   "display_name": "Python 3 (ipykernel)",
   "language": "python",
   "name": "python3"
  },
  "language_info": {
   "codemirror_mode": {
    "name": "ipython",
    "version": 3
   },
   "file_extension": ".py",
   "mimetype": "text/x-python",
   "name": "python",
   "nbconvert_exporter": "python",
   "pygments_lexer": "ipython3",
   "version": "3.10.12"
  }
 },
 "nbformat": 4,
 "nbformat_minor": 4
}
